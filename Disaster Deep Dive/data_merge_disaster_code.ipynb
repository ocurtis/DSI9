{
 "cells": [
  {
   "cell_type": "markdown",
   "metadata": {},
   "source": [
    "### Importing FEMA disaster code data"
   ]
  },
  {
   "cell_type": "code",
   "execution_count": 1,
   "metadata": {},
   "outputs": [],
   "source": [
    "import pandas as pd\n",
    "import requests"
   ]
  },
  {
   "cell_type": "markdown",
   "metadata": {},
   "source": [
    "Below is the API URL provided by FEMA that lists disasters. Used a dummy header and pulled in the data using the requests.get method. Check the status code that it was successfull (should be 200)."
   ]
  },
  {
   "cell_type": "code",
   "execution_count": 8,
   "metadata": {},
   "outputs": [],
   "source": [
    "url = 'https://www.fema.gov/api/open/v1/DisasterDeclarationsSummaries'\n",
    "headers = {'User-agent': 'UserB 1.27'}\n",
    "api = requests.get(url, headers=headers)\n",
    "api.status_code"
   ]
  },
  {
   "cell_type": "markdown",
   "metadata": {},
   "source": [
    "Convert the data into json type and look at the keys."
   ]
  },
  {
   "cell_type": "code",
   "execution_count": 12,
   "metadata": {},
   "outputs": [],
   "source": [
    "dj = api.json()\n",
    "sorted(dj.keys())"
   ]
  },
  {
   "cell_type": "markdown",
   "metadata": {},
   "source": [
    "Convert the json data under 'Disaster Declarations Summaries' into a pandas dataframe."
   ]
  },
  {
   "cell_type": "code",
   "execution_count": 14,
   "metadata": {},
   "outputs": [],
   "source": [
    "df = pd.DataFrame(dj['DisasterDeclarationsSummaries'])"
   ]
  },
  {
   "cell_type": "markdown",
   "metadata": {},
   "source": [
    "By using '?$skip=xxxx' you can loop through each 'page' of the api to retrieve all of the values. 1000 is the max number of entries you can retrieve per page."
   ]
  },
  {
   "cell_type": "code",
   "execution_count": 15,
   "metadata": {},
   "outputs": [],
   "source": [
    "var = 1000\n",
    "for x in range(1000):\n",
    "    url = f'https://www.fema.gov/api/open/v1/DisasterDeclarationsSummaries?$skip={var}'\n",
    "    try:\n",
    "        api = requests.get(url, headers={'User-agent': 'UserB 1.27'})\n",
    "        json = api.json()\n",
    "        df_temp = pd.DataFrame(json['DisasterDeclarationsSummaries'])\n",
    "        df = pd.concat([df, df_temp], axis=0)\n",
    "    except:\n",
    "        print(f'failed{x}')\n",
    "\n",
    "    var = var + 1000"
   ]
  },
  {
   "cell_type": "markdown",
   "metadata": {},
   "source": [
    "Check the number of rows and if there are any duplicates."
   ]
  },
  {
   "cell_type": "code",
   "execution_count": 16,
   "metadata": {},
   "outputs": [
    {
     "data": {
      "text/plain": [
       "(50796, 19)"
      ]
     },
     "execution_count": 16,
     "metadata": {},
     "output_type": "execute_result"
    }
   ],
   "source": [
    "df.shape"
   ]
  },
  {
   "cell_type": "code",
   "execution_count": 17,
   "metadata": {},
   "outputs": [
    {
     "data": {
      "text/plain": [
       "0"
      ]
     },
     "execution_count": 17,
     "metadata": {},
     "output_type": "execute_result"
    }
   ],
   "source": [
    "df.duplicated().sum()"
   ]
  },
  {
   "cell_type": "markdown",
   "metadata": {},
   "source": [
    "Export the dataframe to a csv file."
   ]
  },
  {
   "cell_type": "code",
   "execution_count": 19,
   "metadata": {},
   "outputs": [],
   "source": [
    "df.to_csv('./disaster_code_api.csv', index=False)"
   ]
  },
  {
   "cell_type": "code",
   "execution_count": 20,
   "metadata": {},
   "outputs": [
    {
     "data": {
      "text/html": [
       "<div>\n",
       "<style scoped>\n",
       "    .dataframe tbody tr th:only-of-type {\n",
       "        vertical-align: middle;\n",
       "    }\n",
       "\n",
       "    .dataframe tbody tr th {\n",
       "        vertical-align: top;\n",
       "    }\n",
       "\n",
       "    .dataframe thead th {\n",
       "        text-align: right;\n",
       "    }\n",
       "</style>\n",
       "<table border=\"1\" class=\"dataframe\">\n",
       "  <thead>\n",
       "    <tr style=\"text-align: right;\">\n",
       "      <th></th>\n",
       "      <th>declarationDate</th>\n",
       "      <th>declaredCountyArea</th>\n",
       "      <th>disasterCloseOutDate</th>\n",
       "      <th>disasterNumber</th>\n",
       "      <th>disasterType</th>\n",
       "      <th>fyDeclared</th>\n",
       "      <th>hash</th>\n",
       "      <th>hmProgramDeclared</th>\n",
       "      <th>iaProgramDeclared</th>\n",
       "      <th>id</th>\n",
       "      <th>ihProgramDeclared</th>\n",
       "      <th>incidentBeginDate</th>\n",
       "      <th>incidentEndDate</th>\n",
       "      <th>incidentType</th>\n",
       "      <th>lastRefresh</th>\n",
       "      <th>paProgramDeclared</th>\n",
       "      <th>placeCode</th>\n",
       "      <th>state</th>\n",
       "      <th>title</th>\n",
       "    </tr>\n",
       "  </thead>\n",
       "  <tbody>\n",
       "    <tr>\n",
       "      <th>0</th>\n",
       "      <td>1953-05-02T00:00:00.000Z</td>\n",
       "      <td></td>\n",
       "      <td>1954-06-01T00:00:00.000Z</td>\n",
       "      <td>1</td>\n",
       "      <td>DR</td>\n",
       "      <td>1953</td>\n",
       "      <td>1dcb40d0664d22d39de787b706b0fa69</td>\n",
       "      <td>True</td>\n",
       "      <td>True</td>\n",
       "      <td>5d1bbd8c8bdcfa6efb32fd8d</td>\n",
       "      <td>False</td>\n",
       "      <td>1953-05-02T00:00:00.000Z</td>\n",
       "      <td>1953-05-02T00:00:00.000Z</td>\n",
       "      <td>Tornado</td>\n",
       "      <td>2019-07-26T18:08:57.368Z</td>\n",
       "      <td>True</td>\n",
       "      <td></td>\n",
       "      <td>GA</td>\n",
       "      <td>TORNADO</td>\n",
       "    </tr>\n",
       "    <tr>\n",
       "      <th>1</th>\n",
       "      <td>1953-05-15T00:00:00.000Z</td>\n",
       "      <td></td>\n",
       "      <td>1958-01-01T00:00:00.000Z</td>\n",
       "      <td>2</td>\n",
       "      <td>DR</td>\n",
       "      <td>1953</td>\n",
       "      <td>61612cea5779e361b429799098974b6a</td>\n",
       "      <td>True</td>\n",
       "      <td>True</td>\n",
       "      <td>5d1bbd8c8bdcfa6efb32fd8e</td>\n",
       "      <td>False</td>\n",
       "      <td>1953-05-15T00:00:00.000Z</td>\n",
       "      <td>1953-05-15T00:00:00.000Z</td>\n",
       "      <td>Tornado</td>\n",
       "      <td>2019-07-26T18:08:57.370Z</td>\n",
       "      <td>True</td>\n",
       "      <td></td>\n",
       "      <td>TX</td>\n",
       "      <td>TORNADO &amp; HEAVY RAINFALL</td>\n",
       "    </tr>\n",
       "    <tr>\n",
       "      <th>2</th>\n",
       "      <td>1953-05-29T00:00:00.000Z</td>\n",
       "      <td></td>\n",
       "      <td>1960-02-01T00:00:00.000Z</td>\n",
       "      <td>3</td>\n",
       "      <td>DR</td>\n",
       "      <td>1953</td>\n",
       "      <td>86f3e47785cb7acc51364d4535d36101</td>\n",
       "      <td>True</td>\n",
       "      <td>True</td>\n",
       "      <td>5d1bbd8c8bdcfa6efb32fd8f</td>\n",
       "      <td>False</td>\n",
       "      <td>1953-05-29T00:00:00.000Z</td>\n",
       "      <td>1953-05-29T00:00:00.000Z</td>\n",
       "      <td>Flood</td>\n",
       "      <td>2019-07-26T18:08:57.369Z</td>\n",
       "      <td>True</td>\n",
       "      <td></td>\n",
       "      <td>LA</td>\n",
       "      <td>FLOOD</td>\n",
       "    </tr>\n",
       "    <tr>\n",
       "      <th>3</th>\n",
       "      <td>1953-06-09T00:00:00.000Z</td>\n",
       "      <td></td>\n",
       "      <td>1956-03-30T00:00:00.000Z</td>\n",
       "      <td>6</td>\n",
       "      <td>DR</td>\n",
       "      <td>1953</td>\n",
       "      <td>2208518c84c44f8e4164248d47f89ead</td>\n",
       "      <td>True</td>\n",
       "      <td>True</td>\n",
       "      <td>5d1bbd8c8bdcfa6efb32fd92</td>\n",
       "      <td>False</td>\n",
       "      <td>1953-06-09T00:00:00.000Z</td>\n",
       "      <td>1953-06-09T00:00:00.000Z</td>\n",
       "      <td>Tornado</td>\n",
       "      <td>2019-07-26T18:08:57.369Z</td>\n",
       "      <td>True</td>\n",
       "      <td></td>\n",
       "      <td>MI</td>\n",
       "      <td>TORNADO</td>\n",
       "    </tr>\n",
       "    <tr>\n",
       "      <th>4</th>\n",
       "      <td>1953-06-02T00:00:00.000Z</td>\n",
       "      <td></td>\n",
       "      <td>1956-02-01T00:00:00.000Z</td>\n",
       "      <td>4</td>\n",
       "      <td>DR</td>\n",
       "      <td>1953</td>\n",
       "      <td>1dbe5937a01fc74c8e699912e3f555cb</td>\n",
       "      <td>True</td>\n",
       "      <td>True</td>\n",
       "      <td>5d1bbd8c8bdcfa6efb32fd91</td>\n",
       "      <td>False</td>\n",
       "      <td>1953-06-02T00:00:00.000Z</td>\n",
       "      <td>1953-06-02T00:00:00.000Z</td>\n",
       "      <td>Tornado</td>\n",
       "      <td>2019-07-26T18:08:57.370Z</td>\n",
       "      <td>True</td>\n",
       "      <td></td>\n",
       "      <td>MI</td>\n",
       "      <td>TORNADO</td>\n",
       "    </tr>\n",
       "  </tbody>\n",
       "</table>\n",
       "</div>"
      ],
      "text/plain": [
       "            declarationDate declaredCountyArea      disasterCloseOutDate  \\\n",
       "0  1953-05-02T00:00:00.000Z                     1954-06-01T00:00:00.000Z   \n",
       "1  1953-05-15T00:00:00.000Z                     1958-01-01T00:00:00.000Z   \n",
       "2  1953-05-29T00:00:00.000Z                     1960-02-01T00:00:00.000Z   \n",
       "3  1953-06-09T00:00:00.000Z                     1956-03-30T00:00:00.000Z   \n",
       "4  1953-06-02T00:00:00.000Z                     1956-02-01T00:00:00.000Z   \n",
       "\n",
       "   disasterNumber disasterType  fyDeclared                              hash  \\\n",
       "0               1           DR        1953  1dcb40d0664d22d39de787b706b0fa69   \n",
       "1               2           DR        1953  61612cea5779e361b429799098974b6a   \n",
       "2               3           DR        1953  86f3e47785cb7acc51364d4535d36101   \n",
       "3               6           DR        1953  2208518c84c44f8e4164248d47f89ead   \n",
       "4               4           DR        1953  1dbe5937a01fc74c8e699912e3f555cb   \n",
       "\n",
       "   hmProgramDeclared  iaProgramDeclared                        id  \\\n",
       "0               True               True  5d1bbd8c8bdcfa6efb32fd8d   \n",
       "1               True               True  5d1bbd8c8bdcfa6efb32fd8e   \n",
       "2               True               True  5d1bbd8c8bdcfa6efb32fd8f   \n",
       "3               True               True  5d1bbd8c8bdcfa6efb32fd92   \n",
       "4               True               True  5d1bbd8c8bdcfa6efb32fd91   \n",
       "\n",
       "   ihProgramDeclared         incidentBeginDate           incidentEndDate  \\\n",
       "0              False  1953-05-02T00:00:00.000Z  1953-05-02T00:00:00.000Z   \n",
       "1              False  1953-05-15T00:00:00.000Z  1953-05-15T00:00:00.000Z   \n",
       "2              False  1953-05-29T00:00:00.000Z  1953-05-29T00:00:00.000Z   \n",
       "3              False  1953-06-09T00:00:00.000Z  1953-06-09T00:00:00.000Z   \n",
       "4              False  1953-06-02T00:00:00.000Z  1953-06-02T00:00:00.000Z   \n",
       "\n",
       "  incidentType               lastRefresh  paProgramDeclared placeCode state  \\\n",
       "0      Tornado  2019-07-26T18:08:57.368Z               True              GA   \n",
       "1      Tornado  2019-07-26T18:08:57.370Z               True              TX   \n",
       "2        Flood  2019-07-26T18:08:57.369Z               True              LA   \n",
       "3      Tornado  2019-07-26T18:08:57.369Z               True              MI   \n",
       "4      Tornado  2019-07-26T18:08:57.370Z               True              MI   \n",
       "\n",
       "                      title  \n",
       "0                   TORNADO  \n",
       "1  TORNADO & HEAVY RAINFALL  \n",
       "2                     FLOOD  \n",
       "3                   TORNADO  \n",
       "4                   TORNADO  "
      ]
     },
     "execution_count": 20,
     "metadata": {},
     "output_type": "execute_result"
    }
   ],
   "source": [
    "df.head()"
   ]
  },
  {
   "cell_type": "code",
   "execution_count": 33,
   "metadata": {},
   "outputs": [],
   "source": []
  }
 ],
 "metadata": {
  "kernelspec": {
   "display_name": "Python 3",
   "language": "python",
   "name": "python3"
  },
  "language_info": {
   "codemirror_mode": {
    "name": "ipython",
    "version": 3
   },
   "file_extension": ".py",
   "mimetype": "text/x-python",
   "name": "python",
   "nbconvert_exporter": "python",
   "pygments_lexer": "ipython3",
   "version": "3.7.3"
  }
 },
 "nbformat": 4,
 "nbformat_minor": 2
}
