{
 "cells": [
  {
   "cell_type": "markdown",
   "metadata": {},
   "source": [
    "Read in"
   ]
  },
  {
   "cell_type": "code",
   "execution_count": 300,
   "metadata": {},
   "outputs": [],
   "source": [
    "# To generate and store data.\n",
    "import numpy as np\n",
    "import pandas as pd\n",
    "\n",
    "# To visualize data.\n",
    "import matplotlib.pyplot as plt\n",
    "\n",
    "# To fit linear regression model.\n",
    "from sklearn.linear_model import LinearRegression"
   ]
  },
  {
   "cell_type": "code",
   "execution_count": 301,
   "metadata": {},
   "outputs": [],
   "source": [
    "assistance_df = pd.read_csv('HazardMitigationAssistanceMitigatedProperties.csv')"
   ]
  },
  {
   "cell_type": "markdown",
   "metadata": {},
   "source": [
    "Change Cols"
   ]
  },
  {
   "cell_type": "code",
   "execution_count": 302,
   "metadata": {},
   "outputs": [],
   "source": [
    "assistance_df.columns = assistance_df.columns.str.lower()\n",
    "assistance_df.columns = assistance_df.columns.str.replace(' ', '_')\n",
    "assistance_df.columns = assistance_df.columns.str.strip()"
   ]
  },
  {
   "cell_type": "markdown",
   "metadata": {},
   "source": [
    "Drop Cols"
   ]
  },
  {
   "cell_type": "code",
   "execution_count": 303,
   "metadata": {},
   "outputs": [],
   "source": [
    "assistance_df = assistance_df.drop(columns=['tribalindicator', 'projectidentifier','status','programarea', 'type', 'region', 'statenumbercode', 'countycode'])"
   ]
  },
  {
   "cell_type": "code",
   "execution_count": 304,
   "metadata": {},
   "outputs": [],
   "source": [
    "assistance_df = assistance_df.drop(columns=['dateinitiallyapproved','dateclosed'])"
   ]
  },
  {
   "cell_type": "markdown",
   "metadata": {},
   "source": [
    "Convert Dates"
   ]
  },
  {
   "cell_type": "code",
   "execution_count": 306,
   "metadata": {},
   "outputs": [],
   "source": [
    "# Remove all characters after the date\n",
    "\n",
    "assistance_df['dateapproved'] = assistance_df['dateapproved'].str[:10]\n",
    "\n"
   ]
  },
  {
   "cell_type": "markdown",
   "metadata": {},
   "source": [
    "Fill Easy NaNs"
   ]
  },
  {
   "cell_type": "code",
   "execution_count": 307,
   "metadata": {
    "scrolled": false
   },
   "outputs": [],
   "source": [
    "assistance_df['disasternumber'] = assistance_df['disasternumber'].fillna(0)\n",
    "assistance_df['actualamountpaid'] = assistance_df['actualamountpaid'].fillna(0)\n",
    "assistance_df['damagecategory'] = assistance_df['damagecategory'].fillna('')\n",
    "assistance_df['title'] = assistance_df['title'].fillna('')"
   ]
  },
  {
   "cell_type": "markdown",
   "metadata": {},
   "source": [
    "Fill Dates with Date formatted Year (assume YYYY-01-01)"
   ]
  },
  {
   "cell_type": "code",
   "execution_count": 308,
   "metadata": {
    "scrolled": true
   },
   "outputs": [],
   "source": [
    "assistance_df.loc[assistance_df['dateapproved'].isnull()] = str(assistance_df['programfy']) + '-01-01'"
   ]
  },
  {
   "cell_type": "markdown",
   "metadata": {},
   "source": [
    "Check State"
   ]
  },
  {
   "cell_type": "code",
   "execution_count": 309,
   "metadata": {
    "scrolled": true
   },
   "outputs": [],
   "source": [
    "state_nan_indices = assistance_df.loc[assistance_df['state'].isnull()].index"
   ]
  },
  {
   "cell_type": "code",
   "execution_count": 310,
   "metadata": {},
   "outputs": [],
   "source": [
    "zips_for_state_nans = []\n",
    "\n",
    "for nan_index in state_nan_indices:\n",
    "    zips_for_state_nans.append(assistance_df.iloc[nan_index].zipcode)\n",
    "    \n",
    "    "
   ]
  },
  {
   "cell_type": "code",
   "execution_count": 311,
   "metadata": {},
   "outputs": [],
   "source": [
    "states_for_zips = []\n",
    "\n",
    "for zip in zips_for_state_nans:\n",
    "    \n",
    "    try:\n",
    "        state_fill_in = assistance_df.loc[assistance_df['zipcode'] == zip, 'state'].value_counts().index[0]\n",
    "        states_for_zips.append(state_fill_in)\n",
    "    except:\n",
    "        states_for_zips.append('')\n",
    "    "
   ]
  },
  {
   "cell_type": "code",
   "execution_count": 312,
   "metadata": {},
   "outputs": [],
   "source": [
    "zips_for_state_nans[10] = ''"
   ]
  },
  {
   "cell_type": "code",
   "execution_count": 313,
   "metadata": {},
   "outputs": [],
   "source": [
    "state_fill_df =pd.DataFrame({ 'indices': list(state_nan_indices), 'state': states_for_zips, 'zip' : zips_for_state_nans })"
   ]
  },
  {
   "cell_type": "code",
   "execution_count": 314,
   "metadata": {},
   "outputs": [],
   "source": [
    "state_fill_df.loc[state_fill_df['state'] == '', 'state'] = 'Virginia'"
   ]
  },
  {
   "cell_type": "code",
   "execution_count": 315,
   "metadata": {},
   "outputs": [
    {
     "data": {
      "text/html": [
       "<div>\n",
       "<style scoped>\n",
       "    .dataframe tbody tr th:only-of-type {\n",
       "        vertical-align: middle;\n",
       "    }\n",
       "\n",
       "    .dataframe tbody tr th {\n",
       "        vertical-align: top;\n",
       "    }\n",
       "\n",
       "    .dataframe thead th {\n",
       "        text-align: right;\n",
       "    }\n",
       "</style>\n",
       "<table border=\"1\" class=\"dataframe\">\n",
       "  <thead>\n",
       "    <tr style=\"text-align: right;\">\n",
       "      <th></th>\n",
       "      <th>indices</th>\n",
       "      <th>state</th>\n",
       "      <th>zip</th>\n",
       "    </tr>\n",
       "  </thead>\n",
       "  <tbody>\n",
       "    <tr>\n",
       "      <td>0</td>\n",
       "      <td>2181</td>\n",
       "      <td>West Virginia</td>\n",
       "      <td>25984</td>\n",
       "    </tr>\n",
       "    <tr>\n",
       "      <td>1</td>\n",
       "      <td>3385</td>\n",
       "      <td>Virginia</td>\n",
       "      <td>24279</td>\n",
       "    </tr>\n",
       "    <tr>\n",
       "      <td>2</td>\n",
       "      <td>5655</td>\n",
       "      <td>Mississippi</td>\n",
       "      <td>38829</td>\n",
       "    </tr>\n",
       "    <tr>\n",
       "      <td>3</td>\n",
       "      <td>14251</td>\n",
       "      <td>California</td>\n",
       "      <td>95111</td>\n",
       "    </tr>\n",
       "    <tr>\n",
       "      <td>4</td>\n",
       "      <td>18865</td>\n",
       "      <td>North Dakota</td>\n",
       "      <td>58237</td>\n",
       "    </tr>\n",
       "    <tr>\n",
       "      <td>5</td>\n",
       "      <td>21392</td>\n",
       "      <td>Kentucky</td>\n",
       "      <td>40351</td>\n",
       "    </tr>\n",
       "    <tr>\n",
       "      <td>6</td>\n",
       "      <td>21681</td>\n",
       "      <td>Virginia</td>\n",
       "      <td>02470</td>\n",
       "    </tr>\n",
       "    <tr>\n",
       "      <td>7</td>\n",
       "      <td>21741</td>\n",
       "      <td>Oklahoma</td>\n",
       "      <td>74546</td>\n",
       "    </tr>\n",
       "    <tr>\n",
       "      <td>8</td>\n",
       "      <td>22143</td>\n",
       "      <td>Oregon</td>\n",
       "      <td>97420</td>\n",
       "    </tr>\n",
       "    <tr>\n",
       "      <td>9</td>\n",
       "      <td>23355</td>\n",
       "      <td>Louisiana</td>\n",
       "      <td>70087</td>\n",
       "    </tr>\n",
       "    <tr>\n",
       "      <td>10</td>\n",
       "      <td>28238</td>\n",
       "      <td>Virginia</td>\n",
       "      <td></td>\n",
       "    </tr>\n",
       "    <tr>\n",
       "      <td>11</td>\n",
       "      <td>30095</td>\n",
       "      <td>Arkansas</td>\n",
       "      <td>07292</td>\n",
       "    </tr>\n",
       "    <tr>\n",
       "      <td>12</td>\n",
       "      <td>31064</td>\n",
       "      <td>Mississippi</td>\n",
       "      <td>38940</td>\n",
       "    </tr>\n",
       "    <tr>\n",
       "      <td>13</td>\n",
       "      <td>35979</td>\n",
       "      <td>North Dakota</td>\n",
       "      <td>58237</td>\n",
       "    </tr>\n",
       "    <tr>\n",
       "      <td>14</td>\n",
       "      <td>35980</td>\n",
       "      <td>North Dakota</td>\n",
       "      <td>58237</td>\n",
       "    </tr>\n",
       "    <tr>\n",
       "      <td>15</td>\n",
       "      <td>41061</td>\n",
       "      <td>North Dakota</td>\n",
       "      <td>58237</td>\n",
       "    </tr>\n",
       "    <tr>\n",
       "      <td>16</td>\n",
       "      <td>41175</td>\n",
       "      <td>Mississippi</td>\n",
       "      <td>38858</td>\n",
       "    </tr>\n",
       "    <tr>\n",
       "      <td>17</td>\n",
       "      <td>43648</td>\n",
       "      <td>North Carolina</td>\n",
       "      <td>28556</td>\n",
       "    </tr>\n",
       "    <tr>\n",
       "      <td>18</td>\n",
       "      <td>49447</td>\n",
       "      <td>North Dakota</td>\n",
       "      <td>58237</td>\n",
       "    </tr>\n",
       "    <tr>\n",
       "      <td>19</td>\n",
       "      <td>49662</td>\n",
       "      <td>Alabama</td>\n",
       "      <td>35051</td>\n",
       "    </tr>\n",
       "    <tr>\n",
       "      <td>20</td>\n",
       "      <td>49668</td>\n",
       "      <td>North Dakota</td>\n",
       "      <td>58237</td>\n",
       "    </tr>\n",
       "    <tr>\n",
       "      <td>21</td>\n",
       "      <td>53479</td>\n",
       "      <td>Washington</td>\n",
       "      <td>98024</td>\n",
       "    </tr>\n",
       "    <tr>\n",
       "      <td>22</td>\n",
       "      <td>54423</td>\n",
       "      <td>Florida</td>\n",
       "      <td>32503</td>\n",
       "    </tr>\n",
       "  </tbody>\n",
       "</table>\n",
       "</div>"
      ],
      "text/plain": [
       "    indices           state    zip\n",
       "0      2181   West Virginia  25984\n",
       "1      3385        Virginia  24279\n",
       "2      5655     Mississippi  38829\n",
       "3     14251      California  95111\n",
       "4     18865    North Dakota  58237\n",
       "5     21392        Kentucky  40351\n",
       "6     21681        Virginia  02470\n",
       "7     21741        Oklahoma  74546\n",
       "8     22143          Oregon  97420\n",
       "9     23355       Louisiana  70087\n",
       "10    28238        Virginia       \n",
       "11    30095        Arkansas  07292\n",
       "12    31064     Mississippi  38940\n",
       "13    35979    North Dakota  58237\n",
       "14    35980    North Dakota  58237\n",
       "15    41061    North Dakota  58237\n",
       "16    41175     Mississippi  38858\n",
       "17    43648  North Carolina  28556\n",
       "18    49447    North Dakota  58237\n",
       "19    49662         Alabama  35051\n",
       "20    49668    North Dakota  58237\n",
       "21    53479      Washington  98024\n",
       "22    54423         Florida  32503"
      ]
     },
     "execution_count": 315,
     "metadata": {},
     "output_type": "execute_result"
    }
   ],
   "source": [
    "state_fill_df"
   ]
  },
  {
   "cell_type": "code",
   "execution_count": 316,
   "metadata": {},
   "outputs": [],
   "source": [
    "for i in range(state_fill_df.shape[0]):\n",
    "    assistance_df.iloc[state_fill_df.iloc[i,0],1] = state_fill_df.iloc[i,1]"
   ]
  },
  {
   "cell_type": "markdown",
   "metadata": {},
   "source": [
    "Cities"
   ]
  },
  {
   "cell_type": "code",
   "execution_count": 317,
   "metadata": {},
   "outputs": [
    {
     "data": {
      "text/html": [
       "<div>\n",
       "<style scoped>\n",
       "    .dataframe tbody tr th:only-of-type {\n",
       "        vertical-align: middle;\n",
       "    }\n",
       "\n",
       "    .dataframe tbody tr th {\n",
       "        vertical-align: top;\n",
       "    }\n",
       "\n",
       "    .dataframe thead th {\n",
       "        text-align: right;\n",
       "    }\n",
       "</style>\n",
       "<table border=\"1\" class=\"dataframe\">\n",
       "  <thead>\n",
       "    <tr style=\"text-align: right;\">\n",
       "      <th></th>\n",
       "      <th>disasternumber</th>\n",
       "      <th>state</th>\n",
       "      <th>county</th>\n",
       "      <th>city</th>\n",
       "      <th>zipcode</th>\n",
       "      <th>propertyaction</th>\n",
       "      <th>structuretype</th>\n",
       "      <th>typeofresidency</th>\n",
       "      <th>actualamountpaid</th>\n",
       "      <th>programfy</th>\n",
       "      <th>dateapproved</th>\n",
       "      <th>title</th>\n",
       "      <th>numberofproperties</th>\n",
       "      <th>damagecategory</th>\n",
       "    </tr>\n",
       "  </thead>\n",
       "  <tbody>\n",
       "    <tr>\n",
       "      <td>28238</td>\n",
       "      <td>1347</td>\n",
       "      <td>Virginia</td>\n",
       "      <td>NaN</td>\n",
       "      <td>NaN</td>\n",
       "      <td>NaN</td>\n",
       "      <td>Acquisition</td>\n",
       "      <td>Single Family</td>\n",
       "      <td>Owner Occupied - Principal Residence</td>\n",
       "      <td>90000</td>\n",
       "      <td>2001</td>\n",
       "      <td>2007-05-23</td>\n",
       "      <td>Aguila Mitigation Project - Acquisition</td>\n",
       "      <td>1</td>\n",
       "      <td></td>\n",
       "    </tr>\n",
       "    <tr>\n",
       "      <td>55822</td>\n",
       "      <td>0</td>\n",
       "      <td>Washington</td>\n",
       "      <td>Thurston</td>\n",
       "      <td>NaN</td>\n",
       "      <td>98502</td>\n",
       "      <td>Other</td>\n",
       "      <td>Other (Specify in Comments)</td>\n",
       "      <td>NaN</td>\n",
       "      <td>0</td>\n",
       "      <td>2005</td>\n",
       "      <td>2006-07-22</td>\n",
       "      <td>Independence Road/Chehalis River Flood Mitigat...</td>\n",
       "      <td>1</td>\n",
       "      <td></td>\n",
       "    </tr>\n",
       "  </tbody>\n",
       "</table>\n",
       "</div>"
      ],
      "text/plain": [
       "      disasternumber       state    county city zipcode propertyaction  \\\n",
       "28238           1347    Virginia       NaN  NaN     NaN    Acquisition   \n",
       "55822              0  Washington  Thurston  NaN   98502          Other   \n",
       "\n",
       "                     structuretype                       typeofresidency  \\\n",
       "28238                Single Family  Owner Occupied - Principal Residence   \n",
       "55822  Other (Specify in Comments)                                   NaN   \n",
       "\n",
       "      actualamountpaid programfy dateapproved  \\\n",
       "28238            90000      2001   2007-05-23   \n",
       "55822                0      2005   2006-07-22   \n",
       "\n",
       "                                                   title numberofproperties  \\\n",
       "28238            Aguila Mitigation Project - Acquisition                  1   \n",
       "55822  Independence Road/Chehalis River Flood Mitigat...                  1   \n",
       "\n",
       "      damagecategory  \n",
       "28238                 \n",
       "55822                 "
      ]
     },
     "execution_count": 317,
     "metadata": {},
     "output_type": "execute_result"
    }
   ],
   "source": [
    "assistance_df.loc[assistance_df['city'].isnull()]"
   ]
  },
  {
   "cell_type": "code",
   "execution_count": 319,
   "metadata": {},
   "outputs": [],
   "source": [
    "assistance_df.iloc[55822,3] = 'Olympia'\n",
    "assistance_df.iloc[28238,3] = ''"
   ]
  },
  {
   "cell_type": "markdown",
   "metadata": {},
   "source": [
    "Zipcode"
   ]
  },
  {
   "cell_type": "code",
   "execution_count": 320,
   "metadata": {},
   "outputs": [],
   "source": [
    "list_of_cities_for_zip = list(assistance_df.loc[assistance_df['zipcode'].isnull(),'city'])"
   ]
  },
  {
   "cell_type": "code",
   "execution_count": 321,
   "metadata": {},
   "outputs": [
    {
     "name": "stdout",
     "output_type": "stream",
     "text": [
      "CAPE GIRARDEAU 63701\n",
      "LINCOLN COUNTY 6....\n",
      "CARROLLTON 35447\n",
      " \n",
      "FRANKLIN CO \n",
      "FRANKLIN 46131\n",
      "BLUE SPRINGS 38828\n",
      "APPLE VALLEY 92392\n"
     ]
    }
   ],
   "source": [
    "assistance_df.loc[assistance_df['zipcode'].isnull()]\n",
    "\n",
    "for city in list_of_cities_for_zip:\n",
    "    try:\n",
    "        zipcode_filler = assistance_df.loc[assistance_df['city'] == city,'zipcode'].mode()[0]\n",
    "        print(city, zipcode_filler)\n",
    "    except:\n",
    "        print(city, '')"
   ]
  },
  {
   "cell_type": "code",
   "execution_count": 322,
   "metadata": {},
   "outputs": [],
   "source": [
    "assistance_df.iloc[5917,4] = 63701\n",
    "assistance_df.iloc[6900,4] = 63343\n",
    "assistance_df.iloc[32389,4] = 46131\n",
    "assistance_df.iloc[33388,4] = 46131\n",
    "assistance_df.iloc[34041,4] = 38828\n",
    "assistance_df.iloc[56122,4] = 92392\n",
    "assistance_df.iloc[15696, 4] = 64622\n",
    "assistance_df = assistance_df.drop(28238)"
   ]
  },
  {
   "cell_type": "markdown",
   "metadata": {},
   "source": [
    "Nominal Data"
   ]
  },
  {
   "cell_type": "code",
   "execution_count": 328,
   "metadata": {
    "scrolled": true
   },
   "outputs": [
    {
     "data": {
      "text/plain": [
       "disasternumber            0\n",
       "state                     0\n",
       "county                 1046\n",
       "city                      0\n",
       "zipcode                   0\n",
       "propertyaction         8543\n",
       "structuretype             0\n",
       "typeofresidency       11988\n",
       "actualamountpaid          0\n",
       "programfy                 0\n",
       "dateapproved              0\n",
       "title                     0\n",
       "numberofproperties        0\n",
       "damagecategory            0\n",
       "dtype: int64"
      ]
     },
     "execution_count": 328,
     "metadata": {},
     "output_type": "execute_result"
    }
   ],
   "source": [
    "assistance_df.isnull().sum()"
   ]
  },
  {
   "cell_type": "code",
   "execution_count": 329,
   "metadata": {
    "scrolled": false
   },
   "outputs": [],
   "source": [
    "assistance_df.to_csv('disaster_support.csv', index=False)"
   ]
  },
  {
   "cell_type": "code",
   "execution_count": null,
   "metadata": {},
   "outputs": [],
   "source": []
  }
 ],
 "metadata": {
  "kernelspec": {
   "display_name": "Python 3",
   "language": "python",
   "name": "python3"
  },
  "language_info": {
   "codemirror_mode": {
    "name": "ipython",
    "version": 3
   },
   "file_extension": ".py",
   "mimetype": "text/x-python",
   "name": "python",
   "nbconvert_exporter": "python",
   "pygments_lexer": "ipython3",
   "version": "3.7.3"
  }
 },
 "nbformat": 4,
 "nbformat_minor": 2
}
