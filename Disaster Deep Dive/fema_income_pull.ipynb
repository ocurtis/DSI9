{
 "cells": [
  {
   "cell_type": "markdown",
   "metadata": {},
   "source": [
    "## Import income data and combine with FEMA data"
   ]
  },
  {
   "cell_type": "code",
   "execution_count": 1,
   "metadata": {},
   "outputs": [],
   "source": [
    "import pandas as pd"
   ]
  },
  {
   "cell_type": "markdown",
   "metadata": {},
   "source": [
    "Read in clean data"
   ]
  },
  {
   "cell_type": "code",
   "execution_count": 39,
   "metadata": {},
   "outputs": [
    {
     "name": "stderr",
     "output_type": "stream",
     "text": [
      "C:\\Users\\Rachel\\Anaconda3\\lib\\site-packages\\IPython\\core\\interactiveshell.py:3057: DtypeWarning: Columns (8) have mixed types. Specify dtype option on import or set low_memory=False.\n",
      "  interactivity=interactivity, compiler=compiler, result=result)\n"
     ]
    }
   ],
   "source": [
    "disaster = pd.read_csv('./data/combined_clean.csv')"
   ]
  },
  {
   "cell_type": "code",
   "execution_count": 40,
   "metadata": {},
   "outputs": [
    {
     "data": {
      "text/html": [
       "<div>\n",
       "<style scoped>\n",
       "    .dataframe tbody tr th:only-of-type {\n",
       "        vertical-align: middle;\n",
       "    }\n",
       "\n",
       "    .dataframe tbody tr th {\n",
       "        vertical-align: top;\n",
       "    }\n",
       "\n",
       "    .dataframe thead th {\n",
       "        text-align: right;\n",
       "    }\n",
       "</style>\n",
       "<table border=\"1\" class=\"dataframe\">\n",
       "  <thead>\n",
       "    <tr style=\"text-align: right;\">\n",
       "      <th></th>\n",
       "      <th>disaster_number</th>\n",
       "      <th>disaster_type</th>\n",
       "      <th>incident_type</th>\n",
       "      <th>incident_begin</th>\n",
       "      <th>incident_end</th>\n",
       "      <th>state</th>\n",
       "      <th>county</th>\n",
       "      <th>city</th>\n",
       "      <th>zipCode</th>\n",
       "      <th>valid_registration</th>\n",
       "      <th>...</th>\n",
       "      <th>inspect_greater_30000</th>\n",
       "      <th>approve_assistance</th>\n",
       "      <th>tot_approve_ihp_amt</th>\n",
       "      <th>repair_replace_amt</th>\n",
       "      <th>rental_amt</th>\n",
       "      <th>other_needs_amt</th>\n",
       "      <th>approve_1_10000</th>\n",
       "      <th>approve_10001_25000</th>\n",
       "      <th>approve_25001_max</th>\n",
       "      <th>tot_max_grants</th>\n",
       "    </tr>\n",
       "  </thead>\n",
       "  <tbody>\n",
       "    <tr>\n",
       "      <th>0</th>\n",
       "      <td>4195</td>\n",
       "      <td>DR</td>\n",
       "      <td>Flood</td>\n",
       "      <td>2014-08-11</td>\n",
       "      <td>2014-08-13</td>\n",
       "      <td>MI</td>\n",
       "      <td>Macomb</td>\n",
       "      <td>CLINTON TWP</td>\n",
       "      <td>48036</td>\n",
       "      <td>8</td>\n",
       "      <td>...</td>\n",
       "      <td>0</td>\n",
       "      <td>4</td>\n",
       "      <td>21146.0</td>\n",
       "      <td>20899.0</td>\n",
       "      <td>0.0</td>\n",
       "      <td>247.0</td>\n",
       "      <td>3</td>\n",
       "      <td>1</td>\n",
       "      <td>0</td>\n",
       "      <td>0</td>\n",
       "    </tr>\n",
       "    <tr>\n",
       "      <th>1</th>\n",
       "      <td>4195</td>\n",
       "      <td>DR</td>\n",
       "      <td>Flood</td>\n",
       "      <td>2014-08-11</td>\n",
       "      <td>2014-08-13</td>\n",
       "      <td>MI</td>\n",
       "      <td>Macomb</td>\n",
       "      <td>RAY</td>\n",
       "      <td>48096</td>\n",
       "      <td>2</td>\n",
       "      <td>...</td>\n",
       "      <td>0</td>\n",
       "      <td>2</td>\n",
       "      <td>5094.0</td>\n",
       "      <td>2972.0</td>\n",
       "      <td>1692.0</td>\n",
       "      <td>430.0</td>\n",
       "      <td>2</td>\n",
       "      <td>0</td>\n",
       "      <td>0</td>\n",
       "      <td>0</td>\n",
       "    </tr>\n",
       "    <tr>\n",
       "      <th>2</th>\n",
       "      <td>4195</td>\n",
       "      <td>DR</td>\n",
       "      <td>Flood</td>\n",
       "      <td>2014-08-11</td>\n",
       "      <td>2014-08-13</td>\n",
       "      <td>MI</td>\n",
       "      <td>Macomb</td>\n",
       "      <td>CLINTON TWP</td>\n",
       "      <td>48038</td>\n",
       "      <td>14</td>\n",
       "      <td>...</td>\n",
       "      <td>1</td>\n",
       "      <td>3</td>\n",
       "      <td>3616.0</td>\n",
       "      <td>854.0</td>\n",
       "      <td>1692.0</td>\n",
       "      <td>1069.0</td>\n",
       "      <td>3</td>\n",
       "      <td>0</td>\n",
       "      <td>0</td>\n",
       "      <td>0</td>\n",
       "    </tr>\n",
       "    <tr>\n",
       "      <th>3</th>\n",
       "      <td>4195</td>\n",
       "      <td>DR</td>\n",
       "      <td>Flood</td>\n",
       "      <td>2014-08-11</td>\n",
       "      <td>2014-08-13</td>\n",
       "      <td>MI</td>\n",
       "      <td>Macomb</td>\n",
       "      <td>RICHMOND</td>\n",
       "      <td>48062</td>\n",
       "      <td>4</td>\n",
       "      <td>...</td>\n",
       "      <td>0</td>\n",
       "      <td>2</td>\n",
       "      <td>2760.0</td>\n",
       "      <td>2627.0</td>\n",
       "      <td>0.0</td>\n",
       "      <td>132.0</td>\n",
       "      <td>2</td>\n",
       "      <td>0</td>\n",
       "      <td>0</td>\n",
       "      <td>0</td>\n",
       "    </tr>\n",
       "    <tr>\n",
       "      <th>4</th>\n",
       "      <td>4195</td>\n",
       "      <td>DR</td>\n",
       "      <td>Flood</td>\n",
       "      <td>2014-08-11</td>\n",
       "      <td>2014-08-13</td>\n",
       "      <td>MI</td>\n",
       "      <td>Macomb</td>\n",
       "      <td>STERLING HTS</td>\n",
       "      <td>48310</td>\n",
       "      <td>5</td>\n",
       "      <td>...</td>\n",
       "      <td>0</td>\n",
       "      <td>0</td>\n",
       "      <td>0.0</td>\n",
       "      <td>0.0</td>\n",
       "      <td>0.0</td>\n",
       "      <td>0.0</td>\n",
       "      <td>0</td>\n",
       "      <td>0</td>\n",
       "      <td>0</td>\n",
       "      <td>0</td>\n",
       "    </tr>\n",
       "  </tbody>\n",
       "</table>\n",
       "<p>5 rows × 27 columns</p>\n",
       "</div>"
      ],
      "text/plain": [
       "   disaster_number disaster_type incident_type incident_begin incident_end  \\\n",
       "0             4195            DR         Flood     2014-08-11   2014-08-13   \n",
       "1             4195            DR         Flood     2014-08-11   2014-08-13   \n",
       "2             4195            DR         Flood     2014-08-11   2014-08-13   \n",
       "3             4195            DR         Flood     2014-08-11   2014-08-13   \n",
       "4             4195            DR         Flood     2014-08-11   2014-08-13   \n",
       "\n",
       "  state   county          city zipCode  valid_registration  ...  \\\n",
       "0    MI  Macomb    CLINTON TWP   48036                   8  ...   \n",
       "1    MI  Macomb            RAY   48096                   2  ...   \n",
       "2    MI  Macomb    CLINTON TWP   48038                  14  ...   \n",
       "3    MI  Macomb       RICHMOND   48062                   4  ...   \n",
       "4    MI  Macomb   STERLING HTS   48310                   5  ...   \n",
       "\n",
       "   inspect_greater_30000  approve_assistance  tot_approve_ihp_amt  \\\n",
       "0                      0                   4              21146.0   \n",
       "1                      0                   2               5094.0   \n",
       "2                      1                   3               3616.0   \n",
       "3                      0                   2               2760.0   \n",
       "4                      0                   0                  0.0   \n",
       "\n",
       "   repair_replace_amt  rental_amt  other_needs_amt  approve_1_10000  \\\n",
       "0             20899.0         0.0            247.0                3   \n",
       "1              2972.0      1692.0            430.0                2   \n",
       "2               854.0      1692.0           1069.0                3   \n",
       "3              2627.0         0.0            132.0                2   \n",
       "4                 0.0         0.0              0.0                0   \n",
       "\n",
       "   approve_10001_25000  approve_25001_max  tot_max_grants  \n",
       "0                    1                  0               0  \n",
       "1                    0                  0               0  \n",
       "2                    0                  0               0  \n",
       "3                    0                  0               0  \n",
       "4                    0                  0               0  \n",
       "\n",
       "[5 rows x 27 columns]"
      ]
     },
     "execution_count": 40,
     "metadata": {},
     "output_type": "execute_result"
    }
   ],
   "source": [
    "disaster.head()"
   ]
  },
  {
   "cell_type": "code",
   "execution_count": 41,
   "metadata": {},
   "outputs": [
    {
     "data": {
      "text/plain": [
       "(90564, 27)"
      ]
     },
     "execution_count": 41,
     "metadata": {},
     "output_type": "execute_result"
    }
   ],
   "source": [
    "disaster.shape"
   ]
  },
  {
   "cell_type": "markdown",
   "metadata": {},
   "source": [
    "Read in income data that is listed by zip code"
   ]
  },
  {
   "cell_type": "code",
   "execution_count": 3,
   "metadata": {},
   "outputs": [],
   "source": [
    "inc = pd.read_csv('../data/zip_median_mean.csv')"
   ]
  },
  {
   "cell_type": "code",
   "execution_count": 51,
   "metadata": {},
   "outputs": [
    {
     "data": {
      "text/plain": [
       "0"
      ]
     },
     "execution_count": 51,
     "metadata": {},
     "output_type": "execute_result"
    }
   ],
   "source": [
    "inc.duplicated().sum()"
   ]
  },
  {
   "cell_type": "code",
   "execution_count": 4,
   "metadata": {},
   "outputs": [
    {
     "data": {
      "text/html": [
       "<div>\n",
       "<style scoped>\n",
       "    .dataframe tbody tr th:only-of-type {\n",
       "        vertical-align: middle;\n",
       "    }\n",
       "\n",
       "    .dataframe tbody tr th {\n",
       "        vertical-align: top;\n",
       "    }\n",
       "\n",
       "    .dataframe thead th {\n",
       "        text-align: right;\n",
       "    }\n",
       "</style>\n",
       "<table border=\"1\" class=\"dataframe\">\n",
       "  <thead>\n",
       "    <tr style=\"text-align: right;\">\n",
       "      <th></th>\n",
       "      <th>Zip</th>\n",
       "      <th>Median</th>\n",
       "      <th>Mean</th>\n",
       "      <th>Pop</th>\n",
       "    </tr>\n",
       "  </thead>\n",
       "  <tbody>\n",
       "    <tr>\n",
       "      <th>0</th>\n",
       "      <td>1001</td>\n",
       "      <td>56,663</td>\n",
       "      <td>66,688</td>\n",
       "      <td>16,445</td>\n",
       "    </tr>\n",
       "    <tr>\n",
       "      <th>1</th>\n",
       "      <td>1002</td>\n",
       "      <td>49,853</td>\n",
       "      <td>75,063</td>\n",
       "      <td>28,069</td>\n",
       "    </tr>\n",
       "    <tr>\n",
       "      <th>2</th>\n",
       "      <td>1003</td>\n",
       "      <td>28,462</td>\n",
       "      <td>35,121</td>\n",
       "      <td>8,491</td>\n",
       "    </tr>\n",
       "    <tr>\n",
       "      <th>3</th>\n",
       "      <td>1005</td>\n",
       "      <td>75,423</td>\n",
       "      <td>82,442</td>\n",
       "      <td>4,798</td>\n",
       "    </tr>\n",
       "    <tr>\n",
       "      <th>4</th>\n",
       "      <td>1007</td>\n",
       "      <td>79,076</td>\n",
       "      <td>85,802</td>\n",
       "      <td>12,962</td>\n",
       "    </tr>\n",
       "  </tbody>\n",
       "</table>\n",
       "</div>"
      ],
      "text/plain": [
       "    Zip  Median    Mean     Pop\n",
       "0  1001  56,663  66,688  16,445\n",
       "1  1002  49,853  75,063  28,069\n",
       "2  1003  28,462  35,121   8,491\n",
       "3  1005  75,423  82,442   4,798\n",
       "4  1007  79,076  85,802  12,962"
      ]
     },
     "execution_count": 4,
     "metadata": {},
     "output_type": "execute_result"
    }
   ],
   "source": [
    "inc.head()"
   ]
  },
  {
   "cell_type": "markdown",
   "metadata": {},
   "source": [
    "There are zip codes where there is a leading zero that has been dropped. The below adds a leading zero where there are only four digits."
   ]
  },
  {
   "cell_type": "code",
   "execution_count": 6,
   "metadata": {},
   "outputs": [],
   "source": [
    "inc['Zip'] = inc['Zip'].apply(lambda x: '{0:0>5}'.format(x))"
   ]
  },
  {
   "cell_type": "code",
   "execution_count": 52,
   "metadata": {},
   "outputs": [
    {
     "data": {
      "text/html": [
       "<div>\n",
       "<style scoped>\n",
       "    .dataframe tbody tr th:only-of-type {\n",
       "        vertical-align: middle;\n",
       "    }\n",
       "\n",
       "    .dataframe tbody tr th {\n",
       "        vertical-align: top;\n",
       "    }\n",
       "\n",
       "    .dataframe thead th {\n",
       "        text-align: right;\n",
       "    }\n",
       "</style>\n",
       "<table border=\"1\" class=\"dataframe\">\n",
       "  <thead>\n",
       "    <tr style=\"text-align: right;\">\n",
       "      <th></th>\n",
       "      <th>zipCode</th>\n",
       "      <th>Median</th>\n",
       "      <th>Mean</th>\n",
       "      <th>Pop</th>\n",
       "    </tr>\n",
       "  </thead>\n",
       "  <tbody>\n",
       "    <tr>\n",
       "      <th>0</th>\n",
       "      <td>01001</td>\n",
       "      <td>56,663</td>\n",
       "      <td>66,688</td>\n",
       "      <td>16,445</td>\n",
       "    </tr>\n",
       "    <tr>\n",
       "      <th>1</th>\n",
       "      <td>01002</td>\n",
       "      <td>49,853</td>\n",
       "      <td>75,063</td>\n",
       "      <td>28,069</td>\n",
       "    </tr>\n",
       "    <tr>\n",
       "      <th>2</th>\n",
       "      <td>01003</td>\n",
       "      <td>28,462</td>\n",
       "      <td>35,121</td>\n",
       "      <td>8,491</td>\n",
       "    </tr>\n",
       "    <tr>\n",
       "      <th>3</th>\n",
       "      <td>01005</td>\n",
       "      <td>75,423</td>\n",
       "      <td>82,442</td>\n",
       "      <td>4,798</td>\n",
       "    </tr>\n",
       "    <tr>\n",
       "      <th>4</th>\n",
       "      <td>01007</td>\n",
       "      <td>79,076</td>\n",
       "      <td>85,802</td>\n",
       "      <td>12,962</td>\n",
       "    </tr>\n",
       "  </tbody>\n",
       "</table>\n",
       "</div>"
      ],
      "text/plain": [
       "  zipCode  Median    Mean     Pop\n",
       "0   01001  56,663  66,688  16,445\n",
       "1   01002  49,853  75,063  28,069\n",
       "2   01003  28,462  35,121   8,491\n",
       "3   01005  75,423  82,442   4,798\n",
       "4   01007  79,076  85,802  12,962"
      ]
     },
     "execution_count": 52,
     "metadata": {},
     "output_type": "execute_result"
    }
   ],
   "source": [
    "inc.head()"
   ]
  },
  {
   "cell_type": "markdown",
   "metadata": {},
   "source": [
    "Rename zipcode column"
   ]
  },
  {
   "cell_type": "code",
   "execution_count": 9,
   "metadata": {},
   "outputs": [],
   "source": [
    "inc.rename(columns={'Zip':'zip_code'}, inplace=True)"
   ]
  },
  {
   "cell_type": "markdown",
   "metadata": {},
   "source": [
    "The datasets were not merging properly as the disaster zip code had a mix of numbers and strings. Converting all to string type."
   ]
  },
  {
   "cell_type": "code",
   "execution_count": 79,
   "metadata": {},
   "outputs": [],
   "source": [
    "disaster['zip_code'] = disaster['zip_code'].astype(str)"
   ]
  },
  {
   "cell_type": "markdown",
   "metadata": {},
   "source": [
    "Combine the data sets"
   ]
  },
  {
   "cell_type": "code",
   "execution_count": null,
   "metadata": {},
   "outputs": [],
   "source": [
    "comb_df = pd.merge(disaster, inc, on='zip_code', how='left')"
   ]
  },
  {
   "cell_type": "markdown",
   "metadata": {},
   "source": [
    "Export the data to csv"
   ]
  },
  {
   "cell_type": "code",
   "execution_count": 93,
   "metadata": {},
   "outputs": [],
   "source": [
    "comb_df.to_csv('../data/disaster_income.csv')"
   ]
  },
  {
   "cell_type": "code",
   "execution_count": null,
   "metadata": {},
   "outputs": [],
   "source": []
  }
 ],
 "metadata": {
  "kernelspec": {
   "display_name": "Python 3",
   "language": "python",
   "name": "python3"
  },
  "language_info": {
   "codemirror_mode": {
    "name": "ipython",
    "version": 3
   },
   "file_extension": ".py",
   "mimetype": "text/x-python",
   "name": "python",
   "nbconvert_exporter": "python",
   "pygments_lexer": "ipython3",
   "version": "3.7.3"
  }
 },
 "nbformat": 4,
 "nbformat_minor": 2
}
