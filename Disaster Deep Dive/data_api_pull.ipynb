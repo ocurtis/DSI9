{
 "cells": [
  {
   "cell_type": "markdown",
   "metadata": {},
   "source": [
    "## Import FEMA data for housing assistance"
   ]
  },
  {
   "cell_type": "code",
   "execution_count": 37,
   "metadata": {},
   "outputs": [],
   "source": [
    "import pandas as pd\n",
    "import requests"
   ]
  },
  {
   "cell_type": "markdown",
   "metadata": {},
   "source": [
    "Below is the API URL provided by FEMA that lists disasters. Used a dummy header and pulled in the data using the requests.get method. Check the status code that it was successfull (should be 200)."
   ]
  },
  {
   "cell_type": "code",
   "execution_count": null,
   "metadata": {},
   "outputs": [],
   "source": [
    "url = 'https://www.fema.gov/api/open/v1/HousingAssistanceOwners'\n",
    "headers = {'User-agent': 'UserB 1.27'}\n",
    "api = requests.get(url, headers=headers)\n",
    "api.status_code"
   ]
  },
  {
   "cell_type": "markdown",
   "metadata": {},
   "source": [
    "Convert the data into json type and look at the keys."
   ]
  },
  {
   "cell_type": "code",
   "execution_count": 5,
   "metadata": {},
   "outputs": [],
   "source": [
    "dj = api.json()\n",
    "sorted(dj.keys())"
   ]
  },
  {
   "cell_type": "markdown",
   "metadata": {},
   "source": [
    "Put the data into a dataframe"
   ]
  },
  {
   "cell_type": "code",
   "execution_count": 6,
   "metadata": {},
   "outputs": [],
   "source": [
    "df = pd.DataFrame(dj['HousingAssistanceOwners'])"
   ]
  },
  {
   "cell_type": "markdown",
   "metadata": {},
   "source": [
    "By using '?$skip=xxxx' you can loop through each 'page' of the api to retrieve all of the values. 1000 is the max number of entries you can retrieve per page."
   ]
  },
  {
   "cell_type": "code",
   "execution_count": 7,
   "metadata": {},
   "outputs": [],
   "source": [
    "var = 1000\n",
    "for x in range(1000):\n",
    "    url = f'https://www.fema.gov/api/open/v1/HousingAssistanceOwners?$skip={var}'\n",
    "    try:\n",
    "        api = requests.get(url, headers={'User-agent': 'UserB 1.27'})\n",
    "        json = api.json()\n",
    "        df_temp = pd.DataFrame(json['HousingAssistanceOwners'])\n",
    "        df = pd.concat([df, df_temp], axis=0)\n",
    "    except:\n",
    "        print(f'failed{x}')\n",
    "    var = var + 1000"
   ]
  },
  {
   "cell_type": "markdown",
   "metadata": {},
   "source": [
    "Check the shape and if there are duplicates"
   ]
  },
  {
   "cell_type": "code",
   "execution_count": 10,
   "metadata": {},
   "outputs": [
    {
     "data": {
      "text/plain": [
       "(90579, 26)"
      ]
     },
     "execution_count": 10,
     "metadata": {},
     "output_type": "execute_result"
    }
   ],
   "source": [
    "df.shape"
   ]
  },
  {
   "cell_type": "code",
   "execution_count": 11,
   "metadata": {},
   "outputs": [
    {
     "data": {
      "text/plain": [
       "0"
      ]
     },
     "execution_count": 11,
     "metadata": {},
     "output_type": "execute_result"
    }
   ],
   "source": [
    "df.duplicated().sum()"
   ]
  },
  {
   "cell_type": "markdown",
   "metadata": {},
   "source": [
    "### Clean the Data"
   ]
  },
  {
   "cell_type": "code",
   "execution_count": null,
   "metadata": {},
   "outputs": [],
   "source": [
    "df.columns"
   ]
  },
  {
   "cell_type": "markdown",
   "metadata": {},
   "source": [
    "Rename the columns"
   ]
  },
  {
   "cell_type": "code",
   "execution_count": null,
   "metadata": {},
   "outputs": [],
   "source": [
    "new_cols= {\n",
    "'approvedBetween10001And25000': 'approve_10001_25000', \n",
    "'approvedBetween1And10000': 'approve_1_10000',\n",
    "'approvedBetween25001AndMax': 'approve_25001_max', \n",
    "'approvedForFemaAssistance': 'approve_assistance',\n",
    "'averageFemaInspectedDamage': 'avg_damage', \n",
    "'disasterNumber': 'disaster_number',\n",
    "'femaInspectedDamageBetween10001And20000': 'inspect_10001_20000',\n",
    "'femaInspectedDamageBetween1And10000': 'inspect_1_10000',\n",
    "'femaInspectedDamageBetween20001And30000': 'inspect_20001_30000',\n",
    "'femaInspectedDamageGreaterThan30000': 'inspect_greater_30000', \n",
    "'lastRefresh': 'last_refresh',\n",
    "'noFemaInspectedDamage': 'no_damage', \n",
    "'otherNeedsAmount': 'other_needs_amt', \n",
    "'rentalAmount': 'rental_amt',\n",
    "'repairReplaceAmount': 'repair_replace_amt', \n",
    "'totalApprovedIhpAmount': 'tot_approve_ihp_amt', \n",
    "'totalDamage': 'tot_damage',\n",
    "'totalInspected': 'tot_inspected', \n",
    "'totalMaxGrants': 'tot_max_grants', \n",
    "'validRegistrations': 'valid_registration', \n",
    "}"
   ]
  },
  {
   "cell_type": "code",
   "execution_count": null,
   "metadata": {},
   "outputs": [],
   "source": [
    "df.rename(columns=new_cols, inplace=True)"
   ]
  },
  {
   "cell_type": "markdown",
   "metadata": {},
   "source": [
    "Reorder the column names"
   ]
  },
  {
   "cell_type": "code",
   "execution_count": null,
   "metadata": {},
   "outputs": [],
   "source": [
    "df = df[[\n",
    "'disaster_number',\n",
    "'state',   \n",
    "'county', \n",
    "'city',\n",
    "'zipCode',\n",
    "'valid_registration', \n",
    "'avg_damage',\n",
    "'tot_inspected',\n",
    "'tot_damage',\n",
    "'no_damage',\n",
    "'inspect_1_10000', \n",
    "'inspect_10001_20000',  \n",
    "'inspect_20001_30000',\n",
    "'inspect_greater_30000',\n",
    "'approve_assistance', \n",
    "'tot_approve_ihp_amt',\n",
    "'repair_replace_amt', \n",
    "'rental_amt', \n",
    "'other_needs_amt',\n",
    "'approve_1_10000',     \n",
    "'approve_10001_25000', \n",
    "'approve_25001_max',\n",
    "'tot_max_grants',\n",
    "'hash', \n",
    "'id', \n",
    "'last_refresh',  \n",
    "]]"
   ]
  },
  {
   "cell_type": "markdown",
   "metadata": {},
   "source": [
    "Drop columns that were created in the pull and not related to the data."
   ]
  },
  {
   "cell_type": "code",
   "execution_count": null,
   "metadata": {},
   "outputs": [],
   "source": [
    "df.drop(columns=['hash', 'id', 'last_refresh'], inplace=True)"
   ]
  },
  {
   "cell_type": "markdown",
   "metadata": {},
   "source": [
    "### Export to csv"
   ]
  },
  {
   "cell_type": "code",
   "execution_count": 34,
   "metadata": {},
   "outputs": [],
   "source": [
    "df.to_csv('./data/fema_clean.csv', index=False)"
   ]
  },
  {
   "cell_type": "code",
   "execution_count": null,
   "metadata": {},
   "outputs": [],
   "source": []
  }
 ],
 "metadata": {
  "kernelspec": {
   "display_name": "Python 3",
   "language": "python",
   "name": "python3"
  },
  "language_info": {
   "codemirror_mode": {
    "name": "ipython",
    "version": 3
   },
   "file_extension": ".py",
   "mimetype": "text/x-python",
   "name": "python",
   "nbconvert_exporter": "python",
   "pygments_lexer": "ipython3",
   "version": "3.7.3"
  }
 },
 "nbformat": 4,
 "nbformat_minor": 2
}
