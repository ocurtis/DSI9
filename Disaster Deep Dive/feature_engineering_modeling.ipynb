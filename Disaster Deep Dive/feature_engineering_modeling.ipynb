{
 "cells": [
  {
   "cell_type": "markdown",
   "metadata": {},
   "source": [
    "# Modeling FEMA Payouts"
   ]
  },
  {
   "cell_type": "markdown",
   "metadata": {},
   "source": [
    "To recap where we are in the workflow, up to this point the team has:\n",
    " - Programmatically pulled down **Disaster Historicals** from FEMA's publically availably API. The data we have pulled dates back to 2009.\n",
    " - Overlaid **Disaster Details** to supplement the historical data on hand, which includes things like *Disaster Type.*\n",
    " - Integrated these two datasets together.\n",
    " \n",
    "In this notebook, we will take time to engineer new features, conduct EDA, and build a model to help support FEMA in estimating payouts at the zipcode level. When a new disaster strikes, this model will help to identify zipcodes that are likely to need the most support. This notebook breaks down into the following sections:\n",
    "\n",
    " - [Cleaning](#Clean-our-Data)\n",
    " - [Feature Engineering](#Feature-Engineering)\n",
    " - [EDA](#EDA)\n",
    " - [Modeling](#Modeling)\n",
    " \n",
    "As with all workflows, the first step is to read in our data...\n"
   ]
  },
  {
   "cell_type": "code",
   "execution_count": 104,
   "metadata": {},
   "outputs": [],
   "source": [
    "import pandas as pd\n",
    "import numpy as np\n",
    "import seaborn as sns\n",
    "import pandas as pd\n",
    "import seaborn as sns\n",
    "import numpy as np\n",
    "import matplotlib.pyplot as plt\n",
    "from sklearn.model_selection import train_test_split, cross_val_score\n",
    "from sklearn.linear_model import LinearRegression, LassoCV, RidgeCV\n",
    "from sklearn.preprocessing import StandardScaler, PolynomialFeatures\n",
    "from sklearn.neighbors import KNeighborsRegressor\n",
    "from sklearn.tree import DecisionTreeRegressor\n",
    "from sklearn.ensemble import BaggingRegressor, RandomForestRegressor, AdaBoostRegressor\n",
    "from sklearn.svm import SVR\n",
    "from sklearn.metrics import mean_squared_error"
   ]
  },
  {
   "cell_type": "code",
   "execution_count": 106,
   "metadata": {},
   "outputs": [],
   "source": [
    "df = pd.read_csv('./data/disaster_income.csv')"
   ]
  },
  {
   "cell_type": "markdown",
   "metadata": {},
   "source": [
    "***\n",
    "## Clean our Data"
   ]
  },
  {
   "cell_type": "markdown",
   "metadata": {},
   "source": [
    "There are a number of duplicative columns in our data set that we can drop from the outset. While approved fund features are interesting, this will not be the target we work against."
   ]
  },
  {
   "cell_type": "markdown",
   "metadata": {},
   "source": [
    "#### Dropping Irrelevant Features"
   ]
  },
  {
   "cell_type": "code",
   "execution_count": 107,
   "metadata": {},
   "outputs": [],
   "source": [
    "df = df.drop(columns=['approve_1_10000', 'approve_10001_25000', 'approve_25001_max'])"
   ]
  },
  {
   "cell_type": "code",
   "execution_count": 108,
   "metadata": {},
   "outputs": [],
   "source": [
    "df = df.drop(columns=['Unnamed: 0', 'disaster_type'])"
   ]
  },
  {
   "cell_type": "markdown",
   "metadata": {},
   "source": [
    "Upon reading in our data, we notice that there are some special characters that will impede calculation/ application of aggregate functions. We'll take a moment to adjust these columns and dheck for *dtypes.*"
   ]
  },
  {
   "cell_type": "code",
   "execution_count": 109,
   "metadata": {
    "scrolled": true
   },
   "outputs": [],
   "source": [
    "df['Median'] = df['Median'].str.replace(\",\",\"\")\n",
    "df['Mean'] = df['Mean'].str.replace(\",\",\"\")\n",
    "df['Pop'] = df['Pop'].str.replace(\",\",\"\")"
   ]
  },
  {
   "cell_type": "code",
   "execution_count": 110,
   "metadata": {},
   "outputs": [],
   "source": [
    "df['Median'] = df['Median'].astype('int')\n",
    "df['Mean'] = df['Mean'].astype('int')\n",
    "df['Pop'] = df['Pop'].astype('int')"
   ]
  },
  {
   "cell_type": "markdown",
   "metadata": {},
   "source": [
    "#### Adjusting Dtypes"
   ]
  },
  {
   "cell_type": "code",
   "execution_count": 111,
   "metadata": {},
   "outputs": [],
   "source": [
    "#### Adjusting Dtypes\n",
    "df['incident_begin'] = pd.to_datetime(df['incident_begin'])\n",
    "df['incident_end'] = pd.to_datetime(df['incident_end'])"
   ]
  },
  {
   "cell_type": "code",
   "execution_count": 112,
   "metadata": {},
   "outputs": [],
   "source": [
    "df = df[df['incident_type'] != 'Typhoon']"
   ]
  },
  {
   "cell_type": "code",
   "execution_count": 113,
   "metadata": {},
   "outputs": [],
   "source": [
    "df = df[df.state != 'VI']\n",
    "df = df[df.state != 'MP']\n",
    "df = df[df.state != 'NV']"
   ]
  },
  {
   "cell_type": "markdown",
   "metadata": {},
   "source": [
    "***\n",
    "## Feature Engineering"
   ]
  },
  {
   "cell_type": "markdown",
   "metadata": {},
   "source": [
    "There are a number of additional features we'd like to bring into our dataset. While *incident start* and *incident end* are interesting and useful features, **duration of disaster** is likely to be an important consideration when modeling out FEMA support. For that reason, we'll take a moment to build this into our model."
   ]
  },
  {
   "cell_type": "markdown",
   "metadata": {},
   "source": [
    "#### Duration"
   ]
  },
  {
   "cell_type": "code",
   "execution_count": 114,
   "metadata": {},
   "outputs": [],
   "source": [
    "df['duration'] = df['incident_end'] - df['incident_begin']"
   ]
  },
  {
   "cell_type": "code",
   "execution_count": 115,
   "metadata": {},
   "outputs": [],
   "source": [
    "df['duration'] = df['duration'] /  np.timedelta64(1, 'D')"
   ]
  },
  {
   "cell_type": "markdown",
   "metadata": {},
   "source": [
    "#### Going Deeper with FEMA Registrations"
   ]
  },
  {
   "cell_type": "markdown",
   "metadata": {},
   "source": [
    "Part of the FEMA data retrieved via API includes *valid_registration* at the zipcode level. As provided by FEMA, this feature is defined as:\n",
    "\n",
    "  - \"*Count of FEMA registration owners within the state, county, zip where the registration is valid. In order to be a valid registration, the applicant must be in an Individual Assistance declared state and county and have registered within the FEMA designated registration period.*\"\n",
    "  \n",
    "This is an interesting pre-existing feature and can tell us a good deal about the level of support a zipcode may need. However, we are only provided total registrations with not purview into coverage for the zipcode. For this reason, we will build a **registrations per capita** feature.\n",
    " "
   ]
  },
  {
   "cell_type": "code",
   "execution_count": 116,
   "metadata": {},
   "outputs": [],
   "source": [
    "df['registrations_per_capita'] = df['valid_registration'] / df['Pop'] * 100"
   ]
  },
  {
   "cell_type": "code",
   "execution_count": 117,
   "metadata": {},
   "outputs": [
    {
     "data": {
      "text/plain": [
       "0        0.036031\n",
       "1        0.053476\n",
       "2        0.035458\n",
       "3        0.048333\n",
       "4        0.011918\n",
       "           ...   \n",
       "68731    1.327434\n",
       "68732    0.034188\n",
       "68733    0.205761\n",
       "68734    0.948509\n",
       "68735    0.952381\n",
       "Name: registrations_per_capita, Length: 68731, dtype: float64"
      ]
     },
     "execution_count": 117,
     "metadata": {},
     "output_type": "execute_result"
    }
   ],
   "source": [
    "df['registrations_per_capita']"
   ]
  },
  {
   "cell_type": "code",
   "execution_count": 118,
   "metadata": {},
   "outputs": [],
   "source": [
    "df = df.drop(columns=['inspect_1_10000', 'inspect_10001_20000', 'inspect_20001_30000',\n",
    "       'inspect_greater_30000','tot_inspected'])"
   ]
  },
  {
   "cell_type": "code",
   "execution_count": 119,
   "metadata": {},
   "outputs": [
    {
     "data": {
      "text/plain": [
       "Index(['disaster_number', 'incident_type', 'incident_begin', 'incident_end',\n",
       "       'state', 'county', 'city', 'zipCode', 'valid_registration',\n",
       "       'avg_damage', 'tot_damage', 'no_damage', 'approve_assistance',\n",
       "       'tot_approve_ihp_amt', 'repair_replace_amt', 'rental_amt',\n",
       "       'other_needs_amt', 'tot_max_grants', 'Median', 'Mean', 'Pop',\n",
       "       'duration', 'registrations_per_capita'],\n",
       "      dtype='object')"
      ]
     },
     "execution_count": 119,
     "metadata": {},
     "output_type": "execute_result"
    }
   ],
   "source": [
    "df.columns"
   ]
  },
  {
   "cell_type": "code",
   "execution_count": 122,
   "metadata": {},
   "outputs": [
    {
     "data": {
      "text/plain": [
       "disaster_number               int64\n",
       "incident_type                object\n",
       "state                        object\n",
       "county                       object\n",
       "city                         object\n",
       "zipCode                       int64\n",
       "valid_registration            int64\n",
       "avg_damage                    int64\n",
       "tot_damage                    int64\n",
       "no_damage                     int64\n",
       "approve_assistance            int64\n",
       "tot_approve_ihp_amt         float64\n",
       "repair_replace_amt          float64\n",
       "rental_amt                  float64\n",
       "other_needs_amt             float64\n",
       "tot_max_grants                int64\n",
       "Median                        int32\n",
       "Mean                          int32\n",
       "Pop                           int32\n",
       "duration                    float64\n",
       "registrations_per_capita    float64\n",
       "dtype: object"
      ]
     },
     "execution_count": 122,
     "metadata": {},
     "output_type": "execute_result"
    }
   ],
   "source": [
    "df.dtypes"
   ]
  },
  {
   "cell_type": "code",
   "execution_count": 120,
   "metadata": {},
   "outputs": [],
   "source": [
    "df = df.drop(columns=['incident_begin', 'incident_end'])"
   ]
  },
  {
   "cell_type": "code",
   "execution_count": 121,
   "metadata": {
    "scrolled": false
   },
   "outputs": [
    {
     "data": {
      "text/html": [
       "<div>\n",
       "<style scoped>\n",
       "    .dataframe tbody tr th:only-of-type {\n",
       "        vertical-align: middle;\n",
       "    }\n",
       "\n",
       "    .dataframe tbody tr th {\n",
       "        vertical-align: top;\n",
       "    }\n",
       "\n",
       "    .dataframe thead th {\n",
       "        text-align: right;\n",
       "    }\n",
       "</style>\n",
       "<table border=\"1\" class=\"dataframe\">\n",
       "  <thead>\n",
       "    <tr style=\"text-align: right;\">\n",
       "      <th></th>\n",
       "      <th>disaster_number</th>\n",
       "      <th>incident_type</th>\n",
       "      <th>state</th>\n",
       "      <th>county</th>\n",
       "      <th>city</th>\n",
       "      <th>zipCode</th>\n",
       "      <th>valid_registration</th>\n",
       "      <th>avg_damage</th>\n",
       "      <th>tot_damage</th>\n",
       "      <th>no_damage</th>\n",
       "      <th>...</th>\n",
       "      <th>tot_approve_ihp_amt</th>\n",
       "      <th>repair_replace_amt</th>\n",
       "      <th>rental_amt</th>\n",
       "      <th>other_needs_amt</th>\n",
       "      <th>tot_max_grants</th>\n",
       "      <th>Median</th>\n",
       "      <th>Mean</th>\n",
       "      <th>Pop</th>\n",
       "      <th>duration</th>\n",
       "      <th>registrations_per_capita</th>\n",
       "    </tr>\n",
       "  </thead>\n",
       "  <tbody>\n",
       "    <tr>\n",
       "      <td>0</td>\n",
       "      <td>4195</td>\n",
       "      <td>Flood</td>\n",
       "      <td>MI</td>\n",
       "      <td>Macomb</td>\n",
       "      <td>CLINTON TWP</td>\n",
       "      <td>48036</td>\n",
       "      <td>8</td>\n",
       "      <td>3743</td>\n",
       "      <td>26202</td>\n",
       "      <td>1</td>\n",
       "      <td>...</td>\n",
       "      <td>21146.0</td>\n",
       "      <td>20899.0</td>\n",
       "      <td>0.0</td>\n",
       "      <td>247.0</td>\n",
       "      <td>0</td>\n",
       "      <td>49516</td>\n",
       "      <td>60922</td>\n",
       "      <td>22203</td>\n",
       "      <td>2.0</td>\n",
       "      <td>0.036031</td>\n",
       "    </tr>\n",
       "    <tr>\n",
       "      <td>1</td>\n",
       "      <td>4195</td>\n",
       "      <td>Flood</td>\n",
       "      <td>MI</td>\n",
       "      <td>Macomb</td>\n",
       "      <td>RAY</td>\n",
       "      <td>48096</td>\n",
       "      <td>2</td>\n",
       "      <td>1491</td>\n",
       "      <td>2984</td>\n",
       "      <td>0</td>\n",
       "      <td>...</td>\n",
       "      <td>5094.0</td>\n",
       "      <td>2972.0</td>\n",
       "      <td>1692.0</td>\n",
       "      <td>430.0</td>\n",
       "      <td>0</td>\n",
       "      <td>67344</td>\n",
       "      <td>96911</td>\n",
       "      <td>3740</td>\n",
       "      <td>2.0</td>\n",
       "      <td>0.053476</td>\n",
       "    </tr>\n",
       "    <tr>\n",
       "      <td>2</td>\n",
       "      <td>4195</td>\n",
       "      <td>Flood</td>\n",
       "      <td>MI</td>\n",
       "      <td>Macomb</td>\n",
       "      <td>CLINTON TWP</td>\n",
       "      <td>48038</td>\n",
       "      <td>14</td>\n",
       "      <td>3925</td>\n",
       "      <td>43178</td>\n",
       "      <td>3</td>\n",
       "      <td>...</td>\n",
       "      <td>3616.0</td>\n",
       "      <td>854.0</td>\n",
       "      <td>1692.0</td>\n",
       "      <td>1069.0</td>\n",
       "      <td>0</td>\n",
       "      <td>56119</td>\n",
       "      <td>67880</td>\n",
       "      <td>39483</td>\n",
       "      <td>2.0</td>\n",
       "      <td>0.035458</td>\n",
       "    </tr>\n",
       "    <tr>\n",
       "      <td>3</td>\n",
       "      <td>4195</td>\n",
       "      <td>Flood</td>\n",
       "      <td>MI</td>\n",
       "      <td>Macomb</td>\n",
       "      <td>RICHMOND</td>\n",
       "      <td>48062</td>\n",
       "      <td>4</td>\n",
       "      <td>1671</td>\n",
       "      <td>6686</td>\n",
       "      <td>1</td>\n",
       "      <td>...</td>\n",
       "      <td>2760.0</td>\n",
       "      <td>2627.0</td>\n",
       "      <td>0.0</td>\n",
       "      <td>132.0</td>\n",
       "      <td>0</td>\n",
       "      <td>58233</td>\n",
       "      <td>67564</td>\n",
       "      <td>8276</td>\n",
       "      <td>2.0</td>\n",
       "      <td>0.048333</td>\n",
       "    </tr>\n",
       "    <tr>\n",
       "      <td>4</td>\n",
       "      <td>4195</td>\n",
       "      <td>Flood</td>\n",
       "      <td>MI</td>\n",
       "      <td>Macomb</td>\n",
       "      <td>STERLING HTS</td>\n",
       "      <td>48310</td>\n",
       "      <td>5</td>\n",
       "      <td>1538</td>\n",
       "      <td>7691</td>\n",
       "      <td>1</td>\n",
       "      <td>...</td>\n",
       "      <td>0.0</td>\n",
       "      <td>0.0</td>\n",
       "      <td>0.0</td>\n",
       "      <td>0.0</td>\n",
       "      <td>0</td>\n",
       "      <td>56943</td>\n",
       "      <td>65435</td>\n",
       "      <td>41955</td>\n",
       "      <td>2.0</td>\n",
       "      <td>0.011918</td>\n",
       "    </tr>\n",
       "  </tbody>\n",
       "</table>\n",
       "<p>5 rows × 21 columns</p>\n",
       "</div>"
      ],
      "text/plain": [
       "   disaster_number incident_type state   county          city  zipCode  \\\n",
       "0             4195         Flood    MI  Macomb    CLINTON TWP    48036   \n",
       "1             4195         Flood    MI  Macomb            RAY    48096   \n",
       "2             4195         Flood    MI  Macomb    CLINTON TWP    48038   \n",
       "3             4195         Flood    MI  Macomb       RICHMOND    48062   \n",
       "4             4195         Flood    MI  Macomb   STERLING HTS    48310   \n",
       "\n",
       "   valid_registration  avg_damage  tot_damage  no_damage  ...  \\\n",
       "0                   8        3743       26202          1  ...   \n",
       "1                   2        1491        2984          0  ...   \n",
       "2                  14        3925       43178          3  ...   \n",
       "3                   4        1671        6686          1  ...   \n",
       "4                   5        1538        7691          1  ...   \n",
       "\n",
       "   tot_approve_ihp_amt  repair_replace_amt  rental_amt  other_needs_amt  \\\n",
       "0              21146.0             20899.0         0.0            247.0   \n",
       "1               5094.0              2972.0      1692.0            430.0   \n",
       "2               3616.0               854.0      1692.0           1069.0   \n",
       "3               2760.0              2627.0         0.0            132.0   \n",
       "4                  0.0                 0.0         0.0              0.0   \n",
       "\n",
       "   tot_max_grants  Median   Mean    Pop  duration  registrations_per_capita  \n",
       "0               0   49516  60922  22203       2.0                  0.036031  \n",
       "1               0   67344  96911   3740       2.0                  0.053476  \n",
       "2               0   56119  67880  39483       2.0                  0.035458  \n",
       "3               0   58233  67564   8276       2.0                  0.048333  \n",
       "4               0   56943  65435  41955       2.0                  0.011918  \n",
       "\n",
       "[5 rows x 21 columns]"
      ]
     },
     "execution_count": 121,
     "metadata": {},
     "output_type": "execute_result"
    }
   ],
   "source": [
    "df.head()"
   ]
  },
  {
   "cell_type": "code",
   "execution_count": null,
   "metadata": {},
   "outputs": [],
   "source": [
    "df_for_model = df.drop(columns=['zipCode', 'city', 'county', ])"
   ]
  },
  {
   "cell_type": "code",
   "execution_count": 89,
   "metadata": {},
   "outputs": [],
   "source": [
    "# df[df = df.drop(columns=['zipCode', 'city', 'county', ])'zipCode'] = df['zipCode'].astype('object')"
   ]
  },
  {
   "cell_type": "markdown",
   "metadata": {},
   "source": [
    "***\n",
    "## EDA"
   ]
  },
  {
   "cell_type": "markdown",
   "metadata": {},
   "source": [
    "Now that we have generated our new features and culled down the original feature set, let's take a moment to dig into the data. We'll start by looking at correlations across features, and our target *tot_approve_ihp_amt*."
   ]
  },
  {
   "cell_type": "markdown",
   "metadata": {},
   "source": [
    "#### Correlation"
   ]
  },
  {
   "cell_type": "code",
   "execution_count": 90,
   "metadata": {
    "scrolled": true
   },
   "outputs": [
    {
     "data": {
      "image/png": "[encoded data removed]",
      "text/plain": [
       "<Figure size 432x288 with 2 Axes>"
      ]
     },
     "metadata": {
      "needs_background": "light"
     },
     "output_type": "display_data"
    }
   ],
   "source": [
    "#Assess correlations of our prioritized feature set\n",
    "sns.heatmap(df.corr(), cmap='coolwarm');\n",
    "plt.title('Correlation Across Features, Target');"
   ]
  },
  {
   "cell_type": "markdown",
   "metadata": {},
   "source": [
    "Our initial assessment of correlation of our target relative to our features reveals that there is actually minimal correlation between median/mean income and the support provided at the zipcode level. This is a positive finding and also negates our original hypothesis that there may be bias in terms of geo-prioritization post disaster. Let's dig a little bit deeper here to ensure that there aren't any outliers. We can also leverage our Tableau tool to confirm this."
   ]
  },
  {
   "cell_type": "code",
   "execution_count": null,
   "metadata": {},
   "outputs": [],
   "source": []
  },
  {
   "cell_type": "markdown",
   "metadata": {},
   "source": [
    "#### Target Deep Dive"
   ]
  },
  {
   "cell_type": "markdown",
   "metadata": {},
   "source": [
    "We'll now take a moment to look at the distribution of our target. Clearly, there are some disaster payouts skewing our distribution below..."
   ]
  },
  {
   "cell_type": "code",
   "execution_count": 91,
   "metadata": {},
   "outputs": [
    {
     "data": {
      "image/png": "[encoded data removed]",
      "text/plain": [
       "<Figure size 432x288 with 1 Axes>"
      ]
     },
     "metadata": {
      "needs_background": "light"
     },
     "output_type": "display_data"
    }
   ],
   "source": [
    "#Build histogram of our target\n",
    "sns.distplot(df['tot_approve_ihp_amt'], bins=  10);"
   ]
  },
  {
   "cell_type": "markdown",
   "metadata": {},
   "source": [
    "We'll now take a moment to look at the distribution of our target. Clearly, our distribution is being skewed in two ways:\n",
    " - There appear to be a significant amount of instances with **no payout**\n",
    " - There appears to be a small number of **significant payouts**\n",
    " \n",
    "Let's take time to epxlore both of these..."
   ]
  },
  {
   "cell_type": "markdown",
   "metadata": {},
   "source": [
    "#### NO PAYOUT: When and Where, and How Often"
   ]
  },
  {
   "cell_type": "markdown",
   "metadata": {},
   "source": [
    "***How Often FEMA doesn't pay out***"
   ]
  },
  {
   "cell_type": "code",
   "execution_count": 92,
   "metadata": {},
   "outputs": [
    {
     "data": {
      "text/plain": [
       "0.29382665754899534"
      ]
     },
     "execution_count": 92,
     "metadata": {},
     "output_type": "execute_result"
    }
   ],
   "source": [
    "#Find the percent of instances where there is no payout\n",
    "df.loc[df['tot_approve_ihp_amt'] ==0].count()[0] / len(df['tot_approve_ihp_amt'])"
   ]
  },
  {
   "cell_type": "markdown",
   "metadata": {},
   "source": [
    "***When FEMA doesn't pay out:*** Percentage of the time that there is no payout by incident type"
   ]
  },
  {
   "cell_type": "code",
   "execution_count": 93,
   "metadata": {
    "scrolled": false
   },
   "outputs": [
    {
     "data": {
      "image/png": "[encoded data removed]",
      "text/plain": [
       "<Figure size 864x360 with 2 Axes>"
      ]
     },
     "metadata": {
      "needs_background": "light"
     },
     "output_type": "display_data"
    }
   ],
   "source": [
    "# Number of occurences with no payout, divided by total number of occurences.\n",
    "# Arrange by percentage \n",
    "plt.figure(figsize=(12,5))\n",
    "plt.subplot(1,2,1)\n",
    "((df.loc[df['tot_approve_ihp_amt'] ==0, 'incident_type'].value_counts() / df['incident_type'].value_counts()).sort_values(ascending=False) * 100).plot(kind='bar');\n",
    "plt.title('Percentage of Time no FEMA  Support by Incident Type');\n",
    "\n",
    "# Number of occurences by incident type\n",
    "# Arrange by total\n",
    "plt.subplot(1,2,2)\n",
    "df['incident_type'].value_counts().sort_values(ascending=False).plot(kind='bar', color='orange');\n",
    "plt.title('Total Incidents by Type');\n",
    "\n",
    "plt.tight_layout()"
   ]
  },
  {
   "cell_type": "code",
   "execution_count": 98,
   "metadata": {
    "scrolled": false
   },
   "outputs": [
    {
     "data": {
      "image/png": "[encoded data removed]",
      "text/plain": [
       "<Figure size 864x360 with 1 Axes>"
      ]
     },
     "metadata": {
      "needs_background": "light"
     },
     "output_type": "display_data"
    }
   ],
   "source": [
    "#Where does FEMA not payout? Check by State\n",
    "plt.figure(figsize=(12,5))\n",
    "((df.loc[df['tot_approve_ihp_amt'] > 0, 'state'].value_counts() / df['state'].value_counts()).sort_values(ascending=False) * 100).plot(kind='area');\n",
    "plt.title('States least supported by FEMA on Average');\n",
    "plt.ylabel('% of Incidents Without Support');\n"
   ]
  },
  {
   "cell_type": "markdown",
   "metadata": {},
   "source": [
    "#### PAYOUT: When, Where, How Often"
   ]
  },
  {
   "cell_type": "code",
   "execution_count": 37,
   "metadata": {},
   "outputs": [],
   "source": [
    "#Check average of payouts excluding zeros\n",
    "support_avg = df.loc[df['tot_approve_ihp_amt'] > 0, 'tot_approve_ihp_amt'].mean()\n",
    "#Check standard deviation\n",
    "support_std = df.loc[df['tot_approve_ihp_amt'] > 0, 'tot_approve_ihp_amt'].std()"
   ]
  },
  {
   "cell_type": "code",
   "execution_count": 40,
   "metadata": {},
   "outputs": [],
   "source": [
    "threshold = support_avg + 2*support_std"
   ]
  },
  {
   "cell_type": "code",
   "execution_count": 103,
   "metadata": {},
   "outputs": [
    {
     "data": {
      "image/png": "[encoded data removed]",
      "text/plain": [
       "<Figure size 1224x360 with 2 Axes>"
      ]
     },
     "metadata": {
      "needs_background": "light"
     },
     "output_type": "display_data"
    }
   ],
   "source": [
    "plt.figure(figsize=(17,5))\n",
    "\n",
    "plt.subplot(1,2,1)\n",
    "df.loc[df['tot_approve_ihp_amt'] >threshold,'state'].value_counts().plot(kind='area', color='green');\n",
    "plt.title('Count of Major Support FEMA Payments by State');\n",
    "plt.ylabel('Count');\n",
    "\n",
    "plt.subplot(1,2,2)\n",
    "\n",
    "\n",
    "df.groupby('state')['disaster_number'].count().sort_values(ascending=False).plot(kind='area', color='black');\n",
    "plt.title('Zipcodes Impacted by Disasters by State');\n",
    "plt.ylabel('Count');"
   ]
  },
  {
   "cell_type": "markdown",
   "metadata": {},
   "source": [
    "Unsurpsiringly, TX, LA are two states which recieve a significant amount of major, a-typical FEMA support payments. An additional view of frequency of disaster-related payments at the zipcode level, however, shows that FL and NC are most often recieving these funds."
   ]
  },
  {
   "cell_type": "markdown",
   "metadata": {},
   "source": [
    "### NaNs"
   ]
  },
  {
   "cell_type": "code",
   "execution_count": 53,
   "metadata": {},
   "outputs": [],
   "source": [
    "We'll now take a moment to look at the distribution of our target. Clearly, there are some disaster payouts skewing our distribution below...#### NO PAYOUT: When and Where, and How Often\n",
    "\n",
    "***How Often FEMA doesn't pay out***#Find the percent of instances where there is no payout\n",
    "df.loc[df['tot_approve_ihp_amt'] ==0].count()[0] / len(df['tot_approve_ihp_amt'])#Where does FEMA not payout? Check by State\n",
    "plt.figure(figsize=(12,5))\n",
    "((df.loc[df['tot_approve_ihp_amt'] > 0, 'state'].value_counts() / df['state'].value_counts()).sort_values(ascending=False) * 100).plot(kind='bar');\n",
    "df['duration'] = df['duration'].fillna(0)\n",
    "df_for_model['duration'] = df_for_model['duration'].fillna(0)"
   ]
  },
  {
   "cell_type": "markdown",
   "metadata": {},
   "source": [
    "### Dummify"
   ]
  },
  {
   "cell_type": "code",
   "execution_count": 54,
   "metadata": {},
   "outputs": [],
   "source": [
    "df_for_model = pd.get_dummies(df_for_model)"
   ]
  },
  {
   "cell_type": "code",
   "execution_count": 55,
   "metadata": {},
   "outputs": [
    {
     "data": {
      "text/plain": [
       "(68731, 69)"
      ]
     },
     "execution_count": 55,
     "metadata": {},
     "output_type": "execute_result"
    }
   ],
   "source": [
    "df_for_model.shape"
   ]
  },
  {
   "cell_type": "markdown",
   "metadata": {},
   "source": [
    "***\n",
    "## Modeling"
   ]
  },
  {
   "cell_type": "markdown",
   "metadata": {},
   "source": [
    "### Remove features that are duplicative with target"
   ]
  },
  {
   "cell_type": "code",
   "execution_count": 56,
   "metadata": {},
   "outputs": [
    {
     "data": {
      "text/plain": [
       "Index(['valid_registration', 'avg_damage', 'tot_damage', 'no_damage',\n",
       "       'approve_assistance', 'tot_approve_ihp_amt', 'repair_replace_amt',\n",
       "       'rental_amt', 'other_needs_amt', 'tot_max_grants', 'Median', 'Mean',\n",
       "       'Pop', 'duration', 'registrations_per_capita',\n",
       "       'incident_type_Earthquake', 'incident_type_Fire', 'incident_type_Flood',\n",
       "       'incident_type_Hurricane', 'incident_type_Mud/Landslide',\n",
       "       'incident_type_Other', 'incident_type_Severe Storm(s)',\n",
       "       'incident_type_Tornado', 'incident_type_Volcano', 'state_AK',\n",
       "       'state_AL', 'state_AR', 'state_AS', 'state_CA', 'state_CO', 'state_CT',\n",
       "       'state_FL', 'state_GA', 'state_HI', 'state_IA', 'state_IL', 'state_IN',\n",
       "       'state_KS', 'state_KY', 'state_LA', 'state_MA', 'state_MD', 'state_ME',\n",
       "       'state_MI', 'state_MN', 'state_MO', 'state_MS', 'state_MT', 'state_NC',\n",
       "       'state_ND', 'state_NE', 'state_NH', 'state_NJ', 'state_NM', 'state_NY',\n",
       "       'state_OH', 'state_OK', 'state_OR', 'state_PA', 'state_PR', 'state_SC',\n",
       "       'state_SD', 'state_TN', 'state_TX', 'state_VA', 'state_WA', 'state_WI',\n",
       "       'state_WV', 'state_WY'],\n",
       "      dtype='object')"
      ]
     },
     "execution_count": 56,
     "metadata": {},
     "output_type": "execute_result"
    }
   ],
   "source": [
    "df_for_model.columns"
   ]
  },
  {
   "cell_type": "code",
   "execution_count": 57,
   "metadata": {},
   "outputs": [],
   "source": [
    "df_for_model = df_for_model.drop(columns=['avg_damage','no_damage', 'repair_replace_amt',\n",
    "       'rental_amt', 'other_needs_amt', 'tot_max_grants', 'Mean', 'Pop', 'duration', 'Median', 'registrations_per_capita', \n",
    "        'approve_assistance', 'valid_registration',])"
   ]
  },
  {
   "cell_type": "code",
   "execution_count": 58,
   "metadata": {
    "scrolled": true
   },
   "outputs": [
    {
     "data": {
      "text/plain": [
       "Index(['tot_damage', 'tot_approve_ihp_amt', 'incident_type_Earthquake',\n",
       "       'incident_type_Fire', 'incident_type_Flood', 'incident_type_Hurricane',\n",
       "       'incident_type_Mud/Landslide', 'incident_type_Other',\n",
       "       'incident_type_Severe Storm(s)', 'incident_type_Tornado',\n",
       "       'incident_type_Volcano', 'state_AK', 'state_AL', 'state_AR', 'state_AS',\n",
       "       'state_CA', 'state_CO', 'state_CT', 'state_FL', 'state_GA', 'state_HI',\n",
       "       'state_IA', 'state_IL', 'state_IN', 'state_KS', 'state_KY', 'state_LA',\n",
       "       'state_MA', 'state_MD', 'state_ME', 'state_MI', 'state_MN', 'state_MO',\n",
       "       'state_MS', 'state_MT', 'state_NC', 'state_ND', 'state_NE', 'state_NH',\n",
       "       'state_NJ', 'state_NM', 'state_NY', 'state_OH', 'state_OK', 'state_OR',\n",
       "       'state_PA', 'state_PR', 'state_SC', 'state_SD', 'state_TN', 'state_TX',\n",
       "       'state_VA', 'state_WA', 'state_WI', 'state_WV', 'state_WY'],\n",
       "      dtype='object')"
      ]
     },
     "execution_count": 58,
     "metadata": {},
     "output_type": "execute_result"
    }
   ],
   "source": [
    "df_for_model.columns"
   ]
  },
  {
   "cell_type": "code",
   "execution_count": 59,
   "metadata": {
    "scrolled": true
   },
   "outputs": [
    {
     "data": {
      "text/plain": [
       "array([dtype('int64'), dtype('float64'), dtype('uint8'), dtype('uint8'),\n",
       "       dtype('uint8'), dtype('uint8'), dtype('uint8'), dtype('uint8'),\n",
       "       dtype('uint8'), dtype('uint8'), dtype('uint8'), dtype('uint8'),\n",
       "       dtype('uint8'), dtype('uint8'), dtype('uint8'), dtype('uint8'),\n",
       "       dtype('uint8'), dtype('uint8'), dtype('uint8'), dtype('uint8'),\n",
       "       dtype('uint8'), dtype('uint8'), dtype('uint8'), dtype('uint8'),\n",
       "       dtype('uint8'), dtype('uint8'), dtype('uint8'), dtype('uint8'),\n",
       "       dtype('uint8'), dtype('uint8'), dtype('uint8'), dtype('uint8'),\n",
       "       dtype('uint8'), dtype('uint8'), dtype('uint8'), dtype('uint8'),\n",
       "       dtype('uint8'), dtype('uint8'), dtype('uint8'), dtype('uint8'),\n",
       "       dtype('uint8'), dtype('uint8'), dtype('uint8'), dtype('uint8'),\n",
       "       dtype('uint8'), dtype('uint8'), dtype('uint8'), dtype('uint8'),\n",
       "       dtype('uint8'), dtype('uint8'), dtype('uint8'), dtype('uint8'),\n",
       "       dtype('uint8'), dtype('uint8'), dtype('uint8'), dtype('uint8')],\n",
       "      dtype=object)"
      ]
     },
     "execution_count": 59,
     "metadata": {},
     "output_type": "execute_result"
    }
   ],
   "source": [
    "df_for_model.dtypes.values"
   ]
  },
  {
   "cell_type": "code",
   "execution_count": 60,
   "metadata": {
    "scrolled": false
   },
   "outputs": [
    {
     "data": {
      "text/html": [
       "<div>\n",
       "<style scoped>\n",
       "    .dataframe tbody tr th:only-of-type {\n",
       "        vertical-align: middle;\n",
       "    }\n",
       "\n",
       "    .dataframe tbody tr th {\n",
       "        vertical-align: top;\n",
       "    }\n",
       "\n",
       "    .dataframe thead th {\n",
       "        text-align: right;\n",
       "    }\n",
       "</style>\n",
       "<table border=\"1\" class=\"dataframe\">\n",
       "  <thead>\n",
       "    <tr style=\"text-align: right;\">\n",
       "      <th></th>\n",
       "      <th>tot_damage</th>\n",
       "      <th>tot_approve_ihp_amt</th>\n",
       "      <th>incident_type_Earthquake</th>\n",
       "      <th>incident_type_Fire</th>\n",
       "      <th>incident_type_Flood</th>\n",
       "      <th>incident_type_Hurricane</th>\n",
       "      <th>incident_type_Mud/Landslide</th>\n",
       "      <th>incident_type_Other</th>\n",
       "      <th>incident_type_Severe Storm(s)</th>\n",
       "      <th>incident_type_Tornado</th>\n",
       "      <th>...</th>\n",
       "      <th>state_PR</th>\n",
       "      <th>state_SC</th>\n",
       "      <th>state_SD</th>\n",
       "      <th>state_TN</th>\n",
       "      <th>state_TX</th>\n",
       "      <th>state_VA</th>\n",
       "      <th>state_WA</th>\n",
       "      <th>state_WI</th>\n",
       "      <th>state_WV</th>\n",
       "      <th>state_WY</th>\n",
       "    </tr>\n",
       "  </thead>\n",
       "  <tbody>\n",
       "  </tbody>\n",
       "</table>\n",
       "<p>0 rows × 56 columns</p>\n",
       "</div>"
      ],
      "text/plain": [
       "Empty DataFrame\n",
       "Columns: [tot_damage, tot_approve_ihp_amt, incident_type_Earthquake, incident_type_Fire, incident_type_Flood, incident_type_Hurricane, incident_type_Mud/Landslide, incident_type_Other, incident_type_Severe Storm(s), incident_type_Tornado, incident_type_Volcano, state_AK, state_AL, state_AR, state_AS, state_CA, state_CO, state_CT, state_FL, state_GA, state_HI, state_IA, state_IL, state_IN, state_KS, state_KY, state_LA, state_MA, state_MD, state_ME, state_MI, state_MN, state_MO, state_MS, state_MT, state_NC, state_ND, state_NE, state_NH, state_NJ, state_NM, state_NY, state_OH, state_OK, state_OR, state_PA, state_PR, state_SC, state_SD, state_TN, state_TX, state_VA, state_WA, state_WI, state_WV, state_WY]\n",
       "Index: []\n",
       "\n",
       "[0 rows x 56 columns]"
      ]
     },
     "execution_count": 60,
     "metadata": {},
     "output_type": "execute_result"
    }
   ],
   "source": [
    "df_for_model.filter(like='Hurricane', axis=0);"
   ]
  },
  {
   "cell_type": "markdown",
   "metadata": {},
   "source": [
    "### Build X, y"
   ]
  },
  {
   "cell_type": "markdown",
   "metadata": {},
   "source": [
    "After removing NaNs and dummyifing our dataset we're now ready to move forward with modeling. "
   ]
  },
  {
   "cell_type": "code",
   "execution_count": 61,
   "metadata": {},
   "outputs": [],
   "source": [
    "#Build our feature set and target set for model implementation\n",
    "X = df_for_model.drop(columns=['tot_approve_ihp_amt'])\n",
    "y= df_for_model['tot_approve_ihp_amt']"
   ]
  },
  {
   "cell_type": "markdown",
   "metadata": {},
   "source": [
    "### Train/Test Split"
   ]
  },
  {
   "cell_type": "markdown",
   "metadata": {},
   "source": [
    "We'll start by splitting our data into train and test datasets for validation."
   ]
  },
  {
   "cell_type": "code",
   "execution_count": 62,
   "metadata": {},
   "outputs": [],
   "source": [
    "#Train test split our data prior to implementation for validation\n",
    "X_train, X_test, y_train, y_test = train_test_split(X,\n",
    "                                                    y,\n",
    "                                                    test_size = .2,\n",
    "                                                    random_state = 42)"
   ]
  },
  {
   "cell_type": "markdown",
   "metadata": {},
   "source": [
    "### Scale"
   ]
  },
  {
   "cell_type": "markdown",
   "metadata": {},
   "source": [
    "Some of the features we are working with are on significantly different scales. Let's leverage Standard Scaler to adjust these prior to modeling."
   ]
  },
  {
   "cell_type": "code",
   "execution_count": 63,
   "metadata": {},
   "outputs": [],
   "source": [
    "#Scale both our train and test data sets\n",
    "X_train_sc = StandardScaler().fit_transform(X_train)\n",
    "X_test_sc = StandardScaler().fit_transform(X_test)"
   ]
  },
  {
   "cell_type": "markdown",
   "metadata": {},
   "source": [
    "### Build Models"
   ]
  },
  {
   "cell_type": "markdown",
   "metadata": {},
   "source": [
    "We'll inspet a number of different models to find the best candidate for us. This will include Linear Regression, KNN, Decision Tree Regressor, Bagged Regressor, RandomForest, and Adaboost."
   ]
  },
  {
   "cell_type": "code",
   "execution_count": 64,
   "metadata": {
    "scrolled": true
   },
   "outputs": [
    {
     "name": "stderr",
     "output_type": "stream",
     "text": [
      "C:\\Users\\Owen\\Anaconda3\\lib\\site-packages\\sklearn\\ensemble\\forest.py:245: FutureWarning: The default value of n_estimators will change from 10 in version 0.20 to 100 in 0.22.\n",
      "  \"10 in version 0.20 to 100 in 0.22.\", FutureWarning)\n"
     ]
    },
    {
     "data": {
      "text/plain": [
       "AdaBoostRegressor(base_estimator=None, learning_rate=1.0, loss='linear',\n",
       "                  n_estimators=50, random_state=None)"
      ]
     },
     "execution_count": 64,
     "metadata": {},
     "output_type": "execute_result"
    }
   ],
   "source": [
    "#Fit each individual model with our X_train data\n",
    "linear_reg = LinearRegression()\n",
    "linear_reg.fit(X_train, y_train)\n",
    "\n",
    "knn_reg = KNeighborsRegressor()\n",
    "knn_reg.fit(X_train, y_train)\n",
    "\n",
    "cart_reg = DecisionTreeRegressor()\n",
    "cart_reg.fit(X_train, y_train)\n",
    "\n",
    "bagged_reg = BaggingRegressor()\n",
    "bagged_reg.fit(X_train, y_train)\n",
    "\n",
    "random_forest_reg = RandomForestRegressor()\n",
    "random_forest_reg.fit(X_train, y_train)\n",
    "\n",
    "adaboost_reg = AdaBoostRegressor()\n",
    "adaboost_reg.fit(X_train, y_train)\n"
   ]
  },
  {
   "cell_type": "code",
   "execution_count": 102,
   "metadata": {},
   "outputs": [],
   "source": [
    "# #Assess the performance of each model against our train and test data sets\n",
    "display(linear_reg.score(X_train, y_train))\n",
    "display(linear_reg.score(X_test, y_test))"
   ]
  },
  {
   "cell_type": "code",
   "execution_count": 66,
   "metadata": {},
   "outputs": [
    {
     "data": {
      "text/plain": [
       "0.7913579925610728"
      ]
     },
     "metadata": {},
     "output_type": "display_data"
    },
    {
     "data": {
      "text/plain": [
       "0.8028835343547327"
      ]
     },
     "metadata": {},
     "output_type": "display_data"
    }
   ],
   "source": [
    "display(knn_reg.score(X_train, y_train))\n",
    "display(knn_reg.score(X_test, y_test))"
   ]
  },
  {
   "cell_type": "code",
   "execution_count": 67,
   "metadata": {},
   "outputs": [
    {
     "data": {
      "text/plain": [
       "0.9999978803192795"
      ]
     },
     "metadata": {},
     "output_type": "display_data"
    },
    {
     "data": {
      "text/plain": [
       "0.7808184316313138"
      ]
     },
     "metadata": {},
     "output_type": "display_data"
    }
   ],
   "source": [
    "display(cart_reg.score(X_train, y_train))\n",
    "display(cart_reg.score(X_test, y_test))"
   ]
  },
  {
   "cell_type": "code",
   "execution_count": 68,
   "metadata": {},
   "outputs": [
    {
     "data": {
      "text/plain": [
       "0.9580816067979474"
      ]
     },
     "metadata": {},
     "output_type": "display_data"
    },
    {
     "data": {
      "text/plain": [
       "0.7879097067979801"
      ]
     },
     "metadata": {},
     "output_type": "display_data"
    }
   ],
   "source": [
    "display(bagged_reg.score(X_train, y_train))\n",
    "display(bagged_reg.score(X_test, y_test))"
   ]
  },
  {
   "cell_type": "code",
   "execution_count": 69,
   "metadata": {},
   "outputs": [
    {
     "data": {
      "text/plain": [
       "0.9573579776012172"
      ]
     },
     "metadata": {},
     "output_type": "display_data"
    },
    {
     "data": {
      "text/plain": [
       "0.8109517058932907"
      ]
     },
     "metadata": {},
     "output_type": "display_data"
    }
   ],
   "source": [
    "display(random_forest_reg.score(X_train, y_train))\n",
    "display(random_forest_reg.score(X_test, y_test))"
   ]
  },
  {
   "cell_type": "code",
   "execution_count": 70,
   "metadata": {},
   "outputs": [
    {
     "data": {
      "text/plain": [
       "0.8201885990715966"
      ]
     },
     "metadata": {},
     "output_type": "display_data"
    },
    {
     "data": {
      "text/plain": [
       "0.8043038406013954"
      ]
     },
     "metadata": {},
     "output_type": "display_data"
    }
   ],
   "source": [
    "display(adaboost_reg.score(X_train, y_train))\n",
    "display(adaboost_reg.score(X_test, y_test))"
   ]
  },
  {
   "cell_type": "markdown",
   "metadata": {},
   "source": [
    "From the results of our model is appear that our Adaboost implementation is demonstrating a small amount of variance and a stable R^2 score. We'll move forward with this implementation and predict against the full data set."
   ]
  },
  {
   "cell_type": "code",
   "execution_count": 78,
   "metadata": {},
   "outputs": [],
   "source": [
    "#Use our model to predict against the full training data set so we can feed into Tableau\n",
    "preds = knn_reg.predict(X)"
   ]
  },
  {
   "cell_type": "code",
   "execution_count": 79,
   "metadata": {},
   "outputs": [
    {
     "data": {
      "image/png": "[encoded data removed]",
      "text/plain": [
       "<Figure size 648x432 with 1 Axes>"
      ]
     },
     "metadata": {
      "needs_background": "light"
     },
     "output_type": "display_data"
    }
   ],
   "source": [
    "#Build a graphic to asses our residuals\n",
    "plt.figure(figsize=(9,6))\n",
    "\n",
    "plt.scatter(preds, y, s=10, color='skyblue', alpha = 0.5)\n",
    "\n",
    "plt.plot([0, np.max(y)],\n",
    "         [0, np.max(y)],\n",
    "         color = 'red')\n",
    "plt.xlabel(\"Predicted Values: $\\hat{y}$\", fontsize = 20)\n",
    "plt.ylabel(\"Actual Values: $y$\", fontsize = 20)\n",
    "plt.title('Predicted Values vs. Actual Values', fontsize = 24);"
   ]
  },
  {
   "cell_type": "code",
   "execution_count": 74,
   "metadata": {},
   "outputs": [
    {
     "data": {
      "text/plain": [
       "(68731,)"
      ]
     },
     "execution_count": 74,
     "metadata": {},
     "output_type": "execute_result"
    }
   ],
   "source": [
    "#check the s\n",
    "preds.shape"
   ]
  },
  {
   "cell_type": "code",
   "execution_count": 80,
   "metadata": {
    "scrolled": true
   },
   "outputs": [],
   "source": [
    "#Feed our preds back into original data set\n",
    "df['predictions'] = preds"
   ]
  },
  {
   "cell_type": "code",
   "execution_count": 83,
   "metadata": {},
   "outputs": [],
   "source": [
    "df.to_csv('for_tableau.csv', index=False)"
   ]
  }
 ],
 "metadata": {
  "kernelspec": {
   "display_name": "Python 3",
   "language": "python",
   "name": "python3"
  },
  "language_info": {
   "codemirror_mode": {
    "name": "ipython",
    "version": 3
   },
   "file_extension": ".py",
   "mimetype": "text/x-python",
   "name": "python",
   "nbconvert_exporter": "python",
   "pygments_lexer": "ipython3",
   "version": "3.7.3"
  }
 },
 "nbformat": 4,
 "nbformat_minor": 2
}
