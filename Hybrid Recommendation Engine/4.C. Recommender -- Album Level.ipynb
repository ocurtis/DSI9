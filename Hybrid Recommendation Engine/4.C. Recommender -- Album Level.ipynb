{
 "cells": [
  {
   "cell_type": "markdown",
   "metadata": {},
   "source": [
    "# 4.C. Recommender -- Album Level"
   ]
  },
  {
   "cell_type": "markdown",
   "metadata": {},
   "source": [
    "We'll test out our album review recommendation engine in this notebook before incorporating into a hybrid approach in notebook **4D**. The code is replicated in the following notebook."
   ]
  },
  {
   "cell_type": "code",
   "execution_count": 1,
   "metadata": {},
   "outputs": [],
   "source": [
    "import pandas as pd\n",
    "from bs4 import BeautifulSoup\n",
    "import numpy as np\n",
    "import time\n",
    "import requests\n",
    "import seaborn as sns\n",
    "import warnings\n",
    "import matplotlib.pyplot as plt\n",
    "import lyricsgenius\n",
    "import re\n",
    "import sys\n",
    "import spotipy\n",
    "import spotipy.util as util\n",
    "from sklearn.compose import ColumnTransformer, make_column_transformer\n",
    "from pyjarowinkler import distance\n",
    "import nltk\n",
    "\n",
    "import pandas as pd\n",
    "from bs4 import BeautifulSoup\n",
    "import numpy as np\n",
    "import time\n",
    "import requests\n",
    "import seaborn as sns\n",
    "import warnings\n",
    "import matplotlib.pyplot as plt\n",
    "\n",
    "import nltk\n",
    "from nltk.stem import PorterStemmer\n",
    "from sklearn.model_selection import cross_val_score\n",
    "from sklearn.preprocessing import StandardScaler\n",
    "from sklearn.pipeline import Pipeline, FeatureUnion\n",
    "from sklearn.model_selection import train_test_split, GridSearchCV\n",
    "from sklearn.linear_model import LogisticRegression, LogisticRegressionCV\n",
    "from sklearn.neighbors import KNeighborsClassifier\n",
    "from sklearn.svm import SVC\n",
    "from sklearn.metrics import recall_score\n",
    "from sklearn.ensemble import RandomForestClassifier, BaggingClassifier, GradientBoostingClassifier, AdaBoostClassifier, VotingClassifier\n",
    "from sklearn.feature_extraction.text import CountVectorizer, TfidfVectorizer\n",
    "from sklearn.neighbors import KNeighborsClassifier\n",
    "from sklearn.naive_bayes import MultinomialNB, GaussianNB, BernoulliNB\n"
   ]
  },
  {
   "cell_type": "code",
   "execution_count": 2,
   "metadata": {},
   "outputs": [],
   "source": [
    "albums = pd.read_csv('./combining/albumdata/review_data_for_recommender.csv')"
   ]
  },
  {
   "cell_type": "code",
   "execution_count": 3,
   "metadata": {},
   "outputs": [],
   "source": [
    "albums = albums[albums.combined_reviews_clean.notnull()]"
   ]
  },
  {
   "cell_type": "code",
   "execution_count": 4,
   "metadata": {},
   "outputs": [],
   "source": [
    "albums = albums.reset_index()"
   ]
  },
  {
   "cell_type": "code",
   "execution_count": 5,
   "metadata": {},
   "outputs": [],
   "source": [
    "tfidf = TfidfVectorizer(\n",
    "    min_df = 2,\n",
    "    max_features = 1000,\n",
    "    ngram_range=(1, 2),\n",
    ")\n",
    "\n",
    "tfidf_matrix = tfidf.fit_transform(albums.combined_reviews_clean)"
   ]
  },
  {
   "cell_type": "code",
   "execution_count": 6,
   "metadata": {},
   "outputs": [],
   "source": [
    "from sklearn.metrics.pairwise import linear_kernel \n",
    "\n",
    "cosine_similarities = linear_kernel(tfidf_matrix, tfidf_matrix) \n",
    "results = {}\n",
    "for idx, row in albums.iterrows():\n",
    "    similar_indices = cosine_similarities[idx].argsort()[:-10:-1] \n",
    "    similar_items = [(cosine_similarities[idx][i], albums['artist_album_clean_key'][i]) for i in similar_indices] \n",
    "    results[row['artist_album_clean_key']] = similar_items[1:]"
   ]
  },
  {
   "cell_type": "code",
   "execution_count": 7,
   "metadata": {},
   "outputs": [],
   "source": [
    "def item(id):  \n",
    "    return albums.loc[albums['artist_album_clean_key'] == id]['artist_album_clean_key']\n",
    "# Just reads the results out of the dictionary.def \n",
    "def recommend(item_id, num):   \n",
    "    recs = results[item_id][:num]   \n",
    "    for rec in recs: \n",
    "        print(\"Recommended: \" + item(rec[1]) + \" (score:\" +      str(rec[0]) + \")\")"
   ]
  },
  {
   "cell_type": "code",
   "execution_count": 10,
   "metadata": {},
   "outputs": [
    {
     "data": {
      "text/html": [
       "<div>\n",
       "<style scoped>\n",
       "    .dataframe tbody tr th:only-of-type {\n",
       "        vertical-align: middle;\n",
       "    }\n",
       "\n",
       "    .dataframe tbody tr th {\n",
       "        vertical-align: top;\n",
       "    }\n",
       "\n",
       "    .dataframe thead th {\n",
       "        text-align: right;\n",
       "    }\n",
       "</style>\n",
       "<table border=\"1\" class=\"dataframe\">\n",
       "  <thead>\n",
       "    <tr style=\"text-align: right;\">\n",
       "      <th></th>\n",
       "      <th>index</th>\n",
       "      <th>artist_album_clean_key</th>\n",
       "      <th>artist</th>\n",
       "      <th>album</th>\n",
       "      <th>combined_reviews_clean</th>\n",
       "      <th>pitch_date</th>\n",
       "      <th>pitch_score</th>\n",
       "      <th>needle_score</th>\n",
       "    </tr>\n",
       "  </thead>\n",
       "  <tbody>\n",
       "    <tr>\n",
       "      <td>715</td>\n",
       "      <td>727</td>\n",
       "      <td>chance the rapper|acid rap</td>\n",
       "      <td>chance the rapper</td>\n",
       "      <td>acid rap</td>\n",
       "      <td>dont fooled title chance latest self released ...</td>\n",
       "      <td>2013</td>\n",
       "      <td>8.400000</td>\n",
       "      <td>6.000000</td>\n",
       "    </tr>\n",
       "    <tr>\n",
       "      <td>716</td>\n",
       "      <td>728</td>\n",
       "      <td>chance the rapper|coloring book</td>\n",
       "      <td>chance the rapper</td>\n",
       "      <td>coloring book</td>\n",
       "      <td>chance stranger attention mixtape stepping sto...</td>\n",
       "      <td>2016</td>\n",
       "      <td>9.100000</td>\n",
       "      <td>0.000000</td>\n",
       "    </tr>\n",
       "    <tr>\n",
       "      <td>717</td>\n",
       "      <td>729</td>\n",
       "      <td>chance the rapper|merry christmas lil mama</td>\n",
       "      <td>chance the rapper</td>\n",
       "      <td>merry christmas lil mama</td>\n",
       "      <td>chance performed moments everything snug safe ...</td>\n",
       "      <td>2016</td>\n",
       "      <td>8.100000</td>\n",
       "      <td>5.394723</td>\n",
       "    </tr>\n",
       "    <tr>\n",
       "      <td>718</td>\n",
       "      <td>730</td>\n",
       "      <td>chance the rapper|the big day</td>\n",
       "      <td>chance the rapper</td>\n",
       "      <td>the big day</td>\n",
       "      <td>chance sprawling minute exuberant often wonder...</td>\n",
       "      <td>2019</td>\n",
       "      <td>6.900000</td>\n",
       "      <td>0.000000</td>\n",
       "    </tr>\n",
       "    <tr>\n",
       "      <td>5360</td>\n",
       "      <td>5410</td>\n",
       "      <td>chance the rapper|10 day</td>\n",
       "      <td>chance the rapper</td>\n",
       "      <td>10 day</td>\n",
       "      <td>patrick first bust open chance rr chicago emce...</td>\n",
       "      <td>NaN</td>\n",
       "      <td>6.952916</td>\n",
       "      <td>5.394723</td>\n",
       "    </tr>\n",
       "  </tbody>\n",
       "</table>\n",
       "</div>"
      ],
      "text/plain": [
       "      index                      artist_album_clean_key             artist  \\\n",
       "715     727                  chance the rapper|acid rap  chance the rapper   \n",
       "716     728             chance the rapper|coloring book  chance the rapper   \n",
       "717     729  chance the rapper|merry christmas lil mama  chance the rapper   \n",
       "718     730               chance the rapper|the big day  chance the rapper   \n",
       "5360   5410                    chance the rapper|10 day  chance the rapper   \n",
       "\n",
       "                         album  \\\n",
       "715                   acid rap   \n",
       "716              coloring book   \n",
       "717   merry christmas lil mama   \n",
       "718                the big day   \n",
       "5360                    10 day   \n",
       "\n",
       "                                 combined_reviews_clean pitch_date  \\\n",
       "715   dont fooled title chance latest self released ...       2013   \n",
       "716   chance stranger attention mixtape stepping sto...       2016   \n",
       "717   chance performed moments everything snug safe ...       2016   \n",
       "718   chance sprawling minute exuberant often wonder...       2019   \n",
       "5360  patrick first bust open chance rr chicago emce...        NaN   \n",
       "\n",
       "      pitch_score  needle_score  \n",
       "715      8.400000      6.000000  \n",
       "716      9.100000      0.000000  \n",
       "717      8.100000      5.394723  \n",
       "718      6.900000      0.000000  \n",
       "5360     6.952916      5.394723  "
      ]
     },
     "execution_count": 10,
     "metadata": {},
     "output_type": "execute_result"
    }
   ],
   "source": [
    "albums[albums['artist'].str.contains('chance')]"
   ]
  },
  {
   "cell_type": "code",
   "execution_count": 18,
   "metadata": {},
   "outputs": [
    {
     "name": "stdout",
     "output_type": "stream",
     "text": [
      "718    Recommended: chance the rapper|the big day (sc...\n",
      "Name: artist_album_clean_key, dtype: object\n",
      "716    Recommended: chance the rapper|coloring book (...\n",
      "Name: artist_album_clean_key, dtype: object\n",
      "1179    Recommended: donnie trumpet and the social exp...\n",
      "Name: artist_album_clean_key, dtype: object\n",
      "6901    Recommended: jeru the damaja|divine design (sc...\n",
      "Name: artist_album_clean_key, dtype: object\n",
      "760    Recommended: childish gambino|because the inte...\n",
      "Name: artist_album_clean_key, dtype: object\n",
      "2507    Recommended: macklemore and ryan lewis|this un...\n",
      "Name: artist_album_clean_key, dtype: object\n",
      "2682    Recommended: mick jenkins|the water (score:0.4...\n",
      "Name: artist_album_clean_key, dtype: object\n",
      "541    Recommended: bobby womack|the bravest man in t...\n",
      "Name: artist_album_clean_key, dtype: object\n"
     ]
    }
   ],
   "source": [
    "recommend('chance the rapper|acid rap', 10)"
   ]
  },
  {
   "cell_type": "code",
   "execution_count": null,
   "metadata": {},
   "outputs": [],
   "source": []
  }
 ],
 "metadata": {
  "kernelspec": {
   "display_name": "Python 3",
   "language": "python",
   "name": "python3"
  },
  "language_info": {
   "codemirror_mode": {
    "name": "ipython",
    "version": 3
   },
   "file_extension": ".py",
   "mimetype": "text/x-python",
   "name": "python",
   "nbconvert_exporter": "python",
   "pygments_lexer": "ipython3",
   "version": "3.7.3"
  }
 },
 "nbformat": 4,
 "nbformat_minor": 2
}
