{
 "cells": [
  {
   "cell_type": "markdown",
   "metadata": {},
   "source": [
    "# 2.C. Cleaning and Engineering -- Reviews"
   ]
  },
  {
   "cell_type": "markdown",
   "metadata": {},
   "source": [
    "We'll take time in this notebook to clean our review text. While some additional work was done here as it relates to extracting adjectives from these reviews and leveraging said adjectives for review clustering, this was not leveraged for the final recommender. Please see the **(ARCHIVED)** section of this notebook if you are curious."
   ]
  },
  {
   "cell_type": "code",
   "execution_count": 1,
   "metadata": {},
   "outputs": [],
   "source": [
    "import pandas as pd\n",
    "from bs4 import BeautifulSoup\n",
    "import numpy as np\n",
    "import time\n",
    "import requests\n",
    "import seaborn as sns\n",
    "import warnings\n",
    "import matplotlib.pyplot as plt\n",
    "import lyricsgenius\n",
    "import re\n",
    "import sys\n",
    "import spotipy\n",
    "import spotipy.util as util\n",
    "from sklearn.compose import ColumnTransformer, make_column_transformer\n",
    "from pyjarowinkler import distance\n",
    "import nltk\n",
    "\n",
    "import pandas as pd\n",
    "from bs4 import BeautifulSoup\n",
    "import numpy as np\n",
    "import time\n",
    "import requests\n",
    "import seaborn as sns\n",
    "import warnings\n",
    "import matplotlib.pyplot as plt\n",
    "\n",
    "import nltk\n",
    "from nltk.stem import PorterStemmer\n",
    "from sklearn.model_selection import cross_val_score\n",
    "\n",
    "from sklearn.pipeline import Pipeline, FeatureUnion\n",
    "from sklearn.model_selection import train_test_split, GridSearchCV\n",
    "from sklearn.linear_model import LogisticRegression, LogisticRegressionCV\n",
    "from sklearn.neighbors import KNeighborsClassifier\n",
    "from sklearn.svm import SVC\n",
    "from sklearn.metrics import recall_score\n",
    "from sklearn.ensemble import RandomForestClassifier, BaggingClassifier, GradientBoostingClassifier, AdaBoostClassifier, VotingClassifier\n",
    "from sklearn.feature_extraction.text import CountVectorizer, TfidfVectorizer\n",
    "from sklearn.neighbors import KNeighborsClassifier\n",
    "from sklearn.naive_bayes import MultinomialNB, GaussianNB, BernoulliNB\n",
    "from gensim import corpora, models\n",
    "\n"
   ]
  },
  {
   "cell_type": "code",
   "execution_count": 2,
   "metadata": {},
   "outputs": [],
   "source": [
    "review_df = pd.read_csv('./combining/albumdata/allreviews_concat.csv')"
   ]
  },
  {
   "cell_type": "code",
   "execution_count": 3,
   "metadata": {},
   "outputs": [
    {
     "data": {
      "text/plain": [
       "Index(['artist_album_clean_key', 'artist', 'album', 'rr_review',\n",
       "       'pitch_review', 'needle_review', 'combined_reviews', 'pitch_score',\n",
       "       'pitch_date', 'needle_score'],\n",
       "      dtype='object')"
      ]
     },
     "execution_count": 3,
     "metadata": {},
     "output_type": "execute_result"
    }
   ],
   "source": [
    "review_df.columns"
   ]
  },
  {
   "cell_type": "code",
   "execution_count": 4,
   "metadata": {},
   "outputs": [],
   "source": [
    "review_df = review_df[review_df['combined_reviews'].str.contains(' rap ')]"
   ]
  },
  {
   "cell_type": "markdown",
   "metadata": {},
   "source": [
    "### Cleaning"
   ]
  },
  {
   "cell_type": "code",
   "execution_count": 5,
   "metadata": {},
   "outputs": [],
   "source": [
    "#filter out stopwords, filtering out financial lexicon (?)\n",
    "from nltk.corpus import stopwords\n",
    "stop = stopwords.words('english')\n",
    "custom_words = ['hi', 'hey', 'anthony', 'fantano', 'I', 'i', 'my', 'me', 'am', 'im', 'hiphop', 'hop', 'hip', 'lyrics', 'rap', 'rapping', 'rapper']"
   ]
  },
  {
   "cell_type": "code",
   "execution_count": 6,
   "metadata": {},
   "outputs": [],
   "source": [
    "def decontracted(phrase):\n",
    "    # specific\n",
    "    phrase = re.sub(r\"won\\'t\", \"will not\", phrase)\n",
    "    phrase = re.sub(r\"can\\'t\", \"can not\", phrase)\n",
    "\n",
    "    # general\n",
    "    phrase = re.sub(r\"isn\\'t\", \"is not\", phrase)\n",
    "    phrase = re.sub(r\"ain\\'t\", \"is not\", phrase)\n",
    "    phrase = re.sub(r\"n\\'t\", \" not\", phrase)\n",
    "    phrase = re.sub(r\"\\'re\", \" are\", phrase)\n",
    "    phrase = re.sub(r\"\\'s\", \" is\", phrase)\n",
    "    phrase = re.sub(r\"\\'d\", \" would\", phrase)\n",
    "    phrase = re.sub(r\"\\'ll\", \" will\", phrase)\n",
    "    phrase = re.sub(r\"\\'t\", \" not\", phrase)\n",
    "    phrase = re.sub(r\"\\'ve\", \" have\", phrase)\n",
    "    phrase = re.sub(\"in' \" , 'ing ', phrase)\n",
    "    phrase = re.sub(\" tha \" , ' the ', phrase)\n",
    "    phrase = re.sub(\" da \" , ' the ', phrase)\n",
    "    phrase = re.sub(\" dat \" , ' that ', phrase)\n",
    "    phrase = re.sub(\"in’ \" , 'ing ', phrase)\n",
    "    phrase = re.sub(r\"\\'m\", \" am\", phrase)\n",
    "    return phrase"
   ]
  },
  {
   "cell_type": "code",
   "execution_count": 7,
   "metadata": {},
   "outputs": [],
   "source": [
    "#Remove quotes of lyrics\n",
    "review_df['combined_reviews_clean'] = review_df['combined_reviews'].str.replace('\".*\"',\" \")\n",
    "review_df['combined_reviews_clean'] = review_df['combined_reviews_clean'].str.replace('“.*”',\" \")\n",
    "\n",
    "#remove everything with quotes, remove new lines\n",
    "\n",
    "review_df['combined_reviews_clean'] = review_df['combined_reviews_clean'].apply(lambda x: ' '.join([word for word in x.split() if word not in (custom_words)]))['combined_reviews_clean'] = review_df['combined_reviews_clean'].str.replace('|', '')\n",
    "review_df['combined_reviews_clean'] = review_df['combined_reviews_clean'].str.replace('\\n', ' ')\n",
    "review_df['combined_reviews_clean'] = review_df['combined_reviews_clean'].str.replace('[^a-zA-Z ]+', ' ')\n",
    "review_df['combined_reviews_clean'] = review_df['combined_reviews_clean'].str.replace('([ ]{2,})', ' ', regex = True)\n",
    "review_df['combined_reviews_clean'] = review_df['combined_reviews_clean'].str.lower()\n",
    "review_df['combined_reviews_clean'] = review_df['combined_reviews_clean'].apply(decontracted)"
   ]
  },
  {
   "cell_type": "code",
   "execution_count": 8,
   "metadata": {},
   "outputs": [],
   "source": [
    "artist_strip = list(review_df.artist.unique())"
   ]
  },
  {
   "cell_type": "code",
   "execution_count": 9,
   "metadata": {},
   "outputs": [],
   "source": [
    "review_df['combined_reviews_clean'] = review_df['combined_reviews_clean'].apply(lambda x: ' '.join([word for word in x.split() if word not in (stop)]))\n",
    "review_df['combined_reviews_clean'] = review_df['combined_reviews_clean'].apply(lambda x: ' '.join([word for word in x.split() if word not in (custom_words)]))"
   ]
  },
  {
   "cell_type": "code",
   "execution_count": 10,
   "metadata": {},
   "outputs": [],
   "source": [
    "review_df['pitch_score'].fillna(review_df['pitch_score'].dropna().mean(), inplace=True)\n",
    "review_df['needle_score'].fillna(review_df['needle_score'].dropna().mean(), inplace=True)"
   ]
  },
  {
   "cell_type": "code",
   "execution_count": 32,
   "metadata": {},
   "outputs": [],
   "source": [
    "review_df[['artist_album_clean_key', 'artist', 'album', 'combined_reviews_clean', 'pitch_date', 'pitch_score', 'needle_score']].to_csv('./combining/albumdata/review_data_for_recommender.csv', index=False)"
   ]
  },
  {
   "cell_type": "markdown",
   "metadata": {},
   "source": [
    "## (ARCHIVED) Grabbing Adjectives"
   ]
  },
  {
   "cell_type": "code",
   "execution_count": 938,
   "metadata": {},
   "outputs": [],
   "source": [
    "import spacy\n",
    "from spacy import displacy\n",
    "from collections import Counter\n",
    "from spacy.lang.en.examples import sentences \n",
    "import en_core_web_sm#### Irrelevant Words"
   ]
  },
  {
   "cell_type": "code",
   "execution_count": 939,
   "metadata": {},
   "outputs": [],
   "source": [
    "nlp = en_core_web_sm.load()"
   ]
  },
  {
   "cell_type": "code",
   "execution_count": 991,
   "metadata": {},
   "outputs": [],
   "source": [
    "ex = \" \".join(review_df['combined_reviews'][30:34])"
   ]
  },
  {
   "cell_type": "code",
   "execution_count": 1042,
   "metadata": {},
   "outputs": [
    {
     "data": {
      "text/html": [
       "<div>\n",
       "<style scoped>\n",
       "    .dataframe tbody tr th:only-of-type {\n",
       "        vertical-align: middle;\n",
       "    }\n",
       "\n",
       "    .dataframe tbody tr th {\n",
       "        vertical-align: top;\n",
       "    }\n",
       "\n",
       "    .dataframe thead th {\n",
       "        text-align: right;\n",
       "    }\n",
       "</style>\n",
       "<table border=\"1\" class=\"dataframe\">\n",
       "  <thead>\n",
       "    <tr style=\"text-align: right;\">\n",
       "      <th></th>\n",
       "      <th>artist_album_clean_key</th>\n",
       "      <th>artist</th>\n",
       "      <th>album</th>\n",
       "      <th>rr_review</th>\n",
       "      <th>pitch_review</th>\n",
       "      <th>needle_review</th>\n",
       "      <th>combined_reviews</th>\n",
       "      <th>pitch_score</th>\n",
       "      <th>pitch_date</th>\n",
       "      <th>needle_score</th>\n",
       "      <th>combined_reviews_clean</th>\n",
       "    </tr>\n",
       "  </thead>\n",
       "  <tbody>\n",
       "    <tr>\n",
       "      <td>43</td>\n",
       "      <td>a boogie wit da hoodie|hoodie szn</td>\n",
       "      <td>a boogie wit da hoodie</td>\n",
       "      <td>hoodie szn</td>\n",
       "      <td>NaN</td>\n",
       "      <td>Despite the typical bloated-album problems lik...</td>\n",
       "      <td>NaN</td>\n",
       "      <td>|Despite the typical bloated-album problems li...</td>\n",
       "      <td>6.8</td>\n",
       "      <td>2018</td>\n",
       "      <td>NaN</td>\n",
       "      <td>despite typical bloated album problems like pa...</td>\n",
       "    </tr>\n",
       "    <tr>\n",
       "      <td>44</td>\n",
       "      <td>a boogie wit da hoodie|international artist</td>\n",
       "      <td>a boogie wit da hoodie</td>\n",
       "      <td>international artist</td>\n",
       "      <td>NaN</td>\n",
       "      <td>The latest project from the Bronx rapper enlis...</td>\n",
       "      <td>NaN</td>\n",
       "      <td>|The latest project from the Bronx rapper enli...</td>\n",
       "      <td>6.3</td>\n",
       "      <td>2018</td>\n",
       "      <td>NaN</td>\n",
       "      <td>latest project bronx enlists musicians across ...</td>\n",
       "    </tr>\n",
       "  </tbody>\n",
       "</table>\n",
       "</div>"
      ],
      "text/plain": [
       "                         artist_album_clean_key                  artist  \\\n",
       "43            a boogie wit da hoodie|hoodie szn  a boogie wit da hoodie   \n",
       "44  a boogie wit da hoodie|international artist  a boogie wit da hoodie   \n",
       "\n",
       "                   album rr_review  \\\n",
       "43            hoodie szn       NaN   \n",
       "44  international artist       NaN   \n",
       "\n",
       "                                         pitch_review needle_review  \\\n",
       "43  Despite the typical bloated-album problems lik...           NaN   \n",
       "44  The latest project from the Bronx rapper enlis...           NaN   \n",
       "\n",
       "                                     combined_reviews  pitch_score pitch_date  \\\n",
       "43  |Despite the typical bloated-album problems li...          6.8       2018   \n",
       "44  |The latest project from the Bronx rapper enli...          6.3       2018   \n",
       "\n",
       "    needle_score                             combined_reviews_clean  \n",
       "43           NaN  despite typical bloated album problems like pa...  \n",
       "44           NaN  latest project bronx enlists musicians across ...  "
      ]
     },
     "execution_count": 1042,
     "metadata": {},
     "output_type": "execute_result"
    }
   ],
   "source": [
    "review_df.iloc[43:45]"
   ]
  },
  {
   "cell_type": "code",
   "execution_count": 1014,
   "metadata": {},
   "outputs": [],
   "source": [
    "nlp = en_core_web_sm.load()\n",
    "doc = nlp(ex)\n",
    "results = [(X.text, X.label_) for X in doc.ents]"
   ]
  },
  {
   "cell_type": "code",
   "execution_count": 171,
   "metadata": {},
   "outputs": [],
   "source": [
    "from textblob import TextBlob\n",
    "import random\n",
    "import sys"
   ]
  },
  {
   "cell_type": "code",
   "execution_count": 318,
   "metadata": {},
   "outputs": [],
   "source": [
    "blob = TextBlob(ex)"
   ]
  },
  {
   "cell_type": "code",
   "execution_count": 300,
   "metadata": {},
   "outputs": [],
   "source": [
    "def syllable_count(word):\n",
    "    word = word.lower()\n",
    "    count = 0\n",
    "    vowels = \"aeiouy\"\n",
    "    if word[0] in vowels:\n",
    "        count += 1\n",
    "    for index in range(1, len(word)):\n",
    "        if word[index] in vowels and word[index - 1] not in vowels:\n",
    "            count += 1\n",
    "    if word.endswith(\"e\"):\n",
    "        count -= 1\n",
    "    if count == 0:\n",
    "        count += 1\n",
    "    return count"
   ]
  },
  {
   "cell_type": "code",
   "execution_count": 335,
   "metadata": {},
   "outputs": [],
   "source": [
    "def adjectives(review):\n",
    "    \n",
    "    blob = TextBlob(review)\n",
    "    adj_for_artist = []\n",
    "    \n",
    "    for word, pos in blob.tags:\n",
    "        if((pos =='JJ') & (syllable_count(word) > 2)):\n",
    "            adj_for_artist.append(word)\n",
    "            \n",
    "    return(\",\".join(adj_for_artist))\n"
   ]
  },
  {
   "cell_type": "code",
   "execution_count": 371,
   "metadata": {},
   "outputs": [],
   "source": [
    "review_df['adjectives'] = review_df['combined_reviews_clean'].apply(adjectives)"
   ]
  },
  {
   "cell_type": "code",
   "execution_count": 413,
   "metadata": {},
   "outputs": [],
   "source": [
    "# counter = 0\n",
    "# for word, pos in blob.tags:\n",
    "#         counter += 1\n",
    "#             print(word)\n",
    "#             print(counter)"
   ]
  },
  {
   "cell_type": "code",
   "execution_count": 1016,
   "metadata": {},
   "outputs": [],
   "source": [
    "blob = TextBlob(\" \".join(review_df['combined_reviews_clean'][30:34]))\n",
    "adj_for_artist = []\n",
    "\n",
    "counter = 0   \n",
    "for word, pos in blob.tags:\n",
    "    counter+=1\n",
    "    if((pos =='NN') & (syllable_count(word) > 1)):\n",
    "        for word_search, pos_search in blob.tags[counter-10:counter+10]:\n",
    "            if((word_search == 'album') | (word_search == 'artist')):\n",
    "                adj_for_artist.append(word)"
   ]
  },
  {
   "cell_type": "code",
   "execution_count": 1017,
   "metadata": {},
   "outputs": [
    {
     "data": {
      "text/plain": [
       "['amorality',\n",
       " 'money',\n",
       " 'something',\n",
       " 'concept',\n",
       " 'album',\n",
       " 'landscape',\n",
       " 'opposition',\n",
       " 'fearless',\n",
       " 'graduation',\n",
       " 'album',\n",
       " 'blatant',\n",
       " 'rehash',\n",
       " 'bottom',\n",
       " 'sequel',\n",
       " 'audience',\n",
       " 'duration',\n",
       " 'dexterity',\n",
       " 'interest',\n",
       " 'album',\n",
       " 'misstep',\n",
       " 'album',\n",
       " 'album',\n",
       " 'evidence',\n",
       " 'evidence',\n",
       " 'possession',\n",
       " 'possession',\n",
       " 'album',\n",
       " 'album',\n",
       " 'persona',\n",
       " 'album',\n",
       " 'anticipation',\n",
       " 'jadakiss',\n",
       " 'release',\n",
       " 'album']"
      ]
     },
     "execution_count": 1017,
     "metadata": {},
     "output_type": "execute_result"
    }
   ],
   "source": [
    "adj_for_artist"
   ]
  },
  {
   "cell_type": "code",
   "execution_count": 996,
   "metadata": {},
   "outputs": [
    {
     "data": {
      "text/plain": [
       "'musical,machiavellian,entertaining,practical,revisionist,fearlessness,connecticut,impressive,intoxicate,clinical,argument,transactional,allegory,remorseless,repetitive,machiavellian,auxiliary,amusing,vulnerable,underperformed,transparent,personal,approachable,inelegant,primitive,dynamic,indelible,original,bountiful,instrumental,reflective,useless,dangerous,conspicuous,several,reclusive,pathetic,insular,derrideian,derrideian,feminist,dominant,unquenchable,narrative,political,misogynistic,destructive,bravado,charisma,excellent,imagery,necessary,inhabited,mechanical,paralyzed,visceral,addictive,experimental,irresistible,infectious,elusive,prerequisite,potential,godfatherish,invigorate,ironic,documentary,gigantic,narrative,valentine,powerful'"
      ]
     },
     "execution_count": 996,
     "metadata": {},
     "output_type": "execute_result"
    }
   ],
   "source": [
    "adjectives(\" \".join(review_df['combined_reviews_clean'][30:34]))"
   ]
  },
  {
   "cell_type": "code",
   "execution_count": 862,
   "metadata": {},
   "outputs": [
    {
     "data": {
      "text/plain": [
       "['album', 'final', 'relatable']"
      ]
     },
     "execution_count": 862,
     "metadata": {},
     "output_type": "execute_result"
    }
   ],
   "source": [
    "adj_for_artist"
   ]
  },
  {
   "cell_type": "code",
   "execution_count": 758,
   "metadata": {},
   "outputs": [
    {
     "data": {
      "text/plain": [
       "[('the', 'DT'),\n",
       " ('last', 'JJ'),\n",
       " ('chainz', 'NN'),\n",
       " ('album', 'NN'),\n",
       " ('was', 'VBD'),\n",
       " ('so', 'RB'),\n",
       " ('bad', 'JJ'),\n",
       " ('it', 'PRP'),\n",
       " ('had', 'VBD'),\n",
       " ('people', 'NNS'),\n",
       " ('questioning', 'VBG'),\n",
       " ('whether', 'IN'),\n",
       " ('english', 'NN'),\n",
       " ('was', 'VBD'),\n",
       " ('his', 'PRP$'),\n",
       " ('first', 'JJ'),\n",
       " ('language', 'NN'),\n",
       " ('as', 'IN'),\n",
       " ('i', 'JJ'),\n",
       " ('wrote', 'VBD'),\n",
       " ('possibly', 'RB'),\n",
       " ('the', 'DT'),\n",
       " ('harshest', 'JJS'),\n",
       " ('review', 'NN'),\n",
       " ('of', 'IN'),\n",
       " ('all', 'DT'),\n",
       " ('slicing', 'VBG'),\n",
       " ('it', 'PRP'),\n",
       " ('to', 'TO'),\n",
       " ('shreds', 'VB'),\n",
       " ('with', 'IN'),\n",
       " ('my', 'PRP$'),\n",
       " ('chainzaw', 'NN'),\n",
       " ('it', 'PRP'),\n",
       " ('delights', 'VBZ'),\n",
       " ('me', 'PRP'),\n",
       " ('to', 'TO'),\n",
       " ('say', 'VB'),\n",
       " ('that', 'IN'),\n",
       " ('his', 'PRP$'),\n",
       " ('follow', 'NN'),\n",
       " ('up', 'RB'),\n",
       " ('is', 'VBZ'),\n",
       " ('much', 'RB'),\n",
       " ('much', 'JJ'),\n",
       " ('better', 'JJR'),\n",
       " ('b', 'NN'),\n",
       " ('o', 'IN'),\n",
       " ('a', 'DT'),\n",
       " ('t', 'NN'),\n",
       " ('s', 'NN'),\n",
       " ('ii', 'NN'),\n",
       " ('is', 'VBZ'),\n",
       " ('an', 'DT'),\n",
       " ('album', 'NN'),\n",
       " ('that', 'WDT'),\n",
       " ('feels', 'VBZ'),\n",
       " ('happy', 'JJ'),\n",
       " ('just', 'RB'),\n",
       " ('to', 'TO'),\n",
       " ('exist', 'VB'),\n",
       " ('a', 'DT'),\n",
       " ('rejection', 'NN'),\n",
       " ('of', 'IN'),\n",
       " ('the', 'DT'),\n",
       " ('modern', 'JJ'),\n",
       " ('idea', 'NN'),\n",
       " ('that', 'WDT'),\n",
       " ('album', 'NN'),\n",
       " ('releases', 'NNS'),\n",
       " ('are', 'VBP'),\n",
       " ('serious', 'JJ'),\n",
       " ('events', 'NNS'),\n",
       " ('and', 'CC'),\n",
       " ('all', 'PDT'),\n",
       " ('the', 'DT'),\n",
       " ('tracks', 'NNS'),\n",
       " ('that', 'WDT'),\n",
       " ('sound', 'VBP'),\n",
       " ('like', 'IN'),\n",
       " ('they', 'PRP'),\n",
       " ('were', 'VBD'),\n",
       " ('fun', 'NN'),\n",
       " ('to', 'TO'),\n",
       " ('make', 'VB'),\n",
       " ('get', 'NN'),\n",
       " ('relegated', 'VBN'),\n",
       " ('to', 'TO'),\n",
       " ('bonus', 'VB'),\n",
       " ('cuts', 'NNS'),\n",
       " ('or', 'CC'),\n",
       " ('mixtapes', 'VBZ'),\n",
       " ('the', 'DT'),\n",
       " ('belief', 'NN'),\n",
       " ('in', 'IN'),\n",
       " ('the', 'DT'),\n",
       " ('album', 'NN'),\n",
       " ('as', 'IN'),\n",
       " ('an', 'DT'),\n",
       " ('entertaining', 'JJ'),\n",
       " ('product', 'NN'),\n",
       " ('is', 'VBZ'),\n",
       " ('similarly', 'RB'),\n",
       " ('captured', 'VBN'),\n",
       " ('by', 'IN'),\n",
       " ('the', 'DT'),\n",
       " ('decision', 'NN'),\n",
       " ('to', 'TO'),\n",
       " ('include', 'VB'),\n",
       " ('a', 'DT'),\n",
       " ('cookbook', 'NN'),\n",
       " ('of', 'IN'),\n",
       " ('chainz', 'NN'),\n",
       " ('s', 'NN'),\n",
       " ('favorite', 'JJ'),\n",
       " ('tour', 'NN'),\n",
       " ('recipes', 'NNS'),\n",
       " ('with', 'IN'),\n",
       " ('the', 'DT'),\n",
       " ('deluxe', 'JJ'),\n",
       " ('edition', 'NN'),\n",
       " ('chainz', 'NN'),\n",
       " ('entertains', 'VBZ'),\n",
       " ('us', 'PRP'),\n",
       " ('because', 'IN'),\n",
       " ('he', 'PRP'),\n",
       " ('understands', 'VBZ'),\n",
       " ('the', 'DT'),\n",
       " ('wackiness', 'NN'),\n",
       " ('of', 'IN'),\n",
       " ('what', 'WP'),\n",
       " ('he', 'PRP'),\n",
       " ('s', 'VBD'),\n",
       " ('doing', 'VBG'),\n",
       " ('and', 'CC'),\n",
       " ('he', 'PRP'),\n",
       " ('performs', 'VBZ'),\n",
       " ('with', 'IN'),\n",
       " ('a', 'DT'),\n",
       " ('wink', 'NN'),\n",
       " ('he', 'PRP'),\n",
       " ('s', 'VBZ'),\n",
       " ('a', 'DT'),\n",
       " ('unique', 'JJ'),\n",
       " ('form', 'NN'),\n",
       " ('of', 'IN'),\n",
       " ('the', 'DT'),\n",
       " ('american', 'JJ'),\n",
       " ('dream', 'NN'),\n",
       " ('the', 'DT'),\n",
       " ('tru', 'JJ'),\n",
       " ('story', 'NN'),\n",
       " ('of', 'IN'),\n",
       " ('the', 'DT'),\n",
       " ('guy', 'NN'),\n",
       " ('who', 'WP'),\n",
       " ('worked', 'VBD'),\n",
       " ('hard', 'JJ'),\n",
       " ('and', 'CC'),\n",
       " ('after', 'IN'),\n",
       " ('a', 'DT'),\n",
       " ('long', 'JJ'),\n",
       " ('career', 'NN'),\n",
       " ('that', 'WDT'),\n",
       " ('could', 'MD'),\n",
       " ('leave', 'VB'),\n",
       " ('anyone', 'NN'),\n",
       " ('jaded', 'VBD'),\n",
       " ('emerged', 'VBN'),\n",
       " ('successful', 'JJ'),\n",
       " ('and', 'CC'),\n",
       " ('seemingly', 'RB'),\n",
       " ('less', 'RBR'),\n",
       " ('jaded', 'JJ'),\n",
       " ('than', 'IN'),\n",
       " ('ever', 'RB')]"
      ]
     },
     "execution_count": 758,
     "metadata": {},
     "output_type": "execute_result"
    }
   ],
   "source": [
    "blob.tags"
   ]
  },
  {
   "cell_type": "markdown",
   "metadata": {},
   "source": [
    "# (Archived) -- Adjective Clustering"
   ]
  },
  {
   "cell_type": "markdown",
   "metadata": {},
   "source": [
    "### Trying a Model"
   ]
  },
  {
   "cell_type": "code",
   "execution_count": 642,
   "metadata": {},
   "outputs": [],
   "source": [
    "vectorizer = CountVectorizer(analyzer = \"word\",\n",
    "                             tokenizer = None,\n",
    "                             preprocessor = None,\n",
    "                             stop_words = None,\n",
    "                             max_features = 5000,\n",
    "                             min_df = 5,\n",
    "                             max_df = 0.30,) "
   ]
  },
  {
   "cell_type": "markdown",
   "metadata": {},
   "source": [
    "### Cvec"
   ]
  },
  {
   "cell_type": "code",
   "execution_count": 643,
   "metadata": {},
   "outputs": [],
   "source": [
    "cvec = vectorizer.fit(review_df['adjectives'].str.replace(\",\", \" \"))"
   ]
  },
  {
   "cell_type": "code",
   "execution_count": 644,
   "metadata": {},
   "outputs": [],
   "source": [
    "feature_names = cvec.get_feature_names()"
   ]
  },
  {
   "cell_type": "code",
   "execution_count": 645,
   "metadata": {},
   "outputs": [],
   "source": [
    "bag_of_words = cvec.transform(review_df['adjectives'].str.replace(\",\", \" \"))"
   ]
  },
  {
   "cell_type": "code",
   "execution_count": 646,
   "metadata": {},
   "outputs": [],
   "source": [
    "df_bag_of_words = pd.DataFrame(bag_of_words.todense(), columns=feature_names)"
   ]
  },
  {
   "cell_type": "code",
   "execution_count": 404,
   "metadata": {},
   "outputs": [],
   "source": [
    "review_df_for_bow = review_df.copy()"
   ]
  },
  {
   "cell_type": "code",
   "execution_count": 405,
   "metadata": {},
   "outputs": [],
   "source": [
    "review_df_for_bow = review_df_for_bow.reset_index()"
   ]
  },
  {
   "cell_type": "code",
   "execution_count": 623,
   "metadata": {
    "scrolled": true
   },
   "outputs": [
    {
     "data": {
      "text/plain": [
       "(3427, 4343)"
      ]
     },
     "execution_count": 623,
     "metadata": {},
     "output_type": "execute_result"
    }
   ],
   "source": [
    "df_bag_of_words.shape"
   ]
  },
  {
   "cell_type": "code",
   "execution_count": 621,
   "metadata": {},
   "outputs": [],
   "source": [
    "bow_df = pd.concat([review_df[['artist', 'album']],df_bag_of_words], axis=1)"
   ]
  },
  {
   "cell_type": "markdown",
   "metadata": {},
   "source": [
    "### Tfidf --> Clustering"
   ]
  },
  {
   "cell_type": "code",
   "execution_count": 838,
   "metadata": {},
   "outputs": [],
   "source": [
    "tfidf = TfidfVectorizer(\n",
    "    min_df = 6,\n",
    "    max_features = 2000,\n",
    "    stop_words = 'english'\n",
    ")\n",
    "tfidf.fit(review_df['adjectives'].str.replace(\",\", \" \"))\n",
    "text = tfidf.transform(review_df['adjectives'].str.replace(\",\", \" \"))"
   ]
  },
  {
   "cell_type": "code",
   "execution_count": 839,
   "metadata": {},
   "outputs": [
    {
     "data": {
      "text/plain": [
       "(3427, 947)"
      ]
     },
     "execution_count": 839,
     "metadata": {},
     "output_type": "execute_result"
    }
   ],
   "source": [
    "text.shape"
   ]
  },
  {
   "cell_type": "markdown",
   "metadata": {},
   "source": [
    "### PCA --> Clustering"
   ]
  },
  {
   "cell_type": "code",
   "execution_count": 840,
   "metadata": {},
   "outputs": [],
   "source": [
    "from sklearn.decomposition import PCA\n",
    "from sklearn.preprocessing import StandardScaler\n",
    "\n",
    "\n",
    "X = text.todense()\n",
    "ss = StandardScaler()\n",
    "\n",
    "X_sc = ss.fit_transform(X)\n",
    "\n",
    "pca = PCA(n_components=2)\n",
    "pca.fit(X_sc)\n",
    "X_pca = pca.transform(X_sc)\n",
    "\n",
    "### Trying a Model\n"
   ]
  },
  {
   "cell_type": "code",
   "execution_count": 841,
   "metadata": {},
   "outputs": [
    {
     "name": "stdout",
     "output_type": "stream",
     "text": [
      "[[ 1.35087618  8.8912173 ]\n",
      " [ 1.58479604  6.07862445]\n",
      " [-1.05730108 -0.99342583]\n",
      " ...\n",
      " [-1.90239126 -0.61040876]\n",
      " [-0.87862814 -0.97312802]\n",
      " [-0.65923634 -2.40477904]]\n",
      "3427\n"
     ]
    }
   ],
   "source": [
    "print(X_pca)\n",
    "print(len(X_pca))"
   ]
  },
  {
   "cell_type": "code",
   "execution_count": 842,
   "metadata": {},
   "outputs": [],
   "source": [
    "from sklearn.cluster import KMeans, DBSCAN"
   ]
  },
  {
   "cell_type": "code",
   "execution_count": 848,
   "metadata": {},
   "outputs": [],
   "source": [
    "dbscan = DBSCAN(eps=2.3, min_samples=100)\n",
    "dbscan.fit(X_pca);"
   ]
  },
  {
   "cell_type": "code",
   "execution_count": 849,
   "metadata": {},
   "outputs": [
    {
     "data": {
      "image/png": "[encoded data removed]",
      "text/plain": [
       "<Figure size 720x720 with 1 Axes>"
      ]
     },
     "metadata": {
      "needs_background": "light"
     },
     "output_type": "display_data"
    }
   ],
   "source": [
    "plt.figure(figsize=(10,10))\n",
    "plt.suptitle('PCA features colored by class; grey circles show the k-means centers');\n",
    "plt.scatter(X_pca[:, 0], X_pca[:, 1], c=dbscan.labels_, s=50, cmap='jet');\n"
   ]
  },
  {
   "cell_type": "code",
   "execution_count": 850,
   "metadata": {},
   "outputs": [
    {
     "data": {
      "text/plain": [
       "0.2906368062967391"
      ]
     },
     "execution_count": 850,
     "metadata": {},
     "output_type": "execute_result"
    }
   ],
   "source": [
    "silhouette_score(X_sc, dbscan.labels_)"
   ]
  },
  {
   "cell_type": "code",
   "execution_count": 846,
   "metadata": {},
   "outputs": [
    {
     "data": {
      "image/png": "[encoded data removed]",
      "text/plain": [
       "<Figure size 720x720 with 1 Axes>"
      ]
     },
     "metadata": {
      "needs_background": "light"
     },
     "output_type": "display_data"
    }
   ],
   "source": [
    "km_model = KMeans(n_clusters=3, max_iter=100, n_init=2, random_state=0)\n",
    "\n",
    "# K-means (from number of features in input matrix to n_clusters)\n",
    "km_model.fit(X_pca)\n",
    "df_centers = pd.DataFrame(km_model.cluster_centers_, columns=['x', 'y'])\n",
    "\n",
    "plt.figure(figsize=(10,10))\n",
    "plt.suptitle('PCA features colored by class; grey circles show the k-means centers')\n",
    "plt.scatter(X_pca[:, 0], X_pca[:, 1], c=km_model.labels_, s=50, cmap='jet')\n",
    "plt.scatter(df_centers['x'], df_centers['y'], c='grey', s=500, alpha=0.2);\n"
   ]
  },
  {
   "cell_type": "code",
   "execution_count": 847,
   "metadata": {},
   "outputs": [
    {
     "data": {
      "text/plain": [
       "0.14362381325521464"
      ]
     },
     "execution_count": 847,
     "metadata": {},
     "output_type": "execute_result"
    }
   ],
   "source": [
    "silhouette_score(X_sc, km_model.labels_)"
   ]
  },
  {
   "cell_type": "code",
   "execution_count": 714,
   "metadata": {},
   "outputs": [
    {
     "data": {
      "text/html": [
       "<div>\n",
       "<style scoped>\n",
       "    .dataframe tbody tr th:only-of-type {\n",
       "        vertical-align: middle;\n",
       "    }\n",
       "\n",
       "    .dataframe tbody tr th {\n",
       "        vertical-align: top;\n",
       "    }\n",
       "\n",
       "    .dataframe thead th {\n",
       "        text-align: right;\n",
       "    }\n",
       "</style>\n",
       "<table border=\"1\" class=\"dataframe\">\n",
       "  <thead>\n",
       "    <tr style=\"text-align: right;\">\n",
       "      <th></th>\n",
       "      <th>0</th>\n",
       "      <th>1</th>\n",
       "    </tr>\n",
       "  </thead>\n",
       "  <tbody>\n",
       "    <tr>\n",
       "      <td>261</td>\n",
       "      <td>-40.945879</td>\n",
       "      <td>28.975792</td>\n",
       "    </tr>\n",
       "    <tr>\n",
       "      <td>481</td>\n",
       "      <td>-42.735242</td>\n",
       "      <td>42.820049</td>\n",
       "    </tr>\n",
       "    <tr>\n",
       "      <td>1022</td>\n",
       "      <td>-32.436198</td>\n",
       "      <td>6.960229</td>\n",
       "    </tr>\n",
       "  </tbody>\n",
       "</table>\n",
       "</div>"
      ],
      "text/plain": [
       "              0          1\n",
       "261  -40.945879  28.975792\n",
       "481  -42.735242  42.820049\n",
       "1022 -32.436198   6.960229"
      ]
     },
     "execution_count": 714,
     "metadata": {},
     "output_type": "execute_result"
    }
   ],
   "source": [
    "pd.DataFrame(X_pca)[pd.DataFrame(X_pca)[0] < -30]"
   ]
  },
  {
   "cell_type": "code",
   "execution_count": 741,
   "metadata": {},
   "outputs": [
    {
     "data": {
      "text/html": [
       "<div>\n",
       "<style scoped>\n",
       "    .dataframe tbody tr th:only-of-type {\n",
       "        vertical-align: middle;\n",
       "    }\n",
       "\n",
       "    .dataframe tbody tr th {\n",
       "        vertical-align: top;\n",
       "    }\n",
       "\n",
       "    .dataframe thead th {\n",
       "        text-align: right;\n",
       "    }\n",
       "</style>\n",
       "<table border=\"1\" class=\"dataframe\">\n",
       "  <thead>\n",
       "    <tr style=\"text-align: right;\">\n",
       "      <th></th>\n",
       "      <th>481</th>\n",
       "    </tr>\n",
       "  </thead>\n",
       "  <tbody>\n",
       "    <tr>\n",
       "      <td>funereal</td>\n",
       "      <td>-0.123947</td>\n",
       "    </tr>\n",
       "    <tr>\n",
       "      <td>evolved</td>\n",
       "      <td>-0.085998</td>\n",
       "    </tr>\n",
       "    <tr>\n",
       "      <td>disliked</td>\n",
       "      <td>-0.083564</td>\n",
       "    </tr>\n",
       "    <tr>\n",
       "      <td>eponymous</td>\n",
       "      <td>-0.080970</td>\n",
       "    </tr>\n",
       "    <tr>\n",
       "      <td>elegiac</td>\n",
       "      <td>-0.054173</td>\n",
       "    </tr>\n",
       "    <tr>\n",
       "      <td>revival</td>\n",
       "      <td>-0.045145</td>\n",
       "    </tr>\n",
       "    <tr>\n",
       "      <td>abandoned</td>\n",
       "      <td>-0.000000</td>\n",
       "    </tr>\n",
       "    <tr>\n",
       "      <td>populist</td>\n",
       "      <td>0.000000</td>\n",
       "    </tr>\n",
       "    <tr>\n",
       "      <td>populated</td>\n",
       "      <td>0.000000</td>\n",
       "    </tr>\n",
       "    <tr>\n",
       "      <td>ponderous</td>\n",
       "      <td>0.000000</td>\n",
       "    </tr>\n",
       "    <tr>\n",
       "      <td>polarized</td>\n",
       "      <td>0.000000</td>\n",
       "    </tr>\n",
       "    <tr>\n",
       "      <td>portentous</td>\n",
       "      <td>0.000000</td>\n",
       "    </tr>\n",
       "    <tr>\n",
       "      <td>pokemon</td>\n",
       "      <td>-0.000000</td>\n",
       "    </tr>\n",
       "    <tr>\n",
       "      <td>platonic</td>\n",
       "      <td>0.000000</td>\n",
       "    </tr>\n",
       "    <tr>\n",
       "      <td>platitudinous</td>\n",
       "      <td>-0.000000</td>\n",
       "    </tr>\n",
       "    <tr>\n",
       "      <td>politicized</td>\n",
       "      <td>0.000000</td>\n",
       "    </tr>\n",
       "    <tr>\n",
       "      <td>portishead</td>\n",
       "      <td>0.000000</td>\n",
       "    </tr>\n",
       "    <tr>\n",
       "      <td>practiced</td>\n",
       "      <td>0.000000</td>\n",
       "    </tr>\n",
       "    <tr>\n",
       "      <td>plainspoken</td>\n",
       "      <td>0.000000</td>\n",
       "    </tr>\n",
       "    <tr>\n",
       "      <td>pragmatic</td>\n",
       "      <td>0.000000</td>\n",
       "    </tr>\n",
       "  </tbody>\n",
       "</table>\n",
       "</div>"
      ],
      "text/plain": [
       "                    481\n",
       "funereal      -0.123947\n",
       "evolved       -0.085998\n",
       "disliked      -0.083564\n",
       "eponymous     -0.080970\n",
       "elegiac       -0.054173\n",
       "revival       -0.045145\n",
       "abandoned     -0.000000\n",
       "populist       0.000000\n",
       "populated      0.000000\n",
       "ponderous      0.000000\n",
       "polarized      0.000000\n",
       "portentous     0.000000\n",
       "pokemon       -0.000000\n",
       "platonic       0.000000\n",
       "platitudinous -0.000000\n",
       "politicized    0.000000\n",
       "portishead     0.000000\n",
       "practiced      0.000000\n",
       "plainspoken    0.000000\n",
       "pragmatic      0.000000"
      ]
     },
     "execution_count": 741,
     "metadata": {},
     "output_type": "execute_result"
    }
   ],
   "source": [
    "pd.DataFrame(pd.DataFrame(X, columns =tfidf.get_feature_names()).iloc[481] * pca.components_[0]).sort_values(by=481)[:20]"
   ]
  },
  {
   "cell_type": "code",
   "execution_count": 720,
   "metadata": {
    "scrolled": true
   },
   "outputs": [
    {
     "data": {
      "text/plain": [
       "artist_album_clean_key                                       eminem|revival\n",
       "artist                                                               eminem\n",
       "album                                                               revival\n",
       "rr_review                                                               NaN\n",
       "pitch_review              On his overtly political ninth studio LP, Emin...\n",
       "needle_review             Hey, everyone. Fresh Orange here, The Internet...\n",
       "combined_reviews          |On his overtly political ninth studio LP, Emi...\n",
       "combined_reviews_clean    on his overtly political ninth studio lp emine...\n",
       "rr_pitch_reviews_clean    on his overtly political ninth studio lp emine...\n",
       "adjectives                political,eminem,aesthetic,disturbing,catharti...\n",
       "Name: 1322, dtype: object"
      ]
     },
     "execution_count": 720,
     "metadata": {},
     "output_type": "execute_result"
    }
   ],
   "source": [
    "review_df.iloc[481]"
   ]
  },
  {
   "cell_type": "code",
   "execution_count": 721,
   "metadata": {},
   "outputs": [
    {
     "data": {
      "text/html": [
       "<div>\n",
       "<style scoped>\n",
       "    .dataframe tbody tr th:only-of-type {\n",
       "        vertical-align: middle;\n",
       "    }\n",
       "\n",
       "    .dataframe tbody tr th {\n",
       "        vertical-align: top;\n",
       "    }\n",
       "\n",
       "    .dataframe thead th {\n",
       "        text-align: right;\n",
       "    }\n",
       "</style>\n",
       "<table border=\"1\" class=\"dataframe\">\n",
       "  <thead>\n",
       "    <tr style=\"text-align: right;\">\n",
       "      <th></th>\n",
       "      <th>0</th>\n",
       "      <th>1</th>\n",
       "    </tr>\n",
       "  </thead>\n",
       "  <tbody>\n",
       "    <tr>\n",
       "      <td>645</td>\n",
       "      <td>46.088291</td>\n",
       "      <td>53.810116</td>\n",
       "    </tr>\n",
       "  </tbody>\n",
       "</table>\n",
       "</div>"
      ],
      "text/plain": [
       "             0          1\n",
       "645  46.088291  53.810116"
      ]
     },
     "execution_count": 721,
     "metadata": {},
     "output_type": "execute_result"
    }
   ],
   "source": [
    "pd.DataFrame(X_pca)[pd.DataFrame(X_pca)[0] > 30]"
   ]
  },
  {
   "cell_type": "code",
   "execution_count": 739,
   "metadata": {},
   "outputs": [
    {
     "data": {
      "text/plain": [
       "artist_album_clean_key                           ice cube|death certificate\n",
       "artist                                                             ice cube\n",
       "album                                                     death certificate\n",
       "rr_review                  The inevitable passing of time has seriously ...\n",
       "pitch_review              Death Certificate is Ice Cube’s most important...\n",
       "needle_review                                                           NaN\n",
       "combined_reviews           The inevitable passing of time has seriously ...\n",
       "combined_reviews_clean     the inevitable passing of time has seriously ...\n",
       "rr_pitch_reviews_clean     the inevitable passing of time has seriously ...\n",
       "adjectives                inevitable,lyrical,philosophical,relevant,init...\n",
       "Name: 1795, dtype: object"
      ]
     },
     "execution_count": 739,
     "metadata": {},
     "output_type": "execute_result"
    }
   ],
   "source": [
    "review_df.iloc[645]"
   ]
  },
  {
   "cell_type": "code",
   "execution_count": 743,
   "metadata": {
    "scrolled": true
   },
   "outputs": [
    {
     "data": {
      "text/html": [
       "<div>\n",
       "<style scoped>\n",
       "    .dataframe tbody tr th:only-of-type {\n",
       "        vertical-align: middle;\n",
       "    }\n",
       "\n",
       "    .dataframe tbody tr th {\n",
       "        vertical-align: top;\n",
       "    }\n",
       "\n",
       "    .dataframe thead th {\n",
       "        text-align: right;\n",
       "    }\n",
       "</style>\n",
       "<table border=\"1\" class=\"dataframe\">\n",
       "  <thead>\n",
       "    <tr style=\"text-align: right;\">\n",
       "      <th></th>\n",
       "      <th>645</th>\n",
       "    </tr>\n",
       "  </thead>\n",
       "  <tbody>\n",
       "    <tr>\n",
       "      <td>abandoned</td>\n",
       "      <td>-0.0</td>\n",
       "    </tr>\n",
       "    <tr>\n",
       "      <td>pharmaceutical</td>\n",
       "      <td>0.0</td>\n",
       "    </tr>\n",
       "    <tr>\n",
       "      <td>photoshopped</td>\n",
       "      <td>0.0</td>\n",
       "    </tr>\n",
       "    <tr>\n",
       "      <td>pillowy</td>\n",
       "      <td>0.0</td>\n",
       "    </tr>\n",
       "    <tr>\n",
       "      <td>plainspoken</td>\n",
       "      <td>0.0</td>\n",
       "    </tr>\n",
       "    <tr>\n",
       "      <td>platitudinous</td>\n",
       "      <td>-0.0</td>\n",
       "    </tr>\n",
       "    <tr>\n",
       "      <td>platonic</td>\n",
       "      <td>0.0</td>\n",
       "    </tr>\n",
       "    <tr>\n",
       "      <td>pokemon</td>\n",
       "      <td>-0.0</td>\n",
       "    </tr>\n",
       "    <tr>\n",
       "      <td>polarized</td>\n",
       "      <td>0.0</td>\n",
       "    </tr>\n",
       "    <tr>\n",
       "      <td>ponderous</td>\n",
       "      <td>0.0</td>\n",
       "    </tr>\n",
       "    <tr>\n",
       "      <td>populated</td>\n",
       "      <td>0.0</td>\n",
       "    </tr>\n",
       "    <tr>\n",
       "      <td>populist</td>\n",
       "      <td>0.0</td>\n",
       "    </tr>\n",
       "    <tr>\n",
       "      <td>portentous</td>\n",
       "      <td>0.0</td>\n",
       "    </tr>\n",
       "    <tr>\n",
       "      <td>portishead</td>\n",
       "      <td>0.0</td>\n",
       "    </tr>\n",
       "    <tr>\n",
       "      <td>portugal</td>\n",
       "      <td>0.0</td>\n",
       "    </tr>\n",
       "    <tr>\n",
       "      <td>practiced</td>\n",
       "      <td>0.0</td>\n",
       "    </tr>\n",
       "    <tr>\n",
       "      <td>pragmatic</td>\n",
       "      <td>0.0</td>\n",
       "    </tr>\n",
       "    <tr>\n",
       "      <td>precocious</td>\n",
       "      <td>0.0</td>\n",
       "    </tr>\n",
       "    <tr>\n",
       "      <td>preconceived</td>\n",
       "      <td>-0.0</td>\n",
       "    </tr>\n",
       "    <tr>\n",
       "      <td>predatory</td>\n",
       "      <td>0.0</td>\n",
       "    </tr>\n",
       "  </tbody>\n",
       "</table>\n",
       "</div>"
      ],
      "text/plain": [
       "                645\n",
       "abandoned      -0.0\n",
       "pharmaceutical  0.0\n",
       "photoshopped    0.0\n",
       "pillowy         0.0\n",
       "plainspoken     0.0\n",
       "platitudinous  -0.0\n",
       "platonic        0.0\n",
       "pokemon        -0.0\n",
       "polarized       0.0\n",
       "ponderous       0.0\n",
       "populated       0.0\n",
       "populist        0.0\n",
       "portentous      0.0\n",
       "portishead      0.0\n",
       "portugal        0.0\n",
       "practiced       0.0\n",
       "pragmatic       0.0\n",
       "precocious      0.0\n",
       "preconceived   -0.0\n",
       "predatory       0.0"
      ]
     },
     "execution_count": 743,
     "metadata": {},
     "output_type": "execute_result"
    }
   ],
   "source": [
    "pd.DataFrame(pd.DataFrame(X, columns =tfidf.get_feature_names()).iloc[645] * pca.components_[0]).sort_values(by=645)[:20]"
   ]
  },
  {
   "cell_type": "code",
   "execution_count": 716,
   "metadata": {},
   "outputs": [
    {
     "data": {
      "text/plain": [
       "array([-3.17725823e-02, -1.23871834e-02, -1.22834317e-03, -6.39562693e-03,\n",
       "        1.28850991e-02,  1.02289344e-03,  3.93887125e-04,  1.54755832e-03,\n",
       "        6.02119574e-04,  2.54178267e-04,  1.50561090e-03, -4.10509775e-03,\n",
       "       -1.56665565e-02,  1.21394007e-03,  7.47177041e-04,  6.93455395e-02,\n",
       "       -3.20589746e-03,  1.00381955e-03,  3.52203126e-04,  7.47677333e-03,\n",
       "        3.48881711e-03, -1.40766942e-02,  5.35548771e-03,  1.08046634e-02,\n",
       "        4.06333158e-04, -2.28422939e-03,  1.03005692e-03,  9.22036825e-02,\n",
       "        9.82621850e-04,  7.58905606e-04,  6.40986952e-03,  3.49148006e-04,\n",
       "       -8.67655329e-04, -2.11984964e-03, -1.28125451e-02, -8.73263339e-02,\n",
       "        3.59811185e-04, -1.58526799e-02,  5.69058339e-04,  2.29791818e-03,\n",
       "        4.53620599e-04, -3.19812674e-04, -3.04146050e-02,  3.66975471e-04,\n",
       "        5.20327604e-03,  3.48125113e-03,  3.66720010e-04,  3.83194369e-04,\n",
       "        4.45356830e-04,  3.84419968e-04, -4.30398241e-04, -7.59401444e-03,\n",
       "       -1.20901277e-03,  2.28193125e-02,  1.16006280e-02,  4.45633237e-04,\n",
       "       -3.10138858e-03,  1.96398097e-04,  3.72513794e-04,  1.66437422e-03,\n",
       "        1.10521214e-03,  8.98713769e-04,  3.95347252e-04, -5.52732812e-03,\n",
       "        5.26821582e-04, -1.49319452e-02,  1.19642403e-03,  6.08196181e-04,\n",
       "       -3.37708931e-03, -6.39536303e-02, -7.61279587e-03,  1.46026803e-02,\n",
       "       -1.64554331e-01, -3.16595316e-02, -9.04548513e-03, -8.80139245e-03,\n",
       "        2.86546424e-03,  2.40866708e-02,  3.01997463e-04,  4.34772286e-03,\n",
       "       -1.19550365e-01,  7.99236507e-04, -3.20909464e-02, -1.44037333e-03,\n",
       "        4.47322853e-03,  1.44769352e-03,  3.72048449e-04, -1.11475805e-02,\n",
       "        5.96102611e-03, -4.19518543e-04,  4.03052916e-02,  5.14063504e-03,\n",
       "       -1.51691610e-03,  5.64672074e-04,  6.31121388e-05, -7.27216120e-04,\n",
       "        4.24366398e-03,  3.84270571e-04,  1.10848493e-03,  8.75078312e-03,\n",
       "       -1.20216302e-04,  2.11890040e-03,  3.85841644e-04, -9.70803474e-04,\n",
       "        8.05940655e-02, -3.05406353e-03, -2.92083220e-03, -6.35179301e-03,\n",
       "       -4.05902581e-03,  2.87587902e-03,  6.50892153e-03,  2.31159623e-04,\n",
       "        7.46665022e-03,  1.12299283e-02,  2.29416809e-03,  8.82369355e-04,\n",
       "        1.77626601e-03,  3.76557983e-03,  9.00710575e-03,  2.83297564e-04,\n",
       "       -5.92671571e-03,  1.38161018e-02,  1.03025003e-03, -8.62039038e-04,\n",
       "       -2.51721084e-03, -5.36916311e-03,  1.32187383e-04, -5.52140096e-03,\n",
       "       -1.15217090e-02,  1.02194590e-03,  1.53899883e-02,  1.02813733e-03,\n",
       "        1.61595413e-02, -2.61567147e-05, -2.49413550e-05, -1.31749561e-05,\n",
       "        4.25800100e-04,  4.47511372e-04,  1.75881611e-03,  2.26111580e-03,\n",
       "        8.22980283e-03,  1.39717305e-03,  3.41916978e-04, -9.49668242e-04,\n",
       "        6.03039464e-04, -5.21814706e-03,  2.61696165e-02,  4.33918666e-04,\n",
       "        3.41238895e-04,  5.95204484e-04,  8.68091977e-04,  4.57826361e-04,\n",
       "       -8.95966736e-04,  1.52555434e-02, -8.25432190e-03,  2.54096243e-03,\n",
       "        4.40733703e-04, -1.47623951e-03, -2.30554025e-04, -1.49719990e-03,\n",
       "        5.34835996e-03,  5.14460098e-03,  7.38361233e-02,  3.50622039e-04,\n",
       "        2.70497252e-03, -5.57089184e-03,  1.64603371e-03, -1.19481190e-02,\n",
       "        3.59710515e-03,  3.67050899e-04, -9.47344965e-04,  1.88858483e-04,\n",
       "        1.02766056e-04, -1.86830545e-03, -1.19866895e-02,  3.80628848e-03,\n",
       "        6.03492251e-04, -2.03342322e-02, -7.28583947e-04,  3.61974820e-04,\n",
       "       -2.65187523e-02,  1.14576466e-03,  4.25225036e-04,  4.87001814e-03,\n",
       "       -1.96649348e-02,  2.57539158e-04, -1.16764071e-04, -7.51004560e-03,\n",
       "        4.73984603e-04, -1.33645756e-03,  1.09229349e-02,  1.98061305e-03,\n",
       "        3.79527807e-04,  1.63337547e-03,  1.44215347e-02,  4.42252375e-04,\n",
       "        9.57342695e-05, -1.80682180e-01,  5.32885130e-04,  7.83119377e-03,\n",
       "       -7.61834038e-02,  6.62203736e-05,  1.38970640e-04,  3.57524293e-04,\n",
       "        3.70456944e-04,  7.84018452e-04,  9.51735656e-04,  4.78201084e-03,\n",
       "        3.62079182e-04, -2.61189350e-03, -1.13125082e-02, -4.77702087e-02,\n",
       "        1.26065196e-03, -1.29403983e-02,  4.73160759e-04, -1.54070148e-02,\n",
       "        6.39980495e-04,  8.93716054e-03,  1.35261276e-03, -1.70447587e-03,\n",
       "        1.38092343e-02,  1.65582293e-03, -2.03485971e-01,  4.56242649e-03,\n",
       "        4.67254120e-03,  4.85499275e-04,  4.71260120e-03,  4.59848029e-02,\n",
       "       -3.11308267e-03,  7.16498534e-02, -2.96056825e-03,  8.17601673e-03,\n",
       "        9.75098714e-03,  3.21944720e-03,  9.94570737e-03, -6.98480103e-02,\n",
       "        3.61944439e-03, -3.12369832e-03, -4.01299318e-03,  5.45918405e-03,\n",
       "        3.60970630e-04,  3.74438464e-04,  8.55824096e-04, -1.36810985e-01,\n",
       "        3.53596776e-04,  2.76993385e-03, -1.73647579e-03,  4.70964457e-04,\n",
       "        3.58083283e-03, -3.96606200e-05,  6.04353982e-04,  3.39884912e-05,\n",
       "        3.55670292e-04,  5.77408173e-05,  1.35900019e-02, -1.62681953e-03,\n",
       "        1.94570510e-04,  4.33565272e-04,  1.54176099e-03, -3.39579340e-04,\n",
       "        2.60844637e-03, -9.93195347e-04,  1.83284418e-03, -1.97171108e-01,\n",
       "       -2.91388609e-03,  3.02258592e-04,  5.43899946e-03,  1.00049594e-01,\n",
       "        1.00462123e-02, -4.30076908e-03, -2.81770534e-02, -2.09413513e-01,\n",
       "       -4.96687113e-03,  1.47046322e-03, -5.87054042e-03, -5.26798454e-02,\n",
       "        4.54872595e-03,  1.32433745e-03, -4.18967482e-03, -3.96351592e-04,\n",
       "       -2.61937581e-04,  1.41582120e-01,  6.95795535e-04,  3.10548107e-04,\n",
       "       -3.45021697e-03,  4.08066993e-04,  2.31272452e-03, -1.62344882e-02,\n",
       "       -3.96784173e-03, -5.46908944e-03, -1.25714620e-03,  2.29257772e-03,\n",
       "       -1.57030949e-02, -2.21905584e-03,  9.18586639e-04, -1.77686900e-03,\n",
       "       -1.98867251e-03,  3.56420275e-04, -2.12377931e-03,  1.36006687e-02,\n",
       "        2.33433213e-03,  3.46737171e-04,  3.41656402e-04,  3.97986659e-04,\n",
       "        4.51017391e-04, -8.88575306e-04, -2.39779206e-02,  3.49914593e-03,\n",
       "       -3.01824661e-01, -1.76137237e-02,  1.45613398e-03,  4.58431393e-04,\n",
       "        2.06761271e-03,  8.64980413e-03,  8.63938817e-04, -1.34690753e-03,\n",
       "        6.99709382e-04,  4.41164737e-04,  3.55463550e-04, -2.18181664e-04,\n",
       "        2.49908027e-03, -1.16280388e-04,  9.71457669e-05,  4.51108758e-03,\n",
       "        1.20126404e-02, -3.84947998e-02,  4.06873224e-04, -3.83608190e-02,\n",
       "        1.36487954e-02, -1.28273302e-02,  8.67955642e-03, -3.62457792e-04,\n",
       "       -1.96563500e-02,  1.53770201e-02,  2.02645441e-03,  3.40259284e-04,\n",
       "        5.08696747e-04,  7.54760387e-04,  8.56392172e-04,  3.92577447e-04,\n",
       "        6.74347366e-03,  3.47349967e-04, -8.23634276e-03,  2.24581746e-04,\n",
       "       -1.00523414e-02, -6.98621604e-04,  6.21694903e-03,  7.46621166e-04,\n",
       "        3.22111486e-03, -1.04926301e-02,  1.20432025e-02,  1.53492554e-02,\n",
       "        3.65379011e-04,  3.81638906e-04, -1.11620578e-03,  2.18817009e-04,\n",
       "       -8.54484485e-03,  5.52326866e-03,  1.79492884e-03,  4.51792470e-03,\n",
       "        4.13435554e-02,  3.95957166e-04,  3.48696793e-04,  5.56954010e-03,\n",
       "       -4.63149822e-04,  5.43899946e-03, -5.87267563e-03,  1.09175421e-02,\n",
       "        1.20072648e-02,  5.20914234e-03,  3.46074554e-04, -7.63620282e-02,\n",
       "       -2.91816543e-03,  4.77335634e-02,  4.91121407e-03, -1.76354507e-01,\n",
       "       -1.54641142e-03,  6.98708802e-04,  3.24874962e-03, -7.78247186e-02,\n",
       "        7.61288259e-03,  3.41338247e-04,  3.59054344e-04,  1.78438885e-04,\n",
       "        1.99471039e-04, -3.48457968e-03,  1.14244678e-02, -1.78346869e-02,\n",
       "        8.84275529e-03,  3.55188803e-03,  1.83969614e-03, -5.92070460e-02,\n",
       "        7.00084796e-03, -5.06507820e-02,  4.92757675e-04, -1.54202926e-02,\n",
       "        9.95282481e-04,  4.63764334e-04, -8.70072642e-02, -1.58903469e-03,\n",
       "        5.33196752e-04, -7.88377181e-04,  1.17456718e-03,  1.70702376e-03,\n",
       "        4.18095818e-04, -1.23961526e-03,  2.96681536e-03,  1.34399294e-03,\n",
       "        4.13877970e-03,  5.62875413e-02, -7.89773984e-04,  2.37471323e-01,\n",
       "        1.76369395e-02,  4.48183408e-04, -1.71992698e-03, -9.23837237e-05,\n",
       "        3.88515076e-04, -1.41917278e-02, -9.52414035e-03,  3.11094999e-04,\n",
       "        5.98175909e-04,  5.88664334e-03,  6.10938376e-04, -1.58806004e-02,\n",
       "        2.88808155e-03,  6.19696194e-03,  4.26664038e-03, -9.51924071e-04,\n",
       "        3.64443811e-04,  1.28260022e-03,  1.50950705e-01,  2.86107922e-03,\n",
       "        7.97324994e-04,  3.82810729e-04, -6.96292320e-04, -8.09549495e-05,\n",
       "        1.56239707e-03,  9.14756198e-04,  1.02712248e-03, -3.68740555e-02,\n",
       "       -1.13645257e-03,  1.11578272e-03,  4.44391951e-04,  3.45461432e-03,\n",
       "        1.93256051e-03, -7.09047628e-03,  4.49410952e-04, -5.00218991e-02,\n",
       "        1.01150501e-03,  8.18180636e-04, -2.60532006e-03, -2.16135927e-04,\n",
       "        1.51857466e-02,  3.31737842e-03,  3.31832148e-03,  7.89955848e-03,\n",
       "       -4.96057341e-03, -1.85698491e-02, -7.24587718e-02, -2.11105437e-03,\n",
       "        3.62206822e-04,  3.63475888e-03,  2.47848337e-05,  7.85670332e-03,\n",
       "       -1.27132306e-03,  4.32765162e-04,  4.24674935e-04, -7.87365631e-04,\n",
       "       -1.08311009e-04,  4.57804239e-04,  4.40451165e-04,  3.56499695e-03,\n",
       "        1.53569178e-02, -2.38464268e-02, -1.82938352e-02,  7.39306672e-04,\n",
       "        6.50860879e-03,  3.50715587e-04,  1.22586139e-03, -3.32348516e-03,\n",
       "       -3.34600054e-02,  3.95235919e-02, -1.02921454e-02, -1.01525573e-02,\n",
       "        6.44142435e-03, -7.59043281e-04,  8.70419239e-04, -3.31379962e-02,\n",
       "        1.35756581e-03, -2.24871089e-04, -9.31621148e-04, -1.30504925e-04,\n",
       "       -1.50500032e-02,  1.03055600e-03,  6.71479998e-04,  7.10626673e-03,\n",
       "       -2.99330275e-02,  4.59851642e-04, -4.89696102e-03,  3.82236739e-04,\n",
       "       -3.23807684e-03, -1.13934263e-01,  1.94914057e-03, -8.46364825e-04,\n",
       "       -1.22235100e-03, -2.00525899e-05, -4.57928990e-02,  6.18657289e-04,\n",
       "       -2.18849458e-03,  4.79928091e-04, -1.04940142e-02,  3.57620703e-04,\n",
       "        6.15104792e-03,  2.53638436e-04,  1.24813419e-02, -7.87465251e-04,\n",
       "       -1.08190483e-02,  3.21883215e-02, -8.75884643e-03,  4.08729083e-02,\n",
       "        1.32632623e-03, -1.60448129e-04,  1.97108666e-04,  3.41179028e-04,\n",
       "       -2.11517565e-03,  3.88759643e-04,  2.02420100e-03,  1.07488673e-02,\n",
       "       -5.08987979e-03, -6.12069124e-05,  1.61425995e-03,  4.43506614e-04,\n",
       "       -7.60312584e-03, -2.64748995e-04,  1.29277172e-03,  1.56884715e-03,\n",
       "       -8.48996286e-04,  4.44758839e-04,  1.07743701e-02,  7.49698668e-04,\n",
       "        2.41889619e-02,  3.52888287e-04,  5.46272137e-03,  3.57968298e-03,\n",
       "        7.65238435e-03,  5.16220730e-04, -2.01772092e-03,  7.37085575e-04,\n",
       "        3.55188991e-04,  4.09507455e-05,  2.09409637e-02,  3.12783044e-03,\n",
       "        3.34539698e-04, -2.27054653e-03, -2.91631383e-04,  4.00806160e-03,\n",
       "        2.26547598e-04,  2.10334395e-03,  1.67396361e-03,  4.86715840e-04,\n",
       "        4.30151704e-04, -1.76462174e-03,  7.01080563e-03,  5.57432336e-04,\n",
       "       -1.91650313e-03,  3.62179996e-04,  3.65793781e-04,  1.21184451e-03,\n",
       "        1.88749215e-04,  5.69375292e-04, -3.42068582e-03,  9.14313043e-04,\n",
       "       -8.74255941e-03,  3.98744087e-04,  3.76144782e-04,  1.03973115e-03,\n",
       "        2.00642882e-03, -8.24161738e-04,  2.51835371e-03,  5.69823125e-04,\n",
       "        9.58733058e-04,  1.55384377e-03,  1.60818732e-02,  3.97990470e-04,\n",
       "       -1.94586288e-01,  1.87181224e-03,  3.60863220e-04, -2.45518164e-03,\n",
       "        3.58661847e-03,  6.04013007e-04, -7.08675567e-03, -2.61702833e-04,\n",
       "        1.20625912e-03,  5.26144889e-04,  7.54913122e-03,  9.42616072e-03,\n",
       "        3.75938172e-04,  4.04864698e-03, -3.16486638e-02, -2.15010724e-03,\n",
       "        2.11372644e-03,  3.51831035e-04,  1.53794676e-03,  1.00905770e-03,\n",
       "        8.15245599e-03,  2.09213340e-01, -1.26097429e-02,  1.08712418e-02,\n",
       "       -2.94506682e-04, -6.55258168e-03, -8.87280424e-04,  8.82064152e-04,\n",
       "        4.06413783e-03, -2.34306359e-04,  4.76607970e-04,  3.22230499e-04,\n",
       "        2.82001421e-03,  9.09673725e-04,  2.27199718e-04, -2.62935060e-03,\n",
       "        1.16381139e-03, -2.94030935e-03,  3.80072008e-03,  2.42844716e-01,\n",
       "        4.41847301e-02,  6.01604885e-04,  2.87983814e-03,  4.00513323e-03,\n",
       "        1.10739177e-03,  7.75504273e-04,  2.43583751e-03,  4.08478837e-05,\n",
       "        1.46213770e-02, -9.44918945e-03,  5.75672624e-03,  4.32951669e-04,\n",
       "        2.12488820e-03,  2.76963236e-04, -1.43400828e-03, -2.50416314e-03,\n",
       "       -2.60000843e-03,  4.75385786e-03,  3.48212401e-04,  2.94411558e-03,\n",
       "       -8.57658939e-02,  3.76774393e-04,  1.79505335e-03,  3.86487541e-04,\n",
       "       -1.05217865e-02,  5.22170257e-04,  4.11331712e-04, -5.81909265e-04,\n",
       "       -6.61454333e-03, -1.14543275e-03, -1.81301120e-03, -6.72254637e-03,\n",
       "        1.36319875e-03, -5.34968069e-02,  5.59769175e-04,  3.61988251e-04,\n",
       "       -1.57259533e-02,  4.54728350e-04, -1.68991722e-02, -1.28858737e-04,\n",
       "        9.11340205e-04, -1.01544946e-02, -2.45694374e-03,  7.61115610e-03,\n",
       "        1.57151527e-04,  1.13696913e-02,  4.62195914e-03,  3.80478670e-03,\n",
       "       -2.99015092e-04,  4.03710607e-04, -1.50464951e-02, -7.47485270e-03,\n",
       "       -2.14131199e-02, -1.33708107e-02,  4.07324873e-04, -4.19619991e-03,\n",
       "        9.75901571e-03, -1.14459549e-02,  4.90248610e-04,  3.80525372e-04,\n",
       "        1.18433998e-02,  1.37679293e-02,  3.46206931e-04, -6.51398860e-02,\n",
       "       -5.01022842e-03,  1.54648938e-03, -5.10125252e-05, -1.13663996e-03,\n",
       "        6.17750831e-03, -2.84088164e-02, -2.99399778e-02,  2.89422462e-02,\n",
       "       -4.49521755e-03,  8.23657834e-04,  1.53025187e-02,  9.90450132e-04,\n",
       "        8.15271787e-02, -1.23528671e-02,  2.09996822e-04,  6.21549868e-03,\n",
       "       -3.56839514e-04,  2.97021680e-05, -1.09933160e-01, -1.10251544e-02,\n",
       "        1.04060329e-03, -5.50017528e-03,  1.02275548e-03,  3.63461855e-04,\n",
       "       -3.93350877e-03, -1.71480075e-02, -9.77710501e-02,  3.76574857e-04,\n",
       "        7.27227213e-04,  2.29064474e-02,  3.61633414e-04, -1.42346635e-03,\n",
       "       -1.29087163e-02,  8.80700936e-04,  5.62102080e-05, -2.00364559e-02,\n",
       "        3.99611210e-03,  5.63638841e-04, -1.77480379e-02, -1.93601482e-03,\n",
       "       -5.87054042e-03,  2.81396971e-03, -1.44355728e-03,  1.84533976e-03,\n",
       "        3.46745449e-02, -2.54312188e-03,  1.87550805e-03,  9.83526153e-03,\n",
       "        2.15287684e-01,  9.54406976e-05, -2.50865299e-03, -1.78826753e-02,\n",
       "       -1.66602165e-03, -2.63363291e-01,  3.55593628e-04,  2.38853595e-02,\n",
       "        9.89297756e-03, -7.22978582e-02,  3.89831337e-04,  1.78339717e-03,\n",
       "        3.75458893e-04, -3.83004334e-02, -2.77176903e-03,  2.64368512e-04,\n",
       "        2.86514977e-04, -6.88584009e-06,  7.57794292e-03,  7.89890006e-04,\n",
       "        7.71523178e-04, -5.37280834e-04,  2.20112574e-03, -1.13446624e-04,\n",
       "       -1.02988433e-02,  3.39550584e-04,  7.99606172e-02, -2.11025349e-03,\n",
       "        3.69233251e-03, -2.03331402e-03,  1.77589528e-02,  1.61272775e-02,\n",
       "        1.70608404e-03, -1.40867682e-03,  4.34132563e-03, -2.28389730e-03,\n",
       "        3.62289250e-04, -2.32407429e-03, -2.26898337e-03, -2.66443247e-03,\n",
       "        5.31177778e-04,  7.89664929e-03, -7.10589160e-03,  1.03257829e-03,\n",
       "       -1.29462566e-02,  3.38185000e-03,  2.71017620e-03, -8.43534176e-04,\n",
       "        4.13435554e-02,  1.02752027e-03,  1.31726919e-02,  2.51844129e-02,\n",
       "       -1.33440073e-02,  3.65206227e-04, -3.07067794e-03, -7.09543552e-03,\n",
       "        1.10017734e-03,  2.99930149e-03,  5.93944632e-05, -7.15388744e-02,\n",
       "        4.74767364e-04,  3.40888322e-03,  3.78123571e-04,  1.25867947e-02,\n",
       "       -2.24809959e-02, -1.14221208e-03,  1.37556915e-04,  1.98719614e-03,\n",
       "        7.65080236e-04,  2.72922158e-03,  6.25054083e-04,  1.18491221e-03,\n",
       "        3.63446300e-03,  4.40426561e-04,  1.84872090e-03,  3.68132540e-02,\n",
       "       -2.26072838e-05, -1.84414619e-02, -6.52944574e-02,  4.91311224e-04,\n",
       "        2.09097692e-03, -2.50744405e-03,  2.79997242e-04, -6.01729682e-04,\n",
       "        6.01941190e-04,  3.55253873e-04,  5.45796470e-04, -5.25326797e-04,\n",
       "       -1.77123107e-03,  1.74640503e-03, -1.13833951e-03, -4.91722759e-04,\n",
       "        1.35160939e-03, -1.33399179e-02,  9.86495545e-04,  1.53513798e-02,\n",
       "        3.76560839e-04,  3.70065144e-04, -2.99297945e-04, -8.29000751e-03,\n",
       "        6.32527959e-03,  4.59288383e-03,  1.63148736e-03, -6.18941951e-04,\n",
       "        4.73332033e-04,  4.93651090e-05,  5.92618898e-04, -3.86806194e-02,\n",
       "        5.31287633e-04, -1.57818054e-02,  1.83167231e-03,  6.18558848e-04,\n",
       "        1.68986072e-04,  7.98250475e-02, -1.28007625e-03,  7.90476643e-04,\n",
       "        1.63154271e-03,  5.34852619e-04,  9.18594055e-03,  3.24499078e-04,\n",
       "        1.69664822e-02,  6.32826245e-05,  1.63355015e-03, -1.14272703e-02,\n",
       "        6.49252159e-04, -3.62487648e-02,  3.83988729e-04,  2.10394207e-02,\n",
       "       -1.61082655e-04,  1.12371223e-03,  3.08390684e-03, -2.68831203e-02,\n",
       "        4.67027242e-04, -7.11041606e-05,  2.14347198e-03, -1.03919680e-02,\n",
       "        7.98973894e-04,  1.47133493e-02,  4.35837133e-04,  1.20279609e-03,\n",
       "       -1.70257742e-03, -3.11789568e-05, -3.12954711e-03,  5.56096731e-03,\n",
       "       -7.19635193e-03,  3.64513671e-03,  3.06630821e-04,  2.15754947e-03,\n",
       "        2.87021383e-03, -1.38987369e-03,  2.12671723e-02, -4.25840191e-03,\n",
       "       -8.72576248e-04, -4.76745944e-03, -3.85240350e-02, -3.25614585e-03,\n",
       "        7.19436388e-04,  4.22935246e-03,  7.71215458e-04,  6.27468854e-04,\n",
       "       -3.57871868e-03,  1.86120607e-03, -2.57648907e-02, -1.16766638e-03,\n",
       "       -1.22254260e-03, -5.12575588e-05,  5.29452183e-04, -2.04298841e-02,\n",
       "        3.50560056e-04,  5.85576145e-04,  4.27916457e-04,  5.45553716e-04,\n",
       "        5.69383083e-04, -1.76476181e-03,  3.94333553e-02, -4.15886016e-02,\n",
       "        4.07932294e-04,  1.56614868e-03,  8.62081275e-02, -3.03083177e-02,\n",
       "       -3.22637473e-03,  1.45168870e-01,  7.89885035e-02, -2.18834253e-03,\n",
       "       -1.06903649e-02,  8.10731846e-03,  1.20573568e-03, -2.21352431e-03,\n",
       "       -7.75392911e-03,  6.43445262e-04, -8.34682116e-04,  1.58036453e-03,\n",
       "        1.82670872e-03,  1.21484036e-03, -3.18363525e-05,  6.54816688e-03,\n",
       "        2.50694573e-03,  1.65099269e-03, -4.63300639e-03,  2.63224396e-04])"
      ]
     },
     "execution_count": 716,
     "metadata": {},
     "output_type": "execute_result"
    }
   ],
   "source": [
    "pca.components_[0]"
   ]
  },
  {
   "cell_type": "code",
   "execution_count": 710,
   "metadata": {},
   "outputs": [
    {
     "data": {
      "text/plain": [
       "0.6390102789205837"
      ]
     },
     "execution_count": 710,
     "metadata": {},
     "output_type": "execute_result"
    }
   ],
   "source": [
    "from sklearn.metrics import silhouette_score\n",
    "silhouette_score(X_sc, km_model.labels_)"
   ]
  },
  {
   "cell_type": "markdown",
   "metadata": {},
   "source": [
    "Attempting Word2Vec"
   ]
  },
  {
   "cell_type": "code",
   "execution_count": 1067,
   "metadata": {},
   "outputs": [
    {
     "data": {
      "text/plain": [
       "(354638, 437130)"
      ]
     },
     "execution_count": 1067,
     "metadata": {},
     "output_type": "execute_result"
    }
   ],
   "source": [
    "model = Word2Vec(topic_docs, size=150, window=10, min_count=2, workers=10)\n",
    "model.train(topic_docs,total_examples=len(topic_docs),epochs=10)"
   ]
  },
  {
   "cell_type": "code",
   "execution_count": 1070,
   "metadata": {},
   "outputs": [
    {
     "data": {
      "text/plain": [
       "[('self', 0.9999312162399292),\n",
       " ('human', 0.9999211430549622),\n",
       " ('book', 0.9999133348464966),\n",
       " ('curtis', 0.9999017119407654),\n",
       " ('c', 0.9998987317085266),\n",
       " ('prison', 0.999898374080658),\n",
       " ('mountain', 0.9998928308486938),\n",
       " ('native', 0.9998922944068909),\n",
       " ('several', 0.9998917579650879),\n",
       " ('purple', 0.9998912811279297),\n",
       " ('million', 0.9998912811279297),\n",
       " ('must', 0.9998904466629028),\n",
       " ('late', 0.9998847246170044),\n",
       " ('ix', 0.9998838305473328),\n",
       " ('real', 0.9998807311058044),\n",
       " ('labor', 0.9998784065246582),\n",
       " ('duo', 0.9998767375946045),\n",
       " ('form', 0.9998764991760254),\n",
       " ('party', 0.9998763799667358),\n",
       " ('soundtrack', 0.999871551990509),\n",
       " ('center', 0.9998703002929688),\n",
       " ('former', 0.999869167804718),\n",
       " ('ine', 0.9998689293861389),\n",
       " ('state', 0.9998688697814941),\n",
       " ('clinton', 0.9998688101768494),\n",
       " ('j', 0.9998663067817688),\n",
       " ('ghost', 0.9998653531074524),\n",
       " ('legal', 0.9998636841773987),\n",
       " ('process', 0.9998611807823181),\n",
       " ('ultimately', 0.9998586773872375),\n",
       " ('accepted', 0.999857485294342),\n",
       " ('saw', 0.9998552799224854),\n",
       " ('jay', 0.9998548626899719),\n",
       " ('pac', 0.9998548030853271),\n",
       " ('decade', 0.9998530149459839),\n",
       " ('musician', 0.9998524188995361),\n",
       " ('performed', 0.9998514652252197),\n",
       " ('sexual', 0.9998496174812317),\n",
       " ('went', 0.999849259853363),\n",
       " ('na', 0.999849259853363),\n",
       " ('couple', 0.999848484992981),\n",
       " ('audience', 0.9998481869697571),\n",
       " ('mixtapes', 0.999847948551178),\n",
       " ('bread', 0.9998462796211243),\n",
       " ('dropped', 0.9998458027839661),\n",
       " ('remains', 0.9998438954353333),\n",
       " ('yet', 0.9998436570167542),\n",
       " ('quick', 0.9998384714126587),\n",
       " ('living', 0.9998360872268677),\n",
       " ('success', 0.9998357892036438),\n",
       " ('chance', 0.9998342394828796),\n",
       " ('relentless', 0.9998320937156677),\n",
       " ('ab', 0.9998319149017334),\n",
       " ('possession', 0.99983149766922),\n",
       " ('cover', 0.9998292922973633),\n",
       " ('public', 0.999829113483429),\n",
       " ('trial', 0.9998272061347961),\n",
       " ('face', 0.9998268485069275),\n",
       " ('summer', 0.9998262524604797),\n",
       " ('bounce', 0.9998260736465454),\n",
       " ('exchange', 0.9998260736465454),\n",
       " ('act', 0.999824047088623),\n",
       " ('broken', 0.9998235106468201),\n",
       " ('atlanta', 0.9998231530189514),\n",
       " ('compared', 0.9998224377632141),\n",
       " ('stage', 0.9998220205307007),\n",
       " ('jeezy', 0.9998217821121216),\n",
       " ('urban', 0.999818742275238),\n",
       " ('ground', 0.9998186826705933),\n",
       " ('gangsta', 0.9998181462287903),\n",
       " ('released', 0.9998161792755127),\n",
       " ('studio', 0.9998141527175903),\n",
       " ('franchise', 0.9998133778572083),\n",
       " ('forward', 0.9998127818107605),\n",
       " ('unlike', 0.9998123645782471),\n",
       " ('outfit', 0.999811589717865),\n",
       " ('collection', 0.9998101592063904),\n",
       " ('fly', 0.9998091459274292),\n",
       " ('recording', 0.9998081922531128),\n",
       " ('perfect', 0.9998070001602173),\n",
       " ('n', 0.9998066425323486),\n",
       " ('rainbow', 0.9998059868812561),\n",
       " ('suit', 0.9998056888580322),\n",
       " ('freedom', 0.9998051524162292),\n",
       " ('recent', 0.9998038411140442),\n",
       " ('theory', 0.9997996091842651),\n",
       " ('reality', 0.9997995495796204),\n",
       " ('dude', 0.9997962117195129),\n",
       " ('nav', 0.999795138835907),\n",
       " ('dominated', 0.9997919797897339),\n",
       " ('rap', 0.9997903108596802),\n",
       " ('gucci', 0.9997902512550354),\n",
       " ('charge', 0.9997893571853638),\n",
       " ('offering', 0.9997893571853638),\n",
       " ('came', 0.9997891783714294),\n",
       " ('directly', 0.9997882843017578),\n",
       " ('express', 0.9997879862785339),\n",
       " ('social', 0.9997876286506653),\n",
       " ('twisting', 0.9997857213020325),\n",
       " ('boy', 0.9997843503952026)]"
      ]
     },
     "execution_count": 1070,
     "metadata": {},
     "output_type": "execute_result"
    }
   ],
   "source": [
    "\n",
    "w1 = \"tekashi\"\n",
    "model.wv.most_similar(positive=w1, topn=100)"
   ]
  },
  {
   "cell_type": "code",
   "execution_count": 914,
   "metadata": {},
   "outputs": [
    {
     "data": {
      "text/plain": [
       "0.24455144"
      ]
     },
     "execution_count": 914,
     "metadata": {},
     "output_type": "execute_result"
    }
   ],
   "source": [
    "model.wv.similarity(w1=\"fast\",w2=\"busta\")"
   ]
  },
  {
   "cell_type": "code",
   "execution_count": null,
   "metadata": {},
   "outputs": [],
   "source": []
  }
 ],
 "metadata": {
  "kernelspec": {
   "display_name": "Python 3",
   "language": "python",
   "name": "python3"
  },
  "language_info": {
   "codemirror_mode": {
    "name": "ipython",
    "version": 3
   },
   "file_extension": ".py",
   "mimetype": "text/x-python",
   "name": "python",
   "nbconvert_exporter": "python",
   "pygments_lexer": "ipython3",
   "version": "3.7.3"
  }
 },
 "nbformat": 4,
 "nbformat_minor": 2
}
