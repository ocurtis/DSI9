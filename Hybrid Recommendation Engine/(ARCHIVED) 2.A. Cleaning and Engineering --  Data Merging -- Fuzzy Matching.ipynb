{
 "cells": [
  {
   "cell_type": "markdown",
   "metadata": {},
   "source": [
    "# 2.A. Cleaning and Engineering -- Data Merging"
   ]
  },
  {
   "cell_type": "code",
   "execution_count": 199,
   "metadata": {},
   "outputs": [],
   "source": [
    "import pandas as pd\n",
    "from bs4 import BeautifulSoup\n",
    "import numpy as np\n",
    "import time\n",
    "import requests\n",
    "import seaborn as sns\n",
    "import warnings\n",
    "import matplotlib.pyplot as plt\n",
    "import lyricsgenius\n",
    "import re\n",
    "import sys\n",
    "import spotipy\n",
    "import spotipy.util as util\n",
    "from sklearn.compose import ColumnTransformer, make_column_transformer\n",
    "from pyjarowinkler import distance\n",
    "\n",
    "\n",
    "import pandas as pd\n",
    "from bs4 import BeautifulSoup\n",
    "import numpy as np\n",
    "import time\n",
    "import requests\n",
    "import seaborn as sns\n",
    "import warnings\n",
    "import matplotlib.pyplot as plt\n",
    "\n",
    "import nltk\n",
    "from nltk.stem import PorterStemmer\n",
    "from sklearn.model_selection import cross_val_score\n",
    "\n",
    "from sklearn.pipeline import Pipeline, FeatureUnion\n",
    "from sklearn.model_selection import train_test_split, GridSearchCV\n",
    "from sklearn.linear_model import LogisticRegression, LogisticRegressionCV\n",
    "from sklearn.neighbors import KNeighborsClassifier\n",
    "from sklearn.svm import SVC\n",
    "from sklearn.metrics import recall_score\n",
    "from sklearn.ensemble import RandomForestClassifier, BaggingClassifier, GradientBoostingClassifier, AdaBoostClassifier, VotingClassifier\n",
    "from sklearn.feature_extraction.text import CountVectorizer, TfidfVectorizer\n",
    "from sklearn.neighbors import KNeighborsClassifier\n",
    "from sklearn.naive_bayes import MultinomialNB, GaussianNB, BernoulliNB\n"
   ]
  },
  {
   "cell_type": "code",
   "execution_count": 274,
   "metadata": {},
   "outputs": [],
   "source": [
    "spotify = pd.read_csv('spotify_final_230k.csv')"
   ]
  },
  {
   "cell_type": "code",
   "execution_count": 273,
   "metadata": {},
   "outputs": [],
   "source": [
    "genius = pd.read_csv('saturday_done.csv')"
   ]
  },
  {
   "cell_type": "code",
   "execution_count": 202,
   "metadata": {},
   "outputs": [
    {
     "data": {
      "text/plain": [
       "((240556, 34), (45573, 7))"
      ]
     },
     "execution_count": 202,
     "metadata": {},
     "output_type": "execute_result"
    }
   ],
   "source": [
    "spotify.shape, genius.shape"
   ]
  },
  {
   "cell_type": "code",
   "execution_count": 203,
   "metadata": {},
   "outputs": [
    {
     "data": {
      "text/plain": [
       "album         6806\n",
       "artist           0\n",
       "date         12703\n",
       "features         0\n",
       "lyrics           4\n",
       "producers        0\n",
       "song             0\n",
       "dtype: int64"
      ]
     },
     "execution_count": 203,
     "metadata": {},
     "output_type": "execute_result"
    }
   ],
   "source": [
    "genius.isnull().sum()"
   ]
  },
  {
   "cell_type": "code",
   "execution_count": 204,
   "metadata": {},
   "outputs": [],
   "source": [
    "genius['artist_album_track_key'] = genius['artist'] + '|'  + genius['song']\n",
    "spotify['artist_album_track_key'] =  spotify['arist_y'] + '|'  + spotify['track_name']\n",
    "\n",
    "genius['artist_album_track_key'] = genius['artist_album_track_key'].str.replace(' ', '_')\n",
    "spotify['artist_album_track_key'] = spotify['artist_album_track_key'].str.replace(' ', '_')"
   ]
  },
  {
   "cell_type": "code",
   "execution_count": 249,
   "metadata": {},
   "outputs": [
    {
     "data": {
      "text/plain": [
       "Index(['album', 'artist', 'date', 'features', 'lyrics', 'producers', 'song',\n",
       "       'artist_album_track_key', 'artist_clean', 'album_name_clean',\n",
       "       'artist_album_clean', 'song_name_clean', 'artist_album_track_clean_key',\n",
       "       'artist_track_clean_key', 'album_track_clean_key'],\n",
       "      dtype='object')"
      ]
     },
     "execution_count": 249,
     "metadata": {},
     "output_type": "execute_result"
    }
   ],
   "source": [
    "genius.columns"
   ]
  },
  {
   "cell_type": "code",
   "execution_count": 206,
   "metadata": {},
   "outputs": [],
   "source": [
    "test3 = pd.merge(genius,spotify, on='artist_album_track_key', how='inner')"
   ]
  },
  {
   "cell_type": "code",
   "execution_count": 207,
   "metadata": {},
   "outputs": [
    {
     "data": {
      "text/plain": [
       "(20211, 42)"
      ]
     },
     "execution_count": 207,
     "metadata": {},
     "output_type": "execute_result"
    }
   ],
   "source": [
    "test3.shape"
   ]
  },
  {
   "cell_type": "code",
   "execution_count": 208,
   "metadata": {},
   "outputs": [
    {
     "data": {
      "text/plain": [
       "(20211, 42)"
      ]
     },
     "execution_count": 208,
     "metadata": {},
     "output_type": "execute_result"
    }
   ],
   "source": [
    "test.drop_duplicates('track_id').shape"
   ]
  },
  {
   "cell_type": "markdown",
   "metadata": {},
   "source": [
    "## Distance Exploration -- Artist Name"
   ]
  },
  {
   "cell_type": "markdown",
   "metadata": {},
   "source": [
    "#### Baseline Match Rate Before Any Processing"
   ]
  },
  {
   "cell_type": "code",
   "execution_count": 209,
   "metadata": {
    "scrolled": true
   },
   "outputs": [],
   "source": [
    "spotify_artist_list_deduped = list(spotify['arist_y'].unique())"
   ]
  },
  {
   "cell_type": "code",
   "execution_count": 210,
   "metadata": {},
   "outputs": [],
   "source": [
    "#Artists that are in spotify and not in Genius\n",
    "name_checks_no_genius = genius[~genius['artist'].isin(spotify_artist_list_deduped)].drop_duplicates('artist')['artist']"
   ]
  },
  {
   "cell_type": "code",
   "execution_count": 211,
   "metadata": {},
   "outputs": [
    {
     "name": "stdout",
     "output_type": "stream",
     "text": [
      "Matched: 978\n",
      "Match Rate: 0.7836538461538461\n"
     ]
    }
   ],
   "source": [
    "#Artists that are in spotify and not in Genius\n",
    "not_matching = genius[~genius['artist'].isin(spotify_artist_list_deduped)].drop_duplicates('artist')['artist'].shape[0]\n",
    "total = genius['artist'].drop_duplicates().shape[0]\n",
    "print(f\"Matched: {total-not_matching}\")\n",
    "print(f\"Match Rate: {1- not_matching/total}\")"
   ]
  },
  {
   "cell_type": "markdown",
   "metadata": {},
   "source": [
    "#### Match Rate After Initial Processing"
   ]
  },
  {
   "cell_type": "code",
   "execution_count": 112,
   "metadata": {},
   "outputs": [],
   "source": [
    "# pd.set_option('display.max_rows', 300)\n",
    "# pd.set_option('display.max_columns', 300)\n",
    "# pd.set_option('display.width', 1000)"
   ]
  },
  {
   "cell_type": "code",
   "execution_count": 212,
   "metadata": {},
   "outputs": [],
   "source": [
    "genius['artist_clean'] = genius['artist'].str.replace('$', 'S')\n",
    "genius['artist_clean'] = genius['artist_clean'].str.replace(\"’\", \"\")\n",
    "genius['artist_clean'] = genius['artist_clean'].str.replace('&', 'and')\n",
    "genius['artist_clean'] = genius['artist_clean'].str.replace('!','') \n",
    "genius['artist_clean'] = genius['artist_clean'].str.replace('([ ]{2,})', ' ', regex = True) \n",
    "genius['artist_clean'] = genius['artist_clean'].str.strip()\n",
    "genius['artist_clean'] = genius['artist_clean'].str.lower()"
   ]
  },
  {
   "cell_type": "code",
   "execution_count": 213,
   "metadata": {},
   "outputs": [],
   "source": [
    "spotify['artist_clean'] = spotify['arist_y'].str.replace('$', 'S')\n",
    "spotify['artist_clean'] = spotify['artist_clean'].str.replace(\"’\", \"\")\n",
    "spotify['artist_clean'] = spotify['artist_clean'].str.replace('&', 'and')\n",
    "spotify['artist_clean'] = spotify['artist_clean'].str.replace('!', '') \n",
    "spotify['artist_clean'] = spotify['artist_clean'].str.replace('([ ]{2,})', ' ', regex = True) \n",
    "spotify['artist_clean'] = spotify['artist_clean'].str.strip()\n",
    "spotify['artist_clean'] = spotify['artist_clean'].str.lower()"
   ]
  },
  {
   "cell_type": "code",
   "execution_count": 214,
   "metadata": {
    "scrolled": true
   },
   "outputs": [],
   "source": [
    "spotify_artist_list_deduped = list(spotify['artist_clean'].unique())"
   ]
  },
  {
   "cell_type": "code",
   "execution_count": 215,
   "metadata": {},
   "outputs": [],
   "source": [
    "#Artists that are in spotify and not in Genius\n",
    "name_checks_no_genius = genius[~genius['artist_clean'].isin(spotify_artist_list_deduped)].drop_duplicates('artist_clean')['artist_clean']"
   ]
  },
  {
   "cell_type": "code",
   "execution_count": 216,
   "metadata": {
    "scrolled": true
   },
   "outputs": [
    {
     "name": "stdout",
     "output_type": "stream",
     "text": [
      "Matched: 982\n",
      "Match Rate: 0.7868589743589743\n"
     ]
    }
   ],
   "source": [
    "#Artists that are in spotify and not in Genius\n",
    "not_matching = genius[~genius['artist_clean'].isin(spotify_artist_list_deduped)].drop_duplicates('artist_clean')['artist_clean'].shape[0]\n",
    "total = genius['artist_clean'].drop_duplicates().shape[0]\n",
    "print(f\"Matched: {total-not_matching}\")\n",
    "print(f\"Match Rate: {1- not_matching/total}\")"
   ]
  },
  {
   "cell_type": "markdown",
   "metadata": {},
   "source": [
    "#### Exploring Fuzzy"
   ]
  },
  {
   "cell_type": "code",
   "execution_count": 123,
   "metadata": {},
   "outputs": [],
   "source": [
    "from fuzzywuzzy import fuzz\n",
    "from fuzzywuzzy import process"
   ]
  },
  {
   "cell_type": "code",
   "execution_count": 124,
   "metadata": {},
   "outputs": [],
   "source": [
    "spotify_artist_list_deduped_no_nan = spotify_artist_list_deduped[1:]"
   ]
  },
  {
   "cell_type": "code",
   "execution_count": 125,
   "metadata": {},
   "outputs": [],
   "source": [
    "name_choices = spotify_artist_list_deduped_no_nan"
   ]
  },
  {
   "cell_type": "code",
   "execution_count": 126,
   "metadata": {
    "scrolled": true
   },
   "outputs": [
    {
     "ename": "TypeError",
     "evalue": "expected string or bytes-like object",
     "output_type": "error",
     "traceback": [
      "\u001b[1;31m---------------------------------------------------------------------------\u001b[0m",
      "\u001b[1;31mAttributeError\u001b[0m                            Traceback (most recent call last)",
      "\u001b[1;32m~\\Anaconda3\\lib\\site-packages\\fuzzywuzzy\\process.py\u001b[0m in \u001b[0;36mextractWithoutOrder\u001b[1;34m(query, choices, processor, scorer, score_cutoff)\u001b[0m\n\u001b[0;32m    107\u001b[0m         \u001b[1;31m# See if choices is a dictionary-like object.\u001b[0m\u001b[1;33m\u001b[0m\u001b[1;33m\u001b[0m\u001b[1;33m\u001b[0m\u001b[0m\n\u001b[1;32m--> 108\u001b[1;33m         \u001b[1;32mfor\u001b[0m \u001b[0mkey\u001b[0m\u001b[1;33m,\u001b[0m \u001b[0mchoice\u001b[0m \u001b[1;32min\u001b[0m \u001b[0mchoices\u001b[0m\u001b[1;33m.\u001b[0m\u001b[0mitems\u001b[0m\u001b[1;33m(\u001b[0m\u001b[1;33m)\u001b[0m\u001b[1;33m:\u001b[0m\u001b[1;33m\u001b[0m\u001b[1;33m\u001b[0m\u001b[0m\n\u001b[0m\u001b[0;32m    109\u001b[0m             \u001b[0mprocessed\u001b[0m \u001b[1;33m=\u001b[0m \u001b[0mpre_processor\u001b[0m\u001b[1;33m(\u001b[0m\u001b[0mprocessor\u001b[0m\u001b[1;33m(\u001b[0m\u001b[0mchoice\u001b[0m\u001b[1;33m)\u001b[0m\u001b[1;33m)\u001b[0m\u001b[1;33m\u001b[0m\u001b[1;33m\u001b[0m\u001b[0m\n",
      "\u001b[1;31mAttributeError\u001b[0m: 'list' object has no attribute 'items'",
      "\nDuring handling of the above exception, another exception occurred:\n",
      "\u001b[1;31mTypeError\u001b[0m                                 Traceback (most recent call last)",
      "\u001b[1;32m<ipython-input-126-b586b1a4804d>\u001b[0m in \u001b[0;36m<module>\u001b[1;34m\u001b[0m\n\u001b[0;32m      1\u001b[0m \u001b[1;32mfor\u001b[0m \u001b[0mname\u001b[0m \u001b[1;32min\u001b[0m \u001b[0mname_checks_no_genius\u001b[0m\u001b[1;33m:\u001b[0m\u001b[1;33m\u001b[0m\u001b[1;33m\u001b[0m\u001b[0m\n\u001b[1;32m----> 2\u001b[1;33m     \u001b[1;32mif\u001b[0m\u001b[1;33m(\u001b[0m\u001b[0mprocess\u001b[0m\u001b[1;33m.\u001b[0m\u001b[0mextract\u001b[0m\u001b[1;33m(\u001b[0m\u001b[0mname\u001b[0m\u001b[1;33m,\u001b[0m \u001b[0mname_choices\u001b[0m\u001b[1;33m,\u001b[0m \u001b[0mscorer\u001b[0m\u001b[1;33m=\u001b[0m\u001b[0mfuzz\u001b[0m\u001b[1;33m.\u001b[0m\u001b[0mratio\u001b[0m\u001b[1;33m,\u001b[0m \u001b[0mlimit\u001b[0m\u001b[1;33m=\u001b[0m\u001b[1;36m1\u001b[0m\u001b[1;33m)\u001b[0m\u001b[1;33m[\u001b[0m\u001b[1;36m0\u001b[0m\u001b[1;33m]\u001b[0m\u001b[1;33m[\u001b[0m\u001b[1;36m1\u001b[0m\u001b[1;33m]\u001b[0m \u001b[1;33m>\u001b[0m \u001b[1;36m75\u001b[0m\u001b[1;33m)\u001b[0m\u001b[1;33m:\u001b[0m\u001b[1;33m\u001b[0m\u001b[1;33m\u001b[0m\u001b[0m\n\u001b[0m\u001b[0;32m      3\u001b[0m         \u001b[0mprint\u001b[0m\u001b[1;33m(\u001b[0m\u001b[1;34mf\"{name}  : {process.extract(name, name_choices, scorer=fuzz.ratio, limit=1)}\"\u001b[0m\u001b[1;33m)\u001b[0m\u001b[1;33m\u001b[0m\u001b[1;33m\u001b[0m\u001b[0m\n",
      "\u001b[1;32m~\\Anaconda3\\lib\\site-packages\\fuzzywuzzy\\process.py\u001b[0m in \u001b[0;36mextract\u001b[1;34m(query, choices, processor, scorer, limit)\u001b[0m\n\u001b[0;32m    166\u001b[0m     \"\"\"\n\u001b[0;32m    167\u001b[0m     \u001b[0msl\u001b[0m \u001b[1;33m=\u001b[0m \u001b[0mextractWithoutOrder\u001b[0m\u001b[1;33m(\u001b[0m\u001b[0mquery\u001b[0m\u001b[1;33m,\u001b[0m \u001b[0mchoices\u001b[0m\u001b[1;33m,\u001b[0m \u001b[0mprocessor\u001b[0m\u001b[1;33m,\u001b[0m \u001b[0mscorer\u001b[0m\u001b[1;33m)\u001b[0m\u001b[1;33m\u001b[0m\u001b[1;33m\u001b[0m\u001b[0m\n\u001b[1;32m--> 168\u001b[1;33m     \u001b[1;32mreturn\u001b[0m \u001b[0mheapq\u001b[0m\u001b[1;33m.\u001b[0m\u001b[0mnlargest\u001b[0m\u001b[1;33m(\u001b[0m\u001b[0mlimit\u001b[0m\u001b[1;33m,\u001b[0m \u001b[0msl\u001b[0m\u001b[1;33m,\u001b[0m \u001b[0mkey\u001b[0m\u001b[1;33m=\u001b[0m\u001b[1;32mlambda\u001b[0m \u001b[0mi\u001b[0m\u001b[1;33m:\u001b[0m \u001b[0mi\u001b[0m\u001b[1;33m[\u001b[0m\u001b[1;36m1\u001b[0m\u001b[1;33m]\u001b[0m\u001b[1;33m)\u001b[0m \u001b[1;32mif\u001b[0m \u001b[0mlimit\u001b[0m \u001b[1;32mis\u001b[0m \u001b[1;32mnot\u001b[0m \u001b[1;32mNone\u001b[0m \u001b[1;32melse\u001b[0m\u001b[0;31m \u001b[0m\u001b[0;31m\\\u001b[0m\u001b[1;33m\u001b[0m\u001b[1;33m\u001b[0m\u001b[0m\n\u001b[0m\u001b[0;32m    169\u001b[0m         \u001b[0msorted\u001b[0m\u001b[1;33m(\u001b[0m\u001b[0msl\u001b[0m\u001b[1;33m,\u001b[0m \u001b[0mkey\u001b[0m\u001b[1;33m=\u001b[0m\u001b[1;32mlambda\u001b[0m \u001b[0mi\u001b[0m\u001b[1;33m:\u001b[0m \u001b[0mi\u001b[0m\u001b[1;33m[\u001b[0m\u001b[1;36m1\u001b[0m\u001b[1;33m]\u001b[0m\u001b[1;33m,\u001b[0m \u001b[0mreverse\u001b[0m\u001b[1;33m=\u001b[0m\u001b[1;32mTrue\u001b[0m\u001b[1;33m)\u001b[0m\u001b[1;33m\u001b[0m\u001b[1;33m\u001b[0m\u001b[0m\n\u001b[0;32m    170\u001b[0m \u001b[1;33m\u001b[0m\u001b[0m\n",
      "\u001b[1;32m~\\Anaconda3\\lib\\heapq.py\u001b[0m in \u001b[0;36mnlargest\u001b[1;34m(n, iterable, key)\u001b[0m\n\u001b[0;32m    535\u001b[0m             \u001b[0mresult\u001b[0m \u001b[1;33m=\u001b[0m \u001b[0mmax\u001b[0m\u001b[1;33m(\u001b[0m\u001b[0mit\u001b[0m\u001b[1;33m,\u001b[0m \u001b[0mdefault\u001b[0m\u001b[1;33m=\u001b[0m\u001b[0msentinel\u001b[0m\u001b[1;33m)\u001b[0m\u001b[1;33m\u001b[0m\u001b[1;33m\u001b[0m\u001b[0m\n\u001b[0;32m    536\u001b[0m         \u001b[1;32melse\u001b[0m\u001b[1;33m:\u001b[0m\u001b[1;33m\u001b[0m\u001b[1;33m\u001b[0m\u001b[0m\n\u001b[1;32m--> 537\u001b[1;33m             \u001b[0mresult\u001b[0m \u001b[1;33m=\u001b[0m \u001b[0mmax\u001b[0m\u001b[1;33m(\u001b[0m\u001b[0mit\u001b[0m\u001b[1;33m,\u001b[0m \u001b[0mdefault\u001b[0m\u001b[1;33m=\u001b[0m\u001b[0msentinel\u001b[0m\u001b[1;33m,\u001b[0m \u001b[0mkey\u001b[0m\u001b[1;33m=\u001b[0m\u001b[0mkey\u001b[0m\u001b[1;33m)\u001b[0m\u001b[1;33m\u001b[0m\u001b[1;33m\u001b[0m\u001b[0m\n\u001b[0m\u001b[0;32m    538\u001b[0m         \u001b[1;32mreturn\u001b[0m \u001b[1;33m[\u001b[0m\u001b[1;33m]\u001b[0m \u001b[1;32mif\u001b[0m \u001b[0mresult\u001b[0m \u001b[1;32mis\u001b[0m \u001b[0msentinel\u001b[0m \u001b[1;32melse\u001b[0m \u001b[1;33m[\u001b[0m\u001b[0mresult\u001b[0m\u001b[1;33m]\u001b[0m\u001b[1;33m\u001b[0m\u001b[1;33m\u001b[0m\u001b[0m\n\u001b[0;32m    539\u001b[0m \u001b[1;33m\u001b[0m\u001b[0m\n",
      "\u001b[1;32m~\\Anaconda3\\lib\\site-packages\\fuzzywuzzy\\process.py\u001b[0m in \u001b[0;36mextractWithoutOrder\u001b[1;34m(query, choices, processor, scorer, score_cutoff)\u001b[0m\n\u001b[0;32m    114\u001b[0m         \u001b[1;31m# It's a list; just iterate over it.\u001b[0m\u001b[1;33m\u001b[0m\u001b[1;33m\u001b[0m\u001b[1;33m\u001b[0m\u001b[0m\n\u001b[0;32m    115\u001b[0m         \u001b[1;32mfor\u001b[0m \u001b[0mchoice\u001b[0m \u001b[1;32min\u001b[0m \u001b[0mchoices\u001b[0m\u001b[1;33m:\u001b[0m\u001b[1;33m\u001b[0m\u001b[1;33m\u001b[0m\u001b[0m\n\u001b[1;32m--> 116\u001b[1;33m             \u001b[0mprocessed\u001b[0m \u001b[1;33m=\u001b[0m \u001b[0mpre_processor\u001b[0m\u001b[1;33m(\u001b[0m\u001b[0mprocessor\u001b[0m\u001b[1;33m(\u001b[0m\u001b[0mchoice\u001b[0m\u001b[1;33m)\u001b[0m\u001b[1;33m)\u001b[0m\u001b[1;33m\u001b[0m\u001b[1;33m\u001b[0m\u001b[0m\n\u001b[0m\u001b[0;32m    117\u001b[0m             \u001b[0mscore\u001b[0m \u001b[1;33m=\u001b[0m \u001b[0mscorer\u001b[0m\u001b[1;33m(\u001b[0m\u001b[0mprocessed_query\u001b[0m\u001b[1;33m,\u001b[0m \u001b[0mprocessed\u001b[0m\u001b[1;33m)\u001b[0m\u001b[1;33m\u001b[0m\u001b[1;33m\u001b[0m\u001b[0m\n\u001b[0;32m    118\u001b[0m             \u001b[1;32mif\u001b[0m \u001b[0mscore\u001b[0m \u001b[1;33m>=\u001b[0m \u001b[0mscore_cutoff\u001b[0m\u001b[1;33m:\u001b[0m\u001b[1;33m\u001b[0m\u001b[1;33m\u001b[0m\u001b[0m\n",
      "\u001b[1;32m~\\Anaconda3\\lib\\site-packages\\fuzzywuzzy\\utils.py\u001b[0m in \u001b[0;36mfull_process\u001b[1;34m(s, force_ascii)\u001b[0m\n\u001b[0;32m     93\u001b[0m         \u001b[0ms\u001b[0m \u001b[1;33m=\u001b[0m \u001b[0masciidammit\u001b[0m\u001b[1;33m(\u001b[0m\u001b[0ms\u001b[0m\u001b[1;33m)\u001b[0m\u001b[1;33m\u001b[0m\u001b[1;33m\u001b[0m\u001b[0m\n\u001b[0;32m     94\u001b[0m     \u001b[1;31m# Keep only Letters and Numbers (see Unicode docs).\u001b[0m\u001b[1;33m\u001b[0m\u001b[1;33m\u001b[0m\u001b[1;33m\u001b[0m\u001b[0m\n\u001b[1;32m---> 95\u001b[1;33m     \u001b[0mstring_out\u001b[0m \u001b[1;33m=\u001b[0m \u001b[0mStringProcessor\u001b[0m\u001b[1;33m.\u001b[0m\u001b[0mreplace_non_letters_non_numbers_with_whitespace\u001b[0m\u001b[1;33m(\u001b[0m\u001b[0ms\u001b[0m\u001b[1;33m)\u001b[0m\u001b[1;33m\u001b[0m\u001b[1;33m\u001b[0m\u001b[0m\n\u001b[0m\u001b[0;32m     96\u001b[0m     \u001b[1;31m# Force into lowercase.\u001b[0m\u001b[1;33m\u001b[0m\u001b[1;33m\u001b[0m\u001b[1;33m\u001b[0m\u001b[0m\n\u001b[0;32m     97\u001b[0m     \u001b[0mstring_out\u001b[0m \u001b[1;33m=\u001b[0m \u001b[0mStringProcessor\u001b[0m\u001b[1;33m.\u001b[0m\u001b[0mto_lower_case\u001b[0m\u001b[1;33m(\u001b[0m\u001b[0mstring_out\u001b[0m\u001b[1;33m)\u001b[0m\u001b[1;33m\u001b[0m\u001b[1;33m\u001b[0m\u001b[0m\n",
      "\u001b[1;32m~\\Anaconda3\\lib\\site-packages\\fuzzywuzzy\\string_processing.py\u001b[0m in \u001b[0;36mreplace_non_letters_non_numbers_with_whitespace\u001b[1;34m(cls, a_string)\u001b[0m\n\u001b[0;32m     24\u001b[0m         \u001b[0mnumbers\u001b[0m \u001b[1;32mwith\u001b[0m \u001b[0ma\u001b[0m \u001b[0msingle\u001b[0m \u001b[0mwhite\u001b[0m \u001b[0mspace\u001b[0m\u001b[1;33m.\u001b[0m\u001b[1;33m\u001b[0m\u001b[1;33m\u001b[0m\u001b[0m\n\u001b[0;32m     25\u001b[0m         \"\"\"\n\u001b[1;32m---> 26\u001b[1;33m         \u001b[1;32mreturn\u001b[0m \u001b[0mcls\u001b[0m\u001b[1;33m.\u001b[0m\u001b[0mregex\u001b[0m\u001b[1;33m.\u001b[0m\u001b[0msub\u001b[0m\u001b[1;33m(\u001b[0m\u001b[1;34m\" \"\u001b[0m\u001b[1;33m,\u001b[0m \u001b[0ma_string\u001b[0m\u001b[1;33m)\u001b[0m\u001b[1;33m\u001b[0m\u001b[1;33m\u001b[0m\u001b[0m\n\u001b[0m\u001b[0;32m     27\u001b[0m \u001b[1;33m\u001b[0m\u001b[0m\n\u001b[0;32m     28\u001b[0m     \u001b[0mstrip\u001b[0m \u001b[1;33m=\u001b[0m \u001b[0mstaticmethod\u001b[0m\u001b[1;33m(\u001b[0m\u001b[0mstring\u001b[0m\u001b[1;33m.\u001b[0m\u001b[0mstrip\u001b[0m\u001b[1;33m)\u001b[0m\u001b[1;33m\u001b[0m\u001b[1;33m\u001b[0m\u001b[0m\n",
      "\u001b[1;31mTypeError\u001b[0m: expected string or bytes-like object"
     ]
    }
   ],
   "source": [
    "for name in name_checks_no_genius:\n",
    "    if(process.extract(name, name_choices, scorer=fuzz.ratio, limit=1)[0][1] > 75):\n",
    "        print(f\"{name}  : {process.extract(name, name_choices, scorer=fuzz.ratio, limit=1)}\")"
   ]
  },
  {
   "cell_type": "code",
   "execution_count": 63,
   "metadata": {},
   "outputs": [],
   "source": [
    "genius.loc[genius['artist_clean'] == 'grandmaster melle mel and the furious five', 'artist_clean'] = 'grandmaster flash and the furious five'"
   ]
  },
  {
   "cell_type": "code",
   "execution_count": 64,
   "metadata": {},
   "outputs": [
    {
     "name": "stdout",
     "output_type": "stream",
     "text": [
      "Matched: 982\n",
      "Match Rate: 0.7874899759422614\n"
     ]
    }
   ],
   "source": [
    "#Artists that are in spotify and not in Genius\n",
    "not_matching = genius[~genius['artist_clean'].isin(spotify_artist_list_deduped)].drop_duplicates('artist_clean')['artist_clean'].shape[0]\n",
    "total = genius['artist_clean'].drop_duplicates().shape[0]\n",
    "print(f\"Matched: {total-not_matching}\")\n",
    "print(f\"Match Rate: {1- not_matching/total}\")"
   ]
  },
  {
   "cell_type": "markdown",
   "metadata": {},
   "source": [
    "## Distance Exploration -- Album Name"
   ]
  },
  {
   "cell_type": "markdown",
   "metadata": {},
   "source": [
    "#### Building our Baseline Match Rate"
   ]
  },
  {
   "cell_type": "code",
   "execution_count": 217,
   "metadata": {},
   "outputs": [],
   "source": [
    "spotify_album_list_deduped = list(spotify['album_name'].unique())"
   ]
  },
  {
   "cell_type": "code",
   "execution_count": 218,
   "metadata": {},
   "outputs": [],
   "source": [
    "#Album that are in spotify and not in Genius\n",
    "album_checks_no_genius = genius[~genius['album'].isin(spotify_album_list_deduped)].drop_duplicates('album').dropna()['album']"
   ]
  },
  {
   "cell_type": "code",
   "execution_count": 219,
   "metadata": {
    "scrolled": false
   },
   "outputs": [
    {
     "name": "stdout",
     "output_type": "stream",
     "text": [
      "Matched: 4169\n",
      "Match Rate: 0.5224310776942356\n"
     ]
    }
   ],
   "source": [
    "#Artists that are in spotify and not in Genius\n",
    "not_matching = genius[~genius['album'].isin(spotify_album_list_deduped)].drop_duplicates('album').dropna()['album'].shape[0]\n",
    "total = genius['album'].drop_duplicates().dropna().shape[0]\n",
    "print(f\"Matched: {total-not_matching}\")\n",
    "print(f\"Match Rate: {1- not_matching/total}\")"
   ]
  },
  {
   "cell_type": "markdown",
   "metadata": {},
   "source": [
    "#### Text Processing for Album Name"
   ]
  },
  {
   "cell_type": "code",
   "execution_count": 220,
   "metadata": {},
   "outputs": [],
   "source": [
    "string = 'a long red hot los angeles summer night [instrumentals]'"
   ]
  },
  {
   "cell_type": "code",
   "execution_count": 221,
   "metadata": {},
   "outputs": [],
   "source": [
    "spotify['album_name_clean'] = spotify['album_name'].str.replace('$', 'S')\n",
    "spotify['album_name_clean'] = spotify['album_name_clean'].str.replace(' LP', '')\n",
    "spotify['album_name_clean'] = spotify['album_name_clean'].str.replace(' EP', '')\n",
    "spotify['album_name_clean'] = spotify['album_name_clean'].str.lower()\n",
    "\n",
    "\n",
    "spotify['album_name_clean'] = spotify['album_name_clean'].str.replace('edition', '')\n",
    "spotify['album_name_clean'] = spotify['album_name_clean'].str.replace('version', '')\n",
    "spotify['album_name_clean'] = spotify['album_name_clean'].str.replace('deluxe', '')\n",
    "spotify['album_name_clean'] = spotify['album_name_clean'].str.replace('reissue', '')\n",
    "spotify['album_name_clean'] = spotify['album_name_clean'].str.replace('remastered', '')\n",
    "spotify['album_name_clean'] = spotify['album_name_clean'].str.replace(' ots', ' ')\n",
    "spotify['album_name_clean'] = spotify['album_name_clean'].str.replace('(original motion picture soundtrack)', '')\n",
    "\n",
    "\n",
    "spotify['album_name_clean'] = spotify['album_name_clean'].str.replace('volume one', 'volume 1')\n",
    "spotify['album_name_clean'] = spotify['album_name_clean'].str.replace('volume two', 'volume 2')\n",
    "spotify['album_name_clean'] = spotify['album_name_clean'].str.replace('volume three', 'volume 3')\n",
    "spotify['album_name_clean'] = spotify['album_name_clean'].str.replace('volume four', 'volume 4')\n",
    "spotify['album_name_clean'] = spotify['album_name_clean'].str.replace('volume five', 'volume 5')\n",
    "\n",
    "spotify['album_name_clean'] = spotify['album_name_clean'].str.replace('volume 1', 'vol 1')\n",
    "spotify['album_name_clean'] = spotify['album_name_clean'].str.replace('volume 2', 'vol 2')\n",
    "spotify['album_name_clean'] = spotify['album_name_clean'].str.replace('volume 3', 'vol 3')\n",
    "spotify['album_name_clean'] = spotify['album_name_clean'].str.replace('volume 4', 'vol 4')\n",
    "spotify['album_name_clean'] = spotify['album_name_clean'].str.replace('volume 5', 'vol 5')\n",
    "\n",
    "spotify['album_name_clean'] = spotify['album_name_clean'].str.replace('vol 1', 'vol1')\n",
    "spotify['album_name_clean'] = spotify['album_name_clean'].str.replace('vol 2', 'vol2')\n",
    "spotify['album_name_clean'] = spotify['album_name_clean'].str.replace('vol 3', 'vol3')\n",
    "spotify['album_name_clean'] = spotify['album_name_clean'].str.replace('vol 4', 'vol4')\n",
    "spotify['album_name_clean'] = spotify['album_name_clean'].str.replace('vol 5', 'vol5')\n",
    "\n",
    "spotify['album_name_clean'] = spotify['album_name_clean'].str.replace('vol1', 'v1')\n",
    "spotify['album_name_clean'] = spotify['album_name_clean'].str.replace('vol2', 'v2')\n",
    "spotify['album_name_clean'] = spotify['album_name_clean'].str.replace('vol3', 'v3')\n",
    "spotify['album_name_clean'] = spotify['album_name_clean'].str.replace('vol4', 'v4')\n",
    "spotify['album_name_clean'] = spotify['album_name_clean'].str.replace('vol5', 'v5')\n",
    "\n",
    "\n",
    "\n",
    "spotify['album_name_clean'] = spotify['album_name_clean'].str.replace(\"’\", \"\")\n",
    "spotify['album_name_clean'] = spotify['album_name_clean'].str.replace(\"'\", \"\")\n",
    "spotify['album_name_clean'] = spotify['album_name_clean'].str.replace('&', 'and')\n",
    "spotify['album_name_clean'] = spotify['album_name_clean'].str.replace('!', '') \n",
    "spotify['album_name_clean'] = spotify['album_name_clean'].str.replace(\"([\\(\\[]).*?([\\)\\]])\", '', regex = True)\n",
    "spotify['album_name_clean'] = spotify['album_name_clean'].str.replace('([ ]{2,})', ' ', regex = True) \n",
    "spotify['album_name_clean'] = spotify['album_name_clean'].str.strip()"
   ]
  },
  {
   "cell_type": "code",
   "execution_count": 222,
   "metadata": {},
   "outputs": [],
   "source": [
    "genius['album_name_clean'] = genius['album'].str.replace('$', 'S')\n",
    "\n",
    "genius['album_name_clean'] = genius['album_name_clean'].str.replace(' EP', '')\n",
    "genius['album_name_clean'] = genius['album_name_clean'].str.replace(' LP', '')\n",
    "genius['album_name_clean'] = genius['album_name_clean'].str.lower()\n",
    "\n",
    "\n",
    "\n",
    "genius['album_name_clean'] = genius['album_name_clean'].str.replace('edition', '')\n",
    "genius['album_name_clean'] = genius['album_name_clean'].str.replace('version', '')\n",
    "genius['album_name_clean'] = genius['album_name_clean'].str.replace('deluxe', '')\n",
    "genius['album_name_clean'] = genius['album_name_clean'].str.replace('reissue', '')\n",
    "genius['album_name_clean'] = genius['album_name_clean'].str.replace('remastered', '')\n",
    "genius['album_name_clean'] = genius['album_name_clean'].str.replace(' ots', '')\n",
    "genius['album_name_clean'] = genius['album_name_clean'].str.replace('(original motion picture soundtrack)', '')\n",
    "\n",
    "genius['album_name_clean'] = genius['album_name_clean'].str.replace('volume one', 'volume 1')\n",
    "genius['album_name_clean'] = genius['album_name_clean'].str.replace('volume two', 'volume 2')\n",
    "genius['album_name_clean'] = genius['album_name_clean'].str.replace('volume three', 'volume 3')\n",
    "genius['album_name_clean'] = genius['album_name_clean'].str.replace('volume four', 'volume 4')\n",
    "genius['album_name_clean'] = genius['album_name_clean'].str.replace('volume five', 'volume 5')\n",
    "\n",
    "genius['album_name_clean'] = genius['album_name_clean'].str.replace('volume 1', 'vol 1')\n",
    "genius['album_name_clean'] = genius['album_name_clean'].str.replace('volume 2', 'vol 2')\n",
    "genius['album_name_clean'] = genius['album_name_clean'].str.replace('volume 3', 'vol 3')\n",
    "genius['album_name_clean'] = genius['album_name_clean'].str.replace('volume 4', 'vol 4')\n",
    "genius['album_name_clean'] = genius['album_name_clean'].str.replace('volume 5', 'vol 5')\n",
    "\n",
    "genius['album_name_clean'] = genius['album_name_clean'].str.replace('vol 1', 'vol1')\n",
    "genius['album_name_clean'] = genius['album_name_clean'].str.replace('vol 2', 'vol2')\n",
    "genius['album_name_clean'] = genius['album_name_clean'].str.replace('vol 3', 'vol3')\n",
    "genius['album_name_clean'] = genius['album_name_clean'].str.replace('vol 4', 'vol4')\n",
    "genius['album_name_clean'] = genius['album_name_clean'].str.replace('vol 5', 'vol5')\n",
    "\n",
    "genius['album_name_clean'] = genius['album_name_clean'].str.replace('vol1', 'v1')\n",
    "genius['album_name_clean'] = genius['album_name_clean'].str.replace('vol2', 'v2')\n",
    "genius['album_name_clean'] = genius['album_name_clean'].str.replace('vol3', 'v3')\n",
    "genius['album_name_clean'] = genius['album_name_clean'].str.replace('vol4', 'v4')\n",
    "genius['album_name_clean'] = genius['album_name_clean'].str.replace('vol5', 'v5')\n",
    "\n",
    "\n",
    "genius['album_name_clean'] = genius['album_name_clean'].str.replace(\"’\", \"\")\n",
    "genius['album_name_clean'] = genius['album_name_clean'].str.replace(\"'\", \"\")\n",
    "genius['album_name_clean'] = genius['album_name_clean'].str.replace('&', 'and')\n",
    "genius['album_name_clean'] = genius['album_name_clean'].str.replace('!', '') \n",
    "genius['album_name_clean'] = genius['album_name_clean'].str.replace(\"([\\(\\[]).*?([\\)\\]])\", '', regex = True)\n",
    "genius['album_name_clean'] = genius['album_name_clean'].str.replace('([ ]{2,})', ' ', regex = True) \n",
    "genius['album_name_clean'] = genius['album_name_clean'].str.strip()\n",
    "genius['album_name_clean'] = genius['album_name_clean'].str.lower()"
   ]
  },
  {
   "cell_type": "code",
   "execution_count": 223,
   "metadata": {},
   "outputs": [],
   "source": [
    "spotify_album_list_deduped = list(spotify['album_name_clean'].unique())"
   ]
  },
  {
   "cell_type": "code",
   "execution_count": 224,
   "metadata": {},
   "outputs": [],
   "source": [
    "#Album that are in spotify and not in Genius\n",
    "album_checks_no_genius = genius[~genius['album_name_clean'].isin(spotify_album_list_deduped)].drop_duplicates('album_name_clean').dropna()['album_name_clean']"
   ]
  },
  {
   "cell_type": "code",
   "execution_count": 225,
   "metadata": {
    "scrolled": true
   },
   "outputs": [
    {
     "name": "stdout",
     "output_type": "stream",
     "text": [
      "Matched: 4865\n",
      "Match Rate: 0.6208524757529352\n"
     ]
    }
   ],
   "source": [
    "#Artists that are in spotify and not in Genius\n",
    "not_matching = genius[~genius['album_name_clean'].isin(spotify_album_list_deduped)].drop_duplicates('album_name_clean').dropna()['album_name_clean'].shape[0]\n",
    "total = genius['album_name_clean'].drop_duplicates().dropna().shape[0]\n",
    "print(f\"Matched: {total-not_matching}\")\n",
    "print(f\"Match Rate: {1- not_matching/total}\")"
   ]
  },
  {
   "cell_type": "markdown",
   "metadata": {},
   "source": [
    "##### Distance on Artist_Album"
   ]
  },
  {
   "cell_type": "code",
   "execution_count": 226,
   "metadata": {},
   "outputs": [],
   "source": [
    "spotify['artist_album_clean'] = spotify['artist_clean'] + \"|\" + spotify['album_name_clean']  "
   ]
  },
  {
   "cell_type": "code",
   "execution_count": 227,
   "metadata": {},
   "outputs": [],
   "source": [
    "genius['artist_album_clean'] = genius['artist_clean'] + \"|\" + genius['album_name_clean']"
   ]
  },
  {
   "cell_type": "code",
   "execution_count": 228,
   "metadata": {},
   "outputs": [],
   "source": [
    "spotify_artist_album_list_deduped = list(spotify['artist_album_clean'].unique())"
   ]
  },
  {
   "cell_type": "code",
   "execution_count": 229,
   "metadata": {},
   "outputs": [],
   "source": [
    "##### Album that are in spotify and not in Genius\n",
    "artist_album_checks_no_genius = genius[~genius['artist_album_clean'].isin(spotify_artist_album_list_deduped)].drop_duplicates('artist_album_clean').dropna()['artist_album_clean']"
   ]
  },
  {
   "cell_type": "markdown",
   "metadata": {},
   "source": [
    "##### Clean the Track"
   ]
  },
  {
   "cell_type": "code",
   "execution_count": 231,
   "metadata": {},
   "outputs": [
    {
     "data": {
      "text/plain": [
       "Index(['acousticness', 'album_id', 'album_name', 'analysis_url', 'arist_x',\n",
       "       'artist_id', 'danceability', 'duration_ms', 'energy', 'follower_x',\n",
       "       'genres_x', 'id', 'image_x', 'instrumentalness', 'key', 'liveness',\n",
       "       'loudness', 'mode', 'pop_x', 'preview_url', 'speechiness', 'tempo',\n",
       "       'time_signature', 'track_href', 'track_id', 'track_name', 'type', 'uri',\n",
       "       'valence', 'arist_y', 'genres_y', 'image_y', 'pop_y', 'follower_y',\n",
       "       'artist_album_track_key', 'artist_clean', 'album_name_clean',\n",
       "       'artist_album_clean'],\n",
       "      dtype='object')"
      ]
     },
     "execution_count": 231,
     "metadata": {},
     "output_type": "execute_result"
    }
   ],
   "source": [
    "spotify.columns"
   ]
  },
  {
   "cell_type": "code",
   "execution_count": 237,
   "metadata": {},
   "outputs": [],
   "source": [
    "genius['song_name_clean'] = genius['song'].str.replace('$', 'S')"
   ]
  },
  {
   "cell_type": "code",
   "execution_count": 238,
   "metadata": {},
   "outputs": [],
   "source": [
    "spotify['track_name_clean'] = spotify['track_name'].str.replace('$', 'S')"
   ]
  },
  {
   "cell_type": "markdown",
   "metadata": {},
   "source": [
    "##### Build keys"
   ]
  },
  {
   "cell_type": "code",
   "execution_count": 239,
   "metadata": {},
   "outputs": [],
   "source": [
    "genius['artist_album_track_clean_key'] = genius['artist_clean'] + '|' + genius['album_name_clean'] + '|' + genius['song_name_clean']\n",
    "spotify['artist_album_track_clean_key'] =  spotify['artist_clean'] + '|' + spotify['album_name_clean'] + '|' + spotify['track_name_clean']\n",
    "\n",
    "genius['artist_album_track_clean_key'] = genius['artist_album_track_clean_key'].str.strip()\n",
    "spotify['artist_album_track_clean_key'] =  spotify['artist_album_track_clean_key'].str.strip()"
   ]
  },
  {
   "cell_type": "code",
   "execution_count": 240,
   "metadata": {},
   "outputs": [],
   "source": [
    "# Artist_Track field\n",
    "genius['artist_track_clean_key'] = genius['artist_clean'] + '|'  + genius['song_name_clean']\n",
    "spotify['artist_track_clean_key'] =  spotify['artist_clean'] + '|' + spotify['track_name_clean']\n"
   ]
  },
  {
   "cell_type": "code",
   "execution_count": 241,
   "metadata": {},
   "outputs": [],
   "source": [
    "#Album_Track field\n",
    "genius['album_track_clean_key'] = genius['album_name_clean'] + '|'  + genius['song_name_clean']\n",
    "spotify['album_track_clean_key'] =  spotify['album_name_clean'] + '|' + spotify['track_name_clean']\n"
   ]
  },
  {
   "cell_type": "code",
   "execution_count": 176,
   "metadata": {},
   "outputs": [
    {
     "data": {
      "text/plain": [
       "((45573, 14), (240556, 41))"
      ]
     },
     "execution_count": 176,
     "metadata": {},
     "output_type": "execute_result"
    }
   ],
   "source": [
    "genius.shape, spotify.shape"
   ]
  },
  {
   "cell_type": "code",
   "execution_count": 242,
   "metadata": {
    "scrolled": false
   },
   "outputs": [],
   "source": [
    "# merge on Artist_album_track\n",
    "pd.set_option('display.max_columns', 60)\n",
    "test1 = pd.merge(genius, spotify, how='inner', on='artist_album_track_key')"
   ]
  },
  {
   "cell_type": "code",
   "execution_count": 252,
   "metadata": {},
   "outputs": [
    {
     "data": {
      "text/plain": [
       "(20211, 56)"
      ]
     },
     "execution_count": 252,
     "metadata": {},
     "output_type": "execute_result"
    }
   ],
   "source": [
    "test1.shape"
   ]
  },
  {
   "cell_type": "code",
   "execution_count": 253,
   "metadata": {},
   "outputs": [],
   "source": [
    "# merge on Artist_field\n",
    "test2= pd.merge(genius, spotify, how='inner', on='artist_track_clean_key')"
   ]
  },
  {
   "cell_type": "code",
   "execution_count": 254,
   "metadata": {},
   "outputs": [
    {
     "data": {
      "text/plain": [
       "(20290, 56)"
      ]
     },
     "execution_count": 254,
     "metadata": {},
     "output_type": "execute_result"
    }
   ],
   "source": [
    "test2.shape"
   ]
  },
  {
   "cell_type": "code",
   "execution_count": 255,
   "metadata": {},
   "outputs": [],
   "source": [
    "test3= pd.merge(genius, spotify, how='inner', on='album_track_clean_key')"
   ]
  },
  {
   "cell_type": "code",
   "execution_count": 256,
   "metadata": {},
   "outputs": [
    {
     "data": {
      "text/plain": [
       "(15844, 56)"
      ]
     },
     "execution_count": 256,
     "metadata": {},
     "output_type": "execute_result"
    }
   ],
   "source": [
    "test3.shape"
   ]
  },
  {
   "cell_type": "code",
   "execution_count": 268,
   "metadata": {},
   "outputs": [],
   "source": [
    "combined_deduped_df = test2.append(test3).drop_duplicates('track_id')"
   ]
  },
  {
   "cell_type": "code",
   "execution_count": 270,
   "metadata": {},
   "outputs": [
    {
     "data": {
      "text/plain": [
       "acousticness                          0\n",
       "album                               369\n",
       "album_id                              0\n",
       "album_name                            0\n",
       "album_name_clean_x                  369\n",
       "album_name_clean_y                    0\n",
       "album_track_clean_key             20290\n",
       "album_track_clean_key_x             686\n",
       "album_track_clean_key_y             317\n",
       "analysis_url                          0\n",
       "arist_x                             917\n",
       "arist_y                               0\n",
       "artist                                0\n",
       "artist_album_clean_x                369\n",
       "artist_album_clean_y                  0\n",
       "artist_album_track_clean_key_x      369\n",
       "artist_album_track_clean_key_y        0\n",
       "artist_album_track_key_x              0\n",
       "artist_album_track_key_y              0\n",
       "artist_clean_x                        0\n",
       "artist_clean_y                        0\n",
       "artist_id                             0\n",
       "artist_track_clean_key              317\n",
       "artist_track_clean_key_x          20290\n",
       "artist_track_clean_key_y          20290\n",
       "danceability                          0\n",
       "date                               4699\n",
       "duration_ms                           0\n",
       "energy                                0\n",
       "features                              0\n",
       "follower_x                          917\n",
       "follower_y                            0\n",
       "genres_x                           1434\n",
       "genres_y                            575\n",
       "id                                    0\n",
       "image_x                           20607\n",
       "image_y                           20607\n",
       "instrumentalness                      0\n",
       "key                                   0\n",
       "liveness                              0\n",
       "loudness                              0\n",
       "lyrics                                0\n",
       "mode                                  0\n",
       "pop_x                               917\n",
       "pop_y                                 0\n",
       "preview_url                          80\n",
       "producers                             0\n",
       "song                                  0\n",
       "song_name_clean                       0\n",
       "speechiness                           0\n",
       "tempo                                 0\n",
       "time_signature                        0\n",
       "track_href                            0\n",
       "track_id                              0\n",
       "track_name                            0\n",
       "track_name_clean                      0\n",
       "type                                  0\n",
       "uri                                   0\n",
       "valence                               0\n",
       "dtype: int64"
      ]
     },
     "execution_count": 270,
     "metadata": {},
     "output_type": "execute_result"
    }
   ],
   "source": [
    "combined_deduped_df.isnull().sum()"
   ]
  },
  {
   "cell_type": "code",
   "execution_count": 269,
   "metadata": {},
   "outputs": [
    {
     "data": {
      "text/plain": [
       "Index(['acousticness', 'album', 'album_id', 'album_name', 'album_name_clean_x',\n",
       "       'album_name_clean_y', 'album_track_clean_key',\n",
       "       'album_track_clean_key_x', 'album_track_clean_key_y', 'analysis_url',\n",
       "       'arist_x', 'arist_y', 'artist', 'artist_album_clean_x',\n",
       "       'artist_album_clean_y', 'artist_album_track_clean_key_x',\n",
       "       'artist_album_track_clean_key_y', 'artist_album_track_key_x',\n",
       "       'artist_album_track_key_y', 'artist_clean_x', 'artist_clean_y',\n",
       "       'artist_id', 'artist_track_clean_key', 'artist_track_clean_key_x',\n",
       "       'artist_track_clean_key_y', 'danceability', 'date', 'duration_ms',\n",
       "       'energy', 'features', 'follower_x', 'follower_y', 'genres_x',\n",
       "       'genres_y', 'id', 'image_x', 'image_y', 'instrumentalness', 'key',\n",
       "       'liveness', 'loudness', 'lyrics', 'mode', 'pop_x', 'pop_y',\n",
       "       'preview_url', 'producers', 'song', 'song_name_clean', 'speechiness',\n",
       "       'tempo', 'time_signature', 'track_href', 'track_id', 'track_name',\n",
       "       'track_name_clean', 'type', 'uri', 'valence'],\n",
       "      dtype='object')"
      ]
     },
     "execution_count": 269,
     "metadata": {},
     "output_type": "execute_result"
    }
   ],
   "source": [
    "combined_deduped_df.drop(columns=[\n",
    "'album_name_clean_x',\n",
    "'album_track_clean_key',\n",
    "'album_track_clean_key_x',\n",
    "'arist_x',\n",
    "'arist_y',\n",
    "'artist_album_clean_x',\n",
    "'artist_album_track_clean_key_x',\n",
    "'image_x',\n",
    "'image_y',   \n",
    "'pop_x',\n",
    "'genres_x'\n",
    "    \n",
    "    \n",
    "])"
   ]
  },
  {
   "cell_type": "code",
   "execution_count": null,
   "metadata": {},
   "outputs": [],
   "source": [
    "combined_deduped_df.to_csv('stringmatch/temporary_readout.csv', index=False)"
   ]
  },
  {
   "cell_type": "markdown",
   "metadata": {},
   "source": [
    "# Fuzzy Matching"
   ]
  },
  {
   "cell_type": "markdown",
   "metadata": {},
   "source": [
    "##### Can we get smarter on our match using Log Reg?\n"
   ]
  },
  {
   "cell_type": "markdown",
   "metadata": {},
   "source": [
    "#### Start with Lev Distance to build training set\n"
   ]
  },
  {
   "cell_type": "code",
   "execution_count": 85,
   "metadata": {},
   "outputs": [
    {
     "name": "stdout",
     "output_type": "stream",
     "text": [
      "og maco|og maco  : og maco|og zay\n",
      "og maco|live life  : og maco|live life 2\n",
      "omarion|cp4  : omarion|o\n",
      "one be lo|s.o.n.o.g.r.a.m.  : one be lo|sonogram\n",
      "open mike eagle|rappers will die of natural causes  : open mike eagle|rappers will die of natural causes ()\n",
      "pharrell williams|hidden figures: the album  : pharrell williams|hidden figures - original score\n",
      "logic|under pressure ( )  : logic|under pressure\n",
      "nicki minaj|queen (bonus )  : nicki minaj|queen\n",
      "nicki minaj|pink friday: roman reloaded  : nicki minaj|pink friday ... roman reloaded\n",
      "nicki minaj|pink friday: roman reloaded - the re-up  : nicki minaj|pink friday: roman reloaded the re-up\n",
      "papoose|hoodie season 3  : papoose|papoose season\n",
      "papoose|mixtape “hoodie season”  : papoose|papoose season\n",
      "2pac|greatest hits  : skepta|greatest hits\n",
      "2pac|the rose that grew from concrete vol. 1  : 2pac|the rose that grew from concrete\n",
      "2pac|r u still down? (remember me)  : 2pac|r u still down? [remember me]\n",
      "2pac|the rose that grew from concrete (book)  : 2pac|the rose that grew from concrete\n",
      "partynextdoor|partynextdoor 5  : partynextdoor|partynextdoor\n",
      "paul wall|get money, stay true  : paul wall|get money stay true\n",
      "paul wall|chick magnet  : paul wall|chick magnet - mobile\n",
      "peewee longway|the blue mandm v2 king size  : peewee longway|the blue mandm 2 (king size)\n",
      "peewee longway|the blue mandm  : peewee longway|the blue mandm 3\n",
      "pacewon|the only color that matters is green  : pacewon|the only color that matters is green instrumentals\n",
      "pharoahe monch|ptsd: post traumatic stress disorder  : pharoahe monch|ptsd - post traumatic stress disorder\n",
      "thrill pill|chelsea  : thrill pill|chelsea 2\n",
      "pink guy|pink guy  : pink guy|pink season\n",
      "plies|da last real nigga left 2  : plies|da last real n*gga left 2\n",
      "playboi carti|playboifresh  : playboi carti|playboi carti\n",
      "playboi carti|red  : playboi carti|die lit\n",
      "project pat|mista dont play 2  : project pat|mista dont play 2 everythangs money\n",
      "project pat|cheeze n dope 3  : project pat|cheez n dope\n",
      "proof|eminem presents: the re-up  : eminem|eminem presents the re-up\n",
      "pusha t|fear of god ii: let us pray [ep]  : pusha t|fear of god ii: let us pray\n",
      "q-tip|live at the renaissance  : q-tip|the renaissance\n",
      "q-tip|kamaal/the abstract  : q-tip|kamaal the abstract\n",
      "rich homie quan|still goin in: reloaded  : rich homie quan|still goin in - reloaded\n",
      "rich homie quan|the green files  : rich homie quan|the leaks\n",
      "rich homie quan|rg2  : rich homie quan|atl\n",
      "rich homie quan|rich homie cartel vol. 2  : rich homie quan|rich homie cartel 2\n",
      "quavo|where would the game be without me 2  : zaytoven|where would the game be without me 2\n",
      "the quiett|q days remixes  : the quiett|q day remixes\n",
      "asap rocky|live.love.asap  : asap rocky|long.live.asap\n",
      "r. kelly|tp.3: reloaded  : r. kelly|tp.3 reloaded\n",
      "r. kelly|trapped in the closet: chapters 1-12  : r. kelly|trapped in the closet (chapters 1-12) [edited]\n",
      "r.a. the rugged man|legendary classics v1  : r.a. the rugged man|legendary classics, vol. 1\n",
      "raekwon|only built 4 cuban linx…  : raekwon|only built 4 cuban linx\n",
      "raekwon|the saga continues  : diddy|the saga continues...\n",
      "raekwon|unexpected victory  : raekwon|wu victory\n",
      "rah digga|afro samurai: resurrection  : rza|afro samurai: resurrection\n",
      "rah digga|afro samurai resurrection o.s.t.  : rza|afro samurai: resurrection\n",
      "ralo|diary of the streets 2  : ralo|diary of the streets\n",
      "rampage|scouts honor... by way of blood  : rampage|scouts honor by way of blood (non-pa )\n",
      "rapsody|she got game  : rapsody|she got game ( )\n",
      "rapsody|beauty and the beast [ep]  : rapsody|beauty and the beast ( )\n",
      "yg|still brazy  : yg|still brazy ()\n",
      "redman|insomnia - the erick sermon compilation album  : erick sermon|insomnia: the erick sermon compilation album\n",
      "remy ma|theres something about remy: based on a true story  : remy ma|theres something about remy-based on a true story\n",
      "rick ross|self made v2  : rocko|self-made\n",
      "rico nasty|sugar trap  : rico nasty|sugar trap 2\n",
      "rittz|next to nothing  : rittz|next to nothing ( )\n",
      "rittz|white jesus  : rittz|white jesus loosies\n",
      "rittz|white jesus revival  : rittz|white jesus loosies\n",
      "rjd2|the horror  : rjd2|the horror:\n",
      "roc marciano|rosebudd revenge 2: the bitter dose  : roc marciano|rr2: the bitter dose\n",
      "rockie fresh|the night i went to... new york  : rockie fresh|the night i went to...\n",
      "rocko|gift of gab 2  : rocko|gift of gab 2 ( )\n",
      "rocko|gift of gab  : rocko|gift of gab 2 ( )\n",
      "roscoe dash|2  : roscoe dash|2.0\n",
      "sadistik|salo sessions  : sadistik|salo sessions ii\n",
      "sadistik|other songs  : sadistik|the art of dying\n",
      "sage the gemini|remember me ( booklet )  : sage the gemini|remember me\n",
      "sahbabii|sandas  : sahbabii|s.a.n.d.a.s.\n",
      "21 savage|i am﹥i was  : 21 savage|i am > i was\n",
      "21 savage|i am﹥i was ()  : 21 savage|i am > i was\n",
      "saweetie|zaytown sorority, vol. 2  : zaytoven|zaytown sorority, vol. 2\n",
      "schoolly d|how a blackman feels  : schoolly d|how a black man feels\n",
      "sean paul|mad love: the prequel  : sean paul|mad love the prequel\n",
      "shady nate|bo-fessional  : shady nate|the bo-fessional\n",
      "shaggy 2 dope|forgotten freshness, vol. 4  : insane clown posse|forgotten freshness, vol. 5\n",
      "shaggy 2 dope|the marvelous missing link (the outtakes)  : insane clown posse|the marvelous missing link: the outtakes\n",
      "shaggy 2 dope|psychopathics from outer space 2  : insane clown posse|psychopathics from outer space part 2\n",
      "shaquille oneal|music from and inspired by the motion picture steel  : 2pac|resurrection (music from and inspired by the motion picture)\n",
      "sheek louch|gorillaween  : sheek louch|gorillaween, vol. 2\n",
      "shyheim|aka the rugged child  : shyheim|shyheim a.k.a. the rugged child\n",
      "unotheactivist|limbus, pt. 2  : unotheactivist|limbus pt. 2\n",
      "unotheactivist|limbus, pt. 1  : unotheactivist|limbus pt. 2\n",
      "simon dominic|화기엄금 (no open flames)  : simon dominic|no open flames\n",
      "skeme|blood moon: year of the wolf  : the game|blood moon: year of the wolf\n",
      "skyzoo|the great debater  : skyzoo|the great debater revisited\n",
      "slim thug|red album  : slim thug|already platinum\n",
      "slim thug|hogg life vol.2: still surviving  : slim thug|hogg life, vol. 2: still surviving\n",
      "slim thug|hogg life, v4: american king  : slim thug|hogg life, vol. 4: american king\n",
      "smino|nøir  : smino|noir\n",
      "smokepurpp|deadstar 2  : smokepurpp|deadstar\n",
      "smokepurpp|lost planet  : smokepurpp|lost planet 2.0\n",
      "snow tha product|half way there…pt. 1  : snow tha product|half way there...pt. 1\n",
      "sonny digital|the black goat 2  : sonny digital|black goat\n",
      "sonreal|for the town  : sonreal|the aaron\n",
      "sonreal|the name  : sonreal|the aaron\n",
      "spice 1|the playa rich project 2  : spice 1|the playa rich project compilation\n",
      "spice 1|1990-sick  : spice 1|1990 - sick\n",
      "spice 1|hits 3  : spice 1|hits ii\n",
      "spose|we smoked it all  : spose|we smoked it all 4\n",
      "spose|the audacity  : spose|the audacity ( )\n",
      "spose|happy medium  : spose|happy medium ( )\n",
      "spose|the peter sparker mixtape  : spose|peter sparker ( )\n",
      "spose|preposterously dank  : spose|preposterously dank ()\n",
      "spose|good luck with more life  : spose|good luck with your life\n",
      "stalley|o.h.i.o.  : stalley|ohio\n",
      "stalley|tell the truth: shame the devil  : stalley|tell the truth shame the devil\n",
      "starlito|at war with myself  : starlito|at war with myself too\n",
      "stevie stone|dominion  : stevie stone|rollin stone\n",
      "stevie stone|set in stone i  : stevie stone|rollin stone\n",
      "stitches|drug dealers only  : stitches|for drug dealers only\n",
      "stormzy|dreamers disease -  : stormzy|dreamers disease\n",
      "styles p|we are the streets  : styles p|large on the streets\n",
      "styles p|the ghost dub-dime  : styles p|the ghost dub-dime mixtape\n",
      "styles p|nickel bag  : styles p|dime bag\n",
      "substantial|to this union a sun was born  : substantial|to this union a sun was born ( )\n",
      "substantial|the past...  : substantial|the garden\n",
      "suga free|the features, vol. 2  : suga free|the features v.2\n",
      "suga free|the new testament: the truth  : suga free|the new testament\n",
      "swings|#1 mixtape, vol. 1  : swings|swings #1 mixtape vol.ii\n",
      "sza|s  : sza|z\n",
      "sza|a* -  : sza|z\n",
      "taio cruz|the rokstarr collection ( )  : taio cruz|the rokstarr hits collection\n",
      "tay-k|#santanaworld (+) ()  : tay-k|#santanaworld (+)\n",
      "tech n9ne|all 6's and 7's  : tech n9ne|all 6s and 7s\n",
      "tech n9ne|klusterfuk  : tech n9ne|killer\n",
      "tech n9ne|boiling point: k.o.d. collection  : tech n9ne|boiling point (k.o.d. collection)\n",
      "termanology|g.o.y.a.  : termanology|mas goya\n"
     ]
    },
    {
     "name": "stdout",
     "output_type": "stream",
     "text": [
      "terrace martin|the sex  : terrace martin|times\n",
      "terrace martin|locke high  : terrace martin|locke high 2\n",
      "teyana taylor|yandhi  : teyana taylor|vii\n",
      "the-dream|love hate  : the-dream|lovehate\n",
      "the-dream|terius nash: 1977  : the-dream|terius nash : 1977\n",
      "the-dream|love vs. money  : the-dream|love vs money\n",
      "the-dream|terius nash: 1977 (2012 )  : the-dream|terius nash : 1977\n",
      "theophilus london|bebey  : theophilus london|vibes\n",
      "theophilus london|ny theo  : theophilus london|vibes\n",
      "the weeknd|thursday  : the weeknd|starboy\n",
      "justin timberlake|the 20/20 experience: the complete experience  : justin timberlake|the 20/20 experience - 2 of 2 ()\n",
      "justin timberlake|futuresex / lovesounds  : justin timberlake|futuresex/lovesounds\n",
      "justin timberlake|the 20/20 experience  : justin timberlake|the 20/20 experience ( )\n",
      "justin timberlake|futuresex / lovesounds ( )  : justin timberlake|futuresex/lovesounds\n",
      "tragedy khadafi|thug matrix ii  : tragedy khadafi|thug matrix\n",
      "tragedy khadafi|the war report  : tragedy khadafi|still reporting,,,\n",
      "travis scott|rodeo ( )  : travis scott|astroworld\n",
      "trey songz|tremaine  : trey songz|ready\n",
      "trey songz|trigga: reloaded  : trey songz|trigga reloaded\n",
      "trey songz|intermission  : trey songz|intermission i and ii\n",
      "trick daddy|thug holiday  : trick daddy|thug holiday (edited )\n",
      "trick daddy|book of thugs: chapter a.k., verse 47  : trick daddy|book of thugs: chapter ak verse 47\n",
      "trina|da baddest bitch  : trina|da baddest b***h\n",
      "trina|glamorest life  : trina|the glamorest life\n",
      "trina|back 2 business  : trina|back to business\n",
      "trinidad james|the wake up  : trinidad james|the wake up 2\n",
      "twisted insane|venom  : twisted insane|voodoo\n",
      "ty dolla sign|beach house  : ty dolla sign|beach house 3\n",
      "ty dolla sign|beach house 2  : ty dolla sign|beach house 3\n",
      "tyga|#fukwhattheytalkinbout  : tyga|fuk wat they talkin bout\n",
      "tyga|well done 2  : tyga|well done 3\n",
      "vast aire|aireplane  : vast aire|aire raid\n",
      "verse simmonds|the sextape chronicles: 2  : verse simmonds|sextape chronicles 2\n",
      "vic mensa|hooligans -  : vic mensa|hooligans\n",
      "vic mensa|the anthology  : vic mensa|the autobiography\n",
      "violent j|the marvelous missing link (the outtakes)  : insane clown posse|the marvelous missing link: the outtakes\n",
      "waka flocka flame|salute me or shoot me 4  : waka flocka flame|salute me or shoot me 1\n",
      "waka flocka flame|salute me or shoot me  : waka flocka flame|salute me or shoot me 1\n",
      "waka flocka flame|twin towers  : waka flocka flame|twin towers 1\n",
      "waka flocka flame|flockaveli 1.5  : waka flocka flame|flockaveli\n",
      "waka flocka flame|duflocka rant v.1 - 10 toes down  : waka flocka flame|duflocka rant 1 (10 toes down)\n",
      "waka flocka flame|i cant rap vol. 1  : waka flocka flame|i cant rap\n",
      "waka flocka flame|lebron flocka james  : waka flocka flame|lebron flocka james 1\n",
      "webbie|savage or die  : webbie|savage life\n",
      "young thug|slime season  : young thug|slime season 3\n",
      "young thug|slime season 2  : young thug|slime season 3\n",
      "young thug|super slimey  : future|super slimey\n",
      "wrekonize|the war within (remixes)  : wrekonize|the war within\n",
      "xxxtentacion|members only, vol. 2  : xxxtentacion|members only, vol. 3\n",
      "xxxtentacion|xxxtentacion presents: members only, vol. 3  : xxxtentacion|xxxtentacion presents: members only, vol. 4\n",
      "jeezy|its tha world  : jeezy|its tha world, vol. 2\n",
      "jeezy|trap or die  : jeezy|trap or die 3\n",
      "jeezy|#itsthaworld  : jeezy|its tha world, vol. 2\n",
      "yella beezy|aint no going bacc  : yella beezy|aint no goin bacc\n",
      "yo yo honey singh|blue eyes  : yo yo honey singh|fugly\n",
      "yo yo honey singh|jabariya jodi  : yo yo honey singh|panjaban\n",
      "young chop|tba*  : young chop|still\n",
      "young chris|back to the feature  : young buck|buck to the future\n",
      "young dolph|high class street music 3 (trappin out a mansion)  : young dolph|high class street music 3: trappin out a mansion\n",
      "young dolph|high class street music 5 (the plug best friend)  : young dolph|high class street music 5: the plug best friend\n",
      "young maylay|san andreas: the original mixtape  : young maylay|san andreas original mixtape\n",
      "yung bans|yung bans, vol. 5  : yung bans|yung bans vol. 5\n",
      "yung bans|yung bans, vol. 3  : yung bans|yung bans vol. 3\n",
      "zaytoven|trap holizay  : zaytoven|trapholizay\n",
      "city morgue|city morgue vol. 1: hell or high water  : city morgue|city morgue v1: hell or high water\n",
      "tyler, the creator|bastard  : tyler, the creator|igor\n",
      "vanilla ice|vanilla ice is back hip hop classics  : vanilla ice|vanilla ice is back - hip hop classics\n",
      "50 cent|get rich or die tryin soundtrack  : 50 cent|get rich or die tryin\n",
      "50 cent|8 mile: music from and inspired by the motion picture  : 2pac|resurrection (music from and inspired by the motion picture)\n",
      "50 cent|the massacre (special )  : 50 cent|the massacre\n",
      "6ix9ine|day69: graduation day (japanese import)  : 6ix9ine|day69: graduation day\n",
      "9th wonder|tutankhamen: valley of the kings  : 9th wonder|tutankhamen (valley of the kings)\n",
      "9th wonder|zion 3  : 9th wonder|zion\n",
      "a.chal|exotigaz  : a.chal|on gaz\n",
      "denzel curry|13  : denzel curry|ta13oo\n",
      "denzel curry|imperial ( )  : denzel curry|imperial\n",
      "ab-soul|these days…  : ab-soul|these days...\n",
      "a boogie wit da hoodie|tba  : a boogie wit da hoodie|artist\n",
      "ace hood|blood, sweat and tears  : ace hood|blood sweat and tears\n",
      "ace hood|body bag 3  : ace hood|body bag (vol. 1)\n",
      "ace hood|body bag v2  : ace hood|body bag (vol. 1)\n",
      "action bronson|blue chips  : action bronson|blue chips 7000\n",
      "action bronson|blue chips 2  : action bronson|blue chips 7000\n",
      "action bronson|southpaw (music from and inspired by the motion picture)  : 2pac|resurrection (music from and inspired by the motion picture)\n",
      "aesop rock|fast cars, danger, fire, and knives  : aesop rock|fast cars, danger, fire and knives\n",
      "afroman|afroholic: the even better times  : afroman|afroholic...the even better times\n",
      "aj tracey|lil tracey  : aj tracey|aj tracey\n",
      "boosie badazz|life after death row  : boosie badazz|life after deathrow\n",
      "boosie badazz|touchdown 2 cause hell  : boosie badazz|touch down 2 cause hell\n",
      "boosie badazz|streetz iz mine  : boosie badazz|street code\n",
      "akon|tha blue carpet treatment  : snoop dogg|tha blue carpet treatment\n",
      "akon|eminem presents: the re-up  : eminem|eminem presents the re-up\n",
      "sevn alias|twenty four sevn 2 -  : sevn alias|twenty four sevn 2\n",
      "sevn alias|precasso -  : sevn alias|recasso\n",
      "sevn alias|twentyfoursevn 3 -  : sevn alias|twentyfoursevn 3\n",
      "sevn alias|oakinn -  : sevn alias|oakinn\n",
      "sevn alias|twenty four sevn -  : sevn alias|twenty four sevn 2\n",
      "andre nickatina|daiquiri factory: cocaine raps, vol. 2  : andre nickatina|the daiquiri factory cocaine raps vol. 2\n",
      "andy mineo|i: the arrow -  : andy mineo|ii: the sword\n",
      "andy mineo|ii: the sword -  : andy mineo|ii: the sword\n",
      "angel haze|#30gold  : angel haze|dirty gold\n",
      "ant banks|the big badass  : ant banks|big badass\n",
      "anybody killa|a world upside down: the mixxtape  : dj clay|a world upside down: the mixtape\n",
      "busta rhymes|it aint safe no more...  : busta rhymes|it aint safe no more\n",
      "busta rhymes|e.l.e. (extinction level event): the final world front  : busta rhymes|extinction level event: the final world front\n",
      "busta rhymes|br9  : busta rhymes|ymcmb\n",
      "busta rhymes|catastrophic  : busta rhymes|catastrophic 2\n",
      "b-real|steel: music from and inspired by the motion picture)  : 2pac|resurrection (music from and inspired by the motion picture)\n",
      "badshah|o.n.e. (original never ends)  : badshah|one (original never ends)\n",
      "bankroll fresh|life of a hot boy 2: real trapper  : bankroll fresh|life of a hot boy 2 (real trapper)\n",
      "lil yachty|summer songs  : lil yachty|summer songs 2\n",
      "beanie sigel|the b. coming  : beanie sigel|the b.coming\n",
      "beanie sigel|roc boys  : beanie sigel|the roc boys\n",
      "rapper big pooh|fat boy fresh, vol. 2: est. 1980  : rapper big pooh|fat boy fresh v2: est. 1980\n",
      "rapper big pooh|delightful bars  : rapper big pooh|delightful bars: apple turnover\n",
      "rapper big pooh|fat boy fresh, vol. 1: for members only  : rapper big pooh|fatboyfresh vol. 1: for members only\n",
      "rapper big pooh|persona  : rapper big pooh|sleepers\n",
      "big shug|i.m. 4-eva  : big shug|i. m. 4-eva\n",
      "birdman|5 ★ stunna  : birdman|5 * stunna\n",
      "birdman|like father, like son  : birdman|like father like son\n",
      "bishop nehru|magic: 19  : bishop nehru|magic:19\n",
      "bizzy bone|the gift  : bizzy bone|the story\n",
      "bizzy bone|the lost archives vol. 1  : bizzy bone|the greatest hits, vol. 1 ( )\n"
     ]
    },
    {
     "name": "stdout",
     "output_type": "stream",
     "text": [
      "bizzy bone|the collection: v2  : bizzy bone|bizzy bone: the collection\n",
      "bizzy bone|alpha and omega  : bizzy bone|alpha and omega (explicit )\n",
      "black thought|streams of thought vol. 1  : black thought|streams of thought vol.2\n",
      "black thought|streams of thought vol. 2  : black thought|streams of thought vol.2\n",
      "blaze ya dead homie|1 less g n da hood  : blaze ya dead homie|1 less g in the hood\n",
      "blaze ya dead homie|colton grundy: tha undying  : blaze ya dead homie|colton grundy\n",
      "blaze ya dead homie|graveyard greats  : blaze ya dead homie|triple threat\n",
      "blocboy jb|who am i  : blocboy jb|who am i 3\n",
      "bobby brackins|live good .5  : bobby brackins|to live for\n",
      "bohemia|skull and bones v2  : bohemia|skull andamp; bones\n",
      "bohemia|skull and bones  : bohemia|skull andamp; bones\n",
      "bones|carcass (скелет)  : bones|carcass\n",
      "booba|autopsie, v4  : booba|autopsie 0\n",
      "booba|d.u.c  : booba|d.u.c.\n",
      "bubba sparxxx|dark days, bright nights (newtown )  : bubba sparxxx|dark days, bright nights\n",
      "c-murder|the truest shit i ever said  : c-murder|the truest s*** i ever said\n",
      "cage the elephant|thank you, happy birthday  : cage the elephant|thank you happy birthday\n",
      "camron|purple haze (advance)  : camron|purple haze\n",
      "camron|ghetto heaven vol. 1  : camron|heat in here, vol. 1\n",
      "cappadonna|the sting  : cappadonna|the struggle\n",
      "doughboyz cashout|we run the city vol.3: chances make champions  : doughboyz cashout|we run the city, vol. 3 chances make champions\n",
      "doughboyz cashout|the tester  : doughboyz cashout|free roc\n",
      "ceelo green|cee-lo green is the soul machine  : ceelo green|cee-lo green... is the soul machine\n",
      "ceelo green|begin again (music from and inspired by the original motion picture)  : 2pac|resurrection (music from and inspired by the motion picture)\n",
      "ceza|med-cezir  : ceza|medcezir\n",
      "chevy woods|“81”  : chevy woods|\"81\"\n",
      "childish gambino|“awaken, my love”  : childish gambino|\"awaken, my love\"\n",
      "childish gambino|ep  : childish gambino|camp\n",
      "childish gambino|stn mtn / kauai  : childish gambino|kauai\n",
      "childish gambino|summer pack  : childish gambino|camp\n",
      "childish gambino|royalty  : childish gambino|camp\n",
      "childish gambino|culdesac  : childish gambino|camp\n",
      "jid|dicaprio  : jid|dicaprio 2\n",
      "chris webby|websters laboratory 2  : chris webby|websters laboratory ii\n",
      "christopher martin|brighter days riddim  : christopher martin|big deal\n",
      "clyde carson|kilt  : clyde carson|time\n",
      "clyde carson|s.t.s.a. 2 (something to speak about 2)  : clyde carson|s.t.s.a. 2 (something to speak about)\n",
      "consequence|movies on demand 5  : consequence|movies on demand 2\n",
      "the coup|steal this album  : the coup|steal this double album\n",
      "criminal manne|legend  : criminal manne|king kong\n",
      "dash|v.i.c.e.s  : dash|v.i.c.e.s.\n",
      "dash|skrewsday  : dash|skrewface\n",
      "danny brown|xxx  : danny brown|xxx ( )\n",
      "del the funky homosapien|over time  : del the funky homosapien|gate 13\n",
      "deniro farrar|rebirth  : deniro farrar|re-up\n",
      "desiigner|new english 2  : desiigner|new english\n",
      "demi lovato|d7*  : demi lovato|demi\n",
      "demi lovato|tell me you love me (remixes)  : demi lovato|tell me you love me\n",
      "dizzee rascal|pagans  : dizzee rascal|raskit\n",
      "dizzee rascal|dont gas me -  : dizzee rascal|showtime\n",
      "dizzee rascal|nutcrackerz  : dizzee rascal|raskit\n",
      "dizzy wright|free smokeout conversations mixtape  : dizzy wright|free smokeout conversations (mixtape)\n",
      "dj clay|let em bleed: the mixxtape, vol. 3  : dj clay|let em bleed the mix tape v2\n",
      "dj clay|let em bleed: the mixxtape, vol. 2  : dj clay|let em bleed the mix tape v2\n",
      "dj clay|let em bleed: the mixxtape, vol. 4  : dj clay|let em bleed the mix tape v4\n",
      "dj clay|a world upside down: the mixxtape  : dj clay|a world upside down: the mixtape\n",
      "dj green lantern|reject on steroids  : dj green lantern|butcher on steroids\n",
      "dj kay slay|the streetsweeper vol. 2: the pain from the game  : dj kay slay|the streetsweeper vol. 2 - the pain from the game\n",
      "froggy fresh|money maker (reloaded)  : froggy fresh|money maker (reloaded) []\n",
      "funkmaster flex|the mix tape volume ii: 60 minutes of funk  : funkmaster flex|the mix tape - volume ii 60 minutes of funk (explicit)\n",
      "funkmaster flex|the mix tape volume iii: 60 minutes of funk, the final chapter  : funkmaster flex|the mix tape volume iii - 60 minutes of funk - the final chapter\n",
      "funkmaster flex|the mix tape v1: 60 minutes of funk  : funkmaster flex|the mix tape - volume ii 60 minutes of funk (explicit)\n",
      "future|ds2  : future|ds2 ()\n",
      "future|what a time to be alive  : drake|what a time to be alive\n",
      "ghostface killah|ghostdini: wizard of poetry in emerald city  : ghostface killah|ghostdini wizard of poetry in emerald city\n",
      "ghostface killah|bulletproof wallets  : ghostface killah|bulletproof wallets featuring raekwon\n",
      "40 glocc|new world agenda  : 40 glocc|big bad 4-0 new world agenda\n",
      "7l and esoteric|dc2: bars of death  : 7l and esoteric|bars of death\n",
      "7l and esoteric|egoclapper  : 7l and esoteric|a new dope\n",
      "7l and esoteric|hells lost and found: its the bootleg, muthafu@kas v2  : apathy|hells lost and found: its the bootleg, muthafuckas vol. 2\n",
      "abstract rude|keep the feel: a legacy of hip hop soul  : abstract rude|keep the feel: a legacy of hip-hop soul\n",
      "akala|knowledge is power vol. 1  : akala|knowledge is power, vol. 2\n",
      "akala|knowledge is power ii  : akala|knowledge is power, vol. 2\n",
      "aloe blacc|the time is now  : jae millz|the time is now\n",
      "anirudh ravichander|3 (soundtrack)  : anirudh ravichander|3 ()\n",
      "anirudh ravichander|remo (soundtrack)  : anirudh ravichander|remo ()\n",
      "anirudh ravichander|velaikaran  : anirudh ravichander|vivekam ()\n",
      "apathy|its the bootleg muthafuckas vol. 1  : apathy|its the bootleg, muthafuckas vol. 1\n",
      "apathy|cc: weekend at the cape  : apathy|weekend at the cape\n",
      "bas|revenge of the dreamers  : j. cole|revenge of the dreamers iii\n",
      "bhad bhabie|bb1*  : bhad bhabie|15\n",
      "big boi|sir lucious left foot... the son of chico dusty  : big boi|sir lucious left foot...the son of chico dusty\n",
      "big gipp|mutant mind frame  : big gipp|mutant mindframe\n",
      "big k.r.i.t.|k.r.i.t. wuz here  : big k.r.i.t.|k.r.i.t. iz here\n",
      "hayce lemsi|électron libre  : hayce lemsi|electron libre\n",
      "big pun|yeeeah baby  : big pun|yeah baby\n",
      "big sean|finally famous (super )  : big sean|finally famous\n",
      "black star|black star aretha  : black star|black star\n",
      "bobby shmurda|shmurda she wrote  : bobby shmurda|shmurdaville\n",
      "bobby shmurda|shmoney shmurda ( )  : bobby shmurda|shmurdaville\n",
      "bow wow|like mike - music from the motion picture  : bow wow|music from the motion picture like mike\n",
      "bun b|trill og  : bun b|trill o.g.\n",
      "bun b|trill og: the epilogue  : bun b|trill o.g. \"the epilogue\"\n",
      "busdriver|roadkillovercoat  : busdriver|roadkill overcoat\n",
      "cardi b|gangsta bitch music, vol. 1 (promo cd)  : cardi b|gangsta bitch music vol. 2\n",
      "cardi b|gangsta bitch music, vol. 2  : cardi b|gangsta bitch music vol. 2\n",
      "cardi b|gangsta bitch music, vol. 1  : cardi b|gangsta bitch music vol. 2\n",
      "caskey|homegrown  : chris webby|homegrown\n",
      "cassidy|b.a.r.s.: the barry adrian reese story  : cassidy|b.a.r.s. the barry adrian reese story\n",
      "chamillionaire|venom  : chamillionaire|elevate\n",
      "chamillionaire|the mixtape messiah (disc 3)  : chamillionaire|the mixtape messiah\n",
      "chamillionaire|ammunition (digital)  : chamillionaire|ammunition\n",
      "chamillionaire|mixtape messiah 7 (disc 1)  : chamillionaire|mixtape messiah 7\n",
      "charles hamilton|crash landed  : charles hamilton|chuck and mack\n",
      "charles hamilton|empire (original soundtrack from season 1)  : empire cast|empire: original soundtrack, season 3\n",
      "charles hamilton|the black box -  : charles hamilton|the l word\n",
      "charles hamilton|my heart  : charles hamilton|the l word\n",
      "chief keef|chiraq villain  : chief keef|chiraq villian\n",
      "chief keef|the leek, vol. 2  : chief keef|the leek (vol. 2)\n",
      "chief keef|sorry 4 the weight  : chief keef|sorry 4 the weight ( )\n",
      "chief keef|almighty dp 2  : chief keef|almighty so\n",
      "chief keef|the leek, vol. 3  : chief keef|the leek (vol. 3)\n",
      "chief keef|bang  : chief keef|bang 3\n",
      "chief keef|the leek, vol. 1  : chief keef|the leek (vol. 1)\n",
      "chief keef|bang 2  : chief keef|bang 3\n",
      "chief keef|almighty dp  : chief keef|almighty so\n",
      "chris brown|f.a.m.e.  : chris brown|f.a.m.e. (expanded )\n",
      "chris brown|x  : chris brown|indigo\n",
      "chris brown|royalty  : chris brown|royalty ( )\n",
      "chris brown|fortune  : chris brown|fortune (expanded )\n",
      "chris brown|chris brown  : chris brown|chris brown (expanded )\n",
      "chris brown|exclusive (the forever )  : chris brown|exclusive (expanded )\n"
     ]
    },
    {
     "name": "stdout",
     "output_type": "stream",
     "text": [
      "chubb rock|chubb rock featuring hitman howie tee  : chubb rock|chubb rock (feat. hitman howie tee)\n",
      "common|the dreamer/the believer  : common|the dreamer, the believer\n",
      "cormega|the true meaning  : cormega|true meaning\n",
      "currensy|pilot talk ii  : currensy|pilot talk: trilogy\n",
      "currensy|pilot talk  : currensy|pilot talk: trilogy\n",
      "currensy|pilot talk iii  : currensy|pilot talk: trilogy\n",
      "dj drama|gangsta grillz: the album  : dj drama|gangsta grillz the album\n",
      "dj drama|gangsta grillz: the album, v2  : dj drama|gangsta grillz: the album vol. 2\n",
      "dj premier|beats that collected dust, v2  : dj premier|beats that collected dust vol. 2\n",
      "dj premier|beats that collected dust  : dj premier|beats that collected dust vol. 1\n",
      "dj quik|balance and options  : dj quik|balances and options\n",
      "dj quik|the red tape  : dj quik|the trauma mixtape\n",
      "dj screw|june 27th  : dj screw|june 27 vol. 2\n",
      "dj screw|3 n the mornin: part two [blue]  : dj screw|3 n the mornin part two\n",
      "dj shadow|the mountain has fallen [ep]  : dj shadow|the mountain will fall\n",
      "dmx|the x files  : rbx|the rbx files\n",
      "dmx|year of the dog... again  : dmx|year of the dog...again\n",
      "da real gee money|g-code 2  : da real gee money|g-code\n",
      "da real gee money|lost files  : da real gee money|g-code\n",
      "dababy|back on my baby jesus shit  : dababy|back on my baby jesus sht\n",
      "dae dae|4 reasons  : dae dae|5 reasons\n",
      "dave|game over -  : dave|game over\n",
      "david banner|mta2: baptized in dirty water  : david banner|mta2-baptized in dirty water\n",
      "devin the dude|my homies  : devin the dude|hi life\n",
      "diplo|california -  : diplo|florida\n",
      "dizzy wright and demrick|blaze with us  : dizzy wright|blaze with us\n",
      "doap nixon|sour diesel  : doap nixon|sour diesel 2\n",
      "doseone|enter the gungeon ost  : doseone|enter the gungeon (original soundtrack)\n",
      "drew deezy|the poly tape 2  : drew deezy|the poly tape\n",
      "drumma boy|welcome to my city 2  : drumma boy|welcome to my city vol. 2\n",
      "e sens|이방인 (the stranger)  : e sens|the stranger\n",
      "e-40|the block brochure: welcome to the soil, pt. 4, 5, and 6  : e-40|the block brochure: welcome to the soil (parts 4)\n",
      "exo|dont mess up my tempo  : exo|dont mess up my tempo – the 5th album\n",
      "exo|exo planet #3 - the exordium [dot]  : exo|exo planet #3-the exordium[dot]-live album\n",
      "earl sweatshirt|earl  : earl sweatshirt|doris\n",
      "earl sweatshirt|i dont like shit, i dont go outside  : earl sweatshirt|i dont like shit, i dont go outside: an album by earl sweatshirt\n",
      "earl sweatshirt|solace  : earl sweatshirt|doris\n",
      "edo saiya|akt01  : edo saiya|azur\n",
      "empire cast|empire (original soundtrack from season 1)  : empire cast|empire: original soundtrack, season 3\n",
      "empire cast|empire: original soundtrack, season 2, v1  : empire cast|empire: original soundtrack, season 2 v2 ()\n",
      "empire cast|empire: original soundtrack from season 4  : empire cast|empire: original soundtrack, season 3\n",
      "empire cast|empire (the complete season 1)  : empire cast|empire: the complete season 1\n",
      "eric biddines|planetcoffeebean 2  : eric biddines|planetcoffeebean 2 ( )\n",
      "erick sermon|e.s.p (erick sermons perception)  : erick sermon|e.s.p. (erick sermons perception)\n",
      "erick sermon|def squad presents erick onasis  : erick sermon|def squad presents: erick onasis\n",
      "erick sermon|vernia  : erick sermon|react\n",
      "erick the architect|arcstrumentals: vol. one  : erick the architect|arcstrumentals, vol. 2\n",
      "famous dex|ok dexter  : famous dex|dex meets dexter\n",
      "famous dex|#ohhmanngodddamm  : famous dex|ohhmanngodddamm\n",
      "famous dex|rich forever 2  : famous dex|rich forever 4\n",
      "fashawn|higher learning 2  : fashawn|higher learning 2 ( )\n",
      "fat joe|jealous ones still envy (j.o.s.e. 2)  : fat joe|jealous ones still envy (j.o.s.e)\n",
      "fat joe|the darkside vol. 3  : fat joe|the darkside\n",
      "fat joe|the darkside vol. 1  : fat joe|the darkside\n",
      "father mc|fathers day  : father mc|fam body\n",
      "fats domino|fats domino 65  : fats domino|fats domino\n",
      "fats domino|here stands fats domino  : fats domino|fats domino\n",
      "florida georgia line|anything goes (target )  : florida georgia line|anything goes\n",
      "flying lotus|reset  : flying lotus|youre dead\n",
      "frank ocean|fo4*  : frank ocean|blonde\n",
      "frank ocean|endless  : frank ocean|blonde\n",
      "fredo santana|its a scary site  : fredo santana|its a scary site 2\n",
      "fredo santana|aint no money like trap money  : fredo santana|aint no money like trap money (vol. 1)\n",
      "french montana|mc4  : french montana|lock out\n",
      "french montana|montana  : french montana|lock out\n",
      "french montana|wave gods  : french montana|coke wave 2\n",
      "french montana|coke boys 4  : french montana|coke boys\n",
      "g herbo|humble beast ( )  : g herbo|humble beast\n",
      "g herbo|road to fazoland  : g herbo|welcome to fazoland\n",
      "gaeko|red in gray  : gaeko|redingray\n",
      "ghostemane|n/o/i/s/e  : ghostemane|n / o / i / s / e\n",
      "ghostemane|hiadica  : ghostemane|hexada\n",
      "glasses malone|gh2: life aint nuthin but...  : glasses malone|glasshouse 2: life aint nuthin but...\n",
      "grafh|pain killers reloaded  : grafh|pain killers: reloaded\n",
      "grandmaster flash and the furious five|the enjoy story  : grandmaster flash and the furious five|the message\n",
      "grandmaster flash and the furious five|the source  : grandmaster flash and the furious five|the message\n",
      "greydon square|type i : the kardashev scale  : greydon square|the kardashev scale\n",
      "gucci mane|trap house iii  : gucci mane|trap house 3\n",
      "gucci mane|burrrprint (2) hd  : gucci mane|burrrprint [2] hd\n",
      "gucci mane|gucci 3d  : gucci mane|gucci da don\n",
      "gudda gudda|guddaville 3  : gudda gudda|guddaville\n",
      "gudda gudda|guddaville 4  : gudda gudda|guddaville\n",
      "gunna|drip harder  : gunna|drip or drown\n",
      "heize|heize  : heize|shes fine\n",
      "hard kaur|the rising mixtape vol-1  : hard kaur|the rising mixtape, vol. 1\n",
      "hard target|karma chapter 2  : hard target|karma 2\n",
      "hi-tek|hi-teknology 2: the chip  : hi-tek|hi-teknology - v2\n",
      "hodgy|fireplace:thenottheotherside  : hodgy|fireplace: thenottheotherside\n",
      "hoodie allen|leap year  : hoodie allen|happy camper\n",
      "iamsu|sincerely yours  : phora|sincerely yours\n",
      "ice cube|war and peace vol. 2 (the peace disc)  : ice cube|war and peace vol. 1 (the war disc)\n",
      "ice cube|death certificate 25th anniversary  : ice cube|death certificate (25th anniversary )\n",
      "ice prince|foz (fire of zamani)  : ice prince|fire of zamani\n",
      "ice prince|e.l.i (everybody loves ice prince)  : ice prince|everbody loves ice prince\n",
      "ice-t|the iceberg / freedom of speech... just watch what you say  : ice-t|the iceburg / freedom of speech...just watch what you say\n",
      "imagine dragons|its time -  : imagine dragons|origins ()\n",
      "immortal technique|the martyr  : immortal technique|the 3rd world\n",
      "insane clown posse|bang pow boom  : insane clown posse|bang pow boom red\n",
      "insane clown posse|psychopathics from outer space  : insane clown posse|psychopathics from outer space part 2\n",
      "insane clown posse|hurricane of diamonds  : insane clown posse|house of wax\n",
      "insane clown posse|freaky tales  : insane clown posse|the calm\n",
      "insane clown posse|the wraith: hells pit  : insane clown posse|hells pit\n",
      "insane clown posse|the ringmaster  : insane clown posse|ringmaster\n",
      "insane clown posse|the marvelous missing link: lost  : insane clown posse|the marvelous missing link (lost)\n",
      "insane clown posse|forgotten freshness, vol. 4  : insane clown posse|forgotten freshness, vol. 5\n",
      "insane clown posse|the marvelous missing link: found  : insane clown posse|the marvelous missing link (found)\n",
      "inspectah deck|chamber no. 9  : inspectah deck|chamber no. 9\n",
      "j. cole|born sinner ( )  : j. cole|born sinner\n",
      "j. cole|the warm up  : j. cole|the blow up\n",
      "jpegmafia|not on veteran  : jpegmafia|veteran\n",
      "ja rule|pain is love 2  : ja rule|pain is love\n",
      "jadakiss|i love you (a dedication to my fans)  : jadakiss|i love you (a dedication to my fans) the mixtape\n",
      "jadakiss|friday on elm street  : fabolous|friday on elm street\n",
      "jahlil beats|rgb 2  : jahlil beats|genius\n",
      "jake miller|based on a true story.  : jake miller|based on a true story. (extended)\n",
      "jamie foxx|hollywood: a story of a dozen roses  : jamie foxx|hollywood: a story of a dozen roses ( )\n",
      "jarren benton|slow motion v1  : jarren benton|slow motion\n",
      "jarren benton|slow motion vol. 2  : jarren benton|slow motion, vol. 2\n",
      "jarren benton|huffing glue with hasselhoff  : jarren benton|jarren benton meets smka: huffing glue with hasselhoff\n",
      "jason derulo|in my head -  : jason derulo|tattoos on my heart\n",
      "jennifer lopez|por primera vez  : jennifer lopez|brave\n",
      "jennifer lopez|this is me... then  : jennifer lopez|this is me...then\n"
     ]
    },
    {
     "name": "stdout",
     "output_type": "stream",
     "text": [
      "jennifer lopez|home ()  : jennifer lopez|love?\n",
      "jeremih|late nights with jeremih  : jeremih|late nights: europe\n",
      "jermaine dupri|instructions  : jermaine dupri|instructions (clean )\n",
      "jim jones|harlem: diary of a summer  : jim jones|harlem - diary of a summer\n",
      "jimmy wopo|muney lane muzik 2  : jimmy wopo|018 mayhemlane muzik\n",
      "jimmy wopo|muney lane muzik  : jimmy wopo|018 mayhemlane muzik\n",
      "jme|integrity​  : jme|integrity>\n",
      "joell ortiz x llmind|human.  : joell ortiz|human\n",
      "joji|in tongues - ()  : joji|in tongues ()\n",
      "joji|lost ballads -  : joji|ballads 1\n",
      "jon connor|season 2  : jon connor|seren\n",
      "juicy j|rubba band business 2  : juicy j|rubba band business\n",
      "kohh|梔子 (kuchinashi)  : kohh|kuchinashi\n",
      "kohh|dirt ii  : kohh|dirt\n",
      "kyle|beautiful loser  : kyle|beautiful loser ()\n",
      "kardinal offishall|eye and i  : kardinal offishall|fire and glory\n",
      "kash doll|brat mail  : kash doll|brat mail (mixtape)\n",
      "katie got bandz|drillary clinton 2  : katie got bandz|drillary clinton\n",
      "keith murray|insomnia - the erick sermon compilation album  : erick sermon|insomnia: the erick sermon compilation album\n",
      "kendrick lamar|good kid, m.a.a.d city ( )  : kendrick lamar|good kid, m.a.a.d city\n",
      "kerser|s.c.o.t.  : kerser|s.c.o.t\n",
      "kevin gates|islah  : kevin gates|islah ()\n",
      "kevin gates|luca brasi 2  : kevin gates|luca brasi 3\n",
      "kevin mccall|diary of a trap god  : gucci mane|diary of a trap god\n",
      "kid cudi|kanye west presents good music cruel summer  : kanye west|kanye west presents good music cruel summer\n",
      "kid cudi|satellite flight: the journey to mother moon  : kid cudi|kid cudi presents satellite flight: the journey to mother moon\n",
      "kid ink|my own lane  : kid ink|my own lane (expanded )\n",
      "kid ink|full speed  : kid ink|full speed (expanded )\n",
      "killah priest|elizabeth  : killah priest|breathe\n",
      "killah priest|best of killah priest and a prelude to the offering  : killah priest|the best of and a prelude to the offering\n",
      "killer mike|i pledge allegiance to the grind  : killer mike|i pledge allegiance to the grind ii\n",
      "killer mike|bang x 3  : killer mike|bangx3\n",
      "king chip|independence day  : twiztid|independence day\n",
      "king chip|44108  : king chip|44108 ( )\n",
      "king gordy|xerxes the god-king  : king gordy|xerxes the god king\n",
      "king los|zero gravity  : king los|zero gravity 2\n",
      "kodak black|project baby 2: all grown up  : kodak black|project baby 2: all grown up ()\n",
      "kodak black|lil b.i.g. pac  : kodak black|lil big pac\n",
      "kodak black|kill bill*  : kodak black|lil big pac\n",
      "kokane|king of g-funk  : kokane|kokane king of gfunk\n",
      "kool keith|black elvis/lost in space  : kool keith|black elvis / lost in space\n",
      "kool keith|diesel truckers  : kool keith|diesel truckers (instrumentals)\n",
      "kool moe dee|kool moe dee  : kool moe dee|kool moe dee (bonus track )\n",
      "kool moe dee|funke funke wisdom  : kool moe dee|funke, funke wisdom\n",
      "korn|greatest hits vol. 1  : kokane|kokane greatest hits, vol. 1\n",
      "krayzie bone|chasing the devil: temptation  : krayzie bone|chasing the devil\n",
      "krizz kaliko|dominion  : krizz kaliko|go\n",
      "kurtis blow|the best of kurtis blow  : kurtis blow|kurtis blow\n",
      "larry june|larry  : larry june|good job larry\n",
      "lary over|greatest hits  : master p|greatest hits\n",
      "lil bibby|free crack iii  : lil bibby|free crack ii\n",
      "lil bibby|free crack 4  : lil bibby|free crack\n",
      "lil debbie|california sweetheart, pt. 1  : lil debbie|california sweetheart pt. 2\n",
      "lil debbie|california sweetheart, pt.2  : lil debbie|california sweetheart pt. 2\n",
      "lil eazy-e|celly cel presents: cali luv  : celly cel|celly cel presents: cali luv\n",
      "lil jon and the east side boyz|we still crunk  : lil jon and the east side boyz|kings of crunk\n",
      "lil jon and the east side boyz|get crunk, who u wit - da album  : lil jon and the east side boyz|crunk juice (clean)\n",
      "lil jon and the east side boyz|certified crunk - da remix  : lil jon and the east side boyz|kings of crunk - clean\n",
      "lil keke|minor setback for the major comeback  : lil keke|minor setback for the major comeback (chopped and screwed)\n",
      "lil mosey|northsbest (mixtape)  : lil mosey|northsbest (extended)\n",
      "lil phat|death before dishonor  : 2 pistols|death before dishonor\n",
      "lil pump|lil pump 2  : lil pump|lil pump\n",
      "lil uzi vert|luv is rage 1.5  : lil uzi vert|luv is rage 2\n",
      "lil uzi vert|lil uzi vert vs. the world 2  : lil uzi vert|lil uzi vert vs. the world\n",
      "lil wayne|tha carter v (2014 )  : lil wayne|tha carter v\n",
      "lil xan|xanarchy  : lil xan|total xanarchy\n",
      "lloyd banks|h.f.m. 2 (the hunger for more 2)  : lloyd banks|h.f.m. 2 (hunger for more 2)\n",
      "louis logic|sin-a-matic  : louis logic|sin-a-matic ( )\n",
      "lowkey|soundtrack to the struggle  : lowkey|soundtrack to the struggle...\n",
      "ludacris|chicken-n-beer  : ludacris|chicken - n - beer\n",
      "ludacris|1.21 gigawatts: back to the first time  : ludacris|back for the first time\n",
      "ludacris|theater of the mind  : ludacris|theater of the mind (expanded )\n",
      "ludacris|ludaverses  : ludacris|ludaversal\n",
      "lupe fiasco|food and liquor ii: the great american rap album, pt. 1  : lupe fiasco|food and liquor ii: the great american rap album pt. 1\n",
      "lupe fiasco|lupe fiascos food and liquor (advance/pre-release leak)  : lupe fiasco|lupe fiascos food and liquor (5th anniversary )\n",
      "lupe fiasco|extra lasers  : lupe fiasco|lasers\n",
      "mc davo|el domino ()  : mc davo|el dominio\n",
      "mc lyte|act like you know  : mc lyte|act like you know (explicit )\n",
      "mc paul barman|paullelujah  : mc paul barman|paullelujah? + bonused\n",
      "mod sun|ms4  : mod sun|bb\n",
      "mac dre|ronald dregan: dreganomics  : mac dre|ronald dregan for president 2004: dreganomics\n",
      "mac dre|a tale of two andres  : andre nickatina|a tale of two andres\n",
      "mac dre|heart of a gangsta, mind of a hustla, tongue of a pimp  : mac dre|heart of a gangstar, mind of a hustler, tongue of a pimp\n",
      "mac dre|the game is thick part 2  : mac dre|the game is... thick - part 2\n",
      "mac dre|the best of mac dre v2  : mac dre|the best of mac dre v4\n",
      "mac mall|illegal business 2000  : mac mall|illegal business? 2000\n",
      "mac mall|legal business?  : mac mall|legal business ?\n",
      "mac miller|faces  : mac miller|macadelic ( )\n",
      "mac miller|macadelic  : mac miller|macadelic ( )\n",
      "mac miller|k.i.d.s  : mac miller|go:od am\n",
      "machine gun kelly|rage pack  : machine gun kelly|lace up\n",
      "machine gun kelly|black flag  : machine gun kelly|lace up\n",
      "machine gun kelly|lace up (mixtape)  : machine gun kelly|lace up\n",
      "machine gun kelly|fuck it  : machine gun kelly|binge\n",
      "macklemore and ryan lewis|the unplanned mixtape  : macklemore and ryan lewis|the heist\n",
      "macklemore and ryan lewis|the vs. redux  : macklemore and ryan lewis|the heist\n",
      "macklemore and ryan lewis|the vs.  : macklemore and ryan lewis|the heist\n",
      "madeintyo|you are forgiven (discs 1 and 2)  : madeintyo|you are forgiven\n",
      "maino|if tomorrow comes  : maino|if tomorrow comes...\n",
      "maino|the day after tomorrow  : maino|day after tomorrow\n",
      "masspike miles|skky miles 3: blocks and bedrooms  : masspike miles|skky miles 3 #blocksnbedrooms pt. 1. #bedrooms\n",
      "master p|the best of master p  : master p|the ultimate master p\n",
      "master p|ghetto postage  : master p|ghetto d\n",
      "max b|million dollar baby 2  : dababy|billion dollar baby\n",
      "max b|wave season  : max b|vigilante season\n",
      "max b|million dollar baby  : dababy|billion dollar baby\n",
      "maxo kream|maxo 187  : maxo kream|#maxo187\n",
      "meek mill|dream chasers v  : meek mill|dream chaser 3\n",
      "meek mill|4/4 2  : meek mill|dc4\n",
      "messy marv|draped up and chipped out, vol. 3  : messy marv|draped up and chipped out 3\n",
      "messy marv|draped up and chipped out, vol. 4  : messy marv|draped up and chipped out 2\n",
      "mick jenkins|the water[s]  : mick jenkins|the water (s)\n",
      "mickey factz|freestyles  : mickey factz|y\n",
      "mickey factz|love.lust.lost.ii  : mickey factz|love.lust.lost. 2\n",
      "mickey factz|740 park ave  : mickey factz|740 park avenue\n",
      "mike g|chase clouds -  : mike g|chase clouds\n",
      "mike jones|american dream  : mike jones|the american dream\n",
      "mike shinoda|post traumatic  : mike shinoda|post traumatic ( )\n",
      "mike stud|#sundaystudtape vol. 2  : mike stud|#sundaystudtape, vol. 2.\n",
      "missy elliott|miss e ...so addictive  : missy elliott|miss e...so addictive\n",
      "mr. lil one|the diagnosis  : mr. lil one|the sickos\n",
      "mr. porter|eminem presents: the re-up  : eminem|eminem presents the re-up\n",
      "mula b|drugs and geld v1  : mula b|drugs and geld, vol. 1\n",
      "n.o.r.e.|n.o.r.e.  : n.o.r.e.|n.o.r.e\n",
      "n.o.r.e.|n.o.r.e. y la familia...ya tú sabe.  : n.o.r.e.|n.o.r.e. y la familia\n",
      "n.o.r.e.|melvin flynt - da hustler  : n.o.r.e.|melvyn flynt da hustler\n"
     ]
    },
    {
     "name": "stdout",
     "output_type": "stream",
     "text": [
      "nav|bad habits  : nav|bad habits ()\n",
      "nate dogg|eminem presents: the re-up  : eminem|eminem presents the re-up\n",
      "nate dogg|g-funk classics, volumes 1 and 2  : nate dogg|g funk classics, vols. 1 and 2\n",
      "nate dogg|nate dogg  : nate dogg|nate dogg and friends\n",
      "nate dogg|g-funk classics vol. 1: ghetto preacher  : nate dogg|g funk classics, vols. 1 and 2\n",
      "nipsey hussle|the marathon continues  : nipsey hussle|the marathon\n",
      "nipsey hussle|bullets aint got no names vol. 1  : nipsey hussle|bullets aint got no name vol. 1\n",
      "obie trice|eminem presents: the re-up  : eminem|eminem presents the re-up\n",
      "olly murs|24 hrs  : olly murs|24 hrs ()\n",
      "olly murs|you know i know  : olly murs|you know i know ()\n",
      "phat kat|carte blanche  : phat kat|carte blanche ( )\n",
      "philthy rich|nernl 4  : philthy rich|n.e.r.n.l. 4\n",
      "philthy rich|nernl  : philthy rich|n.e.r.n.l\n",
      "pitbull|aquaman ()  : pitbull|armando\n",
      "pokémon|pokémon christmas bash  : pokémon|christmas bash\n",
      "prince|sign o the times  : prince|sign \"o\" the times\n",
      "prince|prince 4ever  : prince|prince\n",
      "ray cash|c.o.d. (cash on delivery)  : ray cash|c.o.d. : cash on delivery\n",
      "ray j|raydiation 2  : ray j|raydiation\n",
      "red cafe|above the cloudz  : red cafe|above the clouds\n",
      "red cafe|american psycho ii  : red cafe|american psycho\n",
      "rick rock|rocket: the album  : rick rock|rocket the album\n",
      "saigon|the greatest story never told 2: bread and circuses  : saigon|the greatest story never told chapter 2: bread and circuses\n",
      "scarface|greatest hits  : scarface|greatest features\n",
      "scarface|made  : scarface|m.a.d.e.\n",
      "shawty lo|im da man 2  : shawty lo|im da man pt.3\n",
      "shawty lo|im da man  : shawty lo|im da man pt.3\n",
      "shawty lo|b.h.f. (bankhead forever)  : shawty lo|bankhead forever\n",
      "shawty lo|im da man 4  : shawty lo|im da man pt.3\n",
      "shawty lo|r.i.c.o.  : shawty lo|rico\n",
      "slug † christ|the crucifixion of rapper extraordinaire, slug christ  : slug † christ|the crucifixion of rapper extraordinaire slug christ\n",
      "snoop dogg|tha blue carpet treatment mixtape  : snoop dogg|tha blue carpet treatment\n",
      "snoop dogg|make america crip again -  : snoop dogg|make america crip again\n",
      "soopafly|dat whoopty woop  : soopafly|dat woopty woop\n",
      "south park mexican|the 3rd wish: to rock the world  : south park mexican|the 3rd wish to rock the world\n",
      "south park mexican|the last chair violinist  : south park mexican|last chair violinist\n",
      "south park mexican|son of norma  : south park mexican|the son of norma\n",
      "spaceghostpurrp|blackland radio 66.6 (1991)  : spaceghostpurrp|blvcklvnd rvdix 66.6\n",
      "spaceghostpurrp|b.m.w. 2: intoxxxicated  : spaceghostpurrp|intoxxxicated\n",
      "stat quo|eminem presents: the re-up  : eminem|eminem presents the re-up\n",
      "stoka|pogodi ko se beko ?  : stoka|pogodi ko se beko\n",
      "sweet tee|the show (original soundtrack)  : doseone|enter the gungeon (original soundtrack)\n",
      "twice|twicecoaster : lane 1  : twice|twicecoaster : lane1\n",
      "twice|#twice  : twice|twicetagram\n",
      "twice|twicecoaster: lane 2  : twice|twicecoaster : lane 2\n",
      "twice|the year of “yes”  : twice|the year of \"yes\"\n",
      "tha dogg pound|dillinger and young gotti  : tha dogg pound|dillinger and young gotti (digitally )\n",
      "the alchemist|yacht rock  : the alchemist|yacht rock 2\n",
      "the alchemist|the alchemist cookbook  : the alchemist|the alchemist\n",
      "the alchemist|the good book [disc 1]  : the alchemist|the good book, vol. 2\n",
      "the alchemist|the good book vol. 2  : the alchemist|the good book, vol. 2\n",
      "the game|compton  : the game|live from compton\n",
      "the game|nwa2016  : the game|n.w.a.\n",
      "the game|the red room  : the game|the r.e.d. album\n",
      "the jacka|the tonight show with the jacka  : the jacka|the tonite show with the jacka\n",
      "the jacka and ampichino|devilz rejectz: 36 zips  : the jacka|devilz rejectz - 36 zipz\n",
      "the lonely island|turtleneck and chain  : the lonely island|turtleneck and chain (edited )\n",
      "the notorious b.i.g.|ready to die  : the notorious b.i.g.|ready to die (the remaster)\n",
      "the notorious b.i.g.|life after death  : the notorious b.i.g.|life after death (2014 )\n",
      "the notorious b.i.g.|whos the man? ()  : the notorious b.i.g.|the king and i\n",
      "the rolling stones|sticky fingers  : the rolling stones|sticky fingers ()\n",
      "the rolling stones|grrr  : the rolling stones|now\n",
      "tiffany foxx|zaytown sorority, vol. 2  : zaytoven|zaytown sorority, vol. 2\n",
      "tiffany foxx|bigg snoop dogg presents... welcome to tha chuuch: da album  : snoop dogg|presents welcome to tha chuuch tha album\n",
      "tory lanez|love me now?  : tory lanez|love me now (reloaded)\n",
      "troy ave|new york city: the album  : troy ave|new york city\n",
      "troy ave|white christmas 3  : troy ave|white christmas 2\n",
      "troy ave|wc5 (white christmas 5)  : troy ave|white christmas 2\n",
      "troy ave|white christmas 4  : troy ave|white christmas 2\n",
      "troy ave|bsb vol. 4  : troy ave|bsb vol. 4 ( )\n",
      "twista|dark horse  : twista|the dark horse\n",
      "twiztid|abominationz  : twiztid|abominationz (madrox)\n",
      "twiztid|independents day  : twiztid|independence day\n",
      "twiztid|mostasteless ()  : twiztid|mostasteless\n",
      "twiztid|mans myth (vol. 1)  : twiztid|mans myth\n",
      "urltv|unfinished business  : big moe|unfinished business\n",
      "usher|looking 4 myself  : usher|looking 4 myself (expanded )\n",
      "usher|confessions  : usher|confessions (expanded )\n",
      "usher|confessions (special )  : usher|confessions (expanded )\n",
      "usher|raymond v. raymond  : usher|raymond v raymond (expanded )\n",
      "vado|suffering from success  : dj khaled|suffering from success\n",
      "verbal jint|no excuses -  : verbal jint|go easy\n",
      "warren g|regulate... g funk era  : warren g|regulate… g funk era\n",
      "warren g|regulate… g funk era part ii  : warren g|regulate… g funk era\n",
      "wiley|tunnel vision v3  : wiley|tunnel vision v1\n",
      "wiz khalifa|28 grams  : wiz khalifa|28 grams (trap wiz)\n",
      "wyclef jean|carnival vol. ii - memoirs of an immigrant  : wyclef jean|carnival vol. ii...memoirs of an immigrant\n",
      "wyclef jean|jouvert  : wyclef jean|jouvert ( )\n",
      "wyclef jean|the ecleftic 2 sides ii a book  : wyclef jean|the ecleftic -2 sides ii a book\n",
      "wyclef jean|wyclef goes back to school v1  : wyclef jean|wyclef goes back to school\n",
      "x-raided|xorcist  : x-raided|x-orcist\n",
      "xzibit|8 mile: music from and inspired by the motion picture  : 2pac|resurrection (music from and inspired by the motion picture)\n",
      "xzibit|weapons of mass destruction  : xzibit|weapons of mass destruction (clean)\n",
      "xzibit|40 days and 40 nightz  : xzibit|40 dayz and 40 nightz (explicit)\n",
      "yelawolf|trunk muzik  : yelawolf|trunk muzik 3\n",
      "young bleed|my balls and my word  : young bleed|my balls and my word (explicit)\n",
      "young buck|10 toes down  : young buck|10 pints\n",
      "young noble|outlaw rydahz vol. 1  : young noble|outlaw rydahz\n",
      "young scooter|80's baby  : young scooter|80s baby\n",
      "young scooter|jug season  : young scooter|juggathon\n",
      "yung lean|lavender  : yung lean|stranger\n",
      "yung lean|warlord  : yung lean|warlord ()\n",
      "yung6ix|highstar  : yung6ix|high star\n",
      "yung6ix|6ix oclock  : yung6ix|6ix o clock\n",
      "asher roth|retro hash  : asher roth|retrohash\n",
      "queen|greatest hits  : juvenile|greatest hits\n"
     ]
    }
   ],
   "source": [
    "artist_album_choices = spotify_artist_album_list_deduped[1:]\n",
    "\n",
    "training_album_genius_name_set = []\n",
    "training_album_spotify_name_set = []\n",
    "training_album_lev_score = []\n",
    "\n",
    "for artist_album in artist_album_checks_no_genius:\n",
    "    if(process.extract(artist_album, artist_album_choices, scorer=fuzz.ratio, limit=1)[0][1] > 60):\n",
    "        \n",
    "        score = process.extract(artist_album, artist_album_choices, scorer=fuzz.ratio, limit=1)[0][1]\n",
    "        match = process.extract(artist_album, artist_album_choices, scorer=fuzz.ratio, limit=1)[0][0]\n",
    "        \n",
    "        training_album_lev_score.append(score)\n",
    "        \n",
    "        training_album_genius_name_set.append(artist_album)\n",
    "        \n",
    "        training_album_spotify_name_set.append(match)\n",
    "        \n",
    "        print(f\"{artist_album}  : {match}\")"
   ]
  },
  {
   "cell_type": "code",
   "execution_count": 88,
   "metadata": {},
   "outputs": [],
   "source": [
    "artist_album_processing_df = pd.DataFrame({'genius_artist_album':training_album_genius_name_set, 'spotify_artist_album':training_album_spotify_name_set, 'lev': training_album_lev_score})"
   ]
  },
  {
   "cell_type": "code",
   "execution_count": 874,
   "metadata": {},
   "outputs": [],
   "source": [
    "# artist_album_processing_df.to_csv('stringmatch/trainingdata.csv', index=False)"
   ]
  },
  {
   "cell_type": "code",
   "execution_count": 952,
   "metadata": {},
   "outputs": [],
   "source": [
    "artist_album_processing_df = pd.read_csv('stringmatch/trainingdatapipes.csv')"
   ]
  },
  {
   "cell_type": "markdown",
   "metadata": {},
   "source": [
    "#### Construct Training set, include new features\n"
   ]
  },
  {
   "cell_type": "code",
   "execution_count": 953,
   "metadata": {},
   "outputs": [],
   "source": [
    "artist_album_processing_df['genius_artist_album'] = artist_album_processing_df['genius_artist_album'].str.replace('|', ' ')\n",
    "artist_album_processing_df['spotify_artist_album'] = artist_album_processing_df['spotify_artist_album'].str.replace('|', ' ')"
   ]
  },
  {
   "cell_type": "code",
   "execution_count": 954,
   "metadata": {},
   "outputs": [],
   "source": [
    "artist_album_processing_df['str_len_genius'] = artist_album_processing_df['genius_artist_album'].str.len()"
   ]
  },
  {
   "cell_type": "code",
   "execution_count": 955,
   "metadata": {},
   "outputs": [],
   "source": [
    "artist_album_processing_df['str_len_difference'] = np.abs(artist_album_processing_df['genius_artist_album'].str.len() - artist_album_processing_df['spotify_artist_album'].str.len())"
   ]
  },
  {
   "cell_type": "code",
   "execution_count": 956,
   "metadata": {},
   "outputs": [],
   "source": [
    "from scipy.spatial.distance import cosine"
   ]
  },
  {
   "cell_type": "code",
   "execution_count": 957,
   "metadata": {},
   "outputs": [],
   "source": [
    "def hamdist(str1, str2):\n",
    "    diffs = 0\n",
    "    for ch1, ch2 in zip(str1, str2):\n",
    "        if ch1 != ch2:\n",
    "            diffs += 1\n",
    "    return diffs\n",
    "\n",
    "\n",
    "\n",
    "\"\"\" more orthodox and robust implementation \"\"\"\n",
    "def dice_coefficient(a, b):\n",
    "    \"\"\"dice coefficient 2nt/(na + nb).\"\"\"\n",
    "    if not len(a) or not len(b): return 0.0\n",
    "    if len(a) == 1:  a=a+u'.'\n",
    "    if len(b) == 1:  b=b+u'.'\n",
    "    \n",
    "    a_bigram_list=[]\n",
    "    for i in range(len(a)-1):\n",
    "      a_bigram_list.append(a[i:i+2])\n",
    "    b_bigram_list=[]\n",
    "    for i in range(len(b)-1):\n",
    "      b_bigram_list.append(b[i:i+2])\n",
    "      \n",
    "    a_bigrams = set(a_bigram_list)\n",
    "    b_bigrams = set(b_bigram_list)\n",
    "    overlap = len(a_bigrams & b_bigrams)\n",
    "    dice_coeff = overlap * 2.0/(len(a_bigrams) + len(b_bigrams))\n",
    "    return dice_coeff\n",
    "\n"
   ]
  },
  {
   "cell_type": "code",
   "execution_count": 958,
   "metadata": {},
   "outputs": [],
   "source": [
    "hamming_list=[]\n",
    "dice_list = []\n",
    "jarowinkler_list = []\n",
    "for index, row in artist_album_processing_df.iterrows():\n",
    "    hamming_list.append(hamdist(row['genius_artist_album'], row['spotify_artist_album']))\n",
    "    dice_list.append(dice_coefficient(row['genius_artist_album'], row['spotify_artist_album']))\n",
    "    jarowinkler_list.append(distance.get_jaro_distance(row['genius_artist_album'], row['spotify_artist_album'], winkler=True, scaling=0.1))\n",
    "    "
   ]
  },
  {
   "cell_type": "code",
   "execution_count": 959,
   "metadata": {},
   "outputs": [],
   "source": [
    "artist_album_processing_df['ham'] = hamming_list\n",
    "artist_album_processing_df['dice'] = dice_list\n",
    "artist_album_processing_df['jaro_wink'] = jarowinkler_list"
   ]
  },
  {
   "cell_type": "code",
   "execution_count": 960,
   "metadata": {},
   "outputs": [
    {
     "data": {
      "text/plain": [
       "Index(['genius_artist_album', 'spotify_artist_album', 'lev', 'match',\n",
       "       'str_len_genius', 'str_len_difference', 'ham', 'dice', 'jaro_wink'],\n",
       "      dtype='object')"
      ]
     },
     "execution_count": 960,
     "metadata": {},
     "output_type": "execute_result"
    }
   ],
   "source": [
    "artist_album_processing_df.columns"
   ]
  },
  {
   "cell_type": "markdown",
   "metadata": {},
   "source": [
    "#### Vectorize"
   ]
  },
  {
   "cell_type": "code",
   "execution_count": 961,
   "metadata": {},
   "outputs": [],
   "source": [
    "from sklearn.feature_extraction.text import TfidfVectorizer#### Construct Training set, include new features\n"
   ]
  },
  {
   "cell_type": "code",
   "execution_count": 962,
   "metadata": {},
   "outputs": [
    {
     "name": "stderr",
     "output_type": "stream",
     "text": [
      "C:\\Users\\Owen\\AppData\\Roaming\\Python\\Python37\\site-packages\\pandas\\core\\ops\\__init__.py:1115: FutureWarning: elementwise comparison failed; returning scalar instead, but in the future will perform elementwise comparison\n",
      "  result = method(y)\n"
     ]
    }
   ],
   "source": [
    "artist_album_processing_df[artist_album_processing_df['match'] =='-'] = '-'"
   ]
  },
  {
   "cell_type": "code",
   "execution_count": 963,
   "metadata": {},
   "outputs": [],
   "source": [
    "artist_album_processing_df = artist_album_processing_df.dropna()"
   ]
  },
  {
   "cell_type": "code",
   "execution_count": 964,
   "metadata": {},
   "outputs": [],
   "source": [
    "vect = TfidfVectorizer(max_df=0.03, analyzer='word', strip_accents='ascii', sublinear_tf=True)\n",
    "\n",
    "tdifresults = vect.fit_transform(artist_album_processing_df['genius_artist_album'])"
   ]
  },
  {
   "cell_type": "code",
   "execution_count": 965,
   "metadata": {},
   "outputs": [],
   "source": [
    "tidf_numeric_df = pd.concat([artist_album_processing_df.drop(columns=['genius_artist_album', 'spotify_artist_album']),\n",
    "           pd.DataFrame(list(tdifresults.toarray()), columns=vect.get_feature_names())], axis=1)"
   ]
  },
  {
   "cell_type": "code",
   "execution_count": 966,
   "metadata": {
    "scrolled": true
   },
   "outputs": [
    {
     "data": {
      "text/plain": [
       "(554, 1317)"
      ]
     },
     "execution_count": 966,
     "metadata": {},
     "output_type": "execute_result"
    }
   ],
   "source": [
    "tidf_numeric_df.shape"
   ]
  },
  {
   "cell_type": "markdown",
   "metadata": {},
   "source": [
    "#### Fit and Train"
   ]
  },
  {
   "cell_type": "code",
   "execution_count": 967,
   "metadata": {},
   "outputs": [],
   "source": [
    "X = tidf_numeric_df.drop(columns=['match'])\n",
    "y = tidf_numeric_df['match']"
   ]
  },
  {
   "cell_type": "code",
   "execution_count": 968,
   "metadata": {},
   "outputs": [],
   "source": [
    "X_train, X_test, y_train, y_test = train_test_split(X,y,test_size=0.3, random_state=45)"
   ]
  },
  {
   "cell_type": "code",
   "execution_count": 969,
   "metadata": {},
   "outputs": [],
   "source": [
    "lr = LogisticRegression(penalty='l2', C = .1)\n",
    "\n",
    "mnb = MultinomialNB()\n",
    "\n",
    "rf = RandomForestClassifier()\n",
    "\n",
    "ad = AdaBoostClassifier()\n",
    "\n",
    "gb = GradientBoostingClassifier()"
   ]
  },
  {
   "cell_type": "code",
   "execution_count": 970,
   "metadata": {
    "scrolled": false
   },
   "outputs": [
    {
     "data": {
      "text/plain": [
       "1    0.539711\n",
       "0    0.460289\n",
       "Name: match, dtype: float64"
      ]
     },
     "execution_count": 970,
     "metadata": {},
     "output_type": "execute_result"
    }
   ],
   "source": [
    "tidf_numeric_df['match'].value_counts(normalize=True)"
   ]
  },
  {
   "cell_type": "code",
   "execution_count": 971,
   "metadata": {
    "scrolled": false
   },
   "outputs": [
    {
     "data": {
      "text/plain": [
       "0.599500560867475"
      ]
     },
     "metadata": {},
     "output_type": "display_data"
    },
    {
     "data": {
      "text/plain": [
       "0.5245446290262272"
      ]
     },
     "metadata": {},
     "output_type": "display_data"
    },
    {
     "data": {
      "text/plain": [
       "0.7441643074622082"
      ]
     },
     "metadata": {},
     "output_type": "display_data"
    },
    {
     "data": {
      "text/plain": [
       "0.723519042786176"
      ]
     },
     "metadata": {},
     "output_type": "display_data"
    },
    {
     "data": {
      "text/plain": [
       "0.7932669195021633"
      ]
     },
     "metadata": {},
     "output_type": "display_data"
    }
   ],
   "source": [
    "with warnings.catch_warnings():\n",
    "   \n",
    "    # ignore all caught warnings\n",
    "    warnings.filterwarnings(\"ignore\")\n",
    "    \n",
    "    display(cross_val_score(lr, X_train, y_train, cv = 2).mean())\n",
    "    display(cross_val_score(mnb, X_train, y_train, cv = 2).mean())\n",
    "    display(cross_val_score(rf, X_train, y_train, cv = 2).mean())\n",
    "    display(cross_val_score(ad, X_train, y_train, cv = 2).mean())\n",
    "    display(cross_val_score(gb, X_train, y_train, cv = 2).mean())"
   ]
  },
  {
   "cell_type": "code",
   "execution_count": 972,
   "metadata": {},
   "outputs": [
    {
     "name": "stderr",
     "output_type": "stream",
     "text": [
      "C:\\Users\\Owen\\Anaconda3\\lib\\site-packages\\sklearn\\ensemble\\forest.py:245: FutureWarning: The default value of n_estimators will change from 10 in version 0.20 to 100 in 0.22.\n",
      "  \"10 in version 0.20 to 100 in 0.22.\", FutureWarning)\n"
     ]
    }
   ],
   "source": [
    "rf.fit(X_train, y_train);\n",
    "ad.fit(X_train, y_train);\n",
    "gb.fit(X_train, y_train);"
   ]
  },
  {
   "cell_type": "code",
   "execution_count": 973,
   "metadata": {
    "scrolled": false
   },
   "outputs": [
    {
     "name": "stderr",
     "output_type": "stream",
     "text": [
      "C:\\Users\\Owen\\Anaconda3\\lib\\site-packages\\sklearn\\linear_model\\logistic.py:432: FutureWarning: Default solver will be changed to 'lbfgs' in 0.22. Specify a solver to silence this warning.\n",
      "  FutureWarning)\n",
      "C:\\Users\\Owen\\Anaconda3\\lib\\site-packages\\sklearn\\linear_model\\logistic.py:432: FutureWarning: Default solver will be changed to 'lbfgs' in 0.22. Specify a solver to silence this warning.\n",
      "  FutureWarning)\n"
     ]
    },
    {
     "data": {
      "text/plain": [
       "0.6046328169822146"
      ]
     },
     "metadata": {},
     "output_type": "display_data"
    },
    {
     "data": {
      "text/plain": [
       "0.7484222604704532"
      ]
     },
     "metadata": {},
     "output_type": "display_data"
    },
    {
     "data": {
      "text/plain": [
       "0.7303499713138267"
      ]
     },
     "metadata": {},
     "output_type": "display_data"
    },
    {
     "data": {
      "text/plain": [
       "0.7242541594951233"
      ]
     },
     "metadata": {},
     "output_type": "display_data"
    }
   ],
   "source": [
    "display(cross_val_score(lr, X_test, y_test, cv = 2).mean())\n",
    "display(cross_val_score(rf, X_test, y_test, cv = 2).mean())\n",
    "display(cross_val_score(ad, X_test, y_test, cv = 2).mean())\n",
    "display(cross_val_score(gb, X_test, y_test, cv = 2).mean())"
   ]
  },
  {
   "cell_type": "code",
   "execution_count": 941,
   "metadata": {},
   "outputs": [],
   "source": [
    "proba_results = pd.DataFrame(gb.predict_proba(X))\n",
    "proba_results['feature'] = pd.Series(X.columns)"
   ]
  },
  {
   "cell_type": "code",
   "execution_count": 942,
   "metadata": {},
   "outputs": [
    {
     "data": {
      "text/plain": [
       "0      0.905817\n",
       "1      0.840098\n",
       "2      0.905817\n",
       "3      0.295167\n",
       "4      0.027232\n",
       "         ...   \n",
       "549    0.166613\n",
       "550    0.718861\n",
       "551    0.846100\n",
       "552    0.710707\n",
       "553    0.833649\n",
       "Name: 0, Length: 554, dtype: float64"
      ]
     },
     "execution_count": 942,
     "metadata": {},
     "output_type": "execute_result"
    }
   ],
   "source": [
    "proba_results[0]"
   ]
  },
  {
   "cell_type": "markdown",
   "metadata": {},
   "source": [
    "#### Assess"
   ]
  },
  {
   "cell_type": "code",
   "execution_count": 943,
   "metadata": {},
   "outputs": [],
   "source": [
    "artist_album_processing_df['probs'] = proba_results[1]"
   ]
  },
  {
   "cell_type": "code",
   "execution_count": 944,
   "metadata": {},
   "outputs": [
    {
     "data": {
      "text/html": [
       "<div>\n",
       "<style scoped>\n",
       "    .dataframe tbody tr th:only-of-type {\n",
       "        vertical-align: middle;\n",
       "    }\n",
       "\n",
       "    .dataframe tbody tr th {\n",
       "        vertical-align: top;\n",
       "    }\n",
       "\n",
       "    .dataframe thead th {\n",
       "        text-align: right;\n",
       "    }\n",
       "</style>\n",
       "<table border=\"1\" class=\"dataframe\">\n",
       "  <thead>\n",
       "    <tr style=\"text-align: right;\">\n",
       "      <th></th>\n",
       "      <th>0</th>\n",
       "      <th>1</th>\n",
       "      <th>feature</th>\n",
       "    </tr>\n",
       "  </thead>\n",
       "  <tbody>\n",
       "    <tr>\n",
       "      <td>380</td>\n",
       "      <td>0.019350</td>\n",
       "      <td>0.980650</td>\n",
       "      <td>dusty</td>\n",
       "    </tr>\n",
       "    <tr>\n",
       "      <td>101</td>\n",
       "      <td>0.023950</td>\n",
       "      <td>0.976050</td>\n",
       "      <td>banks</td>\n",
       "    </tr>\n",
       "    <tr>\n",
       "      <td>102</td>\n",
       "      <td>0.023950</td>\n",
       "      <td>0.976050</td>\n",
       "      <td>banner</td>\n",
       "    </tr>\n",
       "    <tr>\n",
       "      <td>4</td>\n",
       "      <td>0.027232</td>\n",
       "      <td>0.972768</td>\n",
       "      <td>dice</td>\n",
       "    </tr>\n",
       "    <tr>\n",
       "      <td>104</td>\n",
       "      <td>0.029185</td>\n",
       "      <td>0.970815</td>\n",
       "      <td>baptized</td>\n",
       "    </tr>\n",
       "    <tr>\n",
       "      <td>452</td>\n",
       "      <td>0.030075</td>\n",
       "      <td>0.969925</td>\n",
       "      <td>flockaveli</td>\n",
       "    </tr>\n",
       "    <tr>\n",
       "      <td>515</td>\n",
       "      <td>0.032791</td>\n",
       "      <td>0.967209</td>\n",
       "      <td>goes</td>\n",
       "    </tr>\n",
       "    <tr>\n",
       "      <td>116</td>\n",
       "      <td>0.035516</td>\n",
       "      <td>0.964484</td>\n",
       "      <td>beautiful</td>\n",
       "    </tr>\n",
       "    <tr>\n",
       "      <td>416</td>\n",
       "      <td>0.036323</td>\n",
       "      <td>0.963677</td>\n",
       "      <td>exotigaz</td>\n",
       "    </tr>\n",
       "    <tr>\n",
       "      <td>417</td>\n",
       "      <td>0.037294</td>\n",
       "      <td>0.962706</td>\n",
       "      <td>experience</td>\n",
       "    </tr>\n",
       "  </tbody>\n",
       "</table>\n",
       "</div>"
      ],
      "text/plain": [
       "            0         1     feature\n",
       "380  0.019350  0.980650       dusty\n",
       "101  0.023950  0.976050       banks\n",
       "102  0.023950  0.976050      banner\n",
       "4    0.027232  0.972768        dice\n",
       "104  0.029185  0.970815    baptized\n",
       "452  0.030075  0.969925  flockaveli\n",
       "515  0.032791  0.967209        goes\n",
       "116  0.035516  0.964484   beautiful\n",
       "416  0.036323  0.963677    exotigaz\n",
       "417  0.037294  0.962706  experience"
      ]
     },
     "execution_count": 944,
     "metadata": {},
     "output_type": "execute_result"
    }
   ],
   "source": [
    "proba_results.sort_values(by = 1, ascending=False).head(10)"
   ]
  },
  {
   "cell_type": "code",
   "execution_count": 945,
   "metadata": {},
   "outputs": [
    {
     "data": {
      "text/html": [
       "<div>\n",
       "<style scoped>\n",
       "    .dataframe tbody tr th:only-of-type {\n",
       "        vertical-align: middle;\n",
       "    }\n",
       "\n",
       "    .dataframe tbody tr th {\n",
       "        vertical-align: top;\n",
       "    }\n",
       "\n",
       "    .dataframe thead th {\n",
       "        text-align: right;\n",
       "    }\n",
       "</style>\n",
       "<table border=\"1\" class=\"dataframe\">\n",
       "  <thead>\n",
       "    <tr style=\"text-align: right;\">\n",
       "      <th></th>\n",
       "      <th>genius_artist_album</th>\n",
       "      <th>spotify_artist_album</th>\n",
       "      <th>lev</th>\n",
       "      <th>match</th>\n",
       "      <th>str_len_genius</th>\n",
       "      <th>str_len_difference</th>\n",
       "      <th>ham</th>\n",
       "      <th>dice</th>\n",
       "      <th>jaro_wink</th>\n",
       "      <th>probs</th>\n",
       "    </tr>\n",
       "  </thead>\n",
       "  <tbody>\n",
       "    <tr>\n",
       "      <td>380</td>\n",
       "      <td>dj drama gangsta grillz: the album</td>\n",
       "      <td>dj drama gangsta grillz the album</td>\n",
       "      <td>99</td>\n",
       "      <td>1</td>\n",
       "      <td>34</td>\n",
       "      <td>1</td>\n",
       "      <td>10</td>\n",
       "      <td>0.95082</td>\n",
       "      <td>0.99</td>\n",
       "      <td>0.980650</td>\n",
       "    </tr>\n",
       "    <tr>\n",
       "      <td>101</td>\n",
       "      <td>spose the audacity</td>\n",
       "      <td>spose the audacity ( )</td>\n",
       "      <td>100</td>\n",
       "      <td>1</td>\n",
       "      <td>18</td>\n",
       "      <td>4</td>\n",
       "      <td>0</td>\n",
       "      <td>0.888889</td>\n",
       "      <td>0.96</td>\n",
       "      <td>0.976050</td>\n",
       "    </tr>\n",
       "    <tr>\n",
       "      <td>102</td>\n",
       "      <td>spose happy medium</td>\n",
       "      <td>spose happy medium ( )</td>\n",
       "      <td>100</td>\n",
       "      <td>1</td>\n",
       "      <td>18</td>\n",
       "      <td>4</td>\n",
       "      <td>0</td>\n",
       "      <td>0.894737</td>\n",
       "      <td>0.96</td>\n",
       "      <td>0.976050</td>\n",
       "    </tr>\n",
       "    <tr>\n",
       "      <td>4</td>\n",
       "      <td>open mike eagle rappers will die of natural ca...</td>\n",
       "      <td>open mike eagle rappers will die of natural ca...</td>\n",
       "      <td>100</td>\n",
       "      <td>1</td>\n",
       "      <td>50</td>\n",
       "      <td>3</td>\n",
       "      <td>0</td>\n",
       "      <td>0.977778</td>\n",
       "      <td>0.99</td>\n",
       "      <td>0.972768</td>\n",
       "    </tr>\n",
       "    <tr>\n",
       "      <td>104</td>\n",
       "      <td>spose preposterously dank</td>\n",
       "      <td>spose preposterously dank ()</td>\n",
       "      <td>100</td>\n",
       "      <td>1</td>\n",
       "      <td>25</td>\n",
       "      <td>3</td>\n",
       "      <td>0</td>\n",
       "      <td>0.93617</td>\n",
       "      <td>0.98</td>\n",
       "      <td>0.970815</td>\n",
       "    </tr>\n",
       "  </tbody>\n",
       "</table>\n",
       "</div>"
      ],
      "text/plain": [
       "                                   genius_artist_album  \\\n",
       "380                 dj drama gangsta grillz: the album   \n",
       "101                                 spose the audacity   \n",
       "102                                 spose happy medium   \n",
       "4    open mike eagle rappers will die of natural ca...   \n",
       "104                          spose preposterously dank   \n",
       "\n",
       "                                  spotify_artist_album  lev  match  \\\n",
       "380                  dj drama gangsta grillz the album   99      1   \n",
       "101                             spose the audacity ( )  100      1   \n",
       "102                             spose happy medium ( )  100      1   \n",
       "4    open mike eagle rappers will die of natural ca...  100      1   \n",
       "104                       spose preposterously dank ()  100      1   \n",
       "\n",
       "     str_len_genius  str_len_difference  ham      dice jaro_wink     probs  \n",
       "380              34                   1   10   0.95082      0.99  0.980650  \n",
       "101              18                   4    0  0.888889      0.96  0.976050  \n",
       "102              18                   4    0  0.894737      0.96  0.976050  \n",
       "4                50                   3    0  0.977778      0.99  0.972768  \n",
       "104              25                   3    0   0.93617      0.98  0.970815  "
      ]
     },
     "execution_count": 945,
     "metadata": {},
     "output_type": "execute_result"
    }
   ],
   "source": [
    "artist_album_processing_df.sort_values('probs', ascending=False).head(5)"
   ]
  },
  {
   "cell_type": "code",
   "execution_count": null,
   "metadata": {},
   "outputs": [],
   "source": [
    "# Model Combos:\n",
    "# Lev\n",
    "# Ham\n",
    "# JaroWink\n",
    "# Dice\n",
    "# All Dist\n",
    "# Dist + Domain\n",
    "# Tfidf\n",
    "# Everything\n",
    "\n",
    "#For each combination of features:\n",
    "    #Fit Gradient Booster\n",
    "        #Score (Accuracy, AUC)"
   ]
  }
 ],
 "metadata": {
  "kernelspec": {
   "display_name": "Python 3",
   "language": "python",
   "name": "python3"
  },
  "language_info": {
   "codemirror_mode": {
    "name": "ipython",
    "version": 3
   },
   "file_extension": ".py",
   "mimetype": "text/x-python",
   "name": "python",
   "nbconvert_exporter": "python",
   "pygments_lexer": "ipython3",
   "version": "3.7.3"
  }
 },
 "nbformat": 4,
 "nbformat_minor": 2
}
