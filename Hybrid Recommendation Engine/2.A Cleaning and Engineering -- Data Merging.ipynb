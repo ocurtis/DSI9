{
 "cells": [
  {
   "cell_type": "markdown",
   "metadata": {},
   "source": [
    "# 2.A. Cleaning and Engineering -- Data Merging"
   ]
  },
  {
   "cell_type": "markdown",
   "metadata": {},
   "source": [
    "In this notebook, we will take the time to merge our datasets together. We currently have data from the following sources:\n",
    " - Genius (Lyrical Data)\n",
    " - Spotify (Audio Data)\n",
    " - RapReviews, Pitchfork, and NeedleDrop (Review Data)\n",
    " \n",
    "Previous attempts at **training a fuzzy match model to increase our match rates** across these datasets showed promise but will be explored in a later iteration of this project. For now, we will proceed with matching across *artist name, album name, and track name*. In order to execute this match, a number of steps will be taken:\n",
    "\n",
    " - For each data source...\n",
    "  - Clean Artist Names (using regex and domain knowledge)\n",
    "  - Clean Album Names (using regex and domain knowledge)\n",
    "  - Clean Track Names (using regex and domain knowledge)\n",
    " - For each data source...\n",
    "  - Manually comb through Artist and Album Names in excel\n",
    "  - Change Artist/Album based on patterns seen manually\n",
    "  - Change these values within our respective Dataframes\n",
    "\n",
    "With the data combined, we just have a few more cleaning tasks to execute:\n",
    "\n",
    " - Remove tracks that do not have *rap* as genre\n",
    " \n",
    "**NOTE:** There is a significant amount of manual work that went into the combination of these files. As such, several data sets are read in and out over the course of the notebook. As a result, this notebook, more than others, will be more difficult to follow.\n"
   ]
  },
  {
   "cell_type": "code",
   "execution_count": 1,
   "metadata": {},
   "outputs": [],
   "source": [
    "import pandas as pd\n",
    "from bs4 import BeautifulSoup\n",
    "import numpy as np\n",
    "import time\n",
    "import requests\n",
    "import seaborn as sns\n",
    "import warnings\n",
    "import matplotlib.pyplot as plt\n",
    "import lyricsgenius\n",
    "import re\n",
    "import sys\n",
    "import spotipy\n",
    "import spotipy.util as util\n",
    "from sklearn.compose import ColumnTransformer, make_column_transformer\n",
    "from pyjarowinkler import distance\n",
    "import nltk\n",
    "\n",
    "import pandas as pd\n",
    "from bs4 import BeautifulSoup\n",
    "import numpy as np\n",
    "import time\n",
    "import requests\n",
    "import seaborn as sns\n",
    "import warnings\n",
    "import matplotlib.pyplot as plt\n",
    "\n",
    "import nltk\n",
    "from nltk.stem import PorterStemmer\n",
    "from sklearn.model_selection import cross_val_score\n",
    "\n",
    "from sklearn.pipeline import Pipeline, FeatureUnion\n",
    "from sklearn.model_selection import train_test_split, GridSearchCV\n",
    "from sklearn.linear_model import LogisticRegression, LogisticRegressionCV\n",
    "from sklearn.neighbors import KNeighborsClassifier\n",
    "from sklearn.svm import SVC\n",
    "from sklearn.metrics import recall_score\n",
    "from sklearn.ensemble import RandomForestClassifier, BaggingClassifier, GradientBoostingClassifier, AdaBoostClassifier, VotingClassifier\n",
    "from sklearn.feature_extraction.text import CountVectorizer, TfidfVectorizer\n",
    "from sklearn.neighbors import KNeighborsClassifier\n",
    "from sklearn.naive_bayes import MultinomialNB, GaussianNB, BernoulliNB\n"
   ]
  },
  {
   "cell_type": "code",
   "execution_count": 890,
   "metadata": {},
   "outputs": [],
   "source": [
    "pitchfork = pd.read_csv('pitchfork_deduped_final.csv')\n",
    "rr = pd.read_csv('./rapreview/ready_to_combine.csv')\n",
    "needle = pd.read_csv('./needledrop/combined_needle_review_data.csv')"
   ]
  },
  {
   "cell_type": "code",
   "execution_count": 891,
   "metadata": {},
   "outputs": [
    {
     "name": "stderr",
     "output_type": "stream",
     "text": [
      "C:\\Users\\Owen\\Anaconda3\\lib\\site-packages\\IPython\\core\\interactiveshell.py:3057: DtypeWarning: Columns (4,10) have mixed types. Specify dtype option on import or set low_memory=False.\n",
      "  interactivity=interactivity, compiler=compiler, result=result)\n"
     ]
    }
   ],
   "source": [
    "spotify = pd.read_csv('spotify_final_230k.csv')"
   ]
  },
  {
   "cell_type": "code",
   "execution_count": 317,
   "metadata": {},
   "outputs": [],
   "source": [
    "genius = pd.read_csv('saturday_done.csv')"
   ]
  },
  {
   "cell_type": "markdown",
   "metadata": {},
   "source": [
    "## Clean Artist, Album Names"
   ]
  },
  {
   "cell_type": "code",
   "execution_count": 36,
   "metadata": {},
   "outputs": [],
   "source": [
    "pitchfork['artist_clean'] = pitchfork['artist'].str.replace('$', 'S')\n",
    "pitchfork['artist_clean'] = pitchfork['artist_clean'].str.replace(\"’\", \"\")\n",
    "pitchfork['artist_clean'] = pitchfork['artist_clean'].str.replace('&', 'and')\n",
    "pitchfork['artist_clean'] = pitchfork['artist_clean'].str.replace('!','') \n",
    "pitchfork['artist_clean'] = pitchfork['artist_clean'].str.replace('([ ]{2,})', ' ', regex = True) \n",
    "pitchfork['artist_clean'] = pitchfork['artist_clean'].str.strip()\n",
    "pitchfork['artist_clean'] = pitchfork['artist_clean'].str.lower()"
   ]
  },
  {
   "cell_type": "code",
   "execution_count": 42,
   "metadata": {},
   "outputs": [],
   "source": [
    "pitchfork['album_name_clean'] = pitchfork['album'].str.replace('$', 'S')\n",
    "\n",
    "pitchfork['album_name_clean'] = pitchfork['album_name_clean'].str.replace(' EP', '')\n",
    "pitchfork['album_name_clean'] = pitchfork['album_name_clean'].str.replace(' LP', '')\n",
    "pitchfork['album_name_clean'] = pitchfork['album_name_clean'].str.lower()\n",
    "\n",
    "\n",
    "\n",
    "pitchfork['album_name_clean'] = pitchfork['album_name_clean'].str.replace('edition', '')\n",
    "pitchfork['album_name_clean'] = pitchfork['album_name_clean'].str.replace('version', '')\n",
    "pitchfork['album_name_clean'] = pitchfork['album_name_clean'].str.replace('deluxe', '')\n",
    "pitchfork['album_name_clean'] = pitchfork['album_name_clean'].str.replace('reissue', '')\n",
    "pitchfork['album_name_clean'] = pitchfork['album_name_clean'].str.replace('remastered', '')\n",
    "pitchfork['album_name_clean'] = pitchfork['album_name_clean'].str.replace(' ots', '')\n",
    "pitchfork['album_name_clean'] = pitchfork['album_name_clean'].str.replace('(original motion picture soundtrack)', '')\n",
    "\n",
    "pitchfork['album_name_clean'] = pitchfork['album_name_clean'].str.replace('volume one', 'volume 1')\n",
    "pitchfork['album_name_clean'] = pitchfork['album_name_clean'].str.replace('volume two', 'volume 2')\n",
    "pitchfork['album_name_clean'] = pitchfork['album_name_clean'].str.replace('volume three', 'volume 3')\n",
    "pitchfork['album_name_clean'] = pitchfork['album_name_clean'].str.replace('volume four', 'volume 4')\n",
    "pitchfork['album_name_clean'] = pitchfork['album_name_clean'].str.replace('volume five', 'volume 5')\n",
    "\n",
    "pitchfork['album_name_clean'] = pitchfork['album_name_clean'].str.replace('volume 1', 'vol 1')\n",
    "pitchfork['album_name_clean'] = pitchfork['album_name_clean'].str.replace('volume 2', 'vol 2')\n",
    "pitchfork['album_name_clean'] = pitchfork['album_name_clean'].str.replace('volume 3', 'vol 3')\n",
    "pitchfork['album_name_clean'] = pitchfork['album_name_clean'].str.replace('volume 4', 'vol 4')\n",
    "pitchfork['album_name_clean'] = pitchfork['album_name_clean'].str.replace('volume 5', 'vol 5')\n",
    "\n",
    "pitchfork['album_name_clean'] = pitchfork['album_name_clean'].str.replace('vol 1', 'vol1')\n",
    "pitchfork['album_name_clean'] = pitchfork['album_name_clean'].str.replace('vol 2', 'vol2')\n",
    "pitchfork['album_name_clean'] = pitchfork['album_name_clean'].str.replace('vol 3', 'vol3')\n",
    "pitchfork['album_name_clean'] = pitchfork['album_name_clean'].str.replace('vol 4', 'vol4')\n",
    "pitchfork['album_name_clean'] = pitchfork['album_name_clean'].str.replace('vol 5', 'vol5')\n",
    "\n",
    "pitchfork['album_name_clean'] = pitchfork['album_name_clean'].str.replace('vol1', 'v1')\n",
    "pitchfork['album_name_clean'] = pitchfork['album_name_clean'].str.replace('vol2', 'v2')\n",
    "pitchfork['album_name_clean'] = pitchfork['album_name_clean'].str.replace('vol3', 'v3')\n",
    "pitchfork['album_name_clean'] = pitchfork['album_name_clean'].str.replace('vol4', 'v4')\n",
    "pitchfork['album_name_clean'] = pitchfork['album_name_clean'].str.replace('vol5', 'v5')\n",
    "\n",
    "pitchfork['album_name_clean'] = pitchfork['album_name_clean'].str.replace('iii', '3')\n",
    "pitchfork['album_name_clean'] = pitchfork['album_name_clean'].str.replace('ii', '2')\n",
    "\n",
    "pitchfork['album_name_clean'] = pitchfork['album_name_clean'].str.replace(' i ', '1')\n",
    "\n",
    "\n",
    "pitchfork['album_name_clean'] = pitchfork['album_name_clean'].str.replace(\"’\", \"\")\n",
    "pitchfork['album_name_clean'] = pitchfork['album_name_clean'].str.replace(\"'\", \"\")\n",
    "pitchfork['album_name_clean'] = pitchfork['album_name_clean'].str.replace('&', 'and')\n",
    "pitchfork['album_name_clean'] = pitchfork['album_name_clean'].str.replace('!', '') \n",
    "pitchfork['album_name_clean'] = pitchfork['album_name_clean'].str.replace(\"([\\(\\[]).*?([\\)\\]])\", '', regex = True)\n",
    "pitchfork['album_name_clean'] = pitchfork['album_name_clean'].str.replace('([ ]{2,})', ' ', regex = True) \n",
    "pitchfork['album_name_clean'] = pitchfork['album_name_clean'].str.strip()\n",
    "pitchfork['album_name_clean'] = pitchfork['album_name_clean'].str.lower()\n"
   ]
  },
  {
   "cell_type": "code",
   "execution_count": 31,
   "metadata": {},
   "outputs": [],
   "source": [
    "pitchfork_df['artist_album'] = pitchfork_df.artist.str.lower().str.strip() + '|' + pitchfork_df.album.str.lower().str.strip()\n",
    "rr_df['artist_album'] = rr_df.artist_name.str.lower().str.strip() + '|' + rr_df.album_name.str.lower().str.strip()\n",
    "needle_df['artist_album'] = needle_df.artist.str.lower().str.strip() + '|' + needle_df.title.str.lower().str.strip()"
   ]
  },
  {
   "cell_type": "code",
   "execution_count": 186,
   "metadata": {},
   "outputs": [],
   "source": [
    "needle['artist_clean'] = needle['artist'].str.replace('$', 'S')\n",
    "needle['artist_clean'] = needle['artist_clean'].str.replace(\"’\", \"\")\n",
    "needle['artist_clean'] = needle['artist_clean'].str.replace('&', 'and')\n",
    "needle['artist_clean'] = needle['artist_clean'].str.replace('!','') \n",
    "needle['artist_clean'] = needle['artist_clean'].str.replace('([ ]{2,})', ' ', regex = True) \n",
    "needle['artist_clean'] = needle['artist_clean'].str.strip()\n",
    "needle['artist_clean'] = needle['artist_clean'].str.lower()"
   ]
  },
  {
   "cell_type": "code",
   "execution_count": 187,
   "metadata": {},
   "outputs": [],
   "source": [
    "needle['album_name_clean'] = needle['title'].str.replace('$', 'S')\n",
    "\n",
    "needle['album_name_clean'] = needle['album_name_clean'].str.replace(' EP', '')\n",
    "needle['album_name_clean'] = needle['album_name_clean'].str.replace(' LP', '')\n",
    "needle['album_name_clean'] = needle['album_name_clean'].str.lower()\n",
    "\n",
    "\n",
    "\n",
    "needle['album_name_clean'] = needle['album_name_clean'].str.replace('edition', '')\n",
    "needle['album_name_clean'] = needle['album_name_clean'].str.replace('version', '')\n",
    "needle['album_name_clean'] = needle['album_name_clean'].str.replace('deluxe', '')\n",
    "needle['album_name_clean'] = needle['album_name_clean'].str.replace('reissue', '')\n",
    "needle['album_name_clean'] = needle['album_name_clean'].str.replace('remastered', '')\n",
    "needle['album_name_clean'] = needle['album_name_clean'].str.replace(' ots', '')\n",
    "needle['album_name_clean'] = needle['album_name_clean'].str.replace('(original motion picture soundtrack)', '')\n",
    "\n",
    "needle['album_name_clean'] = needle['album_name_clean'].str.replace('volume one', 'volume 1')\n",
    "needle['album_name_clean'] = needle['album_name_clean'].str.replace('volume two', 'volume 2')\n",
    "needle['album_name_clean'] = needle['album_name_clean'].str.replace('volume three', 'volume 3')\n",
    "needle['album_name_clean'] = needle['album_name_clean'].str.replace('volume four', 'volume 4')\n",
    "needle['album_name_clean'] = needle['album_name_clean'].str.replace('volume five', 'volume 5')\n",
    "\n",
    "needle['album_name_clean'] = needle['album_name_clean'].str.replace('volume 1', 'vol 1')\n",
    "needle['album_name_clean'] = needle['album_name_clean'].str.replace('volume 2', 'vol 2')\n",
    "needle['album_name_clean'] = needle['album_name_clean'].str.replace('volume 3', 'vol 3')\n",
    "needle['album_name_clean'] = needle['album_name_clean'].str.replace('volume 4', 'vol 4')\n",
    "needle['album_name_clean'] = needle['album_name_clean'].str.replace('volume 5', 'vol 5')\n",
    "\n",
    "needle['album_name_clean'] = needle['album_name_clean'].str.replace('vol 1', 'vol1')\n",
    "needle['album_name_clean'] = needle['album_name_clean'].str.replace('vol 2', 'vol2')\n",
    "needle['album_name_clean'] = needle['album_name_clean'].str.replace('vol 3', 'vol3')\n",
    "needle['album_name_clean'] = needle['album_name_clean'].str.replace('vol 4', 'vol4')\n",
    "needle['album_name_clean'] = needle['album_name_clean'].str.replace('vol 5', 'vol5')\n",
    "\n",
    "needle['album_name_clean'] = needle['album_name_clean'].str.replace('vol1', 'v1')\n",
    "needle['album_name_clean'] = needle['album_name_clean'].str.replace('vol2', 'v2')\n",
    "needle['album_name_clean'] = needle['album_name_clean'].str.replace('vol3', 'v3')\n",
    "needle['album_name_clean'] = needle['album_name_clean'].str.replace('vol4', 'v4')\n",
    "needle['album_name_clean'] = needle['album_name_clean'].str.replace('vol5', 'v5')\n",
    "\n",
    "needle['album_name_clean'] = needle['album_name_clean'].str.replace('iii', '3')\n",
    "needle['album_name_clean'] = needle['album_name_clean'].str.replace('ii', '2')\n",
    "\n",
    "needle['album_name_clean'] = needle['album_name_clean'].str.replace(' i ', '1')\n",
    "\n",
    "\n",
    "needle['album_name_clean'] = needle['album_name_clean'].str.replace(\"’\", \"\")\n",
    "needle['album_name_clean'] = needle['album_name_clean'].str.replace(\"'\", \"\")\n",
    "needle['album_name_clean'] = needle['album_name_clean'].str.replace('&', 'and')\n",
    "needle['album_name_clean'] = needle['album_name_clean'].str.replace('!', '') \n",
    "needle['album_name_clean'] = needle['album_name_clean'].str.replace(\"([\\(\\[]).*?([\\)\\]])\", '', regex = True)\n",
    "needle['album_name_clean'] = needle['album_name_clean'].str.replace('([ ]{2,})', ' ', regex = True) \n",
    "needle['album_name_clean'] = needle['album_name_clean'].str.strip()\n",
    "needle['album_name_clean'] = needle['album_name_clean'].str.lower()\n"
   ]
  },
  {
   "cell_type": "code",
   "execution_count": 49,
   "metadata": {},
   "outputs": [],
   "source": [
    "rr['artist_clean'] = rr['artist_name'].str.replace('$', 'S')\n",
    "rr['artist_clean'] = rr['artist_clean'].str.replace(\"’\", \"\")\n",
    "rr['artist_clean'] = rr['artist_clean'].str.replace('&', 'and')\n",
    "rr['artist_clean'] = rr['artist_clean'].str.replace('!','') \n",
    "rr['artist_clean'] = rr['artist_clean'].str.replace('([ ]{2,})', ' ', regex = True) \n",
    "rr['artist_clean'] = rr['artist_clean'].str.strip()\n",
    "rr['artist_clean'] = rr['artist_clean'].str.lower()\n"
   ]
  },
  {
   "cell_type": "code",
   "execution_count": 50,
   "metadata": {},
   "outputs": [],
   "source": [
    "rr['album_name_clean'] = rr['album_name'].str.replace('$', 'S')\n",
    "\n",
    "rr['album_name_clean'] = rr['album_name_clean'].str.replace(' EP', '')\n",
    "rr['album_name_clean'] = rr['album_name_clean'].str.replace(' LP', '')\n",
    "rr['album_name_clean'] = rr['album_name_clean'].str.lower()\n",
    "\n",
    "\n",
    "\n",
    "rr['album_name_clean'] = rr['album_name_clean'].str.replace('edition', '')\n",
    "rr['album_name_clean'] = rr['album_name_clean'].str.replace('version', '')\n",
    "rr['album_name_clean'] = rr['album_name_clean'].str.replace('deluxe', '')\n",
    "rr['album_name_clean'] = rr['album_name_clean'].str.replace('reissue', '')\n",
    "rr['album_name_clean'] = rr['album_name_clean'].str.replace('remastered', '')\n",
    "rr['album_name_clean'] = rr['album_name_clean'].str.replace(' ots', '')\n",
    "rr['album_name_clean'] = rr['album_name_clean'].str.replace('(original motion picture soundtrack)', '')\n",
    "\n",
    "rr['album_name_clean'] = rr['album_name_clean'].str.replace('volume one', 'volume 1')\n",
    "rr['album_name_clean'] = rr['album_name_clean'].str.replace('volume two', 'volume 2')\n",
    "rr['album_name_clean'] = rr['album_name_clean'].str.replace('volume three', 'volume 3')\n",
    "rr['album_name_clean'] = rr['album_name_clean'].str.replace('volume four', 'volume 4')\n",
    "rr['album_name_clean'] = rr['album_name_clean'].str.replace('volume five', 'volume 5')\n",
    "\n",
    "rr['album_name_clean'] = rr['album_name_clean'].str.replace('volume 1', 'vol 1')\n",
    "rr['album_name_clean'] = rr['album_name_clean'].str.replace('volume 2', 'vol 2')\n",
    "rr['album_name_clean'] = rr['album_name_clean'].str.replace('volume 3', 'vol 3')\n",
    "rr['album_name_clean'] = rr['album_name_clean'].str.replace('volume 4', 'vol 4')\n",
    "rr['album_name_clean'] = rr['album_name_clean'].str.replace('volume 5', 'vol 5')\n",
    "\n",
    "rr['album_name_clean'] = rr['album_name_clean'].str.replace('vol 1', 'vol1')\n",
    "rr['album_name_clean'] = rr['album_name_clean'].str.replace('vol 2', 'vol2')\n",
    "rr['album_name_clean'] = rr['album_name_clean'].str.replace('vol 3', 'vol3')\n",
    "rr['album_name_clean'] = rr['album_name_clean'].str.replace('vol 4', 'vol4')\n",
    "rr['album_name_clean'] = rr['album_name_clean'].str.replace('vol 5', 'vol5')\n",
    "\n",
    "rr['album_name_clean'] = rr['album_name_clean'].str.replace('vol1', 'v1')\n",
    "rr['album_name_clean'] = rr['album_name_clean'].str.replace('vol2', 'v2')\n",
    "rr['album_name_clean'] = rr['album_name_clean'].str.replace('vol3', 'v3')\n",
    "rr['album_name_clean'] = rr['album_name_clean'].str.replace('vol4', 'v4')\n",
    "rr['album_name_clean'] = rr['album_name_clean'].str.replace('vol5', 'v5')\n",
    "\n",
    "rr['album_name_clean'] = rr['album_name_clean'].str.replace('iii', '3')\n",
    "rr['album_name_clean'] = rr['album_name_clean'].str.replace('ii', '2')\n",
    "\n",
    "rr['album_name_clean'] = rr['album_name_clean'].str.replace(' i ', '1')\n",
    "\n",
    "\n",
    "rr['album_name_clean'] = rr['album_name_clean'].str.replace(\"’\", \"\")\n",
    "rr['album_name_clean'] = rr['album_name_clean'].str.replace(\"'\", \"\")\n",
    "rr['album_name_clean'] = rr['album_name_clean'].str.replace('&', 'and')\n",
    "rr['album_name_clean'] = rr['album_name_clean'].str.replace('!', '') \n",
    "rr['album_name_clean'] = rr['album_name_clean'].str.replace(\"([\\(\\[]).*?([\\)\\]])\", '', regex = True)\n",
    "rr['album_name_clean'] = rr['album_name_clean'].str.replace('([ ]{2,})', ' ', regex = True) \n",
    "rr['album_name_clean'] = rr['album_name_clean'].str.strip()\n",
    "rr['album_name_clean'] = rr['album_name_clean'].str.lower()\n"
   ]
  },
  {
   "cell_type": "code",
   "execution_count": 318,
   "metadata": {},
   "outputs": [],
   "source": [
    "genius['artist_clean'] = genius['artist'].str.replace('$', 'S')\n",
    "genius['artist_clean'] = genius['artist_clean'].str.replace(\"’\", \"\")\n",
    "genius['artist_clean'] = genius['artist_clean'].str.replace('&', 'and')\n",
    "genius['artist_clean'] = genius['artist_clean'].str.replace('!','') \n",
    "genius['artist_clean'] = genius['artist_clean'].str.replace('([ ]{2,})', ' ', regex = True) \n",
    "genius['artist_clean'] = genius['artist_clean'].str.strip()\n",
    "genius['artist_clean'] = genius['artist_clean'].str.lower()"
   ]
  },
  {
   "cell_type": "code",
   "execution_count": 319,
   "metadata": {},
   "outputs": [],
   "source": [
    "genius['album_name_clean'] = genius['album'].str.replace('$', 'S')\n",
    "\n",
    "genius['album_name_clean'] = genius['album_name_clean'].str.replace(' EP', '')\n",
    "genius['album_name_clean'] = genius['album_name_clean'].str.replace(' LP', '')\n",
    "genius['album_name_clean'] = genius['album_name_clean'].str.lower()\n",
    "\n",
    "\n",
    "\n",
    "genius['album_name_clean'] = genius['album_name_clean'].str.replace('edition', '')\n",
    "genius['album_name_clean'] = genius['album_name_clean'].str.replace('version', '')\n",
    "genius['album_name_clean'] = genius['album_name_clean'].str.replace('deluxe', '')\n",
    "genius['album_name_clean'] = genius['album_name_clean'].str.replace('reissue', '')\n",
    "genius['album_name_clean'] = genius['album_name_clean'].str.replace('remastered', '')\n",
    "genius['album_name_clean'] = genius['album_name_clean'].str.replace(' ots', '')\n",
    "genius['album_name_clean'] = genius['album_name_clean'].str.replace('(original motion picture soundtrack)', '')\n",
    "\n",
    "genius['album_name_clean'] = genius['album_name_clean'].str.replace('volume one', 'volume 1')\n",
    "genius['album_name_clean'] = genius['album_name_clean'].str.replace('volume two', 'volume 2')\n",
    "genius['album_name_clean'] = genius['album_name_clean'].str.replace('volume three', 'volume 3')\n",
    "genius['album_name_clean'] = genius['album_name_clean'].str.replace('volume four', 'volume 4')\n",
    "genius['album_name_clean'] = genius['album_name_clean'].str.replace('volume five', 'volume 5')\n",
    "\n",
    "genius['album_name_clean'] = genius['album_name_clean'].str.replace('volume 1', 'vol 1')\n",
    "genius['album_name_clean'] = genius['album_name_clean'].str.replace('volume 2', 'vol 2')\n",
    "genius['album_name_clean'] = genius['album_name_clean'].str.replace('volume 3', 'vol 3')\n",
    "genius['album_name_clean'] = genius['album_name_clean'].str.replace('volume 4', 'vol 4')\n",
    "genius['album_name_clean'] = genius['album_name_clean'].str.replace('volume 5', 'vol 5')\n",
    "\n",
    "genius['album_name_clean'] = genius['album_name_clean'].str.replace('vol 1', 'vol1')\n",
    "genius['album_name_clean'] = genius['album_name_clean'].str.replace('vol 2', 'vol2')\n",
    "genius['album_name_clean'] = genius['album_name_clean'].str.replace('vol 3', 'vol3')\n",
    "genius['album_name_clean'] = genius['album_name_clean'].str.replace('vol 4', 'vol4')\n",
    "genius['album_name_clean'] = genius['album_name_clean'].str.replace('vol 5', 'vol5')\n",
    "\n",
    "genius['album_name_clean'] = genius['album_name_clean'].str.replace('vol1', 'v1')\n",
    "genius['album_name_clean'] = genius['album_name_clean'].str.replace('vol2', 'v2')\n",
    "genius['album_name_clean'] = genius['album_name_clean'].str.replace('vol3', 'v3')\n",
    "genius['album_name_clean'] = genius['album_name_clean'].str.replace('vol4', 'v4')\n",
    "genius['album_name_clean'] = genius['album_name_clean'].str.replace('vol5', 'v5')\n",
    "\n",
    "\n",
    "genius['album_name_clean'] = genius['album_name_clean'].str.replace(\"’\", \"\")\n",
    "genius['album_name_clean'] = genius['album_name_clean'].str.replace(\"'\", \"\")\n",
    "genius['album_name_clean'] = genius['album_name_clean'].str.replace('&', 'and')\n",
    "genius['album_name_clean'] = genius['album_name_clean'].str.replace('!', '') \n",
    "genius['album_name_clean'] = genius['album_name_clean'].str.replace(\"([\\(\\[]).*?([\\)\\]])\", '', regex = True)\n",
    "genius['album_name_clean'] = genius['album_name_clean'].str.replace('([ ]{2,})', ' ', regex = True) \n",
    "genius['album_name_clean'] = genius['album_name_clean'].str.strip()\n",
    "genius['album_name_clean'] = genius['album_name_clean'].str.lower()"
   ]
  },
  {
   "cell_type": "code",
   "execution_count": 892,
   "metadata": {},
   "outputs": [],
   "source": [
    "spotify['artist_clean'] = spotify['arist_y'].str.replace('$', 'S')\n",
    "spotify['artist_clean'] = spotify['artist_clean'].str.replace(\"’\", \"\")\n",
    "spotify['artist_clean'] = spotify['artist_clean'].str.replace('&', 'and')\n",
    "spotify['artist_clean'] = spotify['artist_clean'].str.replace('!', '') \n",
    "spotify['artist_clean'] = spotify['artist_clean'].str.replace('([ ]{2,})', ' ', regex = True) \n",
    "spotify['artist_clean'] = spotify['artist_clean'].str.strip()\n",
    "spotify['artist_clean'] = spotify['artist_clean'].str.lower()"
   ]
  },
  {
   "cell_type": "code",
   "execution_count": 893,
   "metadata": {},
   "outputs": [],
   "source": [
    "spotify['album_name_clean'] = spotify['album_name'].str.replace('$', 'S')\n",
    "spotify['album_name_clean'] = spotify['album_name_clean'].str.replace(' LP', '')\n",
    "spotify['album_name_clean'] = spotify['album_name_clean'].str.replace(' EP', '')\n",
    "spotify['album_name_clean'] = spotify['album_name_clean'].str.lower()\n",
    "\n",
    "\n",
    "spotify['album_name_clean'] = spotify['album_name_clean'].str.replace('edition', '')\n",
    "spotify['album_name_clean'] = spotify['album_name_clean'].str.replace('version', '')\n",
    "spotify['album_name_clean'] = spotify['album_name_clean'].str.replace('deluxe', '')\n",
    "spotify['album_name_clean'] = spotify['album_name_clean'].str.replace('reissue', '')\n",
    "spotify['album_name_clean'] = spotify['album_name_clean'].str.replace('remastered', '')\n",
    "spotify['album_name_clean'] = spotify['album_name_clean'].str.replace(' ots', ' ')\n",
    "spotify['album_name_clean'] = spotify['album_name_clean'].str.replace('(original motion picture soundtrack)', '')\n",
    "\n",
    "\n",
    "spotify['album_name_clean'] = spotify['album_name_clean'].str.replace('volume one', 'volume 1')\n",
    "spotify['album_name_clean'] = spotify['album_name_clean'].str.replace('volume two', 'volume 2')\n",
    "spotify['album_name_clean'] = spotify['album_name_clean'].str.replace('volume three', 'volume 3')\n",
    "spotify['album_name_clean'] = spotify['album_name_clean'].str.replace('volume four', 'volume 4')\n",
    "spotify['album_name_clean'] = spotify['album_name_clean'].str.replace('volume five', 'volume 5')\n",
    "\n",
    "spotify['album_name_clean'] = spotify['album_name_clean'].str.replace('volume 1', 'vol 1')\n",
    "spotify['album_name_clean'] = spotify['album_name_clean'].str.replace('volume 2', 'vol 2')\n",
    "spotify['album_name_clean'] = spotify['album_name_clean'].str.replace('volume 3', 'vol 3')\n",
    "spotify['album_name_clean'] = spotify['album_name_clean'].str.replace('volume 4', 'vol 4')\n",
    "spotify['album_name_clean'] = spotify['album_name_clean'].str.replace('volume 5', 'vol 5')\n",
    "\n",
    "spotify['album_name_clean'] = spotify['album_name_clean'].str.replace('vol 1', 'vol1')\n",
    "spotify['album_name_clean'] = spotify['album_name_clean'].str.replace('vol 2', 'vol2')\n",
    "spotify['album_name_clean'] = spotify['album_name_clean'].str.replace('vol 3', 'vol3')\n",
    "spotify['album_name_clean'] = spotify['album_name_clean'].str.replace('vol 4', 'vol4')\n",
    "spotify['album_name_clean'] = spotify['album_name_clean'].str.replace('vol 5', 'vol5')\n",
    "\n",
    "spotify['album_name_clean'] = spotify['album_name_clean'].str.replace('vol1', 'v1')\n",
    "spotify['album_name_clean'] = spotify['album_name_clean'].str.replace('vol2', 'v2')\n",
    "spotify['album_name_clean'] = spotify['album_name_clean'].str.replace('vol3', 'v3')\n",
    "spotify['album_name_clean'] = spotify['album_name_clean'].str.replace('vol4', 'v4')\n",
    "spotify['album_name_clean'] = spotify['album_name_clean'].str.replace('vol5', 'v5')\n",
    "\n",
    "\n",
    "\n",
    "spotify['album_name_clean'] = spotify['album_name_clean'].str.replace(\"’\", \"\")\n",
    "spotify['album_name_clean'] = spotify['album_name_clean'].str.replace(\"'\", \"\")\n",
    "spotify['album_name_clean'] = spotify['album_name_clean'].str.replace('&', 'and')\n",
    "spotify['album_name_clean'] = spotify['album_name_clean'].str.replace('!', '') \n",
    "spotify['album_name_clean'] = spotify['album_name_clean'].str.replace(\"([\\(\\[]).*?([\\)\\]])\", '', regex = True)\n",
    "spotify['album_name_clean'] = spotify['album_name_clean'].str.replace('([ ]{2,})', ' ', regex = True) \n",
    "spotify['album_name_clean'] = spotify['album_name_clean'].str.strip()"
   ]
  },
  {
   "cell_type": "markdown",
   "metadata": {},
   "source": [
    "## Pivot Artist Names"
   ]
  },
  {
   "cell_type": "code",
   "execution_count": 60,
   "metadata": {},
   "outputs": [],
   "source": [
    "## Clean Artist, Album Names"
   ]
  },
  {
   "cell_type": "code",
   "execution_count": 61,
   "metadata": {},
   "outputs": [],
   "source": [
    "needle_name_df = pd.DataFrame(needle['artist_clean'].unique()).rename(columns={0:'names'})\n",
    "needle_name_df['source'] = 'needle'"
   ]
  },
  {
   "cell_type": "code",
   "execution_count": 62,
   "metadata": {},
   "outputs": [],
   "source": [
    "rr_name_df = pd.DataFrame(rr['artist_clean'].unique()).rename(columns={0:'names'})\n",
    "rr_name_df['source'] = 'rr'"
   ]
  },
  {
   "cell_type": "code",
   "execution_count": 73,
   "metadata": {},
   "outputs": [],
   "source": [
    "genius_name_df = pd.DataFrame(genius['artist_clean'].unique()).rename(columns={0:'names'})\n",
    "genius_name_df['source'] = 'genius'"
   ]
  },
  {
   "cell_type": "code",
   "execution_count": 74,
   "metadata": {},
   "outputs": [],
   "source": [
    "# spotify_name_df = pd.DataFrame(spotify['artist_clean'].unique()).rename(columns={0:'names'})\n",
    "# spotify_name_df['source'] = 'spot'"
   ]
  },
  {
   "cell_type": "code",
   "execution_count": 74,
   "metadata": {},
   "outputs": [],
   "source": [
    "spotify_name_df = pd.DataFrame(spotify['artist_clean'].unique()).rename(columns={0:'names'})\n",
    "spotify_name_df['source'] = 'spot'"
   ]
  },
  {
   "cell_type": "code",
   "execution_count": 75,
   "metadata": {},
   "outputs": [],
   "source": [
    "name_df = pd.concat([pitchfork_name_df, needle_name_df,rr_name_df, spotify_name_df, genius_name_df])"
   ]
  },
  {
   "cell_type": "code",
   "execution_count": 84,
   "metadata": {},
   "outputs": [],
   "source": [
    "name_df = pd.pivot(name_df, index='names',columns='source', values='source')"
   ]
  },
  {
   "cell_type": "code",
   "execution_count": 85,
   "metadata": {},
   "outputs": [],
   "source": [
    "name_df = name_df.fillna(0)"
   ]
  },
  {
   "cell_type": "code",
   "execution_count": 91,
   "metadata": {},
   "outputs": [],
   "source": [
    "name_df.loc[name_df.genius != 0, 'genius'] = 1\n",
    "name_df.loc[name_df.needle != 0, 'needle'] = 1\n",
    "name_df.loc[name_df.pitch != 0, 'pitch'] = 1\n",
    "name_df.loc[name_df.rr != 0, 'rr'] = 1\n",
    "name_df.loc[name_df.spot != 0, 'spot'] = 1"
   ]
  },
  {
   "cell_type": "code",
   "execution_count": 93,
   "metadata": {
    "scrolled": true
   },
   "outputs": [],
   "source": [
    "name_df['total'] = name_df['genius'] + name_df['needle'] + name_df['pitch'] + name_df['rr']+ name_df['spot']"
   ]
  },
  {
   "cell_type": "code",
   "execution_count": 99,
   "metadata": {},
   "outputs": [],
   "source": [
    "name_df = name_df.sort_values('total', ascending=False)"
   ]
  },
  {
   "cell_type": "markdown",
   "metadata": {},
   "source": [
    "***\n",
    "## Read in Manually Cleaned Artist Names"
   ]
  },
  {
   "cell_type": "code",
   "execution_count": 104,
   "metadata": {},
   "outputs": [],
   "source": [
    "name_amend_df = pd.read_csv('name_analysis_return.csv')"
   ]
  },
  {
   "cell_type": "code",
   "execution_count": 106,
   "metadata": {},
   "outputs": [
    {
     "data": {
      "text/html": [
       "<div>\n",
       "<style scoped>\n",
       "    .dataframe tbody tr th:only-of-type {\n",
       "        vertical-align: middle;\n",
       "    }\n",
       "\n",
       "    .dataframe tbody tr th {\n",
       "        vertical-align: top;\n",
       "    }\n",
       "\n",
       "    .dataframe thead th {\n",
       "        text-align: right;\n",
       "    }\n",
       "</style>\n",
       "<table border=\"1\" class=\"dataframe\">\n",
       "  <thead>\n",
       "    <tr style=\"text-align: right;\">\n",
       "      <th></th>\n",
       "      <th>artist</th>\n",
       "      <th>corrected</th>\n",
       "    </tr>\n",
       "  </thead>\n",
       "  <tbody>\n",
       "    <tr>\n",
       "      <td>0</td>\n",
       "      <td>8 ball 8 ways entertainment</td>\n",
       "      <td>8ball</td>\n",
       "    </tr>\n",
       "    <tr>\n",
       "      <td>1</td>\n",
       "      <td>8 ball mjg</td>\n",
       "      <td>8ball</td>\n",
       "    </tr>\n",
       "    <tr>\n",
       "      <td>2</td>\n",
       "      <td>8 mile and shit</td>\n",
       "      <td>8ball</td>\n",
       "    </tr>\n",
       "    <tr>\n",
       "      <td>3</td>\n",
       "      <td>8ball and devius</td>\n",
       "      <td>8ball</td>\n",
       "    </tr>\n",
       "    <tr>\n",
       "      <td>4</td>\n",
       "      <td>8ball featuring e.d.i. of the outlawz</td>\n",
       "      <td>8ball</td>\n",
       "    </tr>\n",
       "    <tr>\n",
       "      <td>...</td>\n",
       "      <td>...</td>\n",
       "      <td>...</td>\n",
       "    </tr>\n",
       "    <tr>\n",
       "      <td>361</td>\n",
       "      <td>talib kweli, 9th wonder</td>\n",
       "      <td>talib kweli</td>\n",
       "    </tr>\n",
       "    <tr>\n",
       "      <td>362</td>\n",
       "      <td>travis scott</td>\n",
       "      <td>travis scott</td>\n",
       "    </tr>\n",
       "    <tr>\n",
       "      <td>363</td>\n",
       "      <td>travis scott and quavo</td>\n",
       "      <td>travis scott</td>\n",
       "    </tr>\n",
       "    <tr>\n",
       "      <td>364</td>\n",
       "      <td>waka flocka flame</td>\n",
       "      <td>waka flocka flame</td>\n",
       "    </tr>\n",
       "    <tr>\n",
       "      <td>365</td>\n",
       "      <td>waka flocka flame, french montana</td>\n",
       "      <td>waka flocka flame</td>\n",
       "    </tr>\n",
       "  </tbody>\n",
       "</table>\n",
       "<p>366 rows × 2 columns</p>\n",
       "</div>"
      ],
      "text/plain": [
       "                                    artist          corrected\n",
       "0              8 ball 8 ways entertainment              8ball\n",
       "1                               8 ball mjg              8ball\n",
       "2                          8 mile and shit              8ball\n",
       "3                         8ball and devius              8ball\n",
       "4    8ball featuring e.d.i. of the outlawz              8ball\n",
       "..                                     ...                ...\n",
       "361                talib kweli, 9th wonder        talib kweli\n",
       "362                           travis scott       travis scott\n",
       "363                 travis scott and quavo       travis scott\n",
       "364                      waka flocka flame  waka flocka flame\n",
       "365      waka flocka flame, french montana  waka flocka flame\n",
       "\n",
       "[366 rows x 2 columns]"
      ]
     },
     "execution_count": 106,
     "metadata": {},
     "output_type": "execute_result"
    }
   ],
   "source": [
    "name_amend_df"
   ]
  },
  {
   "cell_type": "markdown",
   "metadata": {},
   "source": [
    "### Left Join and Replace Names (Genius)"
   ]
  },
  {
   "cell_type": "code",
   "execution_count": 320,
   "metadata": {},
   "outputs": [],
   "source": [
    "genius = pd.merge(genius,name_amend_df, left_on='artist_clean', right_on='artist', how='left')"
   ]
  },
  {
   "cell_type": "code",
   "execution_count": 321,
   "metadata": {},
   "outputs": [],
   "source": [
    "for index, row, in genius.loc[genius['corrected'].notnull()].iterrows():\n",
    "    genius.iloc[index,7] = genius.iloc[index,10]\n"
   ]
  },
  {
   "cell_type": "code",
   "execution_count": 322,
   "metadata": {},
   "outputs": [],
   "source": [
    "genius = genius.drop(columns=['artist_y','corrected']).rename(columns={'artist_x':'artist'})"
   ]
  },
  {
   "cell_type": "markdown",
   "metadata": {},
   "source": [
    "### Left Join and Replace Names (Spotify)"
   ]
  },
  {
   "cell_type": "code",
   "execution_count": 331,
   "metadata": {},
   "outputs": [],
   "source": [
    "spotify = pd.merge(spotify,name_amend_df, left_on='artist_clean', right_on='artist', how='left')"
   ]
  },
  {
   "cell_type": "code",
   "execution_count": 332,
   "metadata": {},
   "outputs": [],
   "source": [
    "for index, row, in spotify.loc[spotify['corrected'].notnull()].iterrows():\n",
    "    spotify.iloc[index,-3] = spotify.iloc[index,-1]"
   ]
  },
  {
   "cell_type": "code",
   "execution_count": 333,
   "metadata": {},
   "outputs": [
    {
     "data": {
      "text/plain": [
       "Index(['acousticness', 'album_id', 'album_name', 'analysis_url', 'arist_x',\n",
       "       'artist_id', 'danceability', 'duration_ms', 'energy', 'follower_x',\n",
       "       'genres_x', 'id', 'image_x', 'instrumentalness', 'key', 'liveness',\n",
       "       'loudness', 'mode', 'pop_x', 'preview_url', 'speechiness', 'tempo',\n",
       "       'time_signature', 'track_href', 'track_id', 'track_name', 'type', 'uri',\n",
       "       'valence', 'arist_y', 'genres_y', 'image_y', 'pop_y', 'follower_y',\n",
       "       'artist_clean', 'album_name_clean', 'artist', 'corrected'],\n",
       "      dtype='object')"
      ]
     },
     "execution_count": 333,
     "metadata": {},
     "output_type": "execute_result"
    }
   ],
   "source": [
    "spotify.columns"
   ]
  },
  {
   "cell_type": "code",
   "execution_count": 334,
   "metadata": {},
   "outputs": [],
   "source": [
    "spotify = spotify.drop(columns=['arist_x', 'artist', 'corrected'])"
   ]
  },
  {
   "cell_type": "markdown",
   "metadata": {},
   "source": [
    "### Left Join and Replace Names (Needle)"
   ]
  },
  {
   "cell_type": "code",
   "execution_count": 188,
   "metadata": {},
   "outputs": [],
   "source": [
    "needle = pd.merge(needle,name_amend_df, left_on='artist_clean', right_on='artist', how='left')"
   ]
  },
  {
   "cell_type": "code",
   "execution_count": 189,
   "metadata": {},
   "outputs": [
    {
     "data": {
      "text/plain": [
       "Index(['artist_x', 'best_tracks', 'caption', 'link', 'review_date',\n",
       "       'review_type', 'score', 'title', 'video_id', 'word_score',\n",
       "       'worst_track', 'artist_clean', 'album_name_clean', 'artist_y',\n",
       "       'corrected'],\n",
       "      dtype='object')"
      ]
     },
     "execution_count": 189,
     "metadata": {},
     "output_type": "execute_result"
    }
   ],
   "source": [
    "needle.columns"
   ]
  },
  {
   "cell_type": "code",
   "execution_count": 190,
   "metadata": {},
   "outputs": [],
   "source": [
    "for index, row, in needle.loc[needle['corrected'].notnull()].iterrows():\n",
    "    needle.iloc[index,-4] = needle.iloc[index,-1]"
   ]
  },
  {
   "cell_type": "code",
   "execution_count": 191,
   "metadata": {},
   "outputs": [],
   "source": [
    "needle = needle.drop(columns=['artist_y','corrected'])"
   ]
  },
  {
   "cell_type": "markdown",
   "metadata": {},
   "source": [
    "### Left Join and Replace Names (RR)"
   ]
  },
  {
   "cell_type": "code",
   "execution_count": 182,
   "metadata": {},
   "outputs": [],
   "source": [
    "rr = pd.merge(rr,name_amend_df, left_on='artist_clean', right_on='artist', how='left')"
   ]
  },
  {
   "cell_type": "code",
   "execution_count": 183,
   "metadata": {},
   "outputs": [
    {
     "data": {
      "text/plain": [
       "Index(['artist_name', 'album_name', 'cleaned_text', 'artist_clean',\n",
       "       'album_name_clean', 'artist', 'corrected'],\n",
       "      dtype='object')"
      ]
     },
     "execution_count": 183,
     "metadata": {},
     "output_type": "execute_result"
    }
   ],
   "source": [
    "rr.columns"
   ]
  },
  {
   "cell_type": "code",
   "execution_count": 192,
   "metadata": {},
   "outputs": [],
   "source": [
    "for index, row, in rr.loc[rr['corrected'].notnull()].iterrows():\n",
    "    rr.iloc[index,-4] = rr.iloc[index,-1]"
   ]
  },
  {
   "cell_type": "code",
   "execution_count": 194,
   "metadata": {},
   "outputs": [],
   "source": [
    "rr = rr.drop(columns=['artist','corrected'])"
   ]
  },
  {
   "cell_type": "markdown",
   "metadata": {},
   "source": [
    "### Left Join and Replace Names (Pitchfork)"
   ]
  },
  {
   "cell_type": "code",
   "execution_count": 195,
   "metadata": {},
   "outputs": [],
   "source": [
    "pitchfork = pd.merge(pitchfork,name_amend_df, left_on='artist_clean', right_on='artist', how='left')"
   ]
  },
  {
   "cell_type": "code",
   "execution_count": 196,
   "metadata": {},
   "outputs": [
    {
     "data": {
      "text/plain": [
       "Index(['album', 'artist_x', 'editorial', 'full_text', 'matched_album',\n",
       "       'matched_artist', 'score', 'spotify_album_name', 'spotify_artist',\n",
       "       'url', 'year', 'artist_clean', 'album_name_clean', 'artist_y',\n",
       "       'corrected'],\n",
       "      dtype='object')"
      ]
     },
     "execution_count": 196,
     "metadata": {},
     "output_type": "execute_result"
    }
   ],
   "source": [
    "pitchfork.columns"
   ]
  },
  {
   "cell_type": "code",
   "execution_count": 197,
   "metadata": {},
   "outputs": [],
   "source": [
    "for index, row, in pitchfork.loc[pitchfork['corrected'].notnull()].iterrows():\n",
    "    pitchfork.iloc[index,-4] = pitchfork.iloc[index,-1]"
   ]
  },
  {
   "cell_type": "code",
   "execution_count": 198,
   "metadata": {},
   "outputs": [],
   "source": [
    "pitchfork = pitchfork.drop(columns=['artist_y','corrected'])"
   ]
  },
  {
   "cell_type": "markdown",
   "metadata": {},
   "source": [
    "***\n",
    "# ALBUMS"
   ]
  },
  {
   "cell_type": "markdown",
   "metadata": {},
   "source": [
    "### Build Albums Pivot"
   ]
  },
  {
   "cell_type": "code",
   "execution_count": 290,
   "metadata": {},
   "outputs": [],
   "source": [
    "needle_album_df = pd.DataFrame(needle['album_name_clean'].unique()).rename(columns={0:'names'})\n",
    "needle_album_df['source'] = 'needle'"
   ]
  },
  {
   "cell_type": "code",
   "execution_count": 291,
   "metadata": {},
   "outputs": [],
   "source": [
    "rr_album_df = pd.DataFrame(rr['album_name_clean'].unique()).rename(columns={0:'names'})\n",
    "rr_album_df['source'] = 'rr'"
   ]
  },
  {
   "cell_type": "code",
   "execution_count": 292,
   "metadata": {},
   "outputs": [],
   "source": [
    "genius_album_df = pd.DataFrame(genius['album_name_clean'].unique()).rename(columns={0:'names'})\n",
    "genius_album_df['source'] = 'genius'"
   ]
  },
  {
   "cell_type": "code",
   "execution_count": 293,
   "metadata": {},
   "outputs": [],
   "source": [
    "spotify_album_df = pd.DataFrame(spotify['album_name_clean'].unique()).rename(columns={0:'names'})\n",
    "spotify_album_df['source'] = 'spot'"
   ]
  },
  {
   "cell_type": "code",
   "execution_count": 294,
   "metadata": {},
   "outputs": [],
   "source": [
    "pitchfork_album_df = pd.DataFrame(pitchfork['album_name_clean'].unique()).rename(columns={0:'names'})\n",
    "pitchfork_album_df['source'] = 'pitch'"
   ]
  },
  {
   "cell_type": "code",
   "execution_count": 295,
   "metadata": {},
   "outputs": [],
   "source": [
    "album_df = pd.concat([pitchfork_album_df, needle_album_df,rr_album_df, spotify_album_df, genius_album_df])"
   ]
  },
  {
   "cell_type": "code",
   "execution_count": 296,
   "metadata": {},
   "outputs": [],
   "source": [
    "album_df = pd.pivot(album_df, index='names',columns='source', values='source')"
   ]
  },
  {
   "cell_type": "code",
   "execution_count": 297,
   "metadata": {},
   "outputs": [],
   "source": [
    "album_df = album_df.fillna(0)"
   ]
  },
  {
   "cell_type": "code",
   "execution_count": 298,
   "metadata": {},
   "outputs": [],
   "source": [
    "album_df.loc[album_df.genius != 0, 'genius'] = 1\n",
    "album_df.loc[album_df.needle != 0, 'needle'] = 1\n",
    "album_df.loc[album_df.pitch != 0, 'pitch'] = 1\n",
    "album_df.loc[album_df.rr != 0, 'rr'] = 1\n",
    "album_df.loc[album_df.spot != 0, 'spot'] = 1"
   ]
  },
  {
   "cell_type": "code",
   "execution_count": 299,
   "metadata": {},
   "outputs": [],
   "source": [
    "album_df['total'] = album_df['genius'] + album_df['needle'] + album_df['pitch'] + album_df['rr']+ album_df['spot']"
   ]
  },
  {
   "cell_type": "code",
   "execution_count": 300,
   "metadata": {},
   "outputs": [],
   "source": [
    "album_df= album_df.sort_values('total', ascending=False)"
   ]
  },
  {
   "cell_type": "code",
   "execution_count": 304,
   "metadata": {},
   "outputs": [],
   "source": [
    "album_df.to_csv('album_analysis.csv')"
   ]
  },
  {
   "cell_type": "markdown",
   "metadata": {},
   "source": [
    "### Read in Corrections"
   ]
  },
  {
   "cell_type": "code",
   "execution_count": 306,
   "metadata": {},
   "outputs": [],
   "source": [
    "album_amend_df = pd.read_csv('album_analysis_return.csv')"
   ]
  },
  {
   "cell_type": "code",
   "execution_count": 307,
   "metadata": {},
   "outputs": [
    {
     "data": {
      "text/plain": [
       "Index(['names', 'corrected'], dtype='object')"
      ]
     },
     "execution_count": 307,
     "metadata": {},
     "output_type": "execute_result"
    }
   ],
   "source": [
    "album_amend_df.columns"
   ]
  },
  {
   "cell_type": "markdown",
   "metadata": {},
   "source": [
    "## Apply Corrections"
   ]
  },
  {
   "cell_type": "markdown",
   "metadata": {},
   "source": [
    "### Left Join and Adjust Genius"
   ]
  },
  {
   "cell_type": "code",
   "execution_count": 309,
   "metadata": {},
   "outputs": [
    {
     "data": {
      "text/plain": [
       "Index(['album', 'artist', 'date', 'features', 'lyrics', 'producers', 'song',\n",
       "       'artist_clean', 'album_name_clean', 'names', 'corrected'],\n",
       "      dtype='object')"
      ]
     },
     "execution_count": 309,
     "metadata": {},
     "output_type": "execute_result"
    }
   ],
   "source": [
    "genius.columns"
   ]
  },
  {
   "cell_type": "code",
   "execution_count": 323,
   "metadata": {},
   "outputs": [],
   "source": [
    "genius = pd.merge(genius,album_amend_df, left_on='album_name_clean', right_on='names', how='left')"
   ]
  },
  {
   "cell_type": "code",
   "execution_count": 324,
   "metadata": {},
   "outputs": [],
   "source": [
    "for index, row, in genius.loc[genius['corrected'].notnull()].iterrows():\n",
    "    genius.iloc[index,-3] = genius.iloc[index,-1]\n"
   ]
  },
  {
   "cell_type": "code",
   "execution_count": 325,
   "metadata": {},
   "outputs": [],
   "source": [
    "genius = genius.drop(columns=['names','corrected'])"
   ]
  },
  {
   "cell_type": "markdown",
   "metadata": {},
   "source": [
    "### Left Join and Adjust Spotify"
   ]
  },
  {
   "cell_type": "code",
   "execution_count": 335,
   "metadata": {},
   "outputs": [],
   "source": [
    "spotify = pd.merge(spotify,album_amend_df, left_on='album_name_clean', right_on='names', how='left')"
   ]
  },
  {
   "cell_type": "code",
   "execution_count": 336,
   "metadata": {},
   "outputs": [],
   "source": [
    "for index, row, in spotify.loc[spotify['corrected'].notnull()].iterrows():\n",
    "    spotify.iloc[index,-4] = spotify.iloc[index,-1]\n"
   ]
  },
  {
   "cell_type": "code",
   "execution_count": 340,
   "metadata": {},
   "outputs": [],
   "source": [
    "spotify = spotify.drop(columns=['names','corrected'])"
   ]
  },
  {
   "cell_type": "markdown",
   "metadata": {},
   "source": [
    "### Left Join and Adjust Needle"
   ]
  },
  {
   "cell_type": "code",
   "execution_count": 341,
   "metadata": {},
   "outputs": [],
   "source": [
    "needle = pd.merge(needle,album_amend_df, left_on='album_name_clean', right_on='names', how='left')"
   ]
  },
  {
   "cell_type": "code",
   "execution_count": 342,
   "metadata": {},
   "outputs": [
    {
     "data": {
      "text/plain": [
       "Index(['artist_x', 'best_tracks', 'caption', 'link', 'review_date',\n",
       "       'review_type', 'score', 'title', 'video_id', 'word_score',\n",
       "       'worst_track', 'artist_clean', 'album_name_clean', 'names',\n",
       "       'corrected'],\n",
       "      dtype='object')"
      ]
     },
     "execution_count": 342,
     "metadata": {},
     "output_type": "execute_result"
    }
   ],
   "source": [
    "needle.columns"
   ]
  },
  {
   "cell_type": "code",
   "execution_count": 343,
   "metadata": {},
   "outputs": [],
   "source": [
    "for index, row, in needle.loc[needle['corrected'].notnull()].iterrows():\n",
    "    needle.iloc[index,-3] = needle.iloc[index,-1]"
   ]
  },
  {
   "cell_type": "code",
   "execution_count": 344,
   "metadata": {},
   "outputs": [],
   "source": [
    "needle = needle.drop(columns=['names','corrected'])"
   ]
  },
  {
   "cell_type": "markdown",
   "metadata": {},
   "source": [
    "### Left Join and Adjust RR"
   ]
  },
  {
   "cell_type": "code",
   "execution_count": 345,
   "metadata": {},
   "outputs": [],
   "source": [
    "rr = pd.merge(rr,album_amend_df, left_on='album_name_clean', right_on='names', how='left')"
   ]
  },
  {
   "cell_type": "code",
   "execution_count": 346,
   "metadata": {},
   "outputs": [
    {
     "data": {
      "text/plain": [
       "Index(['artist_name', 'album_name', 'cleaned_text', 'artist_clean',\n",
       "       'album_name_clean', 'names', 'corrected'],\n",
       "      dtype='object')"
      ]
     },
     "execution_count": 346,
     "metadata": {},
     "output_type": "execute_result"
    }
   ],
   "source": [
    "rr.columns"
   ]
  },
  {
   "cell_type": "code",
   "execution_count": 347,
   "metadata": {},
   "outputs": [],
   "source": [
    "for index, row, in rr.loc[rr['corrected'].notnull()].iterrows():\n",
    "    rr.iloc[index,-3] = rr.iloc[index,-1]"
   ]
  },
  {
   "cell_type": "code",
   "execution_count": 348,
   "metadata": {},
   "outputs": [],
   "source": [
    "rr = rr.drop(columns=['names','corrected'])"
   ]
  },
  {
   "cell_type": "markdown",
   "metadata": {},
   "source": [
    "### Left Join and Adjust Pitch"
   ]
  },
  {
   "cell_type": "code",
   "execution_count": 349,
   "metadata": {},
   "outputs": [],
   "source": [
    "pitchfork = pd.merge(pitchfork,album_amend_df, left_on='album_name_clean', right_on='names', how='left')"
   ]
  },
  {
   "cell_type": "code",
   "execution_count": 350,
   "metadata": {},
   "outputs": [
    {
     "data": {
      "text/plain": [
       "Index(['album', 'artist_x', 'editorial', 'full_text', 'matched_album',\n",
       "       'matched_artist', 'score', 'spotify_album_name', 'spotify_artist',\n",
       "       'url', 'year', 'artist_clean', 'album_name_clean', 'names',\n",
       "       'corrected'],\n",
       "      dtype='object')"
      ]
     },
     "execution_count": 350,
     "metadata": {},
     "output_type": "execute_result"
    }
   ],
   "source": [
    "pitchfork.columns"
   ]
  },
  {
   "cell_type": "code",
   "execution_count": 351,
   "metadata": {},
   "outputs": [],
   "source": [
    "for index, row, in pitchfork.loc[pitchfork['corrected'].notnull()].iterrows():\n",
    "    pitchfork.iloc[index,-3] = pitchfork.iloc[index,-1]"
   ]
  },
  {
   "cell_type": "code",
   "execution_count": 352,
   "metadata": {},
   "outputs": [],
   "source": [
    "pitchfork = pitchfork.drop(columns=['names','corrected'])"
   ]
  },
  {
   "cell_type": "markdown",
   "metadata": {},
   "source": [
    "## Build Combined Album DF"
   ]
  },
  {
   "cell_type": "code",
   "execution_count": 353,
   "metadata": {},
   "outputs": [],
   "source": [
    "pitchfork.to_csv('./combining/albumdata/pitchfork_updated.csv', index=False)\n",
    "needle.to_csv('./combining/albumdata/needle_updated.csv', index=False)\n",
    "rr.to_csv('./combining/albumdata/rr_updated.csv', index=False)"
   ]
  },
  {
   "cell_type": "code",
   "execution_count": 358,
   "metadata": {},
   "outputs": [],
   "source": [
    "pitchfork['artist_album_clean_key'] = pitchfork['artist_clean'] + \"|\" + pitchfork['album_name_clean']\n",
    "rr['artist_album_clean_key'] = rr['artist_clean'] + \"|\" + rr['album_name_clean']\n",
    "needle['artist_album_clean_key'] = needle['artist_clean'] + \"|\" + needle['album_name_clean']"
   ]
  },
  {
   "cell_type": "code",
   "execution_count": 368,
   "metadata": {},
   "outputs": [],
   "source": [
    "pitchfork_merge_df = pitchfork[['artist_album_clean_key', 'full_text']].rename(columns={'full_text': 'review'})\n",
    "rr_merge_df = rr[['artist_album_clean_key', 'cleaned_text']].rename(columns={'cleaned_text': 'review'})\n",
    "needle_merge_df = needle[['artist_album_clean_key', 'caption']].rename(columns={'caption': 'review'})"
   ]
  },
  {
   "cell_type": "code",
   "execution_count": 371,
   "metadata": {},
   "outputs": [],
   "source": [
    "pitchfork_merge_df['source'] = 'pitchfork'\n",
    "rr_merge_df['source'] = 'rr'\n",
    "needle_merge_df['source'] = 'needle'"
   ]
  },
  {
   "cell_type": "code",
   "execution_count": 372,
   "metadata": {},
   "outputs": [],
   "source": [
    "review_df = pd.concat([pitchfork_merge_df, needle_merge_df,rr_merge_df])"
   ]
  },
  {
   "cell_type": "code",
   "execution_count": 870,
   "metadata": {},
   "outputs": [],
   "source": [
    "review_df = pd.read_csv('./combining/albumdata/allreviews_concat.csv')"
   ]
  },
  {
   "cell_type": "markdown",
   "metadata": {},
   "source": [
    "## Track Clean"
   ]
  },
  {
   "cell_type": "code",
   "execution_count": 597,
   "metadata": {},
   "outputs": [],
   "source": [
    "genius['track_clean'] = genius['song'].str.lower()\n",
    "genius['track_clean'] = genius['track_clean'].str.replace(r\"([\\(\\[]).*?([\\)\\]])\", '')\n",
    "genius['track_clean'] = genius['track_clean'].str.replace(r\"[^\\w\\s]\",'')\n",
    "genius['track_clean'] = genius['track_clean'].str.replace(r\"([ ]{2,})\",' ')\n",
    "genius['track_clean'] = genius['track_clean'].str.strip()\n"
   ]
  },
  {
   "cell_type": "code",
   "execution_count": 894,
   "metadata": {},
   "outputs": [],
   "source": [
    "spotify['track_clean'] = spotify['track_name'].str.lower()\n",
    "spotify['track_clean'] = spotify['track_clean'].str.replace(r\"([\\(\\[]).*?([\\)\\]])\", '')\n",
    "spotify['track_clean'] = spotify['track_clean'].str.replace(r\"[^\\w\\s]\",'')\n",
    "spotify['track_clean'] = spotify['track_clean'].str.replace(r\"([ ]{2,})\",' ')\n",
    "spotify['track_clean'] = spotify['track_clean'].str.strip()\n"
   ]
  },
  {
   "cell_type": "markdown",
   "metadata": {},
   "source": [
    "## Album -- Imputation for Genius"
   ]
  },
  {
   "cell_type": "code",
   "execution_count": 535,
   "metadata": {},
   "outputs": [
    {
     "data": {
      "text/plain": [
       "6887"
      ]
     },
     "execution_count": 535,
     "metadata": {},
     "output_type": "execute_result"
    }
   ],
   "source": [
    "genius_df.album_name_clean.isnull().sum()"
   ]
  },
  {
   "cell_type": "code",
   "execution_count": 895,
   "metadata": {},
   "outputs": [],
   "source": [
    "genius['artist_track_join_for_album'] = genius['artist_clean'] + \"|\" + genius['track_clean']\n",
    "spotify['artist_track_join_for_album'] = spotify['artist_clean'] + \"|\" + spotify['track_clean']"
   ]
  },
  {
   "cell_type": "code",
   "execution_count": 619,
   "metadata": {},
   "outputs": [],
   "source": [
    "deduped_genius_artist_track_list_needs_album = list(genius.loc[genius['album_name_clean'].isnull(),'artist_track_join_for_album'].unique())"
   ]
  },
  {
   "cell_type": "code",
   "execution_count": 606,
   "metadata": {},
   "outputs": [],
   "source": [
    "deduped_imput_list_candidates = list(spotify['artist_track_join_for_album'].unique())"
   ]
  },
  {
   "cell_type": "code",
   "execution_count": 607,
   "metadata": {},
   "outputs": [
    {
     "data": {
      "text/plain": [
       "194920"
      ]
     },
     "execution_count": 607,
     "metadata": {},
     "output_type": "execute_result"
    }
   ],
   "source": [
    "len(deduped_imput_list_candidates)"
   ]
  },
  {
   "cell_type": "code",
   "execution_count": 622,
   "metadata": {},
   "outputs": [],
   "source": [
    "impute_list = []\n",
    "\n",
    "for artist_track in deduped_genius_artist_track_list_needs_album:\n",
    "    \n",
    "    if artist_track in deduped_imput_list_candidates:\n",
    "        impute_list.append(artist_track)"
   ]
  },
  {
   "cell_type": "code",
   "execution_count": 631,
   "metadata": {},
   "outputs": [],
   "source": [
    "spotify.loc[spotify['artist_track_join_for_album'].isin(deduped_genius_artist_track_list_needs_album), ['artist_track_join_for_album', 'album_name_clean']].to_csv('./combining/albumimputation/spotify_imputation_values.csv', index=False)"
   ]
  },
  {
   "cell_type": "code",
   "execution_count": 635,
   "metadata": {},
   "outputs": [],
   "source": [
    "genius.to_csv('./combining/albumimputation/genius_imputation_values.csv', index=False)"
   ]
  },
  {
   "cell_type": "code",
   "execution_count": 896,
   "metadata": {},
   "outputs": [],
   "source": [
    "genius_cleaner = pd.read_csv('./combining/albumimputation/genius_imputation_results.csv')"
   ]
  },
  {
   "cell_type": "markdown",
   "metadata": {},
   "source": [
    "## Combining"
   ]
  },
  {
   "cell_type": "code",
   "execution_count": 897,
   "metadata": {},
   "outputs": [],
   "source": [
    "spotify['album_track_clean_key'] = spotify['album_name_clean'] + \"|\" + spotify['track_clean']"
   ]
  },
  {
   "cell_type": "code",
   "execution_count": 898,
   "metadata": {},
   "outputs": [],
   "source": [
    "genius_cleaner = genius_cleaner.drop_duplicates('artist_track_join_for_album')"
   ]
  },
  {
   "cell_type": "code",
   "execution_count": 899,
   "metadata": {},
   "outputs": [
    {
     "data": {
      "text/plain": [
       "Index(['album', 'artist', 'date', 'features', 'lyrics', 'producers', 'song',\n",
       "       'artist_clean', 'album_name_clean', 'track_clean',\n",
       "       'artist_track_join_for_album'],\n",
       "      dtype='object')"
      ]
     },
     "execution_count": 899,
     "metadata": {},
     "output_type": "execute_result"
    }
   ],
   "source": [
    "genius_cleaner.columns"
   ]
  },
  {
   "cell_type": "code",
   "execution_count": 900,
   "metadata": {},
   "outputs": [],
   "source": [
    "genius_cleaner['artist_album_clean_key'] = genius_cleaner['artist_clean'] + \"|\" + genius_cleaner['album_name_clean']\n",
    "genius_cleaner['album_track_clean_key'] = genius_cleaner['album_name_clean'] + \"|\" + genius_cleaner['track_clean']"
   ]
  },
  {
   "cell_type": "code",
   "execution_count": 901,
   "metadata": {},
   "outputs": [
    {
     "data": {
      "text/plain": [
       "album                           6060\n",
       "artist                             0\n",
       "date                           12058\n",
       "features                           0\n",
       "lyrics                             4\n",
       "producers                          0\n",
       "song                               0\n",
       "artist_clean                       0\n",
       "album_name_clean                5578\n",
       "track_clean                       10\n",
       "artist_track_join_for_album        0\n",
       "artist_album_clean_key          5578\n",
       "album_track_clean_key           5583\n",
       "dtype: int64"
      ]
     },
     "execution_count": 901,
     "metadata": {},
     "output_type": "execute_result"
    }
   ],
   "source": [
    "genius_cleaner.isnull().sum()"
   ]
  },
  {
   "cell_type": "code",
   "execution_count": 902,
   "metadata": {},
   "outputs": [],
   "source": [
    "temp = pd.merge(genius_cleaner, spotify, how='left', on='artist_track_join_for_album')"
   ]
  },
  {
   "cell_type": "code",
   "execution_count": 903,
   "metadata": {},
   "outputs": [],
   "source": [
    "temp2 = pd.merge(genius_cleaner, spotify, how='left', on='album_track_clean_key')"
   ]
  },
  {
   "cell_type": "code",
   "execution_count": 904,
   "metadata": {},
   "outputs": [],
   "source": [
    "temp['artist_track'] = temp['artist'] +\"|\" + temp['song']"
   ]
  },
  {
   "cell_type": "code",
   "execution_count": 905,
   "metadata": {},
   "outputs": [],
   "source": [
    "temp['artist_album_clean_key'] = temp['artist_clean_x'] + \"|\" + temp['album_name_clean_x']"
   ]
  },
  {
   "cell_type": "code",
   "execution_count": 906,
   "metadata": {},
   "outputs": [
    {
     "data": {
      "text/plain": [
       "((52219, 52), (47753, 51))"
      ]
     },
     "execution_count": 906,
     "metadata": {},
     "output_type": "execute_result"
    }
   ],
   "source": [
    "temp.shape, temp2.shape"
   ]
  },
  {
   "cell_type": "code",
   "execution_count": 907,
   "metadata": {},
   "outputs": [],
   "source": [
    "temp = temp.drop_duplicates('artist_track')"
   ]
  },
  {
   "cell_type": "code",
   "execution_count": 908,
   "metadata": {},
   "outputs": [
    {
     "data": {
      "text/plain": [
       "(44340, 52)"
      ]
     },
     "execution_count": 908,
     "metadata": {},
     "output_type": "execute_result"
    }
   ],
   "source": [
    "temp.shape"
   ]
  },
  {
   "cell_type": "markdown",
   "metadata": {},
   "source": [
    "## Adding in reviews"
   ]
  },
  {
   "cell_type": "code",
   "execution_count": 909,
   "metadata": {},
   "outputs": [],
   "source": [
    "temp2 = temp[temp['arist_y'].notnull()]"
   ]
  },
  {
   "cell_type": "code",
   "execution_count": 910,
   "metadata": {},
   "outputs": [
    {
     "data": {
      "text/plain": [
       "(23497, 52)"
      ]
     },
     "execution_count": 910,
     "metadata": {},
     "output_type": "execute_result"
    }
   ],
   "source": [
    "temp2.shape"
   ]
  },
  {
   "cell_type": "code",
   "execution_count": 752,
   "metadata": {},
   "outputs": [],
   "source": [
    "everything = pd.merge(temp2, review_df, how='left', on='artist_album_clean_key')"
   ]
  },
  {
   "cell_type": "code",
   "execution_count": 753,
   "metadata": {},
   "outputs": [],
   "source": [
    "everything.to_csv('./combining/everything_manual_check.csv' ,index=False )"
   ]
  },
  {
   "cell_type": "code",
   "execution_count": 759,
   "metadata": {},
   "outputs": [
    {
     "name": "stderr",
     "output_type": "stream",
     "text": [
      "C:\\Users\\Owen\\Anaconda3\\lib\\site-packages\\IPython\\core\\interactiveshell.py:3057: DtypeWarning: Columns (13,18,19,27,32,33,34,43,44,45) have mixed types. Specify dtype option on import or set low_memory=False.\n",
      "  interactivity=interactivity, compiler=compiler, result=result)\n"
     ]
    }
   ],
   "source": [
    "everything = pd.read_csv('./combining/everything_manual_check.csv', encoding=\"ISO-8859-1\")"
   ]
  },
  {
   "cell_type": "code",
   "execution_count": 778,
   "metadata": {},
   "outputs": [
    {
     "data": {
      "text/plain": [
       "Index(['album', 'artist', 'date', 'features', 'lyrics', 'producers', 'song',\n",
       "       'artist_clean', 'album_name_clean', 'track_clean', 'acousticness',\n",
       "       'album_id', 'album_name', 'artist_id', 'danceability', 'duration_ms',\n",
       "       'energy', 'id', 'instrumentalness', 'key', 'liveness', 'loudness',\n",
       "       'mode', 'preview_url', 'speechiness', 'tempo', 'time_signature',\n",
       "       'track_href', 'track_id', 'track_name', 'uri', 'valence', 'genres',\n",
       "       'pop', 'follower', 'combined_reviews'],\n",
       "      dtype='object')"
      ]
     },
     "execution_count": 778,
     "metadata": {},
     "output_type": "execute_result"
    }
   ],
   "source": [
    "everything.columns"
   ]
  },
  {
   "cell_type": "code",
   "execution_count": 765,
   "metadata": {},
   "outputs": [],
   "source": [
    "everything = everything.drop(columns=['follower_x', 'genres_x', 'image_x', 'pop_x', 'rr_review', 'pitch_review', 'needle_review'])"
   ]
  },
  {
   "cell_type": "code",
   "execution_count": 769,
   "metadata": {},
   "outputs": [],
   "source": [
    "everything = everything.drop(columns=['artist_track_join_for_album', 'artist_album_clean_key', 'album_track_clean_key_x', 'analysis_url', 'arist_y', 'artist_clean_y', 'album_name_clean_y'])"
   ]
  },
  {
   "cell_type": "code",
   "execution_count": 772,
   "metadata": {},
   "outputs": [],
   "source": [
    "everything = everything.drop(columns=['type', 'image_y', 'track_clean_y', 'album_track_clean_key_y', 'artist_y', 'album_y'])"
   ]
  },
  {
   "cell_type": "code",
   "execution_count": 776,
   "metadata": {},
   "outputs": [],
   "source": [
    "everything = everything.rename(columns={'album_x':'album', 'artist_x':'artist','artist_clean_x':'artist_clean'})\n",
    "everything = everything.rename(columns={'album_name_clean_x':'album_name_clean',\n",
    "                                'track_clean_x':'track_clean',\n",
    "                                'follower_y':'follower',\n",
    "                                'genres_y':'genres',\n",
    "                                'pop_y':'pop'})"
   ]
  },
  {
   "cell_type": "code",
   "execution_count": 779,
   "metadata": {},
   "outputs": [],
   "source": [
    "everything.to_csv('everything_ready_for_lyrics.csv', index=False)"
   ]
  },
  {
   "cell_type": "markdown",
   "metadata": {},
   "source": [
    "****\n",
    "# Cleaning Combined Data Set"
   ]
  },
  {
   "cell_type": "code",
   "execution_count": 2,
   "metadata": {},
   "outputs": [
    {
     "name": "stderr",
     "output_type": "stream",
     "text": [
      "C:\\Users\\Owen\\Anaconda3\\lib\\site-packages\\IPython\\core\\interactiveshell.py:3057: DtypeWarning: Columns (10,14,15,20,24,25,26,33,34) have mixed types. Specify dtype option on import or set low_memory=False.\n",
      "  interactivity=interactivity, compiler=compiler, result=result)\n"
     ]
    }
   ],
   "source": [
    "songs = pd.read_csv('everything_ready_for_lyrics.csv')"
   ]
  },
  {
   "cell_type": "code",
   "execution_count": 3,
   "metadata": {},
   "outputs": [
    {
     "data": {
      "text/plain": [
       "((29008, 36),\n",
       " Index(['album', 'artist', 'date', 'features', 'lyrics', 'producers', 'song',\n",
       "        'artist_clean', 'album_name_clean', 'track_clean', 'acousticness',\n",
       "        'album_id', 'album_name', 'artist_id', 'danceability', 'duration_ms',\n",
       "        'energy', 'id', 'instrumentalness', 'key', 'liveness', 'loudness',\n",
       "        'mode', 'preview_url', 'speechiness', 'tempo', 'time_signature',\n",
       "        'track_href', 'track_id', 'track_name', 'uri', 'valence', 'genres',\n",
       "        'pop', 'follower', 'combined_reviews'],\n",
       "       dtype='object'))"
      ]
     },
     "execution_count": 3,
     "metadata": {},
     "output_type": "execute_result"
    }
   ],
   "source": [
    "songs.shape, songs.columns"
   ]
  },
  {
   "cell_type": "code",
   "execution_count": 4,
   "metadata": {},
   "outputs": [],
   "source": [
    "songs = songs.drop(columns = ['combined_reviews'])"
   ]
  },
  {
   "cell_type": "markdown",
   "metadata": {},
   "source": [
    "### Artist"
   ]
  },
  {
   "cell_type": "code",
   "execution_count": 5,
   "metadata": {},
   "outputs": [],
   "source": [
    "songs = songs[songs.artist_clean.str.contains('Ã') != True]"
   ]
  },
  {
   "cell_type": "code",
   "execution_count": 6,
   "metadata": {},
   "outputs": [],
   "source": [
    "songs = songs[songs.artist_clean.notnull()]"
   ]
  },
  {
   "cell_type": "code",
   "execution_count": 7,
   "metadata": {
    "scrolled": true
   },
   "outputs": [
    {
     "data": {
      "image/png": "[encoded data removed]",
      "text/plain": [
       "<Figure size 1008x360 with 1 Axes>"
      ]
     },
     "metadata": {
      "needs_background": "light"
     },
     "output_type": "display_data"
    }
   ],
   "source": [
    "songs.isnull().sum().plot(kind='bar', figsize=(14,5));\n",
    "plt.title('Total Missing Values by Feature');"
   ]
  },
  {
   "cell_type": "markdown",
   "metadata": {},
   "source": [
    "### Preview_Url"
   ]
  },
  {
   "cell_type": "code",
   "execution_count": 8,
   "metadata": {},
   "outputs": [],
   "source": [
    "songs = songs[songs.preview_url.notnull()]"
   ]
  },
  {
   "cell_type": "markdown",
   "metadata": {},
   "source": [
    "### Album"
   ]
  },
  {
   "cell_type": "code",
   "execution_count": 9,
   "metadata": {},
   "outputs": [
    {
     "data": {
      "text/plain": [
       "240"
      ]
     },
     "execution_count": 9,
     "metadata": {},
     "output_type": "execute_result"
    }
   ],
   "source": [
    "len(songs.loc[songs.album.isnull(),'artist'].value_counts())"
   ]
  },
  {
   "cell_type": "markdown",
   "metadata": {},
   "source": [
    "It looks like the missing albums are spread across a variety of artists. Because we've manually imputed albums previously, here we are going to make these empty strings"
   ]
  },
  {
   "cell_type": "code",
   "execution_count": 10,
   "metadata": {},
   "outputs": [],
   "source": [
    "songs.album = songs.album.fillna('')\n",
    "songs.album_name_clean = songs.album_name_clean.fillna('')"
   ]
  },
  {
   "cell_type": "markdown",
   "metadata": {},
   "source": [
    "### Date"
   ]
  },
  {
   "cell_type": "code",
   "execution_count": 11,
   "metadata": {},
   "outputs": [],
   "source": [
    "songs.date = pd.to_datetime(songs.date, errors = 'coerce')"
   ]
  },
  {
   "cell_type": "code",
   "execution_count": 13,
   "metadata": {},
   "outputs": [],
   "source": [
    "songs.date = songs.date.dt.year"
   ]
  },
  {
   "cell_type": "code",
   "execution_count": 17,
   "metadata": {},
   "outputs": [],
   "source": [
    "songs.loc[songs.date.notnull(), 'date'] = songs.loc[songs.date.notnull(), 'date'].astype(int)"
   ]
  },
  {
   "cell_type": "code",
   "execution_count": 19,
   "metadata": {
    "scrolled": true
   },
   "outputs": [],
   "source": [
    "average_date_df = pd.DataFrame(songs[songs.date.notnull()].groupby('artist_clean').mean()['date'])"
   ]
  },
  {
   "cell_type": "code",
   "execution_count": 20,
   "metadata": {},
   "outputs": [],
   "source": [
    "average_date_df = average_date_df.reset_index()"
   ]
  },
  {
   "cell_type": "code",
   "execution_count": 21,
   "metadata": {},
   "outputs": [
    {
     "data": {
      "text/plain": [
       "1    2013.454545\n",
       "Name: date, dtype: float64"
      ]
     },
     "execution_count": 21,
     "metadata": {},
     "output_type": "execute_result"
    }
   ],
   "source": [
    "average_date_df[average_date_df['artist_clean'] == '100s'].date"
   ]
  },
  {
   "cell_type": "code",
   "execution_count": 129,
   "metadata": {},
   "outputs": [],
   "source": [
    "songs.date = songs.date.fillna(songs.artist_clean)"
   ]
  },
  {
   "cell_type": "code",
   "execution_count": 22,
   "metadata": {},
   "outputs": [],
   "source": [
    "songs.date = songs.date.map(lambda x: average_date_df[average_date_df['artist_clean'] == x].date if type(x)==str else x)"
   ]
  },
  {
   "cell_type": "code",
   "execution_count": 23,
   "metadata": {},
   "outputs": [],
   "source": [
    "songs.date = songs.date.map(lambda x: 0 if type(x)==str else x)"
   ]
  },
  {
   "cell_type": "code",
   "execution_count": 24,
   "metadata": {},
   "outputs": [],
   "source": [
    "songs.date = songs.date.fillna(0)"
   ]
  },
  {
   "cell_type": "markdown",
   "metadata": {},
   "source": [
    "### track"
   ]
  },
  {
   "cell_type": "code",
   "execution_count": 39,
   "metadata": {},
   "outputs": [],
   "source": [
    "songs = songs[songs.track_clean.notnull()]"
   ]
  },
  {
   "cell_type": "markdown",
   "metadata": {},
   "source": [
    "### Strip out non- rap"
   ]
  },
  {
   "cell_type": "code",
   "execution_count": 40,
   "metadata": {},
   "outputs": [],
   "source": [
    "songs = songs[(songs.genres.str.contains('rap') | songs.genres.str.contains('hop'))]"
   ]
  },
  {
   "cell_type": "code",
   "execution_count": 136,
   "metadata": {},
   "outputs": [
    {
     "data": {
      "image/png": "[encoded data removed]",
      "text/plain": [
       "<Figure size 1008x360 with 1 Axes>"
      ]
     },
     "metadata": {
      "needs_background": "light"
     },
     "output_type": "display_data"
    }
   ],
   "source": [
    "songs.isnull().sum().plot(kind='bar', figsize=(14,5));\n",
    "plt.title('Total Missing Values by Feature');"
   ]
  },
  {
   "cell_type": "markdown",
   "metadata": {},
   "source": [
    "### URI and Valence"
   ]
  },
  {
   "cell_type": "code",
   "execution_count": 41,
   "metadata": {},
   "outputs": [],
   "source": [
    "songs.uri = songs.uri.fillna('')\n",
    "songs.valence = songs.date.fillna(songs.valence.mean())"
   ]
  },
  {
   "cell_type": "code",
   "execution_count": 42,
   "metadata": {},
   "outputs": [],
   "source": [
    "songs.to_csv('everything_ready_for_engineering_missing_genre.csv' ,index=False )"
   ]
  }
 ],
 "metadata": {
  "kernelspec": {
   "display_name": "Python 3",
   "language": "python",
   "name": "python3"
  },
  "language_info": {
   "codemirror_mode": {
    "name": "ipython",
    "version": 3
   },
   "file_extension": ".py",
   "mimetype": "text/x-python",
   "name": "python",
   "nbconvert_exporter": "python",
   "pygments_lexer": "ipython3",
   "version": "3.7.3"
  }
 },
 "nbformat": 4,
 "nbformat_minor": 2
}
