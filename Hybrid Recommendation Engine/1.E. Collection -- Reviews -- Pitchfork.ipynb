{
 "cells": [
  {
   "cell_type": "markdown",
   "metadata": {},
   "source": [
    "# 1.E. Collection -- Reviews -- Pitchfork"
   ]
  },
  {
   "cell_type": "markdown",
   "metadata": {},
   "source": [
    "We've extracted our lyrics, audio data, and captions from NeedleDrop YT videos. Now we're going to move to **Pitchfork.com**. Pitchfork is one of the leading music review sites for music aficionados and they have a significant log of album reviews in rap / hip hop. Some cursory research led me to **pitchfork_api**, which is again a simple wrapper for the Pitchfork API available to anyone. Similar to the NeedleDrop, there is a pre-existing Kaggle Data set of Pitchfork album reviews as well. The workflow in this notebook, then, will be as follows:\n",
    "\n",
    " 1. Read in our **Kaggle Data Set**.\n",
    " 2. Take our list of artists and albums from previous pulls and **search for reviews via pitchfork_api**.\n",
    " 3. **Combine** and deduplicate both of our datasets."
   ]
  },
  {
   "cell_type": "code",
   "execution_count": 1,
   "metadata": {},
   "outputs": [],
   "source": [
    "import pitchfork_api\n",
    "import pandas as pd"
   ]
  },
  {
   "cell_type": "markdown",
   "metadata": {},
   "source": [
    "## Pitchfork Kaggle Data"
   ]
  },
  {
   "cell_type": "code",
   "execution_count": 3,
   "metadata": {},
   "outputs": [],
   "source": [
    "#Grab our data set from Kaggle\n",
    "pitchfork_reviews_kaggle = pd.read_csv('pitchfork_reviews.csv')"
   ]
  },
  {
   "cell_type": "code",
   "execution_count": 4,
   "metadata": {},
   "outputs": [],
   "source": [
    "#Drop errant column\n",
    "pitchfork_reviews_kaggle = pitchfork_reviews_kaggle.drop(columns=['Unnamed: 0'])"
   ]
  },
  {
   "cell_type": "code",
   "execution_count": 5,
   "metadata": {},
   "outputs": [],
   "source": [
    "#Reduce our kaggle data set based on genre field\n",
    "pitchfork_reviews_kaggle = pitchfork_reviews_kaggle.loc[(pitchfork_reviews_kaggle['genre'] == 'rap') | (pitchfork_reviews_kaggle['genre'] == 'pop/r&b') | (pitchfork_reviews_kaggle['genre'] == 'global'), :]"
   ]
  },
  {
   "cell_type": "code",
   "execution_count": 6,
   "metadata": {},
   "outputs": [
    {
     "data": {
      "text/plain": [
       "(2758, 17)"
      ]
     },
     "execution_count": 6,
     "metadata": {},
     "output_type": "execute_result"
    }
   ],
   "source": [
    "pitchfork_reviews_kaggle.shape"
   ]
  },
  {
   "cell_type": "code",
   "execution_count": 7,
   "metadata": {},
   "outputs": [
    {
     "data": {
      "text/plain": [
       "Index(['reviewid', 'title', 'url', 'score', 'best_new_music', 'author',\n",
       "       'author_type', 'pub_date', 'pub_weekday', 'pub_day', 'pub_month',\n",
       "       'pub_year', 'reviewid.1', 'content', 'genre', 'label', 'artist'],\n",
       "      dtype='object')"
      ]
     },
     "execution_count": 7,
     "metadata": {},
     "output_type": "execute_result"
    }
   ],
   "source": [
    "pitchfork_reviews_kaggle.columns"
   ]
  },
  {
   "cell_type": "markdown",
   "metadata": {},
   "source": [
    "## Pitchfork API"
   ]
  },
  {
   "cell_type": "code",
   "execution_count": 8,
   "metadata": {},
   "outputs": [],
   "source": [
    "#Grab albums we need to read in\n",
    "pitchfork_search_df = pd.read_csv('artist_album_search_list.csv')"
   ]
  },
  {
   "cell_type": "code",
   "execution_count": 9,
   "metadata": {},
   "outputs": [],
   "source": [
    "#Grab album series and and clean/reduce the string so that it plays nicely with the search functionality\n",
    "pitchfork_search_df['album_name'] = pitchfork_search_df['album_name'].str.replace(r\"\\(.*\\)\",\"\")"
   ]
  },
  {
   "cell_type": "code",
   "execution_count": 1,
   "metadata": {},
   "outputs": [],
   "source": [
    "#initiate our list of review data\n",
    "pitchfork_query_url = []\n",
    "pitchfork_query_album = []\n",
    "pitchfork_query_spot_artist = []\n",
    "pitchfork_query_spot_album = []\n",
    "pitchfork_query_artist = []\n",
    "pitchfork_query_editorial = []\n",
    "pitchfork_query_fulltext = []\n",
    "pitchfork_query_matched_album = []\n",
    "pitchfork_query_matched_artist = []\n",
    "pitchfork_query_score = []\n",
    "pitchfork_query_year = []\n",
    "pitchfork_query_cover = []\n",
    "\n",
    "\n",
    "#Grab every artist and album combination and feed it into Pitchfork_Api object\n",
    "#Grab all the elements we can, and if we encounter and error, abandon\n",
    "for artist, album_name in pitchfork_search_df.itertuples(index=False):  \n",
    "    pitchfork_query={}\n",
    "    print(artist, album_name)\n",
    "    try:\n",
    "        p = pitchfork_api.search(artist, album_name)\n",
    "\n",
    "        pitchfork_query_url.append(p.url)\n",
    "        pitchfork_query_album.append(p.album())\n",
    "        pitchfork_query_artist.append(p.artist())\n",
    "        pitchfork_query_editorial.append(p.editorial())\n",
    "        pitchfork_query_fulltext.append(p.full_text())\n",
    "        pitchfork_query_matched_album.append(p.matched_album)\n",
    "        pitchfork_query_matched_artist.append(p.matched_artist)\n",
    "        pitchfork_query_score.append(p.score())\n",
    "        pitchfork_query_year.append(p.year())\n",
    "        pitchfork_query_spot_artist.append(artist)\n",
    "        pitchfork_query_spot_album.append(album_name)\n",
    "    except:\n",
    "        pitchfork_query_url.append('')\n",
    "        pitchfork_query_album.append('')\n",
    "        pitchfork_query_artist.append(artist)\n",
    "        pitchfork_query_editorial.append('')\n",
    "        pitchfork_query_fulltext.append('')\n",
    "        pitchfork_query_matched_album.append('')\n",
    "        pitchfork_query_matched_artist.append('')\n",
    "        pitchfork_query_score.append('')\n",
    "        pitchfork_query_year.append('')\n",
    "        pitchfork_query_spot_album.append(album_name)\n",
    "        pitchfork_query_spot_artist.append(artist)\n",
    "    \n",
    "\n",
    "    "
   ]
  },
  {
   "cell_type": "code",
   "execution_count": 14,
   "metadata": {},
   "outputs": [],
   "source": [
    "#build the dataframe\n",
    "pitchfork_additions_df = pd.DataFrame({\n",
    "    'url':pitchfork_query_url,\n",
    "    'album':pitchfork_query_album,\n",
    "    'artist':pitchfork_query_artist,\n",
    "    'spotify_artist':pitchfork_query_spot_artist,\n",
    "    'spotify_album_name':pitchfork_query_spot_album,\n",
    "    'full_text':pitchfork_query_fulltext,\n",
    "    'editorial':pitchfork_query_editorial,    \n",
    "    'matched_album':pitchfork_query_matched_album,\n",
    "    'matched_artist':pitchfork_query_matched_artist,\n",
    "    'score':pitchfork_query_score,\n",
    "    'year':pitchfork_query_year})"
   ]
  },
  {
   "cell_type": "code",
   "execution_count": 15,
   "metadata": {},
   "outputs": [
    {
     "data": {
      "text/plain": [
       "(7385, 11)"
      ]
     },
     "execution_count": 15,
     "metadata": {},
     "output_type": "execute_result"
    }
   ],
   "source": [
    "pitchfork_additions_df.shape"
   ]
  },
  {
   "cell_type": "code",
   "execution_count": null,
   "metadata": {},
   "outputs": [],
   "source": [
    "pitchfork_additions_df = pitchfork_additions_df.drop_duplicates('url')"
   ]
  },
  {
   "cell_type": "markdown",
   "metadata": {},
   "source": [
    "## Combining Data"
   ]
  },
  {
   "cell_type": "code",
   "execution_count": 16,
   "metadata": {
    "scrolled": true
   },
   "outputs": [],
   "source": [
    "# Rename our columns for kaggle\n",
    "pitchfork_reviews_kaggle = pitchfork_reviews_kaggle.rename(columns={'content': 'full_text', 'title':'album', 'pub_year':'year'})"
   ]
  },
  {
   "cell_type": "code",
   "execution_count": 17,
   "metadata": {},
   "outputs": [
    {
     "data": {
      "text/plain": [
       "Index(['reviewid', 'album', 'url', 'score', 'best_new_music', 'author',\n",
       "       'author_type', 'pub_date', 'pub_weekday', 'pub_day', 'pub_month',\n",
       "       'year', 'reviewid.1', 'full_text', 'genre', 'label', 'artist'],\n",
       "      dtype='object')"
      ]
     },
     "execution_count": 17,
     "metadata": {},
     "output_type": "execute_result"
    }
   ],
   "source": [
    "pitchfork_reviews_kaggle.columns"
   ]
  },
  {
   "cell_type": "code",
   "execution_count": 18,
   "metadata": {},
   "outputs": [],
   "source": [
    "#Drop unneeded columns \n",
    "pitchfork_reviews_kaggle = pitchfork_reviews_kaggle.drop(columns=['reviewid','best_new_music', 'author',\n",
    "       'author_type', 'pub_date', 'pub_weekday', 'pub_day', 'pub_month','reviewid.1','genre', 'label'])"
   ]
  },
  {
   "cell_type": "code",
   "execution_count": 20,
   "metadata": {},
   "outputs": [
    {
     "name": "stderr",
     "output_type": "stream",
     "text": [
      "C:\\Users\\Owen\\Anaconda3\\lib\\site-packages\\ipykernel_launcher.py:1: FutureWarning: Sorting because non-concatenation axis is not aligned. A future version\n",
      "of pandas will change to not sort by default.\n",
      "\n",
      "To accept the future behavior, pass 'sort=False'.\n",
      "\n",
      "To retain the current behavior and silence the warning, pass 'sort=True'.\n",
      "\n",
      "  \"\"\"Entry point for launching an IPython kernel.\n"
     ]
    }
   ],
   "source": [
    "#Combine both into one dataframe\n",
    "pitchfork_final_df = pd.concat([pitchfork_additions_df, pitchfork_reviews_kaggle], axis = 0, ignore_index=True)"
   ]
  },
  {
   "cell_type": "code",
   "execution_count": 25,
   "metadata": {},
   "outputs": [],
   "source": [
    "#drop duplicates based on url\n",
    "pitchfork_final_df = pitchfork_final_df.drop_duplicates('url')"
   ]
  },
  {
   "cell_type": "code",
   "execution_count": 26,
   "metadata": {},
   "outputs": [],
   "source": [
    "#Save to csv\n",
    "pitchfork_final_df.to_csv('pitchfork_deduped_final.csv', index=False)"
   ]
  },
  {
   "cell_type": "code",
   "execution_count": 3,
   "metadata": {},
   "outputs": [],
   "source": [
    "#Save to csv\n",
    "pitchfork_final_df = pd.read_csv('pitchfork_deduped_final.csv')"
   ]
  },
  {
   "cell_type": "code",
   "execution_count": 6,
   "metadata": {},
   "outputs": [
    {
     "data": {
      "text/plain": [
       "'England\\'s Black Box Recorder is what My Bloody Valentine might sound like\\n    without all the tape loops, ear- splitting amplification, and confounding\\n    network of effects gadgets. On second thought, maybe that\\'s a stupid\\n    comparison. The photograph on the cover of England Made Me-- the\\n    young girl, sitting up in bed under the covers, looking bored and morbidly\\n    introspective-- tells you most everything you need to know about this\\n    unhappy English pop band fronted by the Auteurs\\' Luke Haines.\\n    \\n    And, of course, there\\'s the obvious tragic connotations of the moniker Black\\n    Box Recorder. The band is named, as I\\'m sure you\\'re all well aware, after a\\n    recording device that captures the final moments of an ill- fated airplane\\n    and its crew. We eventually learn, that to the societal malcontents in\\n    Black Box Recorder, life is basically an airplane spinning out of control,\\n    spiraling toward the ground, and meeting its end in flaming catastrophe.\\n    And England Made Me is their own personal black box recording, in a\\n    sense. I mean, what else can they do but record the last desperate cries of\\n    their tormented lives before they, too, in the Year 2000, crash and burn out\\n    like everyone and everything else.\\n    \\n    But while they\\'re still stuck here in this meaningless void known as modern life,\\n    I guess the band figured, \"Aw, what the heck.  We may as well sign with a hip label\\n    and make an album that examines the ontological riddles which complicated our\\n    respective childhoods and rendered our subsequent adult lives deeply confusing\\n    and unsatisfying.\" England Made Me is also an anti- tribute to the shame,\\n    horror and general degradation that must naturally come with being born and raised\\n    in post- Restoration England.\\n    \\n    But is this album good, you ask? Well, it isn\\'t bad.  In fact, it starts out\\n    with the immaculate \"Girl Singing in the Wreckage,\" on which vocalist Sarah\\n    Nixey sweetly croons, \"My 18th birthday I\\'ll die of boredom/ My private world is\\n    smashed wide open.\" Then we have the undeniably pristine, haunting melodies of\\n    the excellent title track. \"It\\'s Only the End of the World\" epitomizes the twenty-\\n    something detachment and their going- through- the- motions view of life at\\n    century\\'s end. The apocalypse is nigh they say, but who really cares? The\\n    spontaneous combustion of the Universe could only be an improvement, so sayeth\\n    Black Box Recorder.\\n    \\n    About midway through the album, though, the song cycle lapses into barely-\\n    tolerable redundancy. The album really loses the casual, deliberate momentum\\n    it\\'d been building upon. The sheer simplicity of their approach to songwriting\\n    begins backfiring to some degree.  \"Life is unfair/ Kill yourself/ Or get over\\n    it,\" goes the chorus to \"Child Psychology.\" Honestly, \"Child Psychology\" is the\\n    most ridiculous, sorry- for- itself disaster of an indie rock song I\\'ve heard\\n    in a long while. It\\'s a spoken first- person narrative concerning the stunted\\n    intellectual and social development of a particular little shit, and the irreparable\\n    damage done by misguided and misinformed parenting. \"I stopped talking when I was\\n    six years old/ I didn\\'t want anything more to do with the outside world,\" Nixey\\n    deadpans.\\n    \\n    And so it goes that these lament- loving Brits just keep churning out more quaint\\n    songs about resigned depression. Sample the cynical detachment on \"Wonderful Life,\"\\n    and get a load of the mournful \"Hated Sunday:\" \"Close the window/ Draw the blinds/\\n    I can\\'t stand it if the sun shines on Sunday.\" Okay, enough is enough with the\\n    hollow malaise and paltry middle- class problems already! Try more coffee, guys--\\n    shock treatment, St. John\\'s Wort, Babar bedtime stories, anything.\\n    \\n    Yep, after a time, you\\'re just left with empty sorrow and overly reflective\\n    gobbledygook over rhythmically- static, lightly- strummed reverb- treated\\n    guitar. The same pouty, subdued vocals continually ooze from Nixey\\'s lips.\\n    In fact, Black Box Recorder finally carry the fashionable woe- is- me depression\\n    thing way over the edge, and chalk up major demerits for covering Jacques Brel\\'s\\n    loathsome pro- suicide sing- along, \"Seasons in the Sun.\"\\n    \\n    Black Box Recorder convey a kind of mildly morose but slightly tongue- in- cheek\\n    Sylvia Plath- meets- Paul McCartney pop sensibility, with a fairly evident\\n    Portishead affectation thrown into the mix. Singer Sarah Nixey has the type of\\n    one- dimensional soft whisper that\\'s certainly pleasant enough to draw you into\\n    her world without hope. But soon, you just feel yourself aching for her to begin\\n    screaming her dainty lungs out, just to shake up the melancholic monotony a bit.\\n    The childish existential suffering is a just bit more than this reviewer can stomach.'"
      ]
     },
     "execution_count": 6,
     "metadata": {},
     "output_type": "execute_result"
    }
   ],
   "source": [
    "pitchfork_final_df.full_text[3398]"
   ]
  },
  {
   "cell_type": "code",
   "execution_count": null,
   "metadata": {},
   "outputs": [],
   "source": []
  }
 ],
 "metadata": {
  "kernelspec": {
   "display_name": "Python 3",
   "language": "python",
   "name": "python3"
  },
  "language_info": {
   "codemirror_mode": {
    "name": "ipython",
    "version": 3
   },
   "file_extension": ".py",
   "mimetype": "text/x-python",
   "name": "python",
   "nbconvert_exporter": "python",
   "pygments_lexer": "ipython3",
   "version": "3.7.3"
  }
 },
 "nbformat": 4,
 "nbformat_minor": 2
}
