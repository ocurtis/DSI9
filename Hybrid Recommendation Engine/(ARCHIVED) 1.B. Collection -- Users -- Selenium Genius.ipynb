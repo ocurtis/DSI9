{
 "cells": [
  {
   "cell_type": "code",
   "execution_count": 5,
   "metadata": {},
   "outputs": [],
   "source": [
    "import pandas as pd\n",
    "from bs4 import BeautifulSoup\n",
    "import numpy as np\n",
    "import time\n",
    "import requests\n",
    "import seaborn as sns\n",
    "import warnings\n",
    "import matplotlib.pyplot as plt\n",
    "import lyricsgenius\n",
    "import selenium\n",
    "import sys\n",
    "import spotipy\n",
    "import spotipy.util as util\n",
    "\n",
    "#Import all the relevant libraries we'll be using for Selenium\n",
    "from selenium import webdriver\n",
    "from selenium.webdriver import Chrome, ChromeOptions\n",
    "from selenium.webdriver import Firefox\n",
    "from selenium.webdriver.firefox.options import Options\n",
    "from selenium.webdriver.common.by import By\n",
    "from selenium.webdriver.support.ui import WebDriverWait\n",
    "from selenium.webdriver.support import expected_conditions as EC\n",
    "from selenium.webdriver.common import keys\n",
    "from selenium.webdriver.common.action_chains import ActionChains\n"
   ]
  },
  {
   "cell_type": "code",
   "execution_count": 7,
   "metadata": {},
   "outputs": [],
   "source": [
    "#To prevent interruptions with selenium, we'll be configuring a number of options\n",
    "chrome_options = webdriver.ChromeOptions()\n",
    "chrome_options.accept_untrusted_certs = True\n",
    "chrome_options.assume_untrusted_cert_issuer = True\n",
    "chrome_options.add_argument(\"--no-sandbox\")\n",
    "chrome_options.add_argument(\"--disable-impl-side-painting\")\n",
    "chrome_options.add_argument(\"--disable-setuid-sandbox\")\n",
    "chrome_options.add_argument(\"--disable-seccomp-filter-sandbox\")\n",
    "chrome_options.add_argument(\"--disable-breakpad\")\n",
    "chrome_options.add_argument(\"--disable-client-side-phishing-detection\")\n",
    "chrome_options.add_argument(\"--disable-cast\")\n",
    "chrome_options.add_argument(\"--disable-cast-streaming-hw-encoding\")\n",
    "chrome_options.add_argument(\"--disable-cloud-import\")\n",
    "chrome_options.add_argument(\"--disable-popup-blocking\")\n",
    "chrome_options.add_argument(\"--ignore-certificate-errors\")\n",
    "chrome_options.add_argument(\"--disable-session-crashed-bubble\")\n",
    "chrome_options.add_argument(\"--disable-ipv6\")\n",
    "chrome_options.add_argument(\"--allow-http-screen-capture\")\n",
    "chrome_options.add_argument(\"--start-maximized\")"
   ]
  },
  {
   "cell_type": "code",
   "execution_count": 8,
   "metadata": {
    "scrolled": false
   },
   "outputs": [
    {
     "name": "stderr",
     "output_type": "stream",
     "text": [
      "C:\\Users\\Owen\\Anaconda3\\lib\\site-packages\\ipykernel_launcher.py:3: DeprecationWarning: use setter for headless property instead of set_headless\n",
      "  This is separate from the ipykernel package so we can avoid doing imports until\n"
     ]
    }
   ],
   "source": [
    "#open up chrome browser and navigate to genius\n",
    "opts = Options()\n",
    "opts.set_headless()\n",
    "assert opts.headless  \n",
    "browser = webdriver.Chrome()\n"
   ]
  },
  {
   "cell_type": "code",
   "execution_count": 9,
   "metadata": {},
   "outputs": [],
   "source": [
    "# pd.DataFrame(rapper_list_for_cross[:465]).to_csv('rapper_names_searcher_1.csv', header=None, index=False)"
   ]
  },
  {
   "cell_type": "code",
   "execution_count": 10,
   "metadata": {},
   "outputs": [],
   "source": [
    "# pd.DataFrame(rapper_list_for_cross[465:929]).to_csv('rapper_names_searcher_2.csv', header=None, index=False)"
   ]
  },
  {
   "cell_type": "code",
   "execution_count": 11,
   "metadata": {},
   "outputs": [],
   "source": [
    "# pd.DataFrame(rapper_list_for_cross[929:]).to_csv('rapper_names_searcher_3.csv', header=None, index=False)"
   ]
  },
  {
   "cell_type": "code",
   "execution_count": 12,
   "metadata": {},
   "outputs": [],
   "source": [
    "# #Pull our list in\n",
    "# rapper_list_for_cross = list(pd.read_csv('rapper_names_searcher_1.csv', header=None)[0])"
   ]
  },
  {
   "cell_type": "code",
   "execution_count": 13,
   "metadata": {
    "scrolled": true
   },
   "outputs": [
    {
     "name": "stdout",
     "output_type": "stream",
     "text": [
      "It has been 11.91 seconds since we started.\n",
      "It has been 21.25 seconds since we started.\n",
      "It has been 31.53 seconds since we started.\n"
     ]
    }
   ],
   "source": [
    "#We will start by initiating empty lists to which we'll add our information on each pull (artist name, # follows, follower names)\n",
    "genius_search_results_artist_names = []\n",
    "genius_search_results_artist_follows = []\n",
    "genius_search_results_artist_follower_names = []\n",
    "\n",
    "#For timing and for indexing our lists for printing, we have some variables we will initiate here\n",
    "program_starts = time.time()  \n",
    "iteration_check = 0\n",
    "\n",
    "#Iterate through our list of rappers\n",
    "for artist in ['chance the rapper', '50 cent', 'lil baby']:\n",
    "    \n",
    "    #Open our headless chrome browser\n",
    "    browser.get('https://genius.com/search?q=' + artist)\n",
    "    user_names =[]        \n",
    "    \n",
    "    try:\n",
    "        \n",
    "        #Wait until the artist section of the search results is detected\n",
    "        WebDriverWait(browser, 10).until(\n",
    "        EC.presence_of_element_located((By.XPATH, \"//html/body/routable-page/ng-outlet/search-results-page/div/div[2]/div[2]/div[4]/search-result-section/div/div[2]/search-result-items/div[1]\"))\n",
    "        ) \n",
    "        \n",
    "        #Click on the top artist result\n",
    "        top_artist_result = browser.find_element_by_xpath(\"//html/body/routable-page/ng-outlet/search-results-page/div/div[2]/div[2]/div[4]/search-result-section/div/div[2]/search-result-items/div[1]\")     \n",
    "        top_artist_result.click()\n",
    "        \n",
    "        \n",
    "        try:\n",
    "            #Wait until the \"Followers\" element is located\n",
    "            artist_name = WebDriverWait(browser, 10).until(\n",
    "            EC.presence_of_element_located((By.XPATH, '//html/body/ul[1]/li[3]/a/span'))\n",
    "            )\n",
    "            \n",
    "            #Append our artist name to our list \n",
    "            genius_search_results_artist_names.append(artist_name.text)\n",
    "            \n",
    "        except:\n",
    "            print('error @ first except')\n",
    "            #Skip this artist if we get an error because nothing appears\n",
    "            genius_search_results_artist_names.append('')\n",
    "                \n",
    "        try:\n",
    "            \n",
    "            #Once we're on the artist page, wait \n",
    "            artist_followers = WebDriverWait(browser, 10).until(\n",
    "            EC.presence_of_element_located((By.XPATH, '//html/body/routable-page/ng-outlet/routable-profile-page/ng-outlet/routed-page/profile-page/div[2]/div[2]/div[2]/div/h3[2]/span'))\n",
    "            )\n",
    "           \n",
    "            #Grab the number of followers\n",
    "            genius_search_results_artist_follows.append(artist_followers.text)\n",
    "            \n",
    "            #Wait and click on followers\n",
    "            time.sleep(1)\n",
    "            artist_followers.click()\n",
    "            \n",
    "            try:\n",
    "                \n",
    "                #Scroll down after we've clicked on followers to populate list of followers\n",
    "                browser.execute_script(\"window.scrollTo(0, document.body.scrollHeight)\")\n",
    "                time.sleep(2)\n",
    "                browser.execute_script(\"window.scrollTo(0, document.body.scrollHeight)\")\n",
    "                time.sleep(2)\n",
    "\n",
    "                #Find all users by their badges\n",
    "                follower_names = WebDriverWait(browser, 10).until(\n",
    "                EC.presence_of_element_located((By.CLASS_NAME, 'user_badge-login')) )\n",
    "\n",
    "                #iterate through all the users we found and build list of followers. Append this to larger list\n",
    "\n",
    "                user_names_response = browser.find_elements_by_class_name('user_badge-login')\n",
    "                for user in user_names_response:\n",
    "                    user_names.append(user.text)\n",
    "                genius_search_results_artist_follower_names.append(user_names)\n",
    "\n",
    "            except:\n",
    "                #If we encounter any issues with retrieving follower names, just skip it\n",
    "                user_names.append('')\n",
    "                genius_search_results_artist_follower_names.append(user_names)\n",
    "                print('error @ second except')\n",
    "            \n",
    "            \n",
    "        except:\n",
    "            genius_search_results_artist_names.append('')\n",
    "            genius_search_results_artist_follows.append('')\n",
    "            print(f'ERROR @ fourth except for {artist}.')            \n",
    "            user_names.append('')\n",
    "            genius_search_results_artist_follower_names.append(user_names)\n",
    "            \n",
    "    except:\n",
    "            genius_search_results_artist_names.append('')\n",
    "            genius_search_results_artist_follows.append('')\n",
    "            print(f'ERROR @ fourth except for {artist}.')            \n",
    "            user_names.append('')\n",
    "            genius_search_results_artist_follower_names.append(user_names)\n",
    "   \n",
    "    #Check how long it took. Print our current status so we can keep track    \n",
    "    now = time.time()\n",
    "    diff = now - program_starts\n",
    "    print(f\"It has been {round(diff,2)} seconds since we started.\")\n",
    "    iteration_check += 1  \n",
    "\n"
   ]
  },
  {
   "cell_type": "code",
   "execution_count": 26,
   "metadata": {},
   "outputs": [],
   "source": [
    "rappers_1_df = pd.DataFrame(zip(rapper_list_for_cross,genius_search_results_artist_names, genius_search_results_artist_follows,genius_search_results_artist_follower_names))\n",
    "rappers_1_df.to_csv('combined_rapper_data_1.csv', index=False)"
   ]
  },
  {
   "cell_type": "code",
   "execution_count": null,
   "metadata": {},
   "outputs": [],
   "source": []
  }
 ],
 "metadata": {
  "kernelspec": {
   "display_name": "Python 3",
   "language": "python",
   "name": "python3"
  },
  "language_info": {
   "codemirror_mode": {
    "name": "ipython",
    "version": 3
   },
   "file_extension": ".py",
   "mimetype": "text/x-python",
   "name": "python",
   "nbconvert_exporter": "python",
   "pygments_lexer": "ipython3",
   "version": "3.7.3"
  }
 },
 "nbformat": 4,
 "nbformat_minor": 2
}
