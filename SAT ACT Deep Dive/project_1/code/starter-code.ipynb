{
 "cells": [
  {
   "cell_type": "markdown",
   "metadata": {},
   "source": [
    "# SAT / ACT Trends: Deep Dive into Participation and Performance by Geo"
   ]
  },
  {
   "cell_type": "markdown",
   "metadata": {},
   "source": [
    "## Problem Statement"
   ]
  },
  {
   "cell_type": "markdown",
   "metadata": {},
   "source": [
    "Participcation rates for the SAT have improved following the College Board's release of a new test format in March 2016. And while moderate gains in participation are welcome, there is still significant ground to gain in comparison to the ACT. For the remainder of this notebook, we'll deep dive into state level performance and participation to identify any optimization strategies that can help boost SAT participation."
   ]
  },
  {
   "cell_type": "markdown",
   "metadata": {},
   "source": [
    "## Executive Summary\n",
    "\n",
    "#### Contents:\n",
    "\n",
    "- [2017 Data Import & Cleaning](#2017-Data-Import-&-Cleaning)\n",
    "- [2018 Data Import & Cleaning](#2018-Data-Import-&-Cleaning)\n",
    "- [Exploratory Data Analysis](#Exploratory-Data-Analysis)\n",
    "- [Data Distributions and Correlation](#Distributions-and-Correlations)\n",
    "- [Findings and Implications](#Findings-and-Implications)"
   ]
  },
  {
   "cell_type": "markdown",
   "metadata": {},
   "source": [
    "#### Relevant Packages"
   ]
  },
  {
   "cell_type": "code",
   "execution_count": 1478,
   "metadata": {},
   "outputs": [],
   "source": [
    "#Imports all the packages we need to conduct this deep dive \n",
    "import pandas as pd\n",
    "import numpy as np\n",
    "import matplotlib.pyplot as plt\n",
    "import seaborn as sns"
   ]
  },
  {
   "cell_type": "markdown",
   "metadata": {},
   "source": [
    "***\n",
    "## 2017 Data Import & Cleaning"
   ]
  },
  {
   "cell_type": "markdown",
   "metadata": {},
   "source": [
    "#### Read In SAT & ACT  Data\n",
    "\n",
    "\n",
    "We'll start by reading in relevant `sat_2017.csv` and `act_2017.csv` files and assigning them to appropriately named pandas dataframes."
   ]
  },
  {
   "cell_type": "code",
   "execution_count": 1479,
   "metadata": {},
   "outputs": [],
   "source": [
    "#build a Dataframe out of our two ACT/SAT data sets by referencing their relative file paths\n",
    "sat_df_17 = pd.read_csv('../data/sat_2017.csv')\n",
    "act_df_17 = pd.read_csv('../data/act_2017.csv')"
   ]
  },
  {
   "cell_type": "markdown",
   "metadata": {},
   "source": [
    "#### Displaying 2017 Data\n",
    "\n",
    "With our data read into dataframe formats, let's use .head() and .shape to get a better understanding of what we're working with."
   ]
  },
  {
   "cell_type": "code",
   "execution_count": 1480,
   "metadata": {},
   "outputs": [
    {
     "data": {
      "text/html": [
       "<div>\n",
       "<style scoped>\n",
       "    .dataframe tbody tr th:only-of-type {\n",
       "        vertical-align: middle;\n",
       "    }\n",
       "\n",
       "    .dataframe tbody tr th {\n",
       "        vertical-align: top;\n",
       "    }\n",
       "\n",
       "    .dataframe thead th {\n",
       "        text-align: right;\n",
       "    }\n",
       "</style>\n",
       "<table border=\"1\" class=\"dataframe\">\n",
       "  <thead>\n",
       "    <tr style=\"text-align: right;\">\n",
       "      <th></th>\n",
       "      <th>state</th>\n",
       "      <th>participation</th>\n",
       "      <th>evidence_based_reading_and_writing</th>\n",
       "      <th>math</th>\n",
       "      <th>total</th>\n",
       "    </tr>\n",
       "  </thead>\n",
       "  <tbody>\n",
       "    <tr>\n",
       "      <td>0</td>\n",
       "      <td>Alabama</td>\n",
       "      <td>5</td>\n",
       "      <td>593</td>\n",
       "      <td>572</td>\n",
       "      <td>1165</td>\n",
       "    </tr>\n",
       "    <tr>\n",
       "      <td>1</td>\n",
       "      <td>Alaska</td>\n",
       "      <td>38</td>\n",
       "      <td>547</td>\n",
       "      <td>533</td>\n",
       "      <td>1080</td>\n",
       "    </tr>\n",
       "    <tr>\n",
       "      <td>2</td>\n",
       "      <td>Arizona</td>\n",
       "      <td>30</td>\n",
       "      <td>563</td>\n",
       "      <td>553</td>\n",
       "      <td>1116</td>\n",
       "    </tr>\n",
       "    <tr>\n",
       "      <td>3</td>\n",
       "      <td>Arkansas</td>\n",
       "      <td>3</td>\n",
       "      <td>614</td>\n",
       "      <td>594</td>\n",
       "      <td>1208</td>\n",
       "    </tr>\n",
       "    <tr>\n",
       "      <td>4</td>\n",
       "      <td>California</td>\n",
       "      <td>53</td>\n",
       "      <td>531</td>\n",
       "      <td>524</td>\n",
       "      <td>1055</td>\n",
       "    </tr>\n",
       "    <tr>\n",
       "      <td>5</td>\n",
       "      <td>Colorado</td>\n",
       "      <td>11</td>\n",
       "      <td>606</td>\n",
       "      <td>595</td>\n",
       "      <td>1201</td>\n",
       "    </tr>\n",
       "    <tr>\n",
       "      <td>6</td>\n",
       "      <td>Connecticut</td>\n",
       "      <td>100</td>\n",
       "      <td>530</td>\n",
       "      <td>512</td>\n",
       "      <td>1041</td>\n",
       "    </tr>\n",
       "    <tr>\n",
       "      <td>7</td>\n",
       "      <td>Delaware</td>\n",
       "      <td>100</td>\n",
       "      <td>503</td>\n",
       "      <td>492</td>\n",
       "      <td>996</td>\n",
       "    </tr>\n",
       "    <tr>\n",
       "      <td>8</td>\n",
       "      <td>District of Columbia</td>\n",
       "      <td>100</td>\n",
       "      <td>482</td>\n",
       "      <td>468</td>\n",
       "      <td>950</td>\n",
       "    </tr>\n",
       "    <tr>\n",
       "      <td>9</td>\n",
       "      <td>Florida</td>\n",
       "      <td>83</td>\n",
       "      <td>520</td>\n",
       "      <td>497</td>\n",
       "      <td>1017</td>\n",
       "    </tr>\n",
       "  </tbody>\n",
       "</table>\n",
       "</div>"
      ],
      "text/plain": [
       "                  state  participation  evidence_based_reading_and_writing  \\\n",
       "0               Alabama              5                                 593   \n",
       "1                Alaska             38                                 547   \n",
       "2               Arizona             30                                 563   \n",
       "3              Arkansas              3                                 614   \n",
       "4            California             53                                 531   \n",
       "5              Colorado             11                                 606   \n",
       "6           Connecticut            100                                 530   \n",
       "7              Delaware            100                                 503   \n",
       "8  District of Columbia            100                                 482   \n",
       "9               Florida             83                                 520   \n",
       "\n",
       "   math  total  \n",
       "0   572   1165  \n",
       "1   533   1080  \n",
       "2   553   1116  \n",
       "3   594   1208  \n",
       "4   524   1055  \n",
       "5   595   1201  \n",
       "6   512   1041  \n",
       "7   492    996  \n",
       "8   468    950  \n",
       "9   497   1017  "
      ]
     },
     "execution_count": 1480,
     "metadata": {},
     "output_type": "execute_result"
    }
   ],
   "source": [
    "#Start by taking a look at the top ten rows of our SAT data set\n",
    "sat_df.head(10)"
   ]
  },
  {
   "cell_type": "code",
   "execution_count": 1481,
   "metadata": {},
   "outputs": [
    {
     "data": {
      "text/html": [
       "<div>\n",
       "<style scoped>\n",
       "    .dataframe tbody tr th:only-of-type {\n",
       "        vertical-align: middle;\n",
       "    }\n",
       "\n",
       "    .dataframe tbody tr th {\n",
       "        vertical-align: top;\n",
       "    }\n",
       "\n",
       "    .dataframe thead th {\n",
       "        text-align: right;\n",
       "    }\n",
       "</style>\n",
       "<table border=\"1\" class=\"dataframe\">\n",
       "  <thead>\n",
       "    <tr style=\"text-align: right;\">\n",
       "      <th></th>\n",
       "      <th>state</th>\n",
       "      <th>participation</th>\n",
       "      <th>english</th>\n",
       "      <th>math</th>\n",
       "      <th>reading</th>\n",
       "      <th>science</th>\n",
       "      <th>composite</th>\n",
       "    </tr>\n",
       "  </thead>\n",
       "  <tbody>\n",
       "    <tr>\n",
       "      <td>1</td>\n",
       "      <td>Alabama</td>\n",
       "      <td>100</td>\n",
       "      <td>18.9</td>\n",
       "      <td>18.4</td>\n",
       "      <td>19.7</td>\n",
       "      <td>19.4</td>\n",
       "      <td>19.2</td>\n",
       "    </tr>\n",
       "    <tr>\n",
       "      <td>2</td>\n",
       "      <td>Alaska</td>\n",
       "      <td>65</td>\n",
       "      <td>18.7</td>\n",
       "      <td>19.8</td>\n",
       "      <td>20.4</td>\n",
       "      <td>19.9</td>\n",
       "      <td>19.8</td>\n",
       "    </tr>\n",
       "    <tr>\n",
       "      <td>3</td>\n",
       "      <td>Arizona</td>\n",
       "      <td>62</td>\n",
       "      <td>18.6</td>\n",
       "      <td>19.8</td>\n",
       "      <td>20.1</td>\n",
       "      <td>19.8</td>\n",
       "      <td>19.7</td>\n",
       "    </tr>\n",
       "    <tr>\n",
       "      <td>4</td>\n",
       "      <td>Arkansas</td>\n",
       "      <td>100</td>\n",
       "      <td>18.9</td>\n",
       "      <td>19.0</td>\n",
       "      <td>19.7</td>\n",
       "      <td>19.5</td>\n",
       "      <td>19.4</td>\n",
       "    </tr>\n",
       "    <tr>\n",
       "      <td>5</td>\n",
       "      <td>California</td>\n",
       "      <td>31</td>\n",
       "      <td>22.5</td>\n",
       "      <td>22.7</td>\n",
       "      <td>23.1</td>\n",
       "      <td>22.2</td>\n",
       "      <td>22.8</td>\n",
       "    </tr>\n",
       "    <tr>\n",
       "      <td>6</td>\n",
       "      <td>Colorado</td>\n",
       "      <td>100</td>\n",
       "      <td>20.1</td>\n",
       "      <td>20.3</td>\n",
       "      <td>21.2</td>\n",
       "      <td>20.9</td>\n",
       "      <td>20.8</td>\n",
       "    </tr>\n",
       "    <tr>\n",
       "      <td>7</td>\n",
       "      <td>Connecticut</td>\n",
       "      <td>31</td>\n",
       "      <td>25.5</td>\n",
       "      <td>24.6</td>\n",
       "      <td>25.6</td>\n",
       "      <td>24.6</td>\n",
       "      <td>25.2</td>\n",
       "    </tr>\n",
       "    <tr>\n",
       "      <td>8</td>\n",
       "      <td>Delaware</td>\n",
       "      <td>18</td>\n",
       "      <td>24.1</td>\n",
       "      <td>23.4</td>\n",
       "      <td>24.8</td>\n",
       "      <td>23.6</td>\n",
       "      <td>24.1</td>\n",
       "    </tr>\n",
       "    <tr>\n",
       "      <td>9</td>\n",
       "      <td>District of Columbia</td>\n",
       "      <td>32</td>\n",
       "      <td>24.4</td>\n",
       "      <td>23.5</td>\n",
       "      <td>24.9</td>\n",
       "      <td>23.5</td>\n",
       "      <td>24.2</td>\n",
       "    </tr>\n",
       "    <tr>\n",
       "      <td>10</td>\n",
       "      <td>Florida</td>\n",
       "      <td>73</td>\n",
       "      <td>19.0</td>\n",
       "      <td>19.4</td>\n",
       "      <td>21.0</td>\n",
       "      <td>19.4</td>\n",
       "      <td>19.8</td>\n",
       "    </tr>\n",
       "  </tbody>\n",
       "</table>\n",
       "</div>"
      ],
      "text/plain": [
       "                   state  participation  english  math  reading  science  \\\n",
       "1                Alabama            100     18.9  18.4     19.7     19.4   \n",
       "2                 Alaska             65     18.7  19.8     20.4     19.9   \n",
       "3                Arizona             62     18.6  19.8     20.1     19.8   \n",
       "4               Arkansas            100     18.9  19.0     19.7     19.5   \n",
       "5             California             31     22.5  22.7     23.1     22.2   \n",
       "6               Colorado            100     20.1  20.3     21.2     20.9   \n",
       "7            Connecticut             31     25.5  24.6     25.6     24.6   \n",
       "8               Delaware             18     24.1  23.4     24.8     23.6   \n",
       "9   District of Columbia             32     24.4  23.5     24.9     23.5   \n",
       "10               Florida             73     19.0  19.4     21.0     19.4   \n",
       "\n",
       "    composite  \n",
       "1        19.2  \n",
       "2        19.8  \n",
       "3        19.7  \n",
       "4        19.4  \n",
       "5        22.8  \n",
       "6        20.8  \n",
       "7        25.2  \n",
       "8        24.1  \n",
       "9        24.2  \n",
       "10       19.8  "
      ]
     },
     "execution_count": 1481,
     "metadata": {},
     "output_type": "execute_result"
    }
   ],
   "source": [
    "#Now we can print the first ten rows of our ACT data set\n",
    "act_df.head(10)"
   ]
  },
  {
   "cell_type": "code",
   "execution_count": 1482,
   "metadata": {},
   "outputs": [
    {
     "data": {
      "text/plain": [
       "(51, 5)"
      ]
     },
     "execution_count": 1482,
     "metadata": {},
     "output_type": "execute_result"
    }
   ],
   "source": [
    "#How much data are we dealing with in our SAT dataframe?\n",
    "sat_df_17.shape"
   ]
  },
  {
   "cell_type": "code",
   "execution_count": 1483,
   "metadata": {},
   "outputs": [
    {
     "data": {
      "text/plain": [
       "(52, 7)"
      ]
     },
     "execution_count": 1483,
     "metadata": {},
     "output_type": "execute_result"
    }
   ],
   "source": [
    "#How much data are we dealing with in SAT dataframe?\n",
    "act_df_17.shape"
   ]
  },
  {
   "cell_type": "markdown",
   "metadata": {},
   "source": [
    "#### At First Glance: 2017 Data"
   ]
  },
  {
   "cell_type": "markdown",
   "metadata": {},
   "source": [
    "_SAT Dataframe_\n",
    "- The SAT file appears to have columns \"State,\" \"Participation,\" \"Evidence-Based Reading and Writing,\" \"Math,\" and \"Total.\"    \n",
    "- Each row is indexed with a unique identified in the dataframe. State data is represented with strings; Participation data is represented as a percentage; the remaining columns are integer data.\n",
    "\n",
    "_ACT Dataframe_\n",
    " - The ACT file appears to have columns \"State,\" \"Participation,\" \"English,\" \"Math,\" and \"Reading,\" \"Science,\" and \"Composite. \n",
    " - Each row is indexed with a unique identified in the dataframe. State data is represented with strings; Participation data is represented as a percentage; the remaining columns have decimals and as such appear to be float values.\n",
    " \n",
    " \n",
    "<font color=gray>**NOTE**: It appears that the number of rows between these two datasets is inconsistent - we will want to dig into this later.</font>\n"
   ]
  },
  {
   "cell_type": "markdown",
   "metadata": {},
   "source": [
    "#### Assessing Completeness of 2017 Data"
   ]
  },
  {
   "cell_type": "markdown",
   "metadata": {},
   "source": [
    "We'll use the isnull() method which will return \"True\" for each data point in our dataframe when NaN values are detected. Because True is a boolean data type with value 1, we can then sum it. Based on this approach, both datasets don't appear to have any null values."
   ]
  },
  {
   "cell_type": "code",
   "execution_count": 1484,
   "metadata": {},
   "outputs": [
    {
     "name": "stdout",
     "output_type": "stream",
     "text": [
      "\n",
      "SAT Data Set Null Values: 0. \n",
      "ACT Data Set Null Values: 0.\n"
     ]
    }
   ],
   "source": [
    "#Sum the number of null entries in each data set \n",
    "sat_null_total = sat_df_17.isnull().sum().sum()\n",
    "act_null_total = act_df_17.isnull().sum().sum()\n",
    "\n",
    "#Use fprint to format our results for each particular data set\n",
    "print (f\"\\nSAT Data Set Null Values: {sat_null_total}. \\nACT Data Set Null Values: {act_null_total}.\")"
   ]
  },
  {
   "cell_type": "markdown",
   "metadata": {},
   "source": [
    "#### Data Issue Identification and Modifcation"
   ]
  },
  {
   "cell_type": "markdown",
   "metadata": {},
   "source": [
    "##### <font color=red>Issue 1: Datatypes</font>\n",
    "##### <font color=red>Issue 1a: SAT/ACT 'Participation' Columns</font>"
   ]
  },
  {
   "cell_type": "markdown",
   "metadata": {},
   "source": [
    "To better understand if there are issues with the data, we can take a look at .dtypes to ensure that columns we expect to house numerical values are in fact expressed numerically in our dataframes."
   ]
  },
  {
   "cell_type": "code",
   "execution_count": 1485,
   "metadata": {},
   "outputs": [
    {
     "name": "stdout",
     "output_type": "stream",
     "text": [
      "SAT DF Data Types: \n",
      "State                                 object\n",
      "Participation                         object\n",
      "Evidence-Based Reading and Writing     int64\n",
      "Math                                   int64\n",
      "Total                                  int64\n",
      "dtype: object\n",
      "\n",
      "ACT DF Data Types\n",
      "State             object\n",
      "Participation     object\n",
      "English          float64\n",
      "Math             float64\n",
      "Reading          float64\n",
      "Science          float64\n",
      "Composite         object\n",
      "dtype: object\n"
     ]
    }
   ],
   "source": [
    "#Print the datatypes for each respective column of SAT data set and ACt data set\n",
    "print (f\"SAT DF Data Types: \\n{sat_df_17.dtypes}\\n\\nACT DF Data Types\\n{act_df_17.dtypes}\")"
   ]
  },
  {
   "cell_type": "markdown",
   "metadata": {},
   "source": [
    "While most of our columns have data types consistent with our expectations, the 'Participation' column in the SAT data is of type 'object.' Indeed, based on our earlier head() method call, we know that there is a  special character ('%') in this column that will prevent us from treating this as a numeric column. In order to address this, we can build a function that will allow us to strip out this character."
   ]
  },
  {
   "cell_type": "code",
   "execution_count": 1486,
   "metadata": {},
   "outputs": [
    {
     "name": "stdout",
     "output_type": "stream",
     "text": [
      "int64\n",
      "int64\n"
     ]
    }
   ],
   "source": [
    "#Build a function that takes in a df, column name, and character. It will remove the character.\n",
    "#Then, take that series and cast as int\n",
    "\n",
    "def manual_strip_to_numeric(dataframe, col_name, character):\n",
    "    dataframe.loc[:,col_name] = dataframe.loc[:,col_name].str.replace(character, '')\n",
    "    dataframe.loc[:,col_name] = dataframe.loc[:,col_name].apply(pd.to_numeric)\n",
    "\n",
    "\n",
    "#Take the Participation column for each df, and remove the character '%'\n",
    "manual_strip_to_numeric(sat_df_17, 'Participation','%')\n",
    "manual_strip_to_numeric(act_df_17, 'Participation','%')\n",
    "\n",
    "#check if the data type has changed for the column\n",
    "print(sat_df_17.loc[:,'Participation'].dtype)\n",
    "print(act_df_17.loc[:,'Participation'].dtype)"
   ]
  },
  {
   "cell_type": "markdown",
   "metadata": {},
   "source": [
    "The data type has changed, so we can move forward."
   ]
  },
  {
   "cell_type": "markdown",
   "metadata": {},
   "source": [
    "##### <font color=red>Issue 1b: ACT 'Composite' Column</font>"
   ]
  },
  {
   "cell_type": "markdown",
   "metadata": {},
   "source": [
    "The 'Composite' column of the ACT data set also appears to have issues preventing it from being treated nurmerically. It is currently of type 'object.' Let's find those characters and remove them to ensure this column can become of type float, consistent with other numeric columns in this data set."
   ]
  },
  {
   "cell_type": "code",
   "execution_count": 1487,
   "metadata": {},
   "outputs": [
    {
     "data": {
      "text/html": [
       "<div>\n",
       "<style scoped>\n",
       "    .dataframe tbody tr th:only-of-type {\n",
       "        vertical-align: middle;\n",
       "    }\n",
       "\n",
       "    .dataframe tbody tr th {\n",
       "        vertical-align: top;\n",
       "    }\n",
       "\n",
       "    .dataframe thead th {\n",
       "        text-align: right;\n",
       "    }\n",
       "</style>\n",
       "<table border=\"1\" class=\"dataframe\">\n",
       "  <thead>\n",
       "    <tr style=\"text-align: right;\">\n",
       "      <th></th>\n",
       "      <th>State</th>\n",
       "      <th>Participation</th>\n",
       "      <th>English</th>\n",
       "      <th>Math</th>\n",
       "      <th>Reading</th>\n",
       "      <th>Science</th>\n",
       "      <th>Composite</th>\n",
       "    </tr>\n",
       "  </thead>\n",
       "  <tbody>\n",
       "    <tr>\n",
       "      <td>51</td>\n",
       "      <td>Wyoming</td>\n",
       "      <td>100</td>\n",
       "      <td>19.4</td>\n",
       "      <td>19.8</td>\n",
       "      <td>20.8</td>\n",
       "      <td>20.6</td>\n",
       "      <td>20.2x</td>\n",
       "    </tr>\n",
       "  </tbody>\n",
       "</table>\n",
       "</div>"
      ],
      "text/plain": [
       "      State  Participation  English  Math  Reading  Science Composite\n",
       "51  Wyoming            100     19.4  19.8     20.8     20.6     20.2x"
      ]
     },
     "execution_count": 1487,
     "metadata": {},
     "output_type": "execute_result"
    }
   ],
   "source": [
    "#What row is showing an issue in the 'Composite' column?\n",
    "act_df_17[act_df_17['Composite'].str.contains('[A-Za-z]')]"
   ]
  },
  {
   "cell_type": "code",
   "execution_count": 1488,
   "metadata": {},
   "outputs": [
    {
     "data": {
      "text/plain": [
       "51    20.2\n",
       "Name: Composite, dtype: object"
      ]
     },
     "execution_count": 1488,
     "metadata": {},
     "output_type": "execute_result"
    }
   ],
   "source": [
    "#Wyoming has an 'X' in it's 'Composite' value, let's strip that out.\n",
    "act_df_17.loc[act_df_17['State'] == 'Wyoming', 'Composite'] = 20.2;\n",
    "\n",
    "#Check for new Wyoming Composite value\n",
    "act_df_17.loc[act_df_17['State'] == 'Wyoming', 'Composite']"
   ]
  },
  {
   "cell_type": "code",
   "execution_count": 1489,
   "metadata": {},
   "outputs": [
    {
     "data": {
      "text/plain": [
       "State             object\n",
       "Participation      int64\n",
       "English          float64\n",
       "Math             float64\n",
       "Reading          float64\n",
       "Science          float64\n",
       "Composite        float64\n",
       "dtype: object"
      ]
     },
     "execution_count": 1489,
     "metadata": {},
     "output_type": "execute_result"
    }
   ],
   "source": [
    "#This has fixed our specific value issue, but now we need to ensure that the column is cast as type float\n",
    "act_df_17.loc[:,'Composite'] = act_df_17.loc[:,'Composite'].apply(pd.to_numeric);\n",
    "\n",
    "#Check again for our data types to ensure the change was enacted\n",
    "act_df_17.dtypes"
   ]
  },
  {
   "cell_type": "markdown",
   "metadata": {},
   "source": [
    "##### <font color=red>Issue 2: Column Names</font>"
   ]
  },
  {
   "cell_type": "markdown",
   "metadata": {},
   "source": [
    "Let's take another look at the column names for each data set. We notice that the ACT data set has no significant issues with respect to formatting. However, there are special characters present in the SAT column names. In addition to this, because we'll be merging data sets, we will also want these column names to be more descriptive to designate SAT/ACT, and 2017/2018. Through this process, we'll want to leverage lower case letters and underscores where spaces are needed for consistency."
   ]
  },
  {
   "cell_type": "code",
   "execution_count": 1490,
   "metadata": {
    "scrolled": true
   },
   "outputs": [
    {
     "name": "stdout",
     "output_type": "stream",
     "text": [
      "Index(['State', 'Participation', 'Evidence-Based Reading and Writing', 'Math',\n",
      "       'Total'],\n",
      "      dtype='object') \n",
      "\n",
      " Index(['State', 'Participation', 'English', 'Math', 'Reading', 'Science',\n",
      "       'Composite'],\n",
      "      dtype='object')\n"
     ]
    }
   ],
   "source": [
    "#Print out column names for each dataframe\n",
    "print(sat_df_17.columns, \"\\n\\n\", act_df_17.columns)"
   ]
  },
  {
   "cell_type": "code",
   "execution_count": 1491,
   "metadata": {},
   "outputs": [],
   "source": [
    "#use rename() method on our dataframe to map new, more descriptive column names for both SAT and ACT.\n",
    "#To apply without reassignment keep inplace=True as parameter\n",
    "sat_df_17.rename(columns={\n",
    "    'State': 'sat_state_17',\n",
    "    'Evidence-Based Reading and Writing': 'sat_ebrw_17',\n",
    "    'Participation': 'sat_participation_17',\n",
    "    'Math': 'sat_math_17',\n",
    "    'Total': 'sat_total_17',}, inplace=True)\n",
    "\n",
    "act_df_17.rename(columns={\n",
    "    'State': 'act_state_17',\n",
    "    'Participation': 'act_participation_17',\n",
    "    'English': 'act_english_17',\n",
    "    'Math': 'act_math_17',\n",
    "    'Reading': 'act_reading_17',\n",
    "    'Science': 'act_science_17',\n",
    "    'Composite': 'act_composite_17',}, inplace=True)"
   ]
  },
  {
   "cell_type": "markdown",
   "metadata": {},
   "source": [
    "##### <font color=red>Issue 3: Fixing invalid SAT Math Scores</font>"
   ]
  },
  {
   "cell_type": "code",
   "execution_count": 1492,
   "metadata": {},
   "outputs": [
    {
     "data": {
      "text/html": [
       "<div>\n",
       "<style scoped>\n",
       "    .dataframe tbody tr th:only-of-type {\n",
       "        vertical-align: middle;\n",
       "    }\n",
       "\n",
       "    .dataframe tbody tr th {\n",
       "        vertical-align: top;\n",
       "    }\n",
       "\n",
       "    .dataframe thead th {\n",
       "        text-align: right;\n",
       "    }\n",
       "</style>\n",
       "<table border=\"1\" class=\"dataframe\">\n",
       "  <thead>\n",
       "    <tr style=\"text-align: right;\">\n",
       "      <th></th>\n",
       "      <th>act_participation_17</th>\n",
       "      <th>act_english_17</th>\n",
       "      <th>act_math_17</th>\n",
       "      <th>act_reading_17</th>\n",
       "      <th>act_science_17</th>\n",
       "      <th>act_composite_17</th>\n",
       "    </tr>\n",
       "  </thead>\n",
       "  <tbody>\n",
       "    <tr>\n",
       "      <td>min</td>\n",
       "      <td>8.0</td>\n",
       "      <td>16.3</td>\n",
       "      <td>18.0</td>\n",
       "      <td>18.1</td>\n",
       "      <td>2.3</td>\n",
       "      <td>17.8</td>\n",
       "    </tr>\n",
       "    <tr>\n",
       "      <td>max</td>\n",
       "      <td>100.0</td>\n",
       "      <td>25.5</td>\n",
       "      <td>25.3</td>\n",
       "      <td>26.0</td>\n",
       "      <td>24.9</td>\n",
       "      <td>25.5</td>\n",
       "    </tr>\n",
       "  </tbody>\n",
       "</table>\n",
       "</div>"
      ],
      "text/plain": [
       "     act_participation_17  act_english_17  act_math_17  act_reading_17  \\\n",
       "min                   8.0            16.3         18.0            18.1   \n",
       "max                 100.0            25.5         25.3            26.0   \n",
       "\n",
       "     act_science_17  act_composite_17  \n",
       "min             2.3              17.8  \n",
       "max            24.9              25.5  "
      ]
     },
     "execution_count": 1492,
     "metadata": {},
     "output_type": "execute_result"
    }
   ],
   "source": [
    "#Let's print out the Max and Min values for each section of the ACT data set\n",
    "act_df_17.describe().loc[['min', 'max']]"
   ]
  },
  {
   "cell_type": "code",
   "execution_count": 1493,
   "metadata": {},
   "outputs": [
    {
     "data": {
      "text/html": [
       "<div>\n",
       "<style scoped>\n",
       "    .dataframe tbody tr th:only-of-type {\n",
       "        vertical-align: middle;\n",
       "    }\n",
       "\n",
       "    .dataframe tbody tr th {\n",
       "        vertical-align: top;\n",
       "    }\n",
       "\n",
       "    .dataframe thead th {\n",
       "        text-align: right;\n",
       "    }\n",
       "</style>\n",
       "<table border=\"1\" class=\"dataframe\">\n",
       "  <thead>\n",
       "    <tr style=\"text-align: right;\">\n",
       "      <th></th>\n",
       "      <th>sat_participation_17</th>\n",
       "      <th>sat_ebrw_17</th>\n",
       "      <th>sat_math_17</th>\n",
       "      <th>sat_total_17</th>\n",
       "    </tr>\n",
       "  </thead>\n",
       "  <tbody>\n",
       "    <tr>\n",
       "      <td>min</td>\n",
       "      <td>2.0</td>\n",
       "      <td>482.0</td>\n",
       "      <td>52.0</td>\n",
       "      <td>950.0</td>\n",
       "    </tr>\n",
       "    <tr>\n",
       "      <td>max</td>\n",
       "      <td>100.0</td>\n",
       "      <td>644.0</td>\n",
       "      <td>651.0</td>\n",
       "      <td>1295.0</td>\n",
       "    </tr>\n",
       "  </tbody>\n",
       "</table>\n",
       "</div>"
      ],
      "text/plain": [
       "     sat_participation_17  sat_ebrw_17  sat_math_17  sat_total_17\n",
       "min                   2.0        482.0         52.0         950.0\n",
       "max                 100.0        644.0        651.0        1295.0"
      ]
     },
     "execution_count": 1493,
     "metadata": {},
     "output_type": "execute_result"
    }
   ],
   "source": [
    "#Let's print out the Max and Min values for each section of the SAT data set\n",
    "sat_df_17.describe().loc[['min', 'max']]"
   ]
  },
  {
   "cell_type": "markdown",
   "metadata": {},
   "source": [
    "In researching the min and max values for SAT and ACT scores, we see some strange values for our SAT Math max, and our ACT Science minimum. Additional research demonstrates that ACT sections are graded on a scale of 1-36, so a score of 2 is not unheard of. However, the minimum score possible for the SAT Math section is 200. Diving into this further, we realize that the value 52 could be representative of a \"Raw Score\", and that the weighted corresponding score here is 730. So let's replace for that score accordingly. \n",
    " \n",
    "\n",
    "(Sources: [SAT](https://blog.collegevine.com/here-are-the-average-sat-scores-by-state/), [ACT](https://blog.prepscholar.com/act-scores-by-state-averages-highs-and-lows))"
   ]
  },
  {
   "cell_type": "code",
   "execution_count": 1494,
   "metadata": {},
   "outputs": [
    {
     "name": "stdout",
     "output_type": "stream",
     "text": [
      "20    730\n",
      "Name: sat_math_17, dtype: int64\n"
     ]
    }
   ],
   "source": [
    "#Which state is demonstrating a lower than anticipated min?\n",
    "sat_df_17.loc[sat_df_17['sat_math_17'] == 52, 'sat_state_17']\n",
    "\n",
    "#Let's make an assumption that Maryland's SAT Math score was reported as raw, and adjust accordingly.\n",
    "sat_df_17.loc[sat_df_17['sat_state_17'] == 'Maryland', 'sat_math_17'] = 730\n",
    "\n",
    "#let's check that this update went through\n",
    "print(sat_df_17.loc[sat_df_17['sat_state_17'] == 'Maryland', 'sat_math_17'])"
   ]
  },
  {
   "cell_type": "markdown",
   "metadata": {},
   "source": [
    "##### <font color=red>Issue 4: 'State' Values</font>"
   ]
  },
  {
   "cell_type": "markdown",
   "metadata": {},
   "source": [
    "Let's pull out the 'National' row given that this is not a valid state, and is not present in the SAT dataframe"
   ]
  },
  {
   "cell_type": "code",
   "execution_count": 1495,
   "metadata": {},
   "outputs": [
    {
     "data": {
      "text/plain": [
       "0.0"
      ]
     },
     "execution_count": 1495,
     "metadata": {},
     "output_type": "execute_result"
    }
   ],
   "source": [
    "#Drop 'National' from 'State' column for ACT data set\n",
    "act_df_17 = act_df_17[act_df_17['act_state_17'] != 'National']\n",
    "\n",
    "#Check to make sure this worked by seeing how many columns have 'State' == 'National'\n",
    "act_df_17[act_df_17['act_state_17']=='National'].sum().sum()"
   ]
  },
  {
   "cell_type": "markdown",
   "metadata": {},
   "source": [
    "#### Defining Data Dictionaries"
   ]
  },
  {
   "cell_type": "markdown",
   "metadata": {},
   "source": [
    "Our data has been fixed, and now we'll create a data dictionary for reference for both of our data sets.\n",
    "\n",
    "\n",
    "SAT Data Dictionary:"
   ]
  },
  {
   "cell_type": "markdown",
   "metadata": {},
   "source": [
    "|Feature|Type|Description|\n",
    "|---|---|---|\n",
    "|sat_state_17|object|U.S. state name| \n",
    "|sat_participation_17|int64|Corresponding participation rate| \n",
    "|sat_ebrw_17|int64|score for specific EBRW SAT section| \n",
    "|sat_math_17|int64|score for specific math SAT section| \n",
    "|sat_total_17|int64|combined score for SAT| \n"
   ]
  },
  {
   "cell_type": "markdown",
   "metadata": {},
   "source": [
    "ACT Data Dictionary:"
   ]
  },
  {
   "cell_type": "markdown",
   "metadata": {},
   "source": [
    "|Feature|Type|Description|\n",
    "|---|---|---|\n",
    "|act_state_17|object|U.S. state name| \n",
    "|act_participation_17|int64|Corresponding participation rate| \n",
    "|act_english_17|float64|score for specific English ACT section| \n",
    "|act_math_17|float64|score for specific Math ACT section| \n",
    "|act_reading_17|float64|score for specific Reading ACT section|\n",
    "|act_science_17|float64|score for specific Science ACT section| \n",
    "|act_composite_17|float64|Composite ACT score combining all sections| \n"
   ]
  },
  {
   "cell_type": "markdown",
   "metadata": {},
   "source": [
    "#### Merge and Save 2018 Dataframes\n",
    "\n",
    "Join the 2017 ACT and SAT dataframes using the state in each dataframe as the key. Assign this to a new variable. We will then read in the .csv files into new dataframes."
   ]
  },
  {
   "cell_type": "code",
   "execution_count": 1496,
   "metadata": {},
   "outputs": [],
   "source": [
    "sat_act_17_df = sat_df_17.merge(act_df_17,how=\"outer\",left_on=['sat_state_17'],right_on=['act_state_17'])"
   ]
  },
  {
   "cell_type": "code",
   "execution_count": 1497,
   "metadata": {},
   "outputs": [
    {
     "data": {
      "text/html": [
       "<div>\n",
       "<style scoped>\n",
       "    .dataframe tbody tr th:only-of-type {\n",
       "        vertical-align: middle;\n",
       "    }\n",
       "\n",
       "    .dataframe tbody tr th {\n",
       "        vertical-align: top;\n",
       "    }\n",
       "\n",
       "    .dataframe thead th {\n",
       "        text-align: right;\n",
       "    }\n",
       "</style>\n",
       "<table border=\"1\" class=\"dataframe\">\n",
       "  <thead>\n",
       "    <tr style=\"text-align: right;\">\n",
       "      <th></th>\n",
       "      <th>sat_state_17</th>\n",
       "      <th>sat_participation_17</th>\n",
       "      <th>sat_ebrw_17</th>\n",
       "      <th>sat_math_17</th>\n",
       "      <th>sat_total_17</th>\n",
       "      <th>act_state_17</th>\n",
       "      <th>act_participation_17</th>\n",
       "      <th>act_english_17</th>\n",
       "      <th>act_math_17</th>\n",
       "      <th>act_reading_17</th>\n",
       "      <th>act_science_17</th>\n",
       "      <th>act_composite_17</th>\n",
       "    </tr>\n",
       "  </thead>\n",
       "  <tbody>\n",
       "    <tr>\n",
       "      <td>0</td>\n",
       "      <td>Alabama</td>\n",
       "      <td>5</td>\n",
       "      <td>593</td>\n",
       "      <td>572</td>\n",
       "      <td>1165</td>\n",
       "      <td>Alabama</td>\n",
       "      <td>100</td>\n",
       "      <td>18.9</td>\n",
       "      <td>18.4</td>\n",
       "      <td>19.7</td>\n",
       "      <td>19.4</td>\n",
       "      <td>19.2</td>\n",
       "    </tr>\n",
       "    <tr>\n",
       "      <td>1</td>\n",
       "      <td>Alaska</td>\n",
       "      <td>38</td>\n",
       "      <td>547</td>\n",
       "      <td>533</td>\n",
       "      <td>1080</td>\n",
       "      <td>Alaska</td>\n",
       "      <td>65</td>\n",
       "      <td>18.7</td>\n",
       "      <td>19.8</td>\n",
       "      <td>20.4</td>\n",
       "      <td>19.9</td>\n",
       "      <td>19.8</td>\n",
       "    </tr>\n",
       "    <tr>\n",
       "      <td>2</td>\n",
       "      <td>Arizona</td>\n",
       "      <td>30</td>\n",
       "      <td>563</td>\n",
       "      <td>553</td>\n",
       "      <td>1116</td>\n",
       "      <td>Arizona</td>\n",
       "      <td>62</td>\n",
       "      <td>18.6</td>\n",
       "      <td>19.8</td>\n",
       "      <td>20.1</td>\n",
       "      <td>19.8</td>\n",
       "      <td>19.7</td>\n",
       "    </tr>\n",
       "    <tr>\n",
       "      <td>3</td>\n",
       "      <td>Arkansas</td>\n",
       "      <td>3</td>\n",
       "      <td>614</td>\n",
       "      <td>594</td>\n",
       "      <td>1208</td>\n",
       "      <td>Arkansas</td>\n",
       "      <td>100</td>\n",
       "      <td>18.9</td>\n",
       "      <td>19.0</td>\n",
       "      <td>19.7</td>\n",
       "      <td>19.5</td>\n",
       "      <td>19.4</td>\n",
       "    </tr>\n",
       "    <tr>\n",
       "      <td>4</td>\n",
       "      <td>California</td>\n",
       "      <td>53</td>\n",
       "      <td>531</td>\n",
       "      <td>524</td>\n",
       "      <td>1055</td>\n",
       "      <td>California</td>\n",
       "      <td>31</td>\n",
       "      <td>22.5</td>\n",
       "      <td>22.7</td>\n",
       "      <td>23.1</td>\n",
       "      <td>22.2</td>\n",
       "      <td>22.8</td>\n",
       "    </tr>\n",
       "  </tbody>\n",
       "</table>\n",
       "</div>"
      ],
      "text/plain": [
       "  sat_state_17  sat_participation_17  sat_ebrw_17  sat_math_17  sat_total_17  \\\n",
       "0      Alabama                     5          593          572          1165   \n",
       "1       Alaska                    38          547          533          1080   \n",
       "2      Arizona                    30          563          553          1116   \n",
       "3     Arkansas                     3          614          594          1208   \n",
       "4   California                    53          531          524          1055   \n",
       "\n",
       "  act_state_17  act_participation_17  act_english_17  act_math_17  \\\n",
       "0      Alabama                   100            18.9         18.4   \n",
       "1       Alaska                    65            18.7         19.8   \n",
       "2      Arizona                    62            18.6         19.8   \n",
       "3     Arkansas                   100            18.9         19.0   \n",
       "4   California                    31            22.5         22.7   \n",
       "\n",
       "   act_reading_17  act_science_17  act_composite_17  \n",
       "0            19.7            19.4              19.2  \n",
       "1            20.4            19.9              19.8  \n",
       "2            20.1            19.8              19.7  \n",
       "3            19.7            19.5              19.4  \n",
       "4            23.1            22.2              22.8  "
      ]
     },
     "execution_count": 1497,
     "metadata": {},
     "output_type": "execute_result"
    }
   ],
   "source": [
    "sat_act_17_df.head()"
   ]
  },
  {
   "cell_type": "code",
   "execution_count": 1498,
   "metadata": {},
   "outputs": [],
   "source": [
    "sat_act_17_df.to_csv('../data/sat_act_17.csv')"
   ]
  },
  {
   "cell_type": "markdown",
   "metadata": {},
   "source": [
    "***\n",
    "## 2018 Data Import & Cleaning"
   ]
  },
  {
   "cell_type": "markdown",
   "metadata": {},
   "source": [
    "We have taken care of our 2017 ACT/SAT data. Now let's move into our 2018 data sets, starting by reading in our files and building new data frames"
   ]
  },
  {
   "cell_type": "code",
   "execution_count": 1499,
   "metadata": {},
   "outputs": [
    {
     "data": {
      "text/html": [
       "<div>\n",
       "<style scoped>\n",
       "    .dataframe tbody tr th:only-of-type {\n",
       "        vertical-align: middle;\n",
       "    }\n",
       "\n",
       "    .dataframe tbody tr th {\n",
       "        vertical-align: top;\n",
       "    }\n",
       "\n",
       "    .dataframe thead th {\n",
       "        text-align: right;\n",
       "    }\n",
       "</style>\n",
       "<table border=\"1\" class=\"dataframe\">\n",
       "  <thead>\n",
       "    <tr style=\"text-align: right;\">\n",
       "      <th></th>\n",
       "      <th>State</th>\n",
       "      <th>Participation</th>\n",
       "      <th>Evidence-Based Reading and Writing</th>\n",
       "      <th>Math</th>\n",
       "      <th>Total</th>\n",
       "    </tr>\n",
       "  </thead>\n",
       "  <tbody>\n",
       "    <tr>\n",
       "      <td>0</td>\n",
       "      <td>Alabama</td>\n",
       "      <td>6%</td>\n",
       "      <td>595</td>\n",
       "      <td>571</td>\n",
       "      <td>1166</td>\n",
       "    </tr>\n",
       "    <tr>\n",
       "      <td>1</td>\n",
       "      <td>Alaska</td>\n",
       "      <td>43%</td>\n",
       "      <td>562</td>\n",
       "      <td>544</td>\n",
       "      <td>1106</td>\n",
       "    </tr>\n",
       "    <tr>\n",
       "      <td>2</td>\n",
       "      <td>Arizona</td>\n",
       "      <td>29%</td>\n",
       "      <td>577</td>\n",
       "      <td>572</td>\n",
       "      <td>1149</td>\n",
       "    </tr>\n",
       "  </tbody>\n",
       "</table>\n",
       "</div>"
      ],
      "text/plain": [
       "     State Participation  Evidence-Based Reading and Writing  Math  Total\n",
       "0  Alabama            6%                                 595   571   1166\n",
       "1   Alaska           43%                                 562   544   1106\n",
       "2  Arizona           29%                                 577   572   1149"
      ]
     },
     "execution_count": 1499,
     "metadata": {},
     "output_type": "execute_result"
    }
   ],
   "source": [
    "#Build Dataframes out of our two ACT/SAT data sets by referencing their relative file paths\n",
    "sat_df_18 = pd.read_csv('../data/sat_2018.csv')\n",
    "act_df_18 = pd.read_csv('../data/act_2018.csv')\n",
    "\n",
    "#let's take a look at SAT 2018\n",
    "sat_df_18.head(3)"
   ]
  },
  {
   "cell_type": "code",
   "execution_count": 1500,
   "metadata": {},
   "outputs": [
    {
     "data": {
      "text/html": [
       "<div>\n",
       "<style scoped>\n",
       "    .dataframe tbody tr th:only-of-type {\n",
       "        vertical-align: middle;\n",
       "    }\n",
       "\n",
       "    .dataframe tbody tr th {\n",
       "        vertical-align: top;\n",
       "    }\n",
       "\n",
       "    .dataframe thead th {\n",
       "        text-align: right;\n",
       "    }\n",
       "</style>\n",
       "<table border=\"1\" class=\"dataframe\">\n",
       "  <thead>\n",
       "    <tr style=\"text-align: right;\">\n",
       "      <th></th>\n",
       "      <th>State</th>\n",
       "      <th>Participation</th>\n",
       "      <th>Composite</th>\n",
       "    </tr>\n",
       "  </thead>\n",
       "  <tbody>\n",
       "    <tr>\n",
       "      <td>0</td>\n",
       "      <td>Alabama</td>\n",
       "      <td>100%</td>\n",
       "      <td>19.1</td>\n",
       "    </tr>\n",
       "    <tr>\n",
       "      <td>1</td>\n",
       "      <td>Alaska</td>\n",
       "      <td>33%</td>\n",
       "      <td>20.8</td>\n",
       "    </tr>\n",
       "    <tr>\n",
       "      <td>2</td>\n",
       "      <td>Arizona</td>\n",
       "      <td>66%</td>\n",
       "      <td>19.2</td>\n",
       "    </tr>\n",
       "  </tbody>\n",
       "</table>\n",
       "</div>"
      ],
      "text/plain": [
       "     State Participation  Composite\n",
       "0  Alabama          100%       19.1\n",
       "1   Alaska           33%       20.8\n",
       "2  Arizona           66%       19.2"
      ]
     },
     "execution_count": 1500,
     "metadata": {},
     "output_type": "execute_result"
    }
   ],
   "source": [
    "#let's take a look at ACT 20118\n",
    "act_df_18.head(3)"
   ]
  },
  {
   "cell_type": "markdown",
   "metadata": {},
   "source": [
    "#### Identifying Data Issues and Fixing Them for 2018 Dataset"
   ]
  },
  {
   "cell_type": "markdown",
   "metadata": {},
   "source": [
    "##### <font color=red>Check 1: SAT/ACT Datatypes for 'Participation' Columns</font>"
   ]
  },
  {
   "cell_type": "markdown",
   "metadata": {},
   "source": [
    "Recall this was an issue with the 2017 datasets. A quick glance at datatype shows that we are dealing with the same issue-- 'Participation' columns are being treated as 'Object' types. We need to convert these to numeric values and be consistent with how we cast them (we will use type 'int64)."
   ]
  },
  {
   "cell_type": "code",
   "execution_count": 1501,
   "metadata": {
    "scrolled": false
   },
   "outputs": [
    {
     "name": "stdout",
     "output_type": "stream",
     "text": [
      "SAT DF Data Types: \n",
      "State                                 object\n",
      "Participation                         object\n",
      "Evidence-Based Reading and Writing     int64\n",
      "Math                                   int64\n",
      "Total                                  int64\n",
      "dtype: object\n",
      "\n",
      "ACT DF Data Types\n",
      "State             object\n",
      "Participation     object\n",
      "Composite        float64\n",
      "dtype: object\n"
     ]
    }
   ],
   "source": [
    "#Let's look at the data types for each data set to see if the sme issues persist\n",
    "print (f\"SAT DF Data Types: \\n{sat_df_18.dtypes}\\n\\nACT DF Data Types\\n{act_df_18.dtypes}\")"
   ]
  },
  {
   "cell_type": "code",
   "execution_count": 1502,
   "metadata": {},
   "outputs": [
    {
     "name": "stdout",
     "output_type": "stream",
     "text": [
      "int64\n",
      "int64\n"
     ]
    }
   ],
   "source": [
    "#Take the Participation column and remove the character '%'\n",
    "manual_strip_to_numeric(sat_df_18, 'Participation', '%')\n",
    "manual_strip_to_numeric(act_df_18, 'Participation', '%')\n",
    "\n",
    "#check if the data type has changed for the column\n",
    "print(sat_df_18.loc[:,'Participation'].dtype)\n",
    "print(act_df_18.loc[:,'Participation'].dtype)"
   ]
  },
  {
   "cell_type": "markdown",
   "metadata": {},
   "source": [
    "The data type has changed, so we can move forward and check other potential pitfalls with this dataset."
   ]
  },
  {
   "cell_type": "markdown",
   "metadata": {},
   "source": [
    "##### <font color=red>Check 2: SAT Math Scores</font>"
   ]
  },
  {
   "cell_type": "markdown",
   "metadata": {},
   "source": [
    "In our 2017 dataset, there was a raw score recorded for one state. We'll start by assessing min/min score values to see if there are any outliers that need addressing."
   ]
  },
  {
   "cell_type": "code",
   "execution_count": 1503,
   "metadata": {},
   "outputs": [
    {
     "data": {
      "text/html": [
       "<div>\n",
       "<style scoped>\n",
       "    .dataframe tbody tr th:only-of-type {\n",
       "        vertical-align: middle;\n",
       "    }\n",
       "\n",
       "    .dataframe tbody tr th {\n",
       "        vertical-align: top;\n",
       "    }\n",
       "\n",
       "    .dataframe thead th {\n",
       "        text-align: right;\n",
       "    }\n",
       "</style>\n",
       "<table border=\"1\" class=\"dataframe\">\n",
       "  <thead>\n",
       "    <tr style=\"text-align: right;\">\n",
       "      <th></th>\n",
       "      <th>Participation</th>\n",
       "      <th>Composite</th>\n",
       "    </tr>\n",
       "  </thead>\n",
       "  <tbody>\n",
       "    <tr>\n",
       "      <td>min</td>\n",
       "      <td>7.0</td>\n",
       "      <td>17.7</td>\n",
       "    </tr>\n",
       "    <tr>\n",
       "      <td>max</td>\n",
       "      <td>100.0</td>\n",
       "      <td>25.6</td>\n",
       "    </tr>\n",
       "  </tbody>\n",
       "</table>\n",
       "</div>"
      ],
      "text/plain": [
       "     Participation  Composite\n",
       "min            7.0       17.7\n",
       "max          100.0       25.6"
      ]
     },
     "execution_count": 1503,
     "metadata": {},
     "output_type": "execute_result"
    }
   ],
   "source": [
    "#Let's print out the Max and Min values for each section of the ACT data set\n",
    "act_df_18.describe().loc[['min', 'max']]"
   ]
  },
  {
   "cell_type": "code",
   "execution_count": 1504,
   "metadata": {
    "scrolled": true
   },
   "outputs": [
    {
     "data": {
      "text/html": [
       "<div>\n",
       "<style scoped>\n",
       "    .dataframe tbody tr th:only-of-type {\n",
       "        vertical-align: middle;\n",
       "    }\n",
       "\n",
       "    .dataframe tbody tr th {\n",
       "        vertical-align: top;\n",
       "    }\n",
       "\n",
       "    .dataframe thead th {\n",
       "        text-align: right;\n",
       "    }\n",
       "</style>\n",
       "<table border=\"1\" class=\"dataframe\">\n",
       "  <thead>\n",
       "    <tr style=\"text-align: right;\">\n",
       "      <th></th>\n",
       "      <th>Participation</th>\n",
       "      <th>Evidence-Based Reading and Writing</th>\n",
       "      <th>Math</th>\n",
       "      <th>Total</th>\n",
       "    </tr>\n",
       "  </thead>\n",
       "  <tbody>\n",
       "    <tr>\n",
       "      <td>min</td>\n",
       "      <td>2.0</td>\n",
       "      <td>480.0</td>\n",
       "      <td>480.0</td>\n",
       "      <td>977.0</td>\n",
       "    </tr>\n",
       "    <tr>\n",
       "      <td>max</td>\n",
       "      <td>100.0</td>\n",
       "      <td>643.0</td>\n",
       "      <td>655.0</td>\n",
       "      <td>1298.0</td>\n",
       "    </tr>\n",
       "  </tbody>\n",
       "</table>\n",
       "</div>"
      ],
      "text/plain": [
       "     Participation  Evidence-Based Reading and Writing   Math   Total\n",
       "min            2.0                               480.0  480.0   977.0\n",
       "max          100.0                               643.0  655.0  1298.0"
      ]
     },
     "execution_count": 1504,
     "metadata": {},
     "output_type": "execute_result"
    }
   ],
   "source": [
    "#Let's print out the Max and Min values for each section of the SAT data set\n",
    "sat_df_18.describe().loc[['min', 'max']]"
   ]
  },
  {
   "cell_type": "markdown",
   "metadata": {},
   "source": [
    "There do not appear to be any significant outliers and all values are within expected score ranges based on our previous research."
   ]
  },
  {
   "cell_type": "markdown",
   "metadata": {},
   "source": [
    "##### <font color=red>Check 3: State values for data sets</font>"
   ]
  },
  {
   "cell_type": "markdown",
   "metadata": {},
   "source": [
    "In our 2017 data set, there was a state recorded as 'National.' Let's see if this has carried into 2018. If so, we will need to address."
   ]
  },
  {
   "cell_type": "code",
   "execution_count": 1505,
   "metadata": {
    "scrolled": true
   },
   "outputs": [
    {
     "name": "stdout",
     "output_type": "stream",
     "text": [
      "(52,)\n",
      "(51,)\n",
      "\n",
      "\n",
      "    State  Participation  Composite\n",
      "19  Maine              7       24.0\n",
      "20  Maine              7       24.0\n"
     ]
    }
   ],
   "source": [
    "#Let's print out the Max and Min values for each section of the SAT data set\n",
    "print(act_df_18['State'].shape)\n",
    "print(sat_df_18['State'].shape)\n",
    "print(\"\\n\")\n",
    "\n",
    "#It looks like there is a stray row in our ACT data set. Let's look at value_counts() by state to assess.\n",
    "sat_df_18['State'].value_counts();\n",
    "act_df_18['State'].value_counts();\n",
    "\n",
    "#Maine appears to have multiple entries. A quick check reveals they are duplicates so let's drop one\n",
    "print(act_df_18.loc[act_df_18['State'] == 'Maine',:])\n",
    "\n",
    "#Let's drop a duplicate by referencing index\n",
    "act_df_18.drop(19, inplace=True)"
   ]
  },
  {
   "cell_type": "code",
   "execution_count": 1506,
   "metadata": {},
   "outputs": [
    {
     "data": {
      "text/html": [
       "<div>\n",
       "<style scoped>\n",
       "    .dataframe tbody tr th:only-of-type {\n",
       "        vertical-align: middle;\n",
       "    }\n",
       "\n",
       "    .dataframe tbody tr th {\n",
       "        vertical-align: top;\n",
       "    }\n",
       "\n",
       "    .dataframe thead th {\n",
       "        text-align: right;\n",
       "    }\n",
       "</style>\n",
       "<table border=\"1\" class=\"dataframe\">\n",
       "  <thead>\n",
       "    <tr style=\"text-align: right;\">\n",
       "      <th></th>\n",
       "      <th>State</th>\n",
       "      <th>Participation</th>\n",
       "      <th>Composite</th>\n",
       "    </tr>\n",
       "  </thead>\n",
       "  <tbody>\n",
       "    <tr>\n",
       "      <td>20</td>\n",
       "      <td>Maine</td>\n",
       "      <td>7</td>\n",
       "      <td>24.0</td>\n",
       "    </tr>\n",
       "  </tbody>\n",
       "</table>\n",
       "</div>"
      ],
      "text/plain": [
       "    State  Participation  Composite\n",
       "20  Maine              7       24.0"
      ]
     },
     "execution_count": 1506,
     "metadata": {},
     "output_type": "execute_result"
    }
   ],
   "source": [
    "#Confirming that we only have one entry now for Maine\n",
    "act_df_18.loc[act_df_18['State'] == 'Maine',:]"
   ]
  },
  {
   "cell_type": "markdown",
   "metadata": {},
   "source": [
    "Are there any other issues? When we look at 'State' values for the ACT data set, we notice that capitalization is off for \"District of colombia\". Let's resolve this."
   ]
  },
  {
   "cell_type": "code",
   "execution_count": 1507,
   "metadata": {},
   "outputs": [
    {
     "name": "stdout",
     "output_type": "stream",
     "text": [
      "0\n"
     ]
    }
   ],
   "source": [
    "#Assess individual values for 'State' and their frequencies across data sets\n",
    "act_df_18['State'].value_counts();\n",
    "sat_df_18['State'].value_counts();\n",
    "\n",
    "#Adjust our state value for ACT data set for D.C.\n",
    "act_df_18.loc[act_df_18['State']=='District of columbia','State'] = 'District of Columbia'\n",
    "\n",
    "#check that our change when through strikes again. This will return the number of columns with our incorrect 'State' value\n",
    "print(act_df_18.loc[act_df_18['State']=='District of columbia','State'].sum())"
   ]
  },
  {
   "cell_type": "markdown",
   "metadata": {},
   "source": [
    "##### <font color=red>Check 3: Adjust column names</font>"
   ]
  },
  {
   "cell_type": "markdown",
   "metadata": {},
   "source": [
    "It's possible that having spaces in the column name for 'Evidence-Based Reading and Writing' will produce issues when referencing it later, so it's best to replace spaces with underscores. While we're at it, let's also make all of our column entries lowercase for ease of reference moving forward. Finally, similar to what we did with our first data sets, let's add some descriptors to indicate the test and year"
   ]
  },
  {
   "cell_type": "code",
   "execution_count": 1508,
   "metadata": {},
   "outputs": [],
   "source": [
    "#use rename() method on our dataframes to map a new column name to the column of interest. \n",
    "#To apply without reassignment keep inplace=True as parameter\n",
    "sat_df_18.rename(columns={\n",
    "    'State': 'sat_state_18',\n",
    "    'Evidence-Based Reading and Writing': 'sat_ebrw_18',\n",
    "    'Participation': 'sat_participation_18',\n",
    "    'Math': 'sat_math_18',\n",
    "    'Total': 'sat_total_18',}, inplace=True)\n",
    "\n",
    "act_df_18.rename(columns={\n",
    "    'State': 'act_state_18',\n",
    "    'Participation': 'act_participation_18',\n",
    "    'Composite': 'act_composite_18',}, inplace=True)\n"
   ]
  },
  {
   "cell_type": "code",
   "execution_count": 1509,
   "metadata": {},
   "outputs": [
    {
     "name": "stdout",
     "output_type": "stream",
     "text": [
      "\n",
      "Index(['sat_state_17', 'sat_participation_17', 'sat_ebrw_17', 'sat_math_17',\n",
      "       'sat_total_17'],\n",
      "      dtype='object')\n",
      "\n",
      "Index(['act_state_17', 'act_participation_17', 'act_english_17', 'act_math_17',\n",
      "       'act_reading_17', 'act_science_17', 'act_composite_17'],\n",
      "      dtype='object')\n",
      "\n",
      "Index(['sat_state_18', 'sat_participation_18', 'sat_ebrw_18', 'sat_math_18',\n",
      "       'sat_total_18'],\n",
      "      dtype='object')\n",
      "\n",
      "Index(['act_state_18', 'act_participation_18', 'act_composite_18'], dtype='object')\n"
     ]
    }
   ],
   "source": [
    "#Do a quick check of every column to make sure that names are different\n",
    "print(f\"\\n{sat_df_17.columns}\\n\\n{act_df_17.columns}\")\n",
    "print(f\"\\n{sat_df_18.columns}\\n\\n{act_df_18.columns}\")"
   ]
  },
  {
   "cell_type": "markdown",
   "metadata": {},
   "source": [
    "#### Merging 2017 and 2018 into a single Dataframe\n",
    "We will combine the data we have read in so far into a singular dataframe. Because each dataframe has a State column, and because each of these columns has been cleaned/verified, we can proceed. We will save this to 'final.csv'"
   ]
  },
  {
   "cell_type": "code",
   "execution_count": 1510,
   "metadata": {},
   "outputs": [],
   "source": [
    "#Merge our 2018 data sets together\n",
    "sat_act_18_df = sat_df_18.merge(act_df_18,how=\"outer\",left_on=['sat_state_18'],right_on=['act_state_18'])\n",
    "\n",
    "#Merger 2018 and 2017 into one combined data set of 20 columns\n",
    "final_df = sat_act_17_df.merge(sat_act_18_df,how=\"outer\",left_on=['sat_state_17'],right_on=['sat_state_18'])"
   ]
  },
  {
   "cell_type": "code",
   "execution_count": 1511,
   "metadata": {},
   "outputs": [
    {
     "data": {
      "text/plain": [
       "(51, 20)"
      ]
     },
     "execution_count": 1511,
     "metadata": {},
     "output_type": "execute_result"
    }
   ],
   "source": [
    "#Check shape\n",
    "final_df.shape"
   ]
  },
  {
   "cell_type": "code",
   "execution_count": 1512,
   "metadata": {},
   "outputs": [],
   "source": [
    "#Write this fully combined dataframe out to 'final.csv'\n",
    "final_df.to_csv('../data/final.csv')"
   ]
  },
  {
   "cell_type": "markdown",
   "metadata": {},
   "source": [
    "After combining, we have a number of 'State' columns. Let's prioritize one of these columns and drop the rest."
   ]
  },
  {
   "cell_type": "code",
   "execution_count": 1513,
   "metadata": {},
   "outputs": [
    {
     "data": {
      "text/plain": [
       "Index(['state', 'sat_participation_17', 'sat_ebrw_17', 'sat_math_17',\n",
       "       'sat_total_17', 'act_participation_17', 'act_english_17', 'act_math_17',\n",
       "       'act_reading_17', 'act_science_17', 'act_composite_17',\n",
       "       'sat_participation_18', 'sat_ebrw_18', 'sat_math_18', 'sat_total_18',\n",
       "       'act_participation_18', 'act_composite_18'],\n",
       "      dtype='object')"
      ]
     },
     "execution_count": 1513,
     "metadata": {},
     "output_type": "execute_result"
    }
   ],
   "source": [
    "#We have several state columns so let's rename one  state column to be our primary state column.\n",
    "final_df.rename(columns={\n",
    "    'sat_state_17': 'state'}, inplace=True)\n",
    "\n",
    "#...And let's drop the rest of the state columns\n",
    "final_df = final_df.drop(['act_state_17', 'sat_state_18', 'act_state_18'], axis= 1)\n",
    "\n",
    "#Verify our changes\n",
    "final_df.columns"
   ]
  },
  {
   "cell_type": "markdown",
   "metadata": {},
   "source": [
    "***\n",
    "## Exploratory Data Analysis\n",
    "\n",
    "\n",
    "#### Summary Statistics\n",
    "We'll transpose our .describe() call to get a better view of our summary statistics by feature."
   ]
  },
  {
   "cell_type": "code",
   "execution_count": 1514,
   "metadata": {},
   "outputs": [
    {
     "data": {
      "text/html": [
       "<div>\n",
       "<style scoped>\n",
       "    .dataframe tbody tr th:only-of-type {\n",
       "        vertical-align: middle;\n",
       "    }\n",
       "\n",
       "    .dataframe tbody tr th {\n",
       "        vertical-align: top;\n",
       "    }\n",
       "\n",
       "    .dataframe thead th {\n",
       "        text-align: right;\n",
       "    }\n",
       "</style>\n",
       "<table border=\"1\" class=\"dataframe\">\n",
       "  <thead>\n",
       "    <tr style=\"text-align: right;\">\n",
       "      <th></th>\n",
       "      <th>count</th>\n",
       "      <th>mean</th>\n",
       "      <th>std</th>\n",
       "      <th>min</th>\n",
       "      <th>25%</th>\n",
       "      <th>50%</th>\n",
       "      <th>75%</th>\n",
       "      <th>max</th>\n",
       "    </tr>\n",
       "  </thead>\n",
       "  <tbody>\n",
       "    <tr>\n",
       "      <td>sat_participation_17</td>\n",
       "      <td>51.0</td>\n",
       "      <td>39.803922</td>\n",
       "      <td>35.276632</td>\n",
       "      <td>2.0</td>\n",
       "      <td>4.00</td>\n",
       "      <td>38.0</td>\n",
       "      <td>66.00</td>\n",
       "      <td>100.0</td>\n",
       "    </tr>\n",
       "    <tr>\n",
       "      <td>sat_ebrw_17</td>\n",
       "      <td>51.0</td>\n",
       "      <td>569.117647</td>\n",
       "      <td>45.666901</td>\n",
       "      <td>482.0</td>\n",
       "      <td>533.50</td>\n",
       "      <td>559.0</td>\n",
       "      <td>613.00</td>\n",
       "      <td>644.0</td>\n",
       "    </tr>\n",
       "    <tr>\n",
       "      <td>sat_math_17</td>\n",
       "      <td>51.0</td>\n",
       "      <td>560.921569</td>\n",
       "      <td>52.740437</td>\n",
       "      <td>468.0</td>\n",
       "      <td>523.50</td>\n",
       "      <td>551.0</td>\n",
       "      <td>603.50</td>\n",
       "      <td>730.0</td>\n",
       "    </tr>\n",
       "    <tr>\n",
       "      <td>sat_total_17</td>\n",
       "      <td>51.0</td>\n",
       "      <td>1126.098039</td>\n",
       "      <td>92.494812</td>\n",
       "      <td>950.0</td>\n",
       "      <td>1055.50</td>\n",
       "      <td>1107.0</td>\n",
       "      <td>1212.00</td>\n",
       "      <td>1295.0</td>\n",
       "    </tr>\n",
       "    <tr>\n",
       "      <td>act_participation_17</td>\n",
       "      <td>51.0</td>\n",
       "      <td>65.254902</td>\n",
       "      <td>32.140842</td>\n",
       "      <td>8.0</td>\n",
       "      <td>31.00</td>\n",
       "      <td>69.0</td>\n",
       "      <td>100.00</td>\n",
       "      <td>100.0</td>\n",
       "    </tr>\n",
       "    <tr>\n",
       "      <td>act_english_17</td>\n",
       "      <td>51.0</td>\n",
       "      <td>20.931373</td>\n",
       "      <td>2.353677</td>\n",
       "      <td>16.3</td>\n",
       "      <td>19.00</td>\n",
       "      <td>20.7</td>\n",
       "      <td>23.30</td>\n",
       "      <td>25.5</td>\n",
       "    </tr>\n",
       "    <tr>\n",
       "      <td>act_math_17</td>\n",
       "      <td>51.0</td>\n",
       "      <td>21.182353</td>\n",
       "      <td>1.981989</td>\n",
       "      <td>18.0</td>\n",
       "      <td>19.40</td>\n",
       "      <td>20.9</td>\n",
       "      <td>23.10</td>\n",
       "      <td>25.3</td>\n",
       "    </tr>\n",
       "    <tr>\n",
       "      <td>act_reading_17</td>\n",
       "      <td>51.0</td>\n",
       "      <td>22.013725</td>\n",
       "      <td>2.067271</td>\n",
       "      <td>18.1</td>\n",
       "      <td>20.45</td>\n",
       "      <td>21.8</td>\n",
       "      <td>24.15</td>\n",
       "      <td>26.0</td>\n",
       "    </tr>\n",
       "    <tr>\n",
       "      <td>act_science_17</td>\n",
       "      <td>51.0</td>\n",
       "      <td>21.041176</td>\n",
       "      <td>3.182463</td>\n",
       "      <td>2.3</td>\n",
       "      <td>19.90</td>\n",
       "      <td>21.3</td>\n",
       "      <td>22.75</td>\n",
       "      <td>24.9</td>\n",
       "    </tr>\n",
       "    <tr>\n",
       "      <td>act_composite_17</td>\n",
       "      <td>51.0</td>\n",
       "      <td>21.519608</td>\n",
       "      <td>2.020695</td>\n",
       "      <td>17.8</td>\n",
       "      <td>19.80</td>\n",
       "      <td>21.4</td>\n",
       "      <td>23.60</td>\n",
       "      <td>25.5</td>\n",
       "    </tr>\n",
       "    <tr>\n",
       "      <td>sat_participation_18</td>\n",
       "      <td>51.0</td>\n",
       "      <td>45.745098</td>\n",
       "      <td>37.314256</td>\n",
       "      <td>2.0</td>\n",
       "      <td>4.50</td>\n",
       "      <td>52.0</td>\n",
       "      <td>77.50</td>\n",
       "      <td>100.0</td>\n",
       "    </tr>\n",
       "    <tr>\n",
       "      <td>sat_ebrw_18</td>\n",
       "      <td>51.0</td>\n",
       "      <td>563.686275</td>\n",
       "      <td>47.502627</td>\n",
       "      <td>480.0</td>\n",
       "      <td>534.50</td>\n",
       "      <td>552.0</td>\n",
       "      <td>610.50</td>\n",
       "      <td>643.0</td>\n",
       "    </tr>\n",
       "    <tr>\n",
       "      <td>sat_math_18</td>\n",
       "      <td>51.0</td>\n",
       "      <td>556.235294</td>\n",
       "      <td>47.772623</td>\n",
       "      <td>480.0</td>\n",
       "      <td>522.50</td>\n",
       "      <td>544.0</td>\n",
       "      <td>593.50</td>\n",
       "      <td>655.0</td>\n",
       "    </tr>\n",
       "    <tr>\n",
       "      <td>sat_total_18</td>\n",
       "      <td>51.0</td>\n",
       "      <td>1120.019608</td>\n",
       "      <td>94.155083</td>\n",
       "      <td>977.0</td>\n",
       "      <td>1057.50</td>\n",
       "      <td>1098.0</td>\n",
       "      <td>1204.00</td>\n",
       "      <td>1298.0</td>\n",
       "    </tr>\n",
       "    <tr>\n",
       "      <td>act_participation_18</td>\n",
       "      <td>51.0</td>\n",
       "      <td>61.725490</td>\n",
       "      <td>34.037085</td>\n",
       "      <td>7.0</td>\n",
       "      <td>28.50</td>\n",
       "      <td>66.0</td>\n",
       "      <td>100.00</td>\n",
       "      <td>100.0</td>\n",
       "    </tr>\n",
       "    <tr>\n",
       "      <td>act_composite_18</td>\n",
       "      <td>51.0</td>\n",
       "      <td>21.496078</td>\n",
       "      <td>2.111583</td>\n",
       "      <td>17.7</td>\n",
       "      <td>19.95</td>\n",
       "      <td>21.3</td>\n",
       "      <td>23.65</td>\n",
       "      <td>25.6</td>\n",
       "    </tr>\n",
       "  </tbody>\n",
       "</table>\n",
       "</div>"
      ],
      "text/plain": [
       "                      count         mean        std    min      25%     50%  \\\n",
       "sat_participation_17   51.0    39.803922  35.276632    2.0     4.00    38.0   \n",
       "sat_ebrw_17            51.0   569.117647  45.666901  482.0   533.50   559.0   \n",
       "sat_math_17            51.0   560.921569  52.740437  468.0   523.50   551.0   \n",
       "sat_total_17           51.0  1126.098039  92.494812  950.0  1055.50  1107.0   \n",
       "act_participation_17   51.0    65.254902  32.140842    8.0    31.00    69.0   \n",
       "act_english_17         51.0    20.931373   2.353677   16.3    19.00    20.7   \n",
       "act_math_17            51.0    21.182353   1.981989   18.0    19.40    20.9   \n",
       "act_reading_17         51.0    22.013725   2.067271   18.1    20.45    21.8   \n",
       "act_science_17         51.0    21.041176   3.182463    2.3    19.90    21.3   \n",
       "act_composite_17       51.0    21.519608   2.020695   17.8    19.80    21.4   \n",
       "sat_participation_18   51.0    45.745098  37.314256    2.0     4.50    52.0   \n",
       "sat_ebrw_18            51.0   563.686275  47.502627  480.0   534.50   552.0   \n",
       "sat_math_18            51.0   556.235294  47.772623  480.0   522.50   544.0   \n",
       "sat_total_18           51.0  1120.019608  94.155083  977.0  1057.50  1098.0   \n",
       "act_participation_18   51.0    61.725490  34.037085    7.0    28.50    66.0   \n",
       "act_composite_18       51.0    21.496078   2.111583   17.7    19.95    21.3   \n",
       "\n",
       "                          75%     max  \n",
       "sat_participation_17    66.00   100.0  \n",
       "sat_ebrw_17            613.00   644.0  \n",
       "sat_math_17            603.50   730.0  \n",
       "sat_total_17          1212.00  1295.0  \n",
       "act_participation_17   100.00   100.0  \n",
       "act_english_17          23.30    25.5  \n",
       "act_math_17             23.10    25.3  \n",
       "act_reading_17          24.15    26.0  \n",
       "act_science_17          22.75    24.9  \n",
       "act_composite_17        23.60    25.5  \n",
       "sat_participation_18    77.50   100.0  \n",
       "sat_ebrw_18            610.50   643.0  \n",
       "sat_math_18            593.50   655.0  \n",
       "sat_total_18          1204.00  1298.0  \n",
       "act_participation_18   100.00   100.0  \n",
       "act_composite_18        23.65    25.6  "
      ]
     },
     "execution_count": 1514,
     "metadata": {},
     "output_type": "execute_result"
    }
   ],
   "source": [
    "final_df.describe().T"
   ]
  },
  {
   "cell_type": "markdown",
   "metadata": {},
   "source": [
    "Looking at our summary statistics, we have the mean by feature to help us understand the center of our data; std (standard deviation) helps us to assess data spread. Min/Max output indicates the overall range for our data. Notice that the standard deviations here for participation across both ACT and SAT tests increase from 2017 to 2018. This is interesting an may point to the fact that state to state regulations have changed which are impacting participation rates to a greater degree. We'll need to conduct outside research to validate this idea."
   ]
  },
  {
   "cell_type": "code",
   "execution_count": 1515,
   "metadata": {},
   "outputs": [],
   "source": [
    "#Build a function to replicate np.std() functionality\n",
    "def standard_deviation(n,series,mean):\n",
    "    return(np.sqrt((1/(n-1))*sum((series-mean)**2)))"
   ]
  },
  {
   "cell_type": "markdown",
   "metadata": {},
   "source": [
    "We'll use our manually-created standard deviation formula to apply it across our relevant features. We'll assign the output of this to 'sd' and will accomplish this through dict comprehension.\n",
    "     \n",
    "*Example Output :* `{'ACT_Math': 120, 'ACT_Reading': 120, ...}`"
   ]
  },
  {
   "cell_type": "code",
   "execution_count": 1516,
   "metadata": {},
   "outputs": [],
   "source": [
    "#Dictionary comprehension to build a dictionary of standard deviations for each of our numeric columns\n",
    "sd = { category : standard_deviation(category_values['count'],final_df[category],category_values['mean'])\n",
    "      for category,category_values in final_df.describe().items()}"
   ]
  },
  {
   "cell_type": "markdown",
   "metadata": {},
   "source": [
    "Our standard_deviation manual values look to be in alignment with those via the describe() method so let's move forward with our analysis."
   ]
  },
  {
   "cell_type": "markdown",
   "metadata": {},
   "source": [
    "#### Deep Dive: SAT Participation Rates"
   ]
  },
  {
   "cell_type": "code",
   "execution_count": 1517,
   "metadata": {},
   "outputs": [
    {
     "data": {
      "text/html": [
       "<div>\n",
       "<style scoped>\n",
       "    .dataframe tbody tr th:only-of-type {\n",
       "        vertical-align: middle;\n",
       "    }\n",
       "\n",
       "    .dataframe tbody tr th {\n",
       "        vertical-align: top;\n",
       "    }\n",
       "\n",
       "    .dataframe thead th {\n",
       "        text-align: right;\n",
       "    }\n",
       "</style>\n",
       "<table border=\"1\" class=\"dataframe\">\n",
       "  <thead>\n",
       "    <tr style=\"text-align: right;\">\n",
       "      <th></th>\n",
       "      <th>min</th>\n",
       "      <th>mean</th>\n",
       "      <th>max</th>\n",
       "    </tr>\n",
       "  </thead>\n",
       "  <tbody>\n",
       "    <tr>\n",
       "      <td>sat_participation_17</td>\n",
       "      <td>2.0</td>\n",
       "      <td>39.803922</td>\n",
       "      <td>100.0</td>\n",
       "    </tr>\n",
       "    <tr>\n",
       "      <td>sat_participation_18</td>\n",
       "      <td>2.0</td>\n",
       "      <td>45.745098</td>\n",
       "      <td>100.0</td>\n",
       "    </tr>\n",
       "  </tbody>\n",
       "</table>\n",
       "</div>"
      ],
      "text/plain": [
       "                      min       mean    max\n",
       "sat_participation_17  2.0  39.803922  100.0\n",
       "sat_participation_18  2.0  45.745098  100.0"
      ]
     },
     "execution_count": 1517,
     "metadata": {},
     "output_type": "execute_result"
    }
   ],
   "source": [
    "#Let's get a general sense of participation rates for the SAT, by year\n",
    "final_df.describe().T.loc[['sat_participation_17','sat_participation_18'],['min', 'mean','max']]"
   ]
  },
  {
   "cell_type": "code",
   "execution_count": 1518,
   "metadata": {},
   "outputs": [
    {
     "data": {
      "text/plain": [
       "14.926108374384217"
      ]
     },
     "execution_count": 1518,
     "metadata": {},
     "output_type": "execute_result"
    }
   ],
   "source": [
    "#What is the YoY change in mean?\n",
    "(final_df.describe().T.loc['sat_participation_18','mean'] / final_df.describe().T.loc['sat_participation_17','mean'] - 1) * 100\n"
   ]
  },
  {
   "cell_type": "code",
   "execution_count": 1519,
   "metadata": {
    "scrolled": true
   },
   "outputs": [
    {
     "data": {
      "text/html": [
       "<div>\n",
       "<style scoped>\n",
       "    .dataframe tbody tr th:only-of-type {\n",
       "        vertical-align: middle;\n",
       "    }\n",
       "\n",
       "    .dataframe tbody tr th {\n",
       "        vertical-align: top;\n",
       "    }\n",
       "\n",
       "    .dataframe thead th {\n",
       "        text-align: right;\n",
       "    }\n",
       "</style>\n",
       "<table border=\"1\" class=\"dataframe\">\n",
       "  <thead>\n",
       "    <tr style=\"text-align: right;\">\n",
       "      <th></th>\n",
       "      <th>state</th>\n",
       "      <th>sat_participation_17</th>\n",
       "      <th>sat_total_17</th>\n",
       "    </tr>\n",
       "  </thead>\n",
       "  <tbody>\n",
       "    <tr>\n",
       "      <td>8</td>\n",
       "      <td>District of Columbia</td>\n",
       "      <td>100</td>\n",
       "      <td>950</td>\n",
       "    </tr>\n",
       "    <tr>\n",
       "      <td>22</td>\n",
       "      <td>Michigan</td>\n",
       "      <td>100</td>\n",
       "      <td>1005</td>\n",
       "    </tr>\n",
       "    <tr>\n",
       "      <td>6</td>\n",
       "      <td>Connecticut</td>\n",
       "      <td>100</td>\n",
       "      <td>1041</td>\n",
       "    </tr>\n",
       "    <tr>\n",
       "      <td>7</td>\n",
       "      <td>Delaware</td>\n",
       "      <td>100</td>\n",
       "      <td>996</td>\n",
       "    </tr>\n",
       "    <tr>\n",
       "      <td>29</td>\n",
       "      <td>New Hampshire</td>\n",
       "      <td>96</td>\n",
       "      <td>1052</td>\n",
       "    </tr>\n",
       "  </tbody>\n",
       "</table>\n",
       "</div>"
      ],
      "text/plain": [
       "                   state  sat_participation_17  sat_total_17\n",
       "8   District of Columbia                   100           950\n",
       "22              Michigan                   100          1005\n",
       "6            Connecticut                   100          1041\n",
       "7               Delaware                   100           996\n",
       "29         New Hampshire                    96          1052"
      ]
     },
     "execution_count": 1519,
     "metadata": {},
     "output_type": "execute_result"
    }
   ],
   "source": [
    "#Find SAT '17 participation rates and isolate for top states. Let's also inlude total scores\n",
    "final_df[['state','sat_participation_17', 'sat_total_17']].sort_values(by='sat_participation_17', ascending=False).head()"
   ]
  },
  {
   "cell_type": "code",
   "execution_count": 1520,
   "metadata": {
    "scrolled": true
   },
   "outputs": [
    {
     "data": {
      "text/html": [
       "<div>\n",
       "<style scoped>\n",
       "    .dataframe tbody tr th:only-of-type {\n",
       "        vertical-align: middle;\n",
       "    }\n",
       "\n",
       "    .dataframe tbody tr th {\n",
       "        vertical-align: top;\n",
       "    }\n",
       "\n",
       "    .dataframe thead th {\n",
       "        text-align: right;\n",
       "    }\n",
       "</style>\n",
       "<table border=\"1\" class=\"dataframe\">\n",
       "  <thead>\n",
       "    <tr style=\"text-align: right;\">\n",
       "      <th></th>\n",
       "      <th>state</th>\n",
       "      <th>sat_participation_18</th>\n",
       "      <th>sat_total_18</th>\n",
       "    </tr>\n",
       "  </thead>\n",
       "  <tbody>\n",
       "    <tr>\n",
       "      <td>5</td>\n",
       "      <td>Colorado</td>\n",
       "      <td>100</td>\n",
       "      <td>1025</td>\n",
       "    </tr>\n",
       "    <tr>\n",
       "      <td>6</td>\n",
       "      <td>Connecticut</td>\n",
       "      <td>100</td>\n",
       "      <td>1053</td>\n",
       "    </tr>\n",
       "    <tr>\n",
       "      <td>7</td>\n",
       "      <td>Delaware</td>\n",
       "      <td>100</td>\n",
       "      <td>998</td>\n",
       "    </tr>\n",
       "    <tr>\n",
       "      <td>22</td>\n",
       "      <td>Michigan</td>\n",
       "      <td>100</td>\n",
       "      <td>1011</td>\n",
       "    </tr>\n",
       "    <tr>\n",
       "      <td>12</td>\n",
       "      <td>Idaho</td>\n",
       "      <td>100</td>\n",
       "      <td>1001</td>\n",
       "    </tr>\n",
       "  </tbody>\n",
       "</table>\n",
       "</div>"
      ],
      "text/plain": [
       "          state  sat_participation_18  sat_total_18\n",
       "5      Colorado                   100          1025\n",
       "6   Connecticut                   100          1053\n",
       "7      Delaware                   100           998\n",
       "22     Michigan                   100          1011\n",
       "12        Idaho                   100          1001"
      ]
     },
     "execution_count": 1520,
     "metadata": {},
     "output_type": "execute_result"
    }
   ],
   "source": [
    "#Find SAT '18 participation rates and isolate for top states. Let's also inlude total scores\n",
    "final_df[['state','sat_participation_18', 'sat_total_18']].sort_values(by='sat_participation_18', ascending=False).head()"
   ]
  },
  {
   "cell_type": "code",
   "execution_count": 1521,
   "metadata": {
    "scrolled": true
   },
   "outputs": [
    {
     "data": {
      "text/html": [
       "<div>\n",
       "<style scoped>\n",
       "    .dataframe tbody tr th:only-of-type {\n",
       "        vertical-align: middle;\n",
       "    }\n",
       "\n",
       "    .dataframe tbody tr th {\n",
       "        vertical-align: top;\n",
       "    }\n",
       "\n",
       "    .dataframe thead th {\n",
       "        text-align: right;\n",
       "    }\n",
       "</style>\n",
       "<table border=\"1\" class=\"dataframe\">\n",
       "  <thead>\n",
       "    <tr style=\"text-align: right;\">\n",
       "      <th></th>\n",
       "      <th>state</th>\n",
       "      <th>sat_participation_17</th>\n",
       "      <th>sat_total_17</th>\n",
       "    </tr>\n",
       "  </thead>\n",
       "  <tbody>\n",
       "    <tr>\n",
       "      <td>34</td>\n",
       "      <td>North Dakota</td>\n",
       "      <td>2</td>\n",
       "      <td>1256</td>\n",
       "    </tr>\n",
       "    <tr>\n",
       "      <td>24</td>\n",
       "      <td>Mississippi</td>\n",
       "      <td>2</td>\n",
       "      <td>1242</td>\n",
       "    </tr>\n",
       "    <tr>\n",
       "      <td>15</td>\n",
       "      <td>Iowa</td>\n",
       "      <td>2</td>\n",
       "      <td>1275</td>\n",
       "    </tr>\n",
       "    <tr>\n",
       "      <td>25</td>\n",
       "      <td>Missouri</td>\n",
       "      <td>3</td>\n",
       "      <td>1271</td>\n",
       "    </tr>\n",
       "    <tr>\n",
       "      <td>44</td>\n",
       "      <td>Utah</td>\n",
       "      <td>3</td>\n",
       "      <td>1238</td>\n",
       "    </tr>\n",
       "    <tr>\n",
       "      <td>41</td>\n",
       "      <td>South Dakota</td>\n",
       "      <td>3</td>\n",
       "      <td>1216</td>\n",
       "    </tr>\n",
       "  </tbody>\n",
       "</table>\n",
       "</div>"
      ],
      "text/plain": [
       "           state  sat_participation_17  sat_total_17\n",
       "34  North Dakota                     2          1256\n",
       "24   Mississippi                     2          1242\n",
       "15          Iowa                     2          1275\n",
       "25      Missouri                     3          1271\n",
       "44          Utah                     3          1238\n",
       "41  South Dakota                     3          1216"
      ]
     },
     "execution_count": 1521,
     "metadata": {},
     "output_type": "execute_result"
    }
   ],
   "source": [
    "#Find SAT '17 participation rates and isolate for bottom states. Let's also inlude total scores\n",
    "final_df[['state','sat_participation_17', 'sat_total_17']].sort_values(by='sat_participation_17', ascending=True).head(6)"
   ]
  },
  {
   "cell_type": "code",
   "execution_count": 1522,
   "metadata": {
    "scrolled": true
   },
   "outputs": [
    {
     "data": {
      "text/html": [
       "<div>\n",
       "<style scoped>\n",
       "    .dataframe tbody tr th:only-of-type {\n",
       "        vertical-align: middle;\n",
       "    }\n",
       "\n",
       "    .dataframe tbody tr th {\n",
       "        vertical-align: top;\n",
       "    }\n",
       "\n",
       "    .dataframe thead th {\n",
       "        text-align: right;\n",
       "    }\n",
       "</style>\n",
       "<table border=\"1\" class=\"dataframe\">\n",
       "  <thead>\n",
       "    <tr style=\"text-align: right;\">\n",
       "      <th></th>\n",
       "      <th>state</th>\n",
       "      <th>sat_participation_18</th>\n",
       "      <th>sat_total_18</th>\n",
       "    </tr>\n",
       "  </thead>\n",
       "  <tbody>\n",
       "    <tr>\n",
       "      <td>34</td>\n",
       "      <td>North Dakota</td>\n",
       "      <td>2</td>\n",
       "      <td>1283</td>\n",
       "    </tr>\n",
       "    <tr>\n",
       "      <td>50</td>\n",
       "      <td>Wyoming</td>\n",
       "      <td>3</td>\n",
       "      <td>1257</td>\n",
       "    </tr>\n",
       "    <tr>\n",
       "      <td>41</td>\n",
       "      <td>South Dakota</td>\n",
       "      <td>3</td>\n",
       "      <td>1240</td>\n",
       "    </tr>\n",
       "    <tr>\n",
       "      <td>27</td>\n",
       "      <td>Nebraska</td>\n",
       "      <td>3</td>\n",
       "      <td>1252</td>\n",
       "    </tr>\n",
       "    <tr>\n",
       "      <td>49</td>\n",
       "      <td>Wisconsin</td>\n",
       "      <td>3</td>\n",
       "      <td>1294</td>\n",
       "    </tr>\n",
       "    <tr>\n",
       "      <td>24</td>\n",
       "      <td>Mississippi</td>\n",
       "      <td>3</td>\n",
       "      <td>1236</td>\n",
       "    </tr>\n",
       "  </tbody>\n",
       "</table>\n",
       "</div>"
      ],
      "text/plain": [
       "           state  sat_participation_18  sat_total_18\n",
       "34  North Dakota                     2          1283\n",
       "50       Wyoming                     3          1257\n",
       "41  South Dakota                     3          1240\n",
       "27      Nebraska                     3          1252\n",
       "49     Wisconsin                     3          1294\n",
       "24   Mississippi                     3          1236"
      ]
     },
     "execution_count": 1522,
     "metadata": {},
     "output_type": "execute_result"
    }
   ],
   "source": [
    "#Find SAT '18 participation rates and isolate for bottom states. Let's also inlude total scores\n",
    "final_df[['state','sat_participation_18', 'sat_total_18']].sort_values(by='sat_participation_18', ascending=True).head(6)"
   ]
  },
  {
   "cell_type": "markdown",
   "metadata": {},
   "source": [
    "Findings:\n",
    " - Looking at SAT participation rates for 2017 and 2018, we can see that average participation did increase YoY (from ~40% to 46% respectively). **Connecticut, Delware, District of Columbia and Michigan** are among some of the top states by participation. Conversely, **the Dakotas and Mississipi** are among some of states that show the lowest SAT participation rates.  \n",
    " - This is interesting because it suggests a larger trend of Great Plains states showing low participation rates, and Midwest/East Coast states having strong participation rates. One hypothesis for this trend is that high school participation rates / college entry rates are lower in the Great Plains states compared to national averages. \n",
    " - Also interesting is the fact that scores appear to be inversely correlated to participation rates"
   ]
  },
  {
   "cell_type": "markdown",
   "metadata": {},
   "source": [
    "#### Deep Dive: ACT Participation Rates"
   ]
  },
  {
   "cell_type": "code",
   "execution_count": 1523,
   "metadata": {},
   "outputs": [
    {
     "data": {
      "text/html": [
       "<div>\n",
       "<style scoped>\n",
       "    .dataframe tbody tr th:only-of-type {\n",
       "        vertical-align: middle;\n",
       "    }\n",
       "\n",
       "    .dataframe tbody tr th {\n",
       "        vertical-align: top;\n",
       "    }\n",
       "\n",
       "    .dataframe thead th {\n",
       "        text-align: right;\n",
       "    }\n",
       "</style>\n",
       "<table border=\"1\" class=\"dataframe\">\n",
       "  <thead>\n",
       "    <tr style=\"text-align: right;\">\n",
       "      <th></th>\n",
       "      <th>min</th>\n",
       "      <th>mean</th>\n",
       "      <th>max</th>\n",
       "    </tr>\n",
       "  </thead>\n",
       "  <tbody>\n",
       "    <tr>\n",
       "      <td>act_composite_17</td>\n",
       "      <td>17.8</td>\n",
       "      <td>21.519608</td>\n",
       "      <td>25.5</td>\n",
       "    </tr>\n",
       "    <tr>\n",
       "      <td>act_composite_18</td>\n",
       "      <td>17.7</td>\n",
       "      <td>21.496078</td>\n",
       "      <td>25.6</td>\n",
       "    </tr>\n",
       "  </tbody>\n",
       "</table>\n",
       "</div>"
      ],
      "text/plain": [
       "                   min       mean   max\n",
       "act_composite_17  17.8  21.519608  25.5\n",
       "act_composite_18  17.7  21.496078  25.6"
      ]
     },
     "execution_count": 1523,
     "metadata": {},
     "output_type": "execute_result"
    }
   ],
   "source": [
    "#Let's get a general sense of participation rates for the ACT, by year\n",
    "final_df.describe().T.loc[['act_composite_17','act_composite_18'],['min', 'mean','max']]"
   ]
  },
  {
   "cell_type": "code",
   "execution_count": 1524,
   "metadata": {},
   "outputs": [
    {
     "data": {
      "text/plain": [
       "-0.10933940774487949"
      ]
     },
     "execution_count": 1524,
     "metadata": {},
     "output_type": "execute_result"
    }
   ],
   "source": [
    "#What is the YoY change in mean?\n",
    "(final_df.describe().T.loc['act_composite_18','mean'] / final_df.describe().T.loc['act_composite_17','mean'] - 1) * 100\n"
   ]
  },
  {
   "cell_type": "code",
   "execution_count": 1525,
   "metadata": {
    "scrolled": false
   },
   "outputs": [
    {
     "data": {
      "text/html": [
       "<div>\n",
       "<style scoped>\n",
       "    .dataframe tbody tr th:only-of-type {\n",
       "        vertical-align: middle;\n",
       "    }\n",
       "\n",
       "    .dataframe tbody tr th {\n",
       "        vertical-align: top;\n",
       "    }\n",
       "\n",
       "    .dataframe thead th {\n",
       "        text-align: right;\n",
       "    }\n",
       "</style>\n",
       "<table border=\"1\" class=\"dataframe\">\n",
       "  <thead>\n",
       "    <tr style=\"text-align: right;\">\n",
       "      <th></th>\n",
       "      <th>state</th>\n",
       "      <th>act_participation_17</th>\n",
       "    </tr>\n",
       "  </thead>\n",
       "  <tbody>\n",
       "    <tr>\n",
       "      <td>0</td>\n",
       "      <td>Alabama</td>\n",
       "      <td>100</td>\n",
       "    </tr>\n",
       "    <tr>\n",
       "      <td>17</td>\n",
       "      <td>Kentucky</td>\n",
       "      <td>100</td>\n",
       "    </tr>\n",
       "    <tr>\n",
       "      <td>49</td>\n",
       "      <td>Wisconsin</td>\n",
       "      <td>100</td>\n",
       "    </tr>\n",
       "    <tr>\n",
       "      <td>44</td>\n",
       "      <td>Utah</td>\n",
       "      <td>100</td>\n",
       "    </tr>\n",
       "    <tr>\n",
       "      <td>42</td>\n",
       "      <td>Tennessee</td>\n",
       "      <td>100</td>\n",
       "    </tr>\n",
       "    <tr>\n",
       "      <td>40</td>\n",
       "      <td>South Carolina</td>\n",
       "      <td>100</td>\n",
       "    </tr>\n",
       "    <tr>\n",
       "      <td>36</td>\n",
       "      <td>Oklahoma</td>\n",
       "      <td>100</td>\n",
       "    </tr>\n",
       "    <tr>\n",
       "      <td>33</td>\n",
       "      <td>North Carolina</td>\n",
       "      <td>100</td>\n",
       "    </tr>\n",
       "    <tr>\n",
       "      <td>28</td>\n",
       "      <td>Nevada</td>\n",
       "      <td>100</td>\n",
       "    </tr>\n",
       "    <tr>\n",
       "      <td>26</td>\n",
       "      <td>Montana</td>\n",
       "      <td>100</td>\n",
       "    </tr>\n",
       "  </tbody>\n",
       "</table>\n",
       "</div>"
      ],
      "text/plain": [
       "             state  act_participation_17\n",
       "0          Alabama                   100\n",
       "17        Kentucky                   100\n",
       "49       Wisconsin                   100\n",
       "44            Utah                   100\n",
       "42       Tennessee                   100\n",
       "40  South Carolina                   100\n",
       "36        Oklahoma                   100\n",
       "33  North Carolina                   100\n",
       "28          Nevada                   100\n",
       "26         Montana                   100"
      ]
     },
     "execution_count": 1525,
     "metadata": {},
     "output_type": "execute_result"
    }
   ],
   "source": [
    "#Find ACT '17 participation rates and isolate for top states\n",
    "final_df[['state','act_participation_17']].sort_values(by='act_participation_17', ascending=False).head(10)"
   ]
  },
  {
   "cell_type": "code",
   "execution_count": 1526,
   "metadata": {
    "scrolled": true
   },
   "outputs": [
    {
     "data": {
      "text/html": [
       "<div>\n",
       "<style scoped>\n",
       "    .dataframe tbody tr th:only-of-type {\n",
       "        vertical-align: middle;\n",
       "    }\n",
       "\n",
       "    .dataframe tbody tr th {\n",
       "        vertical-align: top;\n",
       "    }\n",
       "\n",
       "    .dataframe thead th {\n",
       "        text-align: right;\n",
       "    }\n",
       "</style>\n",
       "<table border=\"1\" class=\"dataframe\">\n",
       "  <thead>\n",
       "    <tr style=\"text-align: right;\">\n",
       "      <th></th>\n",
       "      <th>state</th>\n",
       "      <th>act_participation_18</th>\n",
       "    </tr>\n",
       "  </thead>\n",
       "  <tbody>\n",
       "    <tr>\n",
       "      <td>0</td>\n",
       "      <td>Alabama</td>\n",
       "      <td>100</td>\n",
       "    </tr>\n",
       "    <tr>\n",
       "      <td>17</td>\n",
       "      <td>Kentucky</td>\n",
       "      <td>100</td>\n",
       "    </tr>\n",
       "    <tr>\n",
       "      <td>49</td>\n",
       "      <td>Wisconsin</td>\n",
       "      <td>100</td>\n",
       "    </tr>\n",
       "    <tr>\n",
       "      <td>44</td>\n",
       "      <td>Utah</td>\n",
       "      <td>100</td>\n",
       "    </tr>\n",
       "    <tr>\n",
       "      <td>42</td>\n",
       "      <td>Tennessee</td>\n",
       "      <td>100</td>\n",
       "    </tr>\n",
       "    <tr>\n",
       "      <td>40</td>\n",
       "      <td>South Carolina</td>\n",
       "      <td>100</td>\n",
       "    </tr>\n",
       "    <tr>\n",
       "      <td>36</td>\n",
       "      <td>Oklahoma</td>\n",
       "      <td>100</td>\n",
       "    </tr>\n",
       "    <tr>\n",
       "      <td>35</td>\n",
       "      <td>Ohio</td>\n",
       "      <td>100</td>\n",
       "    </tr>\n",
       "    <tr>\n",
       "      <td>33</td>\n",
       "      <td>North Carolina</td>\n",
       "      <td>100</td>\n",
       "    </tr>\n",
       "    <tr>\n",
       "      <td>28</td>\n",
       "      <td>Nevada</td>\n",
       "      <td>100</td>\n",
       "    </tr>\n",
       "  </tbody>\n",
       "</table>\n",
       "</div>"
      ],
      "text/plain": [
       "             state  act_participation_18\n",
       "0          Alabama                   100\n",
       "17        Kentucky                   100\n",
       "49       Wisconsin                   100\n",
       "44            Utah                   100\n",
       "42       Tennessee                   100\n",
       "40  South Carolina                   100\n",
       "36        Oklahoma                   100\n",
       "35            Ohio                   100\n",
       "33  North Carolina                   100\n",
       "28          Nevada                   100"
      ]
     },
     "execution_count": 1526,
     "metadata": {},
     "output_type": "execute_result"
    }
   ],
   "source": [
    "#Find ACT '18 participation rates and isolate for top states\n",
    "final_df[['state','act_participation_18']].sort_values(by='act_participation_18', ascending=False).head(10)"
   ]
  },
  {
   "cell_type": "code",
   "execution_count": 1527,
   "metadata": {
    "scrolled": true
   },
   "outputs": [
    {
     "data": {
      "text/html": [
       "<div>\n",
       "<style scoped>\n",
       "    .dataframe tbody tr th:only-of-type {\n",
       "        vertical-align: middle;\n",
       "    }\n",
       "\n",
       "    .dataframe tbody tr th {\n",
       "        vertical-align: top;\n",
       "    }\n",
       "\n",
       "    .dataframe thead th {\n",
       "        text-align: right;\n",
       "    }\n",
       "</style>\n",
       "<table border=\"1\" class=\"dataframe\">\n",
       "  <thead>\n",
       "    <tr style=\"text-align: right;\">\n",
       "      <th></th>\n",
       "      <th>state</th>\n",
       "      <th>act_participation_17</th>\n",
       "    </tr>\n",
       "  </thead>\n",
       "  <tbody>\n",
       "    <tr>\n",
       "      <td>19</td>\n",
       "      <td>Maine</td>\n",
       "      <td>8</td>\n",
       "    </tr>\n",
       "    <tr>\n",
       "      <td>29</td>\n",
       "      <td>New Hampshire</td>\n",
       "      <td>18</td>\n",
       "    </tr>\n",
       "    <tr>\n",
       "      <td>7</td>\n",
       "      <td>Delaware</td>\n",
       "      <td>18</td>\n",
       "    </tr>\n",
       "    <tr>\n",
       "      <td>39</td>\n",
       "      <td>Rhode Island</td>\n",
       "      <td>21</td>\n",
       "    </tr>\n",
       "    <tr>\n",
       "      <td>38</td>\n",
       "      <td>Pennsylvania</td>\n",
       "      <td>23</td>\n",
       "    </tr>\n",
       "  </tbody>\n",
       "</table>\n",
       "</div>"
      ],
      "text/plain": [
       "            state  act_participation_17\n",
       "19          Maine                     8\n",
       "29  New Hampshire                    18\n",
       "7        Delaware                    18\n",
       "39   Rhode Island                    21\n",
       "38   Pennsylvania                    23"
      ]
     },
     "execution_count": 1527,
     "metadata": {},
     "output_type": "execute_result"
    }
   ],
   "source": [
    "#Find ACT '17 participation rates and isolate for bottom states\n",
    "final_df[['state','act_participation_17']].sort_values(by='act_participation_17', ascending=True).head(5)"
   ]
  },
  {
   "cell_type": "code",
   "execution_count": 1528,
   "metadata": {
    "scrolled": true
   },
   "outputs": [
    {
     "data": {
      "text/html": [
       "<div>\n",
       "<style scoped>\n",
       "    .dataframe tbody tr th:only-of-type {\n",
       "        vertical-align: middle;\n",
       "    }\n",
       "\n",
       "    .dataframe tbody tr th {\n",
       "        vertical-align: top;\n",
       "    }\n",
       "\n",
       "    .dataframe thead th {\n",
       "        text-align: right;\n",
       "    }\n",
       "</style>\n",
       "<table border=\"1\" class=\"dataframe\">\n",
       "  <thead>\n",
       "    <tr style=\"text-align: right;\">\n",
       "      <th></th>\n",
       "      <th>state</th>\n",
       "      <th>act_participation_18</th>\n",
       "    </tr>\n",
       "  </thead>\n",
       "  <tbody>\n",
       "    <tr>\n",
       "      <td>19</td>\n",
       "      <td>Maine</td>\n",
       "      <td>7</td>\n",
       "    </tr>\n",
       "    <tr>\n",
       "      <td>39</td>\n",
       "      <td>Rhode Island</td>\n",
       "      <td>15</td>\n",
       "    </tr>\n",
       "    <tr>\n",
       "      <td>29</td>\n",
       "      <td>New Hampshire</td>\n",
       "      <td>16</td>\n",
       "    </tr>\n",
       "    <tr>\n",
       "      <td>7</td>\n",
       "      <td>Delaware</td>\n",
       "      <td>17</td>\n",
       "    </tr>\n",
       "    <tr>\n",
       "      <td>38</td>\n",
       "      <td>Pennsylvania</td>\n",
       "      <td>20</td>\n",
       "    </tr>\n",
       "  </tbody>\n",
       "</table>\n",
       "</div>"
      ],
      "text/plain": [
       "            state  act_participation_18\n",
       "19          Maine                     7\n",
       "39   Rhode Island                    15\n",
       "29  New Hampshire                    16\n",
       "7        Delaware                    17\n",
       "38   Pennsylvania                    20"
      ]
     },
     "execution_count": 1528,
     "metadata": {},
     "output_type": "execute_result"
    }
   ],
   "source": [
    "#Find ACT '18 participation rates and isolate for bottom states\n",
    "final_df[['state','act_participation_18']].sort_values(by='act_participation_18', ascending=True).head(5)"
   ]
  },
  {
   "cell_type": "markdown",
   "metadata": {},
   "source": [
    "Findings:\n",
    " - Looking at overall participation rates for the ACT, in contrast to YoY SAT trends, the test has seen a decline participation rates (dipping from 65% to 62%). However, overall participation for this test remains firmly higher on average than the SAT (~60% compared to 45%). \n",
    " - State level ACT participation data exhibits a couple of interesting features. First, there are a **high number of 100% ACT participation states**-- this may suggest that there are state level requirements/regulations in place for the test, or that colleges in these states require the ACT. \n",
    " - Second, the geographical spread of states exhibiting high participation is significant (**Alabama, Ohio, Nevada, for example**), while low participation states appear to be somewhat concentrated in the East Coast / New England area (**Maine, New Hampshire, Delawara, Rhode Island**). Maine, in particular, shows the lowest participation rate here. This is likely a product of state to state requirements as it relates to testing regimens."
   ]
  },
  {
   "cell_type": "markdown",
   "metadata": {},
   "source": [
    "#### States by Highest SAT Total"
   ]
  },
  {
   "cell_type": "code",
   "execution_count": 1529,
   "metadata": {},
   "outputs": [
    {
     "data": {
      "text/html": [
       "<div>\n",
       "<style scoped>\n",
       "    .dataframe tbody tr th:only-of-type {\n",
       "        vertical-align: middle;\n",
       "    }\n",
       "\n",
       "    .dataframe tbody tr th {\n",
       "        vertical-align: top;\n",
       "    }\n",
       "\n",
       "    .dataframe thead th {\n",
       "        text-align: right;\n",
       "    }\n",
       "</style>\n",
       "<table border=\"1\" class=\"dataframe\">\n",
       "  <thead>\n",
       "    <tr style=\"text-align: right;\">\n",
       "      <th></th>\n",
       "      <th>state</th>\n",
       "      <th>sat_total_17</th>\n",
       "    </tr>\n",
       "  </thead>\n",
       "  <tbody>\n",
       "    <tr>\n",
       "      <td>23</td>\n",
       "      <td>Minnesota</td>\n",
       "      <td>1295</td>\n",
       "    </tr>\n",
       "    <tr>\n",
       "      <td>49</td>\n",
       "      <td>Wisconsin</td>\n",
       "      <td>1291</td>\n",
       "    </tr>\n",
       "    <tr>\n",
       "      <td>15</td>\n",
       "      <td>Iowa</td>\n",
       "      <td>1275</td>\n",
       "    </tr>\n",
       "    <tr>\n",
       "      <td>25</td>\n",
       "      <td>Missouri</td>\n",
       "      <td>1271</td>\n",
       "    </tr>\n",
       "    <tr>\n",
       "      <td>16</td>\n",
       "      <td>Kansas</td>\n",
       "      <td>1260</td>\n",
       "    </tr>\n",
       "  </tbody>\n",
       "</table>\n",
       "</div>"
      ],
      "text/plain": [
       "        state  sat_total_17\n",
       "23  Minnesota          1295\n",
       "49  Wisconsin          1291\n",
       "15       Iowa          1275\n",
       "25   Missouri          1271\n",
       "16     Kansas          1260"
      ]
     },
     "execution_count": 1529,
     "metadata": {},
     "output_type": "execute_result"
    }
   ],
   "source": [
    "#Find SAT '17 Total values and isolate for top states\n",
    "final_df[['state','sat_total_17']].sort_values(by='sat_total_17', ascending=False).head()"
   ]
  },
  {
   "cell_type": "code",
   "execution_count": 1530,
   "metadata": {},
   "outputs": [
    {
     "data": {
      "text/html": [
       "<div>\n",
       "<style scoped>\n",
       "    .dataframe tbody tr th:only-of-type {\n",
       "        vertical-align: middle;\n",
       "    }\n",
       "\n",
       "    .dataframe tbody tr th {\n",
       "        vertical-align: top;\n",
       "    }\n",
       "\n",
       "    .dataframe thead th {\n",
       "        text-align: right;\n",
       "    }\n",
       "</style>\n",
       "<table border=\"1\" class=\"dataframe\">\n",
       "  <thead>\n",
       "    <tr style=\"text-align: right;\">\n",
       "      <th></th>\n",
       "      <th>state</th>\n",
       "      <th>sat_total_18</th>\n",
       "    </tr>\n",
       "  </thead>\n",
       "  <tbody>\n",
       "    <tr>\n",
       "      <td>23</td>\n",
       "      <td>Minnesota</td>\n",
       "      <td>1298</td>\n",
       "    </tr>\n",
       "    <tr>\n",
       "      <td>49</td>\n",
       "      <td>Wisconsin</td>\n",
       "      <td>1294</td>\n",
       "    </tr>\n",
       "    <tr>\n",
       "      <td>34</td>\n",
       "      <td>North Dakota</td>\n",
       "      <td>1283</td>\n",
       "    </tr>\n",
       "    <tr>\n",
       "      <td>15</td>\n",
       "      <td>Iowa</td>\n",
       "      <td>1265</td>\n",
       "    </tr>\n",
       "    <tr>\n",
       "      <td>16</td>\n",
       "      <td>Kansas</td>\n",
       "      <td>1265</td>\n",
       "    </tr>\n",
       "  </tbody>\n",
       "</table>\n",
       "</div>"
      ],
      "text/plain": [
       "           state  sat_total_18\n",
       "23     Minnesota          1298\n",
       "49     Wisconsin          1294\n",
       "34  North Dakota          1283\n",
       "15          Iowa          1265\n",
       "16        Kansas          1265"
      ]
     },
     "execution_count": 1530,
     "metadata": {},
     "output_type": "execute_result"
    }
   ],
   "source": [
    "#Find SAT '18 Total values and isolate for top states\n",
    "final_df[['state','sat_total_18']].sort_values(by='sat_total_18', ascending=False).head()"
   ]
  },
  {
   "cell_type": "markdown",
   "metadata": {},
   "source": [
    "#### States by Highest ACT Total"
   ]
  },
  {
   "cell_type": "code",
   "execution_count": 1531,
   "metadata": {},
   "outputs": [
    {
     "data": {
      "text/html": [
       "<div>\n",
       "<style scoped>\n",
       "    .dataframe tbody tr th:only-of-type {\n",
       "        vertical-align: middle;\n",
       "    }\n",
       "\n",
       "    .dataframe tbody tr th {\n",
       "        vertical-align: top;\n",
       "    }\n",
       "\n",
       "    .dataframe thead th {\n",
       "        text-align: right;\n",
       "    }\n",
       "</style>\n",
       "<table border=\"1\" class=\"dataframe\">\n",
       "  <thead>\n",
       "    <tr style=\"text-align: right;\">\n",
       "      <th></th>\n",
       "      <th>state</th>\n",
       "      <th>act_composite_17</th>\n",
       "    </tr>\n",
       "  </thead>\n",
       "  <tbody>\n",
       "    <tr>\n",
       "      <td>29</td>\n",
       "      <td>New Hampshire</td>\n",
       "      <td>25.5</td>\n",
       "    </tr>\n",
       "    <tr>\n",
       "      <td>21</td>\n",
       "      <td>Massachusetts</td>\n",
       "      <td>25.4</td>\n",
       "    </tr>\n",
       "    <tr>\n",
       "      <td>6</td>\n",
       "      <td>Connecticut</td>\n",
       "      <td>25.2</td>\n",
       "    </tr>\n",
       "    <tr>\n",
       "      <td>19</td>\n",
       "      <td>Maine</td>\n",
       "      <td>24.3</td>\n",
       "    </tr>\n",
       "    <tr>\n",
       "      <td>8</td>\n",
       "      <td>District of Columbia</td>\n",
       "      <td>24.2</td>\n",
       "    </tr>\n",
       "  </tbody>\n",
       "</table>\n",
       "</div>"
      ],
      "text/plain": [
       "                   state  act_composite_17\n",
       "29         New Hampshire              25.5\n",
       "21         Massachusetts              25.4\n",
       "6            Connecticut              25.2\n",
       "19                 Maine              24.3\n",
       "8   District of Columbia              24.2"
      ]
     },
     "execution_count": 1531,
     "metadata": {},
     "output_type": "execute_result"
    }
   ],
   "source": [
    "#Find ACT '17 Total values and isolate for top states\n",
    "final_df[['state','act_composite_17']].sort_values(by='act_composite_17', ascending=False).head()"
   ]
  },
  {
   "cell_type": "code",
   "execution_count": 1532,
   "metadata": {},
   "outputs": [
    {
     "data": {
      "text/html": [
       "<div>\n",
       "<style scoped>\n",
       "    .dataframe tbody tr th:only-of-type {\n",
       "        vertical-align: middle;\n",
       "    }\n",
       "\n",
       "    .dataframe tbody tr th {\n",
       "        vertical-align: top;\n",
       "    }\n",
       "\n",
       "    .dataframe thead th {\n",
       "        text-align: right;\n",
       "    }\n",
       "</style>\n",
       "<table border=\"1\" class=\"dataframe\">\n",
       "  <thead>\n",
       "    <tr style=\"text-align: right;\">\n",
       "      <th></th>\n",
       "      <th>state</th>\n",
       "      <th>act_composite_18</th>\n",
       "    </tr>\n",
       "  </thead>\n",
       "  <tbody>\n",
       "    <tr>\n",
       "      <td>6</td>\n",
       "      <td>Connecticut</td>\n",
       "      <td>25.6</td>\n",
       "    </tr>\n",
       "    <tr>\n",
       "      <td>21</td>\n",
       "      <td>Massachusetts</td>\n",
       "      <td>25.5</td>\n",
       "    </tr>\n",
       "    <tr>\n",
       "      <td>29</td>\n",
       "      <td>New Hampshire</td>\n",
       "      <td>25.1</td>\n",
       "    </tr>\n",
       "    <tr>\n",
       "      <td>32</td>\n",
       "      <td>New York</td>\n",
       "      <td>24.5</td>\n",
       "    </tr>\n",
       "    <tr>\n",
       "      <td>22</td>\n",
       "      <td>Michigan</td>\n",
       "      <td>24.2</td>\n",
       "    </tr>\n",
       "  </tbody>\n",
       "</table>\n",
       "</div>"
      ],
      "text/plain": [
       "            state  act_composite_18\n",
       "6     Connecticut              25.6\n",
       "21  Massachusetts              25.5\n",
       "29  New Hampshire              25.1\n",
       "32       New York              24.5\n",
       "22       Michigan              24.2"
      ]
     },
     "execution_count": 1532,
     "metadata": {},
     "output_type": "execute_result"
    }
   ],
   "source": [
    "#Find ACT '18 Total values and isolate for top states\n",
    "final_df[['state','act_composite_18']].sort_values(by='act_composite_18', ascending=False).head()"
   ]
  },
  {
   "cell_type": "markdown",
   "metadata": {},
   "source": [
    "Findings\n",
    "\n",
    " - In looking at top SAT Total and ACT composite scores at the geo level, we notice that a couple of interesting trends emerge which are inconsistent with trends we've seen so far. Top Total SAT score states are predominately in the Great Plains / Midwest (**Minnesota, Wisconsin, Iowa, Kansas**), while Top ACT score states are in the **New England Area**. This runs counter to participation rates. \n",
    " - This suggests that users taking these tests in states that don't require the test are **college-bound, high-performing** students who are taking these tests to bolster their applications. In other words, **there should be a *negative correlation between participation rate and total/composite score.**"
   ]
  },
  {
   "cell_type": "markdown",
   "metadata": {},
   "source": [
    "#### States Exhibiting Major Swings in SAT Participation"
   ]
  },
  {
   "cell_type": "code",
   "execution_count": 1629,
   "metadata": {},
   "outputs": [
    {
     "data": {
      "text/html": [
       "<div>\n",
       "<style scoped>\n",
       "    .dataframe tbody tr th:only-of-type {\n",
       "        vertical-align: middle;\n",
       "    }\n",
       "\n",
       "    .dataframe tbody tr th {\n",
       "        vertical-align: top;\n",
       "    }\n",
       "\n",
       "    .dataframe thead th {\n",
       "        text-align: right;\n",
       "    }\n",
       "</style>\n",
       "<table border=\"1\" class=\"dataframe\">\n",
       "  <thead>\n",
       "    <tr style=\"text-align: right;\">\n",
       "      <th></th>\n",
       "      <th>state</th>\n",
       "      <th>sat_participation_17</th>\n",
       "      <th>sat_participation_18</th>\n",
       "      <th>sat_participation_change</th>\n",
       "    </tr>\n",
       "  </thead>\n",
       "  <tbody>\n",
       "    <tr>\n",
       "      <td>13</td>\n",
       "      <td>Illinois</td>\n",
       "      <td>9</td>\n",
       "      <td>99</td>\n",
       "      <td>90</td>\n",
       "    </tr>\n",
       "    <tr>\n",
       "      <td>5</td>\n",
       "      <td>Colorado</td>\n",
       "      <td>11</td>\n",
       "      <td>100</td>\n",
       "      <td>89</td>\n",
       "    </tr>\n",
       "    <tr>\n",
       "      <td>39</td>\n",
       "      <td>Rhode Island</td>\n",
       "      <td>71</td>\n",
       "      <td>97</td>\n",
       "      <td>26</td>\n",
       "    </tr>\n",
       "    <tr>\n",
       "      <td>48</td>\n",
       "      <td>West Virginia</td>\n",
       "      <td>14</td>\n",
       "      <td>28</td>\n",
       "      <td>14</td>\n",
       "    </tr>\n",
       "    <tr>\n",
       "      <td>30</td>\n",
       "      <td>New Jersey</td>\n",
       "      <td>70</td>\n",
       "      <td>82</td>\n",
       "      <td>12</td>\n",
       "    </tr>\n",
       "    <tr>\n",
       "      <td>32</td>\n",
       "      <td>New York</td>\n",
       "      <td>67</td>\n",
       "      <td>79</td>\n",
       "      <td>12</td>\n",
       "    </tr>\n",
       "    <tr>\n",
       "      <td>10</td>\n",
       "      <td>Georgia</td>\n",
       "      <td>61</td>\n",
       "      <td>70</td>\n",
       "      <td>9</td>\n",
       "    </tr>\n",
       "    <tr>\n",
       "      <td>12</td>\n",
       "      <td>Idaho</td>\n",
       "      <td>93</td>\n",
       "      <td>100</td>\n",
       "      <td>7</td>\n",
       "    </tr>\n",
       "    <tr>\n",
       "      <td>20</td>\n",
       "      <td>Maryland</td>\n",
       "      <td>69</td>\n",
       "      <td>76</td>\n",
       "      <td>7</td>\n",
       "    </tr>\n",
       "    <tr>\n",
       "      <td>4</td>\n",
       "      <td>California</td>\n",
       "      <td>53</td>\n",
       "      <td>60</td>\n",
       "      <td>7</td>\n",
       "    </tr>\n",
       "    <tr>\n",
       "      <td>35</td>\n",
       "      <td>Ohio</td>\n",
       "      <td>12</td>\n",
       "      <td>18</td>\n",
       "      <td>6</td>\n",
       "    </tr>\n",
       "    <tr>\n",
       "      <td>40</td>\n",
       "      <td>South Carolina</td>\n",
       "      <td>50</td>\n",
       "      <td>55</td>\n",
       "      <td>5</td>\n",
       "    </tr>\n",
       "    <tr>\n",
       "      <td>47</td>\n",
       "      <td>Washington</td>\n",
       "      <td>64</td>\n",
       "      <td>69</td>\n",
       "      <td>5</td>\n",
       "    </tr>\n",
       "    <tr>\n",
       "      <td>38</td>\n",
       "      <td>Pennsylvania</td>\n",
       "      <td>65</td>\n",
       "      <td>70</td>\n",
       "      <td>5</td>\n",
       "    </tr>\n",
       "    <tr>\n",
       "      <td>37</td>\n",
       "      <td>Oregon</td>\n",
       "      <td>43</td>\n",
       "      <td>48</td>\n",
       "      <td>5</td>\n",
       "    </tr>\n",
       "    <tr>\n",
       "      <td>1</td>\n",
       "      <td>Alaska</td>\n",
       "      <td>38</td>\n",
       "      <td>43</td>\n",
       "      <td>5</td>\n",
       "    </tr>\n",
       "    <tr>\n",
       "      <td>31</td>\n",
       "      <td>New Mexico</td>\n",
       "      <td>11</td>\n",
       "      <td>16</td>\n",
       "      <td>5</td>\n",
       "    </tr>\n",
       "    <tr>\n",
       "      <td>43</td>\n",
       "      <td>Texas</td>\n",
       "      <td>62</td>\n",
       "      <td>66</td>\n",
       "      <td>4</td>\n",
       "    </tr>\n",
       "    <tr>\n",
       "      <td>45</td>\n",
       "      <td>Vermont</td>\n",
       "      <td>60</td>\n",
       "      <td>64</td>\n",
       "      <td>4</td>\n",
       "    </tr>\n",
       "    <tr>\n",
       "      <td>19</td>\n",
       "      <td>Maine</td>\n",
       "      <td>95</td>\n",
       "      <td>99</td>\n",
       "      <td>4</td>\n",
       "    </tr>\n",
       "    <tr>\n",
       "      <td>21</td>\n",
       "      <td>Massachusetts</td>\n",
       "      <td>76</td>\n",
       "      <td>80</td>\n",
       "      <td>4</td>\n",
       "    </tr>\n",
       "    <tr>\n",
       "      <td>33</td>\n",
       "      <td>North Carolina</td>\n",
       "      <td>49</td>\n",
       "      <td>52</td>\n",
       "      <td>3</td>\n",
       "    </tr>\n",
       "    <tr>\n",
       "      <td>46</td>\n",
       "      <td>Virginia</td>\n",
       "      <td>65</td>\n",
       "      <td>68</td>\n",
       "      <td>3</td>\n",
       "    </tr>\n",
       "  </tbody>\n",
       "</table>\n",
       "</div>"
      ],
      "text/plain": [
       "             state  sat_participation_17  sat_participation_18  \\\n",
       "13        Illinois                     9                    99   \n",
       "5         Colorado                    11                   100   \n",
       "39    Rhode Island                    71                    97   \n",
       "48   West Virginia                    14                    28   \n",
       "30      New Jersey                    70                    82   \n",
       "32        New York                    67                    79   \n",
       "10         Georgia                    61                    70   \n",
       "12           Idaho                    93                   100   \n",
       "20        Maryland                    69                    76   \n",
       "4       California                    53                    60   \n",
       "35            Ohio                    12                    18   \n",
       "40  South Carolina                    50                    55   \n",
       "47      Washington                    64                    69   \n",
       "38    Pennsylvania                    65                    70   \n",
       "37          Oregon                    43                    48   \n",
       "1           Alaska                    38                    43   \n",
       "31      New Mexico                    11                    16   \n",
       "43           Texas                    62                    66   \n",
       "45         Vermont                    60                    64   \n",
       "19           Maine                    95                    99   \n",
       "21   Massachusetts                    76                    80   \n",
       "33  North Carolina                    49                    52   \n",
       "46        Virginia                    65                    68   \n",
       "\n",
       "    sat_participation_change  \n",
       "13                        90  \n",
       "5                         89  \n",
       "39                        26  \n",
       "48                        14  \n",
       "30                        12  \n",
       "32                        12  \n",
       "10                         9  \n",
       "12                         7  \n",
       "20                         7  \n",
       "4                          7  \n",
       "35                         6  \n",
       "40                         5  \n",
       "47                         5  \n",
       "38                         5  \n",
       "37                         5  \n",
       "1                          5  \n",
       "31                         5  \n",
       "43                         4  \n",
       "45                         4  \n",
       "19                         4  \n",
       "21                         4  \n",
       "33                         3  \n",
       "46                         3  "
      ]
     },
     "execution_count": 1629,
     "metadata": {},
     "output_type": "execute_result"
    }
   ],
   "source": [
    "#Let's take a look at states who saw swings in participation rate for the SAT YoY\n",
    "final_df['sat_participation_change']=final_df['sat_participation_18'] - final_df['sat_participation_17']\n",
    "final_df.sort_values('sat_participation_change',ascending=False)[['state','sat_participation_17','sat_participation_18','sat_participation_change']].head(23)"
   ]
  },
  {
   "cell_type": "markdown",
   "metadata": {},
   "source": [
    "This table is interesting, it seems to suggest there are two types of states seeing growth in SAT participation rates -- those with the SAT already established in that state, and those without. Let's select a handful of states representing each of these groups."
   ]
  },
  {
   "cell_type": "markdown",
   "metadata": {},
   "source": [
    "#### States of Interest: Colorado, Ohio, West Virgnia, Virginia"
   ]
  },
  {
   "cell_type": "markdown",
   "metadata": {},
   "source": [
    "These states are interesting for different reasons. **Colorado** is one of several stats who saw a complete swing in participation (11% to 100%), likely due to regulation. **West Virginia** is a state who saw their participation rate double, though it still remains low (12% to 24%), signifying a different circumstance. **Virgnia** is a state that is at the bottom of our list above, however it exhibits a strong participation rate from the beginning (65% to 68%) -- what could be the reason? Finally, Ohio is just a fantastic state. I'm from Ohio, so let's also check that out"
   ]
  },
  {
   "cell_type": "markdown",
   "metadata": {},
   "source": [
    "Some outside research revealed the following information regarding these patterns:\n",
    " \n",
    " \n",
    "  - **Colorado**: This state began requiring students to take the SAT starting in Spring 2017, thus the jump to 100% compliance starting in 2018 \n",
    "    - <font color=gray>Source: https://www.chalkbeat.org/posts/co/2019/08/15/sat-scores-are-slightly-down-colorado-find-your-schools-2019-results/)</font>\n",
    "    \n",
    "    \n",
    "  - **Ohio**: Starting in 2017, high schools were officially required to give either the SAT or ACT. This is why we see a boost in participation rates in both SAT and ACT categories\n",
    "    - <font color=gray>Source: https://radio.wosu.org/post/some-students-ohios-college-testing-requirement-gets-pass#stream/0)</font>\n",
    "    \n",
    "    \n",
    "  - **West Virginia**: SAT participation rates doubled from 2017 to 2018, and this is in large part due to House Bill 2711 which established the SAT as the statewide standardized test.\n",
    "    - <font color=gray>Source: https://www.wvgazettemail.com/news/education/wv-chooses-sat-as-new-high-school-standardized-test-for/article_b60d2618-4943-56f6-b180-4b4442172ef8.html)</font>\n",
    "    \n",
    "    \n",
    "  - **Virginia**: Virginia is interesting, as this is a state which saw modest gains in participation rate. This was in part due to state efforts to bolster family outreach, focusing on education around test requirements. This is an indirect method to consider when thinking about strategies to boost performance\n",
    "    - <font color=gray>Source: https://www.hanoverresearch.com/media/Best-Practices-to-Increase-SAT-Participation-1.pdf</font>\n",
    "\n",
    "\n",
    "**Strategy Implications**: In all cases, the strategy the College Board has taken in these states may be effective in other, similar states. Strategy should be adjusted according to the participation rates exhibited by each state. As established by Hanover Research, indirect methods (community outreach, staff training, career-readiness training) are effective long term growth strategies that may be leveraged in areas where the SAT is already established. For states with ACT preference, because that preference is often guided by existing state wide regulation / contracts, developing priority states based on estimated revenue and contract expiration may be the most effective approach.\n",
    "\n",
    "\n",
    "   - <font color=gray>Source: https://www.hanoverresearch.com/media/Best-Practices-to-Increase-SAT-Participation-1.pdf</font>"
   ]
  },
  {
   "cell_type": "markdown",
   "metadata": {},
   "source": [
    "***\n",
    "## Distributions and Correlations\n",
    "\n",
    "Now that we have an initial understanding of our data, let's dive deeper using visualization. We'll assess our combined dataframe using the following methods:\n",
    "\n",
    " - Correlation heatmaps to understand any relationships between features\n",
    " - Histograms to understand deeper distributions of our features\n",
    " - Boxplots to understand key statistics against our features, and across our features.\n"
   ]
  },
  {
   "cell_type": "code",
   "execution_count": 1549,
   "metadata": {},
   "outputs": [],
   "source": [
    "def subplot_histograms(dataframe, list_of_columns, list_of_titles, list_of_xlabels):\n",
    "    nrows = int(np.ceil(len(list_of_columns)/2)) # Makes sure you have enough rows\n",
    "    fig, ax = plt.subplots(nrows=nrows, ncols=2, figsize=(10, 10)) # You'll want to specify your figsize\n",
    "    ax = ax.ravel() # Ravel turns a matrix into a vector, which is easier to iterate\n",
    "    for i, column in enumerate(list_of_columns): # Gives us an index value to get into all our lists\n",
    "        ax[i].hist(dataframe[column], bins = 15) # feel free to add more settings\n",
    "        ax[i].set_title(list_of_titles[i])\n",
    "        ax[i].set_xlabel(list_of_xlabels[i])\n",
    "        ax[i].set_ylabel('Number of States')\n",
    "        ax[i].vlines(x = np.mean(dataframe[column]), ymin = 0, ymax = 17.5, color = 'r', label='mean');\n",
    "        #ax[i].vlines(x = np.median(dataframe[column]), ymin = 0, ymax = 17.5, color = 'orange', label='median');"
   ]
  },
  {
   "cell_type": "markdown",
   "metadata": {},
   "source": [
    "#### Visualizing Data Distribution by Year, Test"
   ]
  },
  {
   "cell_type": "markdown",
   "metadata": {},
   "source": [
    "We'll now look to get a better sense of data spread across our features. We'll focus on Participation Rates, Math scores, and Reading scores."
   ]
  },
  {
   "cell_type": "code",
   "execution_count": 1552,
   "metadata": {},
   "outputs": [
    {
     "data": {
      "text/plain": [
       "<matplotlib.legend.Legend at 0x16829243fd0>"
      ]
     },
     "execution_count": 1552,
     "metadata": {},
     "output_type": "execute_result"
    },
    {
     "data": {
      "image/png": "[encoded data removed]",
      "text/plain": [
       "<Figure size 720x720 with 6 Axes>"
      ]
     },
     "metadata": {
      "needs_background": "light"
     },
     "output_type": "display_data"
    }
   ],
   "source": [
    "#Call the subplot function and pass in the columns of interest-- Participation, Math, Reading across tests for 2017\n",
    "subplot_histograms(\n",
    "    final_df,\n",
    "    ['sat_participation_17',\n",
    "     'act_participation_17', \n",
    "     'sat_math_17', \n",
    "     'act_math_17', \n",
    "     'sat_ebrw_17', \n",
    "     'act_reading_17'],\n",
    "    ['SAT Participation 2017',\n",
    "     'ACT Participation 2017',\n",
    "     'SAT Math 2017', \n",
    "     'ACT Math 2017', \n",
    "     'SAT EBRW 2017', \n",
    "     'ACT Reading 2017'],\n",
    "    ['Participation Rate', \n",
    "     'Participation Rate', \n",
    "     'Score', \n",
    "     'Score', \n",
    "     'Score', \n",
    "     'Score'],\n",
    "    )\n",
    "\n",
    "#Ensure layout is clean when we display in notebook\n",
    "plt.tight_layout()\n",
    "plt.legend()"
   ]
  },
  {
   "cell_type": "code",
   "execution_count": 1538,
   "metadata": {},
   "outputs": [
    {
     "data": {
      "image/png": "[encoded data removed]",
      "text/plain": [
       "<Figure size 1152x576 with 3 Axes>"
      ]
     },
     "metadata": {
      "needs_background": "light"
     },
     "output_type": "display_data"
    }
   ],
   "source": [
    "#Build figure space for boxplots\n",
    "plt.figure(figsize=(16, 8))\n",
    "\n",
    "#Isolate the columns of choice we'd like to visualize\n",
    "boxplot_participation_df = final_df[['sat_participation_17',\n",
    "                       'sat_participation_18',\n",
    "                       'act_participation_17',\n",
    "                       'act_participation_18']]\n",
    "\n",
    "boxplot_sattotal_df = final_df[['sat_total_17',\n",
    "                       'sat_total_18',]]\n",
    "\n",
    "boxplot_actcomp_df = final_df[['act_composite_17',\n",
    "                       'act_composite_18',]]\n",
    "\n",
    "#Build boxplots\n",
    "plt.subplot(2,2,1)\n",
    "sns.boxplot(data=boxplot_participation_df, width=0.4, orient='h', palette = 'Set3').set(xlabel='',title='Participation Rate by Year, Test')\n",
    "plt.subplot(2,2,3)\n",
    "sns.boxplot(data=boxplot_sattotal_df, width=0.4, orient='h', palette = 'Set3').set(xlabel='',title='SAT Totals YoY')\n",
    "plt.subplot(2,2,4)\n",
    "sns.boxplot(data=boxplot_actcomp_df, width=0.4, orient='h', palette = 'Set3').set(xlabel='',title='ACT Composite YoY')\n",
    "\n",
    "#Ensure layout is clean when we display in notebook\n",
    "plt.tight_layout()"
   ]
  },
  {
   "cell_type": "markdown",
   "metadata": {},
   "source": [
    "Findings\n",
    "- *Overall*: Looking at our histograms for scores (total, subscores, and participation rates) the distributions appear to be non-normal with some appearing bimodal in nature. \n",
    "- *Participation Rates*: You can see from the boxplots above that the mean participation rates for SAT in 2017 and 2018 continue to lag 2017 and 2018 ACT scores. This is consistent with what we've seen so far. The IQRs for each respective test are similar in size.\n",
    "- *Total Scores*: the SAT mean total score has declined slightly YoY, which is likely a function of improving participation rates. Notice too how the whiskers and IQR have shrunk YoY. Conversely, ACT has seen minimal variation year over year."
   ]
  },
  {
   "cell_type": "markdown",
   "metadata": {},
   "source": [
    "#### Correlation Across Features"
   ]
  },
  {
   "cell_type": "markdown",
   "metadata": {},
   "source": [
    "We have a stronger understanding of what each feature looks like. Let's now take a look at relationships across features to glean any relevant insights. We will start with a correlation heatmap,  then transition into scatterplots to deep dive into specific states."
   ]
  },
  {
   "cell_type": "code",
   "execution_count": 1539,
   "metadata": {},
   "outputs": [
    {
     "data": {
      "image/png": "[encoded data removed]",
      "text/plain": [
       "<Figure size 1152x648 with 2 Axes>"
      ]
     },
     "metadata": {
      "needs_background": "light"
     },
     "output_type": "display_data"
    }
   ],
   "source": [
    "#Build figure space\n",
    "plt.figure(figsize=(16,9))\n",
    "\n",
    "#Generate correlations across our features\n",
    "corr = final_df.corr()\n",
    "\n",
    "#Set up a white upper triangle to mask our repeating data\n",
    "mask = np.zeros_like(corr)\n",
    "mask[np.triu_indices_from(mask)] = True\n",
    "\n",
    "# Put it all together and use the coolwarm cmap\n",
    "with sns.axes_style(\"white\"):\n",
    "    sns.heatmap(corr, mask=mask, square=True, annot=True, vmin=-1, vmax=1, linewidths=.9, cmap='coolwarm').set_title(\"Correlation Across Features\")"
   ]
  },
  {
   "cell_type": "code",
   "execution_count": 1540,
   "metadata": {
    "scrolled": true
   },
   "outputs": [
    {
     "data": {
      "image/png": "[encoded data removed]",
      "text/plain": [
       "<Figure size 1152x720 with 6 Axes>"
      ]
     },
     "metadata": {
      "needs_background": "light"
     },
     "output_type": "display_data"
    }
   ],
   "source": [
    "# Establish the size of the figure.\n",
    "plt.figure(figsize=(16, 10))\n",
    "\n",
    "#Build your plotting space, and reference the first plot\n",
    "plt.subplot(2,3,1)\n",
    "\n",
    "#Create scatterplot for Math Scores\n",
    "plt.scatter(final_df['sat_math_17'],\n",
    "            final_df['act_math_17']);\n",
    "plt.title(\"Math Scores 2017\")\n",
    "plt.ylabel(\"ACT Math Score\", fontsize = 10)\n",
    "plt.xlabel(\"SAT Math Score\", fontsize = 10)\n",
    "\n",
    "#On to the next subplot\n",
    "plt.subplot(2,3,2)\n",
    "\n",
    "\n",
    "#Create scatterplot for Reading/Verbal\n",
    "plt.scatter(final_df['sat_ebrw_17'],\n",
    "            final_df['act_reading_17'], marker=\"H\", c='black');\n",
    "plt.title(\"Reading/Verbal Scores 2017\")\n",
    "plt.ylabel(\"ACT Reading Score\", fontsize = 10)\n",
    "plt.xlabel(\"SAT EBRW Score\", fontsize = 10)\n",
    "\n",
    "#On to the next subplot\n",
    "plt.subplot(2,3,3)\n",
    "\n",
    "#Create scatterplot for Total Scores 2017 ACT v SAT\n",
    "plt.scatter(final_df['sat_total_17'],\n",
    "            final_df['act_composite_17'], marker=\"o\", c='green');\n",
    "plt.title(\"SAT v ACT Total Scores (2017)\")\n",
    "plt.ylabel(\"ACT Composite Score 2017\", fontsize = 10)\n",
    "plt.xlabel(\"SAT Total Score 2017\", fontsize = 10)\n",
    "\n",
    "#On to the next subplot\n",
    "plt.subplot(2,3,4)\n",
    "\n",
    "#Create scatterplot for SAT Totals 2017 v 2018\n",
    "plt.scatter(final_df['sat_total_17'],\n",
    "            final_df['sat_total_18'], marker=\"8\", c='orange');\n",
    "plt.title(\"Total SAT Scores (2017 v 2018)\")\n",
    "plt.ylabel(\"Total SAT Score 2018\", fontsize = 10)\n",
    "plt.xlabel(\"Total SAT Score 2017\", fontsize = 10);\n",
    "\n",
    "#On to the next subplot\n",
    "plt.subplot(2,3,5)\n",
    "\n",
    "#Create scatterplot for ACT Composite 2017 v 2018\n",
    "plt.scatter(final_df['act_composite_17'],\n",
    "            final_df['act_composite_18'], marker=\"X\", c='red');\n",
    "plt.title(\"ACT Composite Scores (2017 v 2018)\")\n",
    "plt.ylabel(\"ACT Composite 2018\", fontsize = 10)\n",
    "plt.xlabel(\"ACT Composite 2017\", fontsize = 10);\n",
    "\n",
    "#On to the next subplot\n",
    "plt.subplot(2,3,6)\n",
    "\n",
    "#Create scatterplot for ACT Composite 2017 v 2018\n",
    "plt.scatter(final_df['sat_total_18'],\n",
    "            final_df['sat_participation_18'], marker=\"X\", c='red');\n",
    "plt.title(\"SAT Participation Rate vs Score\")\n",
    "plt.ylabel(\"SAT Participation Rate\", fontsize = 10)\n",
    "plt.xlabel(\"SAT Total Score\", fontsize = 10);\n",
    "\n",
    "#Make some tweaks to ensure our layout looks good\n",
    "plt.tight_layout()"
   ]
  },
  {
   "cell_type": "markdown",
   "metadata": {},
   "source": [
    "We notice a few interesting trends from these scatterplots - \n",
    " - **Participation Rates vs Totals (From grid plot):** For both tests and years, you can see that participation does not correlate with test performance.\n",
    "  - 2017 SAT Participation vs SAT Score Correlation: **-0.87**\n",
    "  - 2017 ACT Participation vs SAT Score Correlation: **-0.86**\n",
    "  - 2018 SAT Participation vs SAT Score Correlation: **-0.79**\n",
    "  - 2018 ACT Participation vs SAT Score Correlation: **-0.86**\n",
    "  \n",
    "  \n",
    " - **SAT Totals v ACT Totals (from scatterplots)**: Correlation between totals are moderately negative in a number of areas, likely a result of states prioritizing one test over the other.\n",
    "  - 2017 SAT Math vs ACT Math Correlation: **-0.30**\n",
    "  - 2017 SAT Total vs ACT Composite Correlation: **-0.45**\n",
    "  \n",
    "The extremely negative correlation between participation and score is interesting for the SAT -- can we unpack this further? Let's leverage seaborn to overlay the % change in participation rate YoY.\n",
    "  "
   ]
  },
  {
   "cell_type": "markdown",
   "metadata": {},
   "source": [
    "## Findings and Implications"
   ]
  },
  {
   "cell_type": "markdown",
   "metadata": {},
   "source": [
    "#### Findings\n",
    " - Overall, the **SAT has seen growth in participation** without any major disruption to average total score. However, it still **pales in comparison to the ACT** which has seen significant adoption over the last 10-15 years.\n",
    " - **Participation rates and total scores are inversely correlated.** This means that students taking the SAT/ACT in low participation states are high achieving and boost the score. Conversely, where the SAT/ACT is required, students who may not have college aspirations are also taking it, pulling down the average total score\n",
    " - **Participation rates are largely impacted by existing and upcoming state level agreements/law** which prioritize either the SAT or ACT as the statewide standardized test of choice. \n",
    " - In addition to this, we see strong **regional preference** between these tests. The Great Plain / Midwest / South prefer the SAT, while the New England / West Coast regions show ACT preference.\n",
    " - Participation can also be impacted by **non-direct efforts** such as community outreach and family education as it relates to college requirements.\n",
    "  \n",
    "\n",
    "#### Implications\n",
    " - Given goal of boosting participation and the fact that there is an **inverse relationship between participation and score**, work with College Board business development team to understand score targets for next 3-5 years.\n",
    " - Incorporate deeper view of participation rates at district level to identify problem areas.\n",
    " - Develop two-pronged strategic approach based on current participation rates by state. For states with high participation, consider **indirect methods** to boost participation. For states with low to zero participation, **monitor contract/bid opportunities**.\n",
    " - Overlay findings with **demographic data and estimated revenue** for College Board to prioritize state targets.\n"
   ]
  }
 ],
 "metadata": {
  "anaconda-cloud": {},
  "kernelspec": {
   "display_name": "Python 3",
   "language": "python",
   "name": "python3"
  },
  "language_info": {
   "codemirror_mode": {
    "name": "ipython",
    "version": 3
   },
   "file_extension": ".py",
   "mimetype": "text/x-python",
   "name": "python",
   "nbconvert_exporter": "python",
   "pygments_lexer": "ipython3",
   "version": "3.7.3"
  }
 },
 "nbformat": 4,
 "nbformat_minor": 2
}
