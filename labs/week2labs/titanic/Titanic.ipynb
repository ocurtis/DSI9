{
 "cells": [
  {
   "cell_type": "markdown",
   "metadata": {},
   "source": [
    "# Titanic Lab"
   ]
  },
  {
   "cell_type": "markdown",
   "metadata": {},
   "source": [
    "### Step 1: Reading the Data"
   ]
  },
  {
   "cell_type": "code",
   "execution_count": 55,
   "metadata": {},
   "outputs": [],
   "source": [
    "import pandas as pd\n",
    "import matplotlib.pyplot as plt\n",
    "%matplotlib inline"
   ]
  },
  {
   "cell_type": "code",
   "execution_count": 56,
   "metadata": {},
   "outputs": [],
   "source": [
    "titanic_df = pd.read_csv('train.csv')"
   ]
  },
  {
   "cell_type": "code",
   "execution_count": 57,
   "metadata": {},
   "outputs": [
    {
     "data": {
      "text/html": [
       "<div>\n",
       "<style scoped>\n",
       "    .dataframe tbody tr th:only-of-type {\n",
       "        vertical-align: middle;\n",
       "    }\n",
       "\n",
       "    .dataframe tbody tr th {\n",
       "        vertical-align: top;\n",
       "    }\n",
       "\n",
       "    .dataframe thead th {\n",
       "        text-align: right;\n",
       "    }\n",
       "</style>\n",
       "<table border=\"1\" class=\"dataframe\">\n",
       "  <thead>\n",
       "    <tr style=\"text-align: right;\">\n",
       "      <th></th>\n",
       "      <th>PassengerId</th>\n",
       "      <th>Survived</th>\n",
       "      <th>Pclass</th>\n",
       "      <th>Name</th>\n",
       "      <th>Sex</th>\n",
       "      <th>Age</th>\n",
       "      <th>SibSp</th>\n",
       "      <th>Parch</th>\n",
       "      <th>Ticket</th>\n",
       "      <th>Fare</th>\n",
       "      <th>Cabin</th>\n",
       "      <th>Embarked</th>\n",
       "    </tr>\n",
       "  </thead>\n",
       "  <tbody>\n",
       "    <tr>\n",
       "      <td>0</td>\n",
       "      <td>1</td>\n",
       "      <td>0</td>\n",
       "      <td>3</td>\n",
       "      <td>Braund, Mr. Owen Harris</td>\n",
       "      <td>male</td>\n",
       "      <td>22.0</td>\n",
       "      <td>1</td>\n",
       "      <td>0</td>\n",
       "      <td>A/5 21171</td>\n",
       "      <td>7.2500</td>\n",
       "      <td>NaN</td>\n",
       "      <td>S</td>\n",
       "    </tr>\n",
       "    <tr>\n",
       "      <td>1</td>\n",
       "      <td>2</td>\n",
       "      <td>1</td>\n",
       "      <td>1</td>\n",
       "      <td>Cumings, Mrs. John Bradley (Florence Briggs Th...</td>\n",
       "      <td>female</td>\n",
       "      <td>38.0</td>\n",
       "      <td>1</td>\n",
       "      <td>0</td>\n",
       "      <td>PC 17599</td>\n",
       "      <td>71.2833</td>\n",
       "      <td>C85</td>\n",
       "      <td>C</td>\n",
       "    </tr>\n",
       "    <tr>\n",
       "      <td>2</td>\n",
       "      <td>3</td>\n",
       "      <td>1</td>\n",
       "      <td>3</td>\n",
       "      <td>Heikkinen, Miss. Laina</td>\n",
       "      <td>female</td>\n",
       "      <td>26.0</td>\n",
       "      <td>0</td>\n",
       "      <td>0</td>\n",
       "      <td>STON/O2. 3101282</td>\n",
       "      <td>7.9250</td>\n",
       "      <td>NaN</td>\n",
       "      <td>S</td>\n",
       "    </tr>\n",
       "    <tr>\n",
       "      <td>3</td>\n",
       "      <td>4</td>\n",
       "      <td>1</td>\n",
       "      <td>1</td>\n",
       "      <td>Futrelle, Mrs. Jacques Heath (Lily May Peel)</td>\n",
       "      <td>female</td>\n",
       "      <td>35.0</td>\n",
       "      <td>1</td>\n",
       "      <td>0</td>\n",
       "      <td>113803</td>\n",
       "      <td>53.1000</td>\n",
       "      <td>C123</td>\n",
       "      <td>S</td>\n",
       "    </tr>\n",
       "    <tr>\n",
       "      <td>4</td>\n",
       "      <td>5</td>\n",
       "      <td>0</td>\n",
       "      <td>3</td>\n",
       "      <td>Allen, Mr. William Henry</td>\n",
       "      <td>male</td>\n",
       "      <td>35.0</td>\n",
       "      <td>0</td>\n",
       "      <td>0</td>\n",
       "      <td>373450</td>\n",
       "      <td>8.0500</td>\n",
       "      <td>NaN</td>\n",
       "      <td>S</td>\n",
       "    </tr>\n",
       "  </tbody>\n",
       "</table>\n",
       "</div>"
      ],
      "text/plain": [
       "   PassengerId  Survived  Pclass  \\\n",
       "0            1         0       3   \n",
       "1            2         1       1   \n",
       "2            3         1       3   \n",
       "3            4         1       1   \n",
       "4            5         0       3   \n",
       "\n",
       "                                                Name     Sex   Age  SibSp  \\\n",
       "0                            Braund, Mr. Owen Harris    male  22.0      1   \n",
       "1  Cumings, Mrs. John Bradley (Florence Briggs Th...  female  38.0      1   \n",
       "2                             Heikkinen, Miss. Laina  female  26.0      0   \n",
       "3       Futrelle, Mrs. Jacques Heath (Lily May Peel)  female  35.0      1   \n",
       "4                           Allen, Mr. William Henry    male  35.0      0   \n",
       "\n",
       "   Parch            Ticket     Fare Cabin Embarked  \n",
       "0      0         A/5 21171   7.2500   NaN        S  \n",
       "1      0          PC 17599  71.2833   C85        C  \n",
       "2      0  STON/O2. 3101282   7.9250   NaN        S  \n",
       "3      0            113803  53.1000  C123        S  \n",
       "4      0            373450   8.0500   NaN        S  "
      ]
     },
     "execution_count": 57,
     "metadata": {},
     "output_type": "execute_result"
    }
   ],
   "source": [
    "titanic_df.head()"
   ]
  },
  {
   "cell_type": "code",
   "execution_count": 58,
   "metadata": {},
   "outputs": [
    {
     "data": {
      "text/plain": [
       "Index(['PassengerId', 'Survived', 'Pclass', 'Name', 'Sex', 'Age', 'SibSp',\n",
       "       'Parch', 'Ticket', 'Fare', 'Cabin', 'Embarked'],\n",
       "      dtype='object')"
      ]
     },
     "execution_count": 58,
     "metadata": {},
     "output_type": "execute_result"
    }
   ],
   "source": [
    "titanic_df.columns"
   ]
  },
  {
   "cell_type": "markdown",
   "metadata": {},
   "source": [
    "### Step 2: Cleaning the Data"
   ]
  },
  {
   "cell_type": "code",
   "execution_count": 59,
   "metadata": {},
   "outputs": [
    {
     "data": {
      "image/png": "[encoded data removed]",
      "text/plain": [
       "<Figure size 432x288 with 1 Axes>"
      ]
     },
     "metadata": {
      "needs_background": "light"
     },
     "output_type": "display_data"
    }
   ],
   "source": [
    "#Create a bar chart showing how many missing values are in each column\n",
    "# Step 3\n",
    "titanic_df.isnull().sum().plot(kind='bar');\n",
    "plt.ylabel('Missing Value Count');\n",
    "plt.xlabel('Column');"
   ]
  },
  {
   "cell_type": "code",
   "execution_count": 60,
   "metadata": {},
   "outputs": [
    {
     "data": {
      "text/plain": [
       "PassengerId      0\n",
       "Survived         0\n",
       "Pclass           0\n",
       "Name             0\n",
       "Sex              0\n",
       "Age            177\n",
       "SibSp            0\n",
       "Parch            0\n",
       "Ticket           0\n",
       "Fare             0\n",
       "Cabin          687\n",
       "Embarked         2\n",
       "dtype: int64"
      ]
     },
     "execution_count": 60,
     "metadata": {},
     "output_type": "execute_result"
    }
   ],
   "source": [
    "# Which column has the most NaN values? How many cells in that column are empty?\n",
    "\n",
    "titanic_df.isnull().sum()"
   ]
  },
  {
   "cell_type": "markdown",
   "metadata": {},
   "source": [
    "Q:Which column has the most NaN values? How many cells in that column are empty?\n",
    "\n",
    "A:The most NaN values can be seen in the Cabin (687) columns, followed by Age (177), and Embarked (2)\n"
   ]
  },
  {
   "cell_type": "code",
   "execution_count": 61,
   "metadata": {},
   "outputs": [],
   "source": [
    "# Delete all rows where Embarked is empty\n",
    "\n",
    "titanic_df = titanic_df[titanic_df['Embarked'].notnull()]"
   ]
  },
  {
   "cell_type": "code",
   "execution_count": 62,
   "metadata": {},
   "outputs": [],
   "source": [
    "# Fill all empty cabins with ¯\\(ツ)/¯\n",
    "# Note: NaN, empty, and missing are synonymous.\n",
    "\n",
    "titanic_df.loc[titanic_df['Cabin'].isnull(),'Cabin'] = '¯\\(ツ)/¯'"
   ]
  },
  {
   "cell_type": "markdown",
   "metadata": {},
   "source": [
    "### Step 3: Feature Extraction"
   ]
  },
  {
   "cell_type": "code",
   "execution_count": 63,
   "metadata": {},
   "outputs": [],
   "source": [
    "#There are two columns that pertain to how many family members are on the boat for a given person. \n",
    "###These are SibSp and Parch based on Kaggle's site\n",
    "#Create a new column called FamilyCount which will be the sum of those two columns.\n",
    "titanic_df['FamilyCount'] = titanic_df['SibSp'] + titanic_df['Parch']"
   ]
  },
  {
   "cell_type": "code",
   "execution_count": 64,
   "metadata": {},
   "outputs": [
    {
     "data": {
      "text/plain": [
       "0    883\n",
       "1      6\n",
       "Name: IsReverend, dtype: int64"
      ]
     },
     "execution_count": 64,
     "metadata": {},
     "output_type": "execute_result"
    }
   ],
   "source": [
    "# Reverends have a special title in their name.\n",
    "#Create a column called IsReverend: 1 if they're a preacher, 0 if they're not.\n",
    "\n",
    "#Let's insert a new column with value 0 given proportion of priests to all passengers will be low\n",
    "titanic_df['IsReverend'] = 0\n",
    "\n",
    "#find the priests, and update the column value for IsReverend\n",
    "titanic_df.loc[titanic_df['Name'].str.contains('Rev.', regex=False),'IsReverend'] = 1\n",
    "\n",
    "#take a look to verify\n",
    "titanic_df['IsReverend'].value_counts()"
   ]
  },
  {
   "cell_type": "code",
   "execution_count": 65,
   "metadata": {},
   "outputs": [
    {
     "name": "stdout",
     "output_type": "stream",
     "text": [
      "(889, 3) (889, 2) (889, 14)\n"
     ]
    }
   ],
   "source": [
    "# In order to feed our training data into a classification algorithm, we need to convert our categories into 1's and 0's \n",
    "#using pd.get_dummies. Familiarize yourself with the pd.get_dummies documentation\n",
    "\n",
    "# Create 3 columns: Embarked_C, Embarked_Q and Embarked_S. \n",
    "#These columns will have 1's and 0's that correspond to the C, Q and S values in the Embarked column\n",
    "\n",
    "embarked_dummy_results, sex_dummy_results = pd.get_dummies(titanic_df['Embarked']), pd.get_dummies(titanic_df['Sex'])\n",
    "\n",
    "print(embarked_dummy_results.shape, sex_dummy_results.shape, titanic_df.shape)\n",
    "\n",
    "titanic_df = pd.concat([titanic_df,embarked_dummy_results,sex_dummy_results], axis=1)\n"
   ]
  },
  {
   "cell_type": "code",
   "execution_count": 66,
   "metadata": {},
   "outputs": [],
   "source": [
    "#take a look at everything and make sure dummy vars are there as intended\n",
    "titanic_df.head(2);"
   ]
  },
  {
   "cell_type": "code",
   "execution_count": 67,
   "metadata": {},
   "outputs": [],
   "source": [
    "# BONUS: Extract the title from everyone's name and create dummy columns\n",
    "# Step 4: Exploratory analysis\n",
    "# df.groupby() may be very useful.\n",
    "\n"
   ]
  },
  {
   "cell_type": "markdown",
   "metadata": {},
   "source": [
    "### Step 4: Exploratory Analysis"
   ]
  },
  {
   "cell_type": "code",
   "execution_count": 68,
   "metadata": {},
   "outputs": [
    {
     "name": "stdout",
     "output_type": "stream",
     "text": [
      "Total Survival Rate: 38%\n"
     ]
    }
   ],
   "source": [
    "# What was the survival rate overall?\n",
    "print(f\"Total Survival Rate: {int((titanic_df['Survived'].sum() / titanic_df['PassengerId'].count())*100)}%\")\n"
   ]
  },
  {
   "cell_type": "code",
   "execution_count": 69,
   "metadata": {},
   "outputs": [
    {
     "name": "stdout",
     "output_type": "stream",
     "text": [
      "Male Survival Rate: 18%\n",
      "Female Survival Rate: 74%\n"
     ]
    }
   ],
   "source": [
    "# Which gender fared the worst? What was their survival rate? One way to get this...\n",
    "print(f\"Male Survival Rate: {int((titanic_df.loc[titanic_df['Sex'] == 'male','Survived'].sum() / titanic_df.loc[titanic_df['Sex'] == 'male','PassengerId'].count())*100)}%\")\n",
    "      \n",
    "print(f\"Female Survival Rate: {int((titanic_df.loc[titanic_df['Sex'] == 'female','Survived'].sum() / titanic_df.loc[titanic_df['Sex'] == 'female','PassengerId'].count())*100)}%\")"
   ]
  },
  {
   "cell_type": "code",
   "execution_count": 70,
   "metadata": {
    "scrolled": true
   },
   "outputs": [
    {
     "data": {
      "text/plain": [
       "Sex\n",
       "female    74.038462\n",
       "male      18.890815\n",
       "dtype: float64"
      ]
     },
     "execution_count": 70,
     "metadata": {},
     "output_type": "execute_result"
    }
   ],
   "source": [
    "# Which gender fared the worst? What was their survival rate? Another way to get this...\n",
    "titanic_df.groupby('Sex')['Survived'].sum() / titanic_df.groupby('Sex')['PassengerId'].count() *100"
   ]
  },
  {
   "cell_type": "code",
   "execution_count": 71,
   "metadata": {
    "scrolled": true
   },
   "outputs": [
    {
     "data": {
      "text/plain": [
       "Pclass\n",
       "1    62.616822\n",
       "2    47.282609\n",
       "3    24.236253\n",
       "dtype: float64"
      ]
     },
     "execution_count": 71,
     "metadata": {},
     "output_type": "execute_result"
    }
   ],
   "source": [
    "# What was the survival rate for each Pclass?\n",
    "\n",
    "titanic_df.groupby('Pclass')['Survived'].sum() / titanic_df.groupby('Pclass')['PassengerId'].count() *100"
   ]
  },
  {
   "cell_type": "code",
   "execution_count": 72,
   "metadata": {},
   "outputs": [
    {
     "name": "stdout",
     "output_type": "stream",
     "text": [
      "0 reverends survived.\n"
     ]
    }
   ],
   "source": [
    "#Did any reverends survive? How many?\n",
    "titanic_df.loc[titanic_df['IsReverend'] == 1, 'Survived'].sum()\n",
    "\n",
    "#print result\n",
    "print(f\"{titanic_df.loc[titanic_df['IsReverend'] == 1, 'Survived'].sum()} reverends survived.\")"
   ]
  },
  {
   "cell_type": "code",
   "execution_count": 73,
   "metadata": {},
   "outputs": [
    {
     "name": "stdout",
     "output_type": "stream",
     "text": [
      "Survival rate of 29%\n"
     ]
    }
   ],
   "source": [
    "# What is the survival rate for cabins marked ¯\\(ツ)/¯\n",
    "\n",
    "cabin_percent = int(titanic_df.loc[titanic_df['Cabin'] == '¯\\(ツ)/¯']['Survived'].sum() / titanic_df[titanic_df['Cabin'] == '¯\\(ツ)/¯']['PassengerId'].count() * 100)\n",
    "\n",
    "print(f\"Survival rate of {cabin_percent}%\")"
   ]
  },
  {
   "cell_type": "code",
   "execution_count": 74,
   "metadata": {},
   "outputs": [
    {
     "name": "stdout",
     "output_type": "stream",
     "text": [
      "Survival rate of 29%\n"
     ]
    }
   ],
   "source": [
    "# What is the survival rate for people whose Age is empty?\n",
    "\n",
    "age_empty_percent = int(titanic_df.loc[titanic_df['Age'].isnull()]['Survived'].sum()  / titanic_df.loc[titanic_df['Age'].isnull()]['PassengerId'].count() * 100)\n",
    "\n",
    "print(f\"Survival rate of {age_empty_percent}%\")"
   ]
  },
  {
   "cell_type": "code",
   "execution_count": 75,
   "metadata": {},
   "outputs": [
    {
     "data": {
      "text/plain": [
       "Embarked\n",
       "C    55.357143\n",
       "Q    38.961039\n",
       "S    33.695652\n",
       "dtype: float64"
      ]
     },
     "execution_count": 75,
     "metadata": {},
     "output_type": "execute_result"
    }
   ],
   "source": [
    "# What is the survival rate for each port of embarkation?\n",
    "titanic_df.groupby('Embarked')['Survived'].sum() / titanic_df.groupby('Embarked')['PassengerId'].count() *100"
   ]
  },
  {
   "cell_type": "code",
   "execution_count": 76,
   "metadata": {},
   "outputs": [
    {
     "name": "stdout",
     "output_type": "stream",
     "text": [
      "Pclass\n",
      "1     75.000000\n",
      "2    100.000000\n",
      "3     40.425532\n",
      "dtype: float64\n"
     ]
    },
    {
     "data": {
      "text/plain": [
       "1    17\n",
       "Name: Survived, dtype: int64"
      ]
     },
     "execution_count": 76,
     "metadata": {},
     "output_type": "execute_result"
    }
   ],
   "source": [
    "# What is the survival rate for children (under 12) in each Pclass?\n",
    "print(titanic_df[titanic_df['Age'] < 12].groupby('Pclass')['Survived'].sum() / titanic_df[titanic_df['Age'] < 12].groupby('Pclass')['PassengerId'].count() * 100)\n",
    "                                 \n",
    "#Class 2 looks odd, let's investigate further to see if 100% survival here is a real thing \n",
    "#In looking at this age group for Pclass 2, it looks like everyone survived in this age bracket (1= Survived)\n",
    "titanic_df.loc[(titanic_df['Age'] < 12) & (titanic_df['Pclass'] == 2),'Survived'].value_counts()"
   ]
  },
  {
   "cell_type": "code",
   "execution_count": 77,
   "metadata": {},
   "outputs": [
    {
     "name": "stdout",
     "output_type": "stream",
     "text": [
      "    Embarked  Survived\n",
      "745        S         0\n",
      "The captain embarked from Southampton, but did not survive.\n"
     ]
    }
   ],
   "source": [
    "# Did the captain of the ship survive? Is he on the list?\n",
    "print(titanic_df.loc[titanic_df['Name'].str.contains('Capt', regex=False),['Embarked','Survived']])\n",
    "\n",
    "print(\"The captain embarked from Southampton, but did not survive.\")"
   ]
  },
  {
   "cell_type": "code",
   "execution_count": 78,
   "metadata": {},
   "outputs": [
    {
     "data": {
      "text/html": [
       "<div>\n",
       "<style scoped>\n",
       "    .dataframe tbody tr th:only-of-type {\n",
       "        vertical-align: middle;\n",
       "    }\n",
       "\n",
       "    .dataframe tbody tr th {\n",
       "        vertical-align: top;\n",
       "    }\n",
       "\n",
       "    .dataframe thead th {\n",
       "        text-align: right;\n",
       "    }\n",
       "</style>\n",
       "<table border=\"1\" class=\"dataframe\">\n",
       "  <thead>\n",
       "    <tr style=\"text-align: right;\">\n",
       "      <th></th>\n",
       "      <th>Name</th>\n",
       "      <th>Ticket</th>\n",
       "      <th>Fare</th>\n",
       "    </tr>\n",
       "  </thead>\n",
       "  <tbody>\n",
       "    <tr>\n",
       "      <td>27</td>\n",
       "      <td>Fortune, Mr. Charles Alexander</td>\n",
       "      <td>19950</td>\n",
       "      <td>263.0</td>\n",
       "    </tr>\n",
       "    <tr>\n",
       "      <td>438</td>\n",
       "      <td>Fortune, Mr. Mark</td>\n",
       "      <td>19950</td>\n",
       "      <td>263.0</td>\n",
       "    </tr>\n",
       "  </tbody>\n",
       "</table>\n",
       "</div>"
      ],
      "text/plain": [
       "                               Name Ticket   Fare\n",
       "27   Fortune, Mr. Charles Alexander  19950  263.0\n",
       "438               Fortune, Mr. Mark  19950  263.0"
      ]
     },
     "execution_count": 78,
     "metadata": {},
     "output_type": "execute_result"
    }
   ],
   "source": [
    "# Of all the people that died, who had the most expensive ticket? How much did it cost?\n",
    "titanic_df.loc[titanic_df['Survived'] == 0,['Name','Ticket','Fare']].sort_values('Fare', ascending=False).head(2)"
   ]
  },
  {
   "cell_type": "code",
   "execution_count": 79,
   "metadata": {},
   "outputs": [
    {
     "name": "stdout",
     "output_type": "stream",
     "text": [
      "Having either siblings or parents on board increased your chance of survival by 17%\n",
      "Any Family Survival Rate: 43%, No Family Survival Rate: 37%\n"
     ]
    }
   ],
   "source": [
    "# Does having family on the boat help or hurt your chances of survival?\n",
    "family_mask = ~(titanic_df['SibSp'] == 0) & ~(titanic_df['Parch'] == 0)\n",
    "\n",
    "fam_survival = (titanic_df.loc[family_mask,'Survived'].sum() / titanic_df.loc[family_mask,'PassengerId'].count())*100\n",
    "no_fam_survival = (titanic_df.loc[~family_mask,'Survived'].sum() / titanic_df.loc[~family_mask,'PassengerId'].count())*100\n",
    "\n",
    "print(f\"Having either siblings or parents on board increased your chance of survival by {int(((fam_survival - no_fam_survival) / no_fam_survival)*100)}%\")\n",
    "print(f\"Any Family Survival Rate: {int(fam_survival)}%, No Family Survival Rate: {int(no_fam_survival)}%\")"
   ]
  },
  {
   "cell_type": "markdown",
   "metadata": {},
   "source": [
    "### Step 5: Plotting"
   ]
  },
  {
   "cell_type": "code",
   "execution_count": 80,
   "metadata": {},
   "outputs": [
    {
     "data": {
      "image/png": "[encoded data removed]",
      "text/plain": [
       "<Figure size 1440x360 with 3 Axes>"
      ]
     },
     "metadata": {
      "needs_background": "light"
     },
     "output_type": "display_data"
    }
   ],
   "source": [
    "import seaborn as sns\n",
    "plt.figure(figsize=(20,5))\n",
    "\n",
    "plt.subplot(1,3,1)\n",
    "ax = sns.barplot(\n",
    "        x='Sex',\n",
    "        y='Survived',\n",
    "        data=titanic_df,\n",
    "    )\n",
    "\n",
    "\n",
    "\n",
    "plt.subplot(1,3,2)\n",
    "ax = sns.barplot(\n",
    "        x='Sex',\n",
    "        y='Survived',\n",
    "        hue='Pclass',\n",
    "        data=titanic_df,\n",
    "    )\n",
    "\n",
    "plt.subplot(1,3,3)\n",
    "ax = sns.barplot(\n",
    "        x='Pclass',\n",
    "        y='Survived',\n",
    "        hue='SibSp',\n",
    "        data=titanic_df,\n",
    "    );\n",
    "\n",
    "\n"
   ]
  }
 ],
 "metadata": {
  "anaconda-cloud": {},
  "kernelspec": {
   "display_name": "Python 3",
   "language": "python",
   "name": "python3"
  },
  "language_info": {
   "codemirror_mode": {
    "name": "ipython",
    "version": 3
   },
   "file_extension": ".py",
   "mimetype": "text/x-python",
   "name": "python",
   "nbconvert_exporter": "python",
   "pygments_lexer": "ipython3",
   "version": "3.7.3"
  }
 },
 "nbformat": 4,
 "nbformat_minor": 2
}
