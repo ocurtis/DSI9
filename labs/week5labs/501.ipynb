{
 "cells": [
  {
   "cell_type": "code",
   "execution_count": 1,
   "metadata": {},
   "outputs": [],
   "source": [
    "# Import libaries\n",
    "import pandas as pd\n",
    "import requests\n",
    "from bs4 import BeautifulSoup"
   ]
  },
  {
   "cell_type": "markdown",
   "metadata": {},
   "source": [
    "### Step 1: Create a soup object from the home page"
   ]
  },
  {
   "cell_type": "code",
   "execution_count": 111,
   "metadata": {},
   "outputs": [],
   "source": [
    "url = 'http://chubbygrub.com/'\n",
    "res = requests.get(url)"
   ]
  },
  {
   "cell_type": "code",
   "execution_count": 112,
   "metadata": {},
   "outputs": [],
   "source": [
    "soup = BeautifulSoup(res.content, 'lxml')"
   ]
  },
  {
   "cell_type": "code",
   "execution_count": 113,
   "metadata": {},
   "outputs": [
    {
     "data": {
      "text/plain": [
       "[<a class=\"btn btn-lg btn-primary\" href=\"/restaurants/aw-restaurants\">A&amp;W Restaurants</a>,\n",
       " <a class=\"btn btn-lg btn-primary\" href=\"/restaurants/applebees\">Applebee's</a>,\n",
       " <a class=\"btn btn-lg btn-primary\" href=\"/restaurants/arbys\">Arby's</a>,\n",
       " <a class=\"btn btn-lg btn-primary\" href=\"/restaurants/atlanta-bread-company\">Atlanta Bread Company</a>,\n",
       " <a class=\"btn btn-lg btn-primary\" href=\"/restaurants/bojangles-famous-chicken-n-biscuits\">Bojangle's Famous Chicken 'n Biscuits</a>,\n",
       " <a class=\"btn btn-lg btn-primary\" href=\"/restaurants/buffalo-wild-wings\">Buffalo Wild Wings</a>,\n",
       " <a class=\"btn btn-lg btn-primary\" href=\"/restaurants/burger-king\">Burger King</a>,\n",
       " <a class=\"btn btn-lg btn-primary\" href=\"/restaurants/captain-ds\">Captain D's</a>,\n",
       " <a class=\"btn btn-lg btn-primary\" href=\"/restaurants/carls-jr\">Carl's Jr.</a>,\n",
       " <a class=\"btn btn-lg btn-primary\" href=\"/restaurants/charleys-grilled-subs\">Charley's Grilled Subs</a>,\n",
       " <a class=\"btn btn-lg btn-primary\" href=\"/restaurants/chick-fil-a\">Chick-fil-A</a>,\n",
       " <a class=\"btn btn-lg btn-primary\" href=\"/restaurants/chilis\">Chili's</a>,\n",
       " <a class=\"btn btn-lg btn-primary\" href=\"/restaurants/chipotle-mexican-grill\">Chipotle Mexican Grill</a>,\n",
       " <a class=\"btn btn-lg btn-primary\" href=\"/restaurants/churchs\">Church's</a>,\n",
       " <a class=\"btn btn-lg btn-primary\" href=\"/restaurants/corner-bakery-cafe\">Corner Bakery Cafe</a>,\n",
       " <a class=\"btn btn-lg btn-primary\" href=\"/restaurants/dairy-queen\">Dairy Queen</a>,\n",
       " <a class=\"btn btn-lg btn-primary\" href=\"/restaurants/dennys\">Denny's</a>,\n",
       " <a class=\"btn btn-lg btn-primary\" href=\"/restaurants/el-pollo-loco\">El Pollo Loco</a>,\n",
       " <a class=\"btn btn-lg btn-primary\" href=\"/restaurants/fatz\">FATZ</a>,\n",
       " <a class=\"btn btn-lg btn-primary\" href=\"/restaurants/fazolis\">Fazoli's</a>,\n",
       " <a class=\"btn btn-lg btn-primary\" href=\"/restaurants/five-guys-burgers-and-fries\">Five Guys Burgers and Fries</a>,\n",
       " <a class=\"btn btn-lg btn-primary\" href=\"/restaurants/golden-chick\">Golden Chick</a>,\n",
       " <a class=\"btn btn-lg btn-primary\" href=\"/restaurants/hardees\">Hardee's</a>,\n",
       " <a class=\"btn btn-lg btn-primary\" href=\"/restaurants/ihop\">IHOP</a>,\n",
       " <a class=\"btn btn-lg btn-primary\" href=\"/restaurants/in-n-out-burger\">In-N-Out Burger</a>,\n",
       " <a class=\"btn btn-lg btn-primary\" href=\"/restaurants/jack-in-the-box\">Jack in the Box</a>,\n",
       " <a class=\"btn btn-lg btn-primary\" href=\"/restaurants/jimmy-johns\">Jimmy Johns</a>,\n",
       " <a class=\"btn btn-lg btn-primary\" href=\"/restaurants/joes-crab-shack\">Joe's Crab Shack</a>,\n",
       " <a class=\"btn btn-lg btn-primary\" href=\"/restaurants/kfc\">KFC</a>,\n",
       " <a class=\"btn btn-lg btn-primary\" href=\"/restaurants/mcdonalds\">McDonald's</a>,\n",
       " <a class=\"btn btn-lg btn-primary\" href=\"/restaurants/ocharleys\">O'Charley's</a>,\n",
       " <a class=\"btn btn-lg btn-primary\" href=\"/restaurants/olive-garden\">Olive Garden</a>,\n",
       " <a class=\"btn btn-lg btn-primary\" href=\"/restaurants/outback-steakhouse\">Outback Steakhouse</a>,\n",
       " <a class=\"btn btn-lg btn-primary\" href=\"/restaurants/panda-express\">Panda Express</a>,\n",
       " <a class=\"btn btn-lg btn-primary\" href=\"/restaurants/panera-bread\">Panera Bread</a>,\n",
       " <a class=\"btn btn-lg btn-primary\" href=\"/restaurants/popeyes\">Popeye's</a>,\n",
       " <a class=\"btn btn-lg btn-primary\" href=\"/restaurants/quiznos\">Quiznos</a>,\n",
       " <a class=\"btn btn-lg btn-primary\" href=\"/restaurants/red-robin-gourmet-burgers\">Red Robin Gourmet Burgers</a>,\n",
       " <a class=\"btn btn-lg btn-primary\" href=\"/restaurants/romanos-macaroni-grill\">Romano's Macaroni Grill</a>,\n",
       " <a class=\"btn btn-lg btn-primary\" href=\"/restaurants/ruby-tuesday\">Ruby Tuesday</a>,\n",
       " <a class=\"btn btn-lg btn-primary\" href=\"/restaurants/subway\">Subway</a>,\n",
       " <a class=\"btn btn-lg btn-primary\" href=\"/restaurants/taco-bell\">Taco Bell</a>,\n",
       " <a class=\"btn btn-lg btn-primary\" href=\"/restaurants/taco-bueno\">Taco Bueno</a>,\n",
       " <a class=\"btn btn-lg btn-primary\" href=\"/restaurants/wendys\">Wendy's</a>]"
      ]
     },
     "execution_count": 113,
     "metadata": {},
     "output_type": "execute_result"
    }
   ],
   "source": [
    "soup.find_all('a', {\"class\": \"btn btn-lg btn-primary\"})"
   ]
  },
  {
   "cell_type": "markdown",
   "metadata": {},
   "source": [
    "### Step 2: Scrape the home page soup for every restaurant\n",
    "\n",
    "Note: Your best bet is to create a list of dictionaries, one for each restaurant. Each dictionary contains the restaurant's name and slug. The result of your scrape should look something like this:\n",
    "\n",
    "```python\n",
    "restaurants = [\n",
    "    {'name': 'A&W Restaurants', 'slug': 'aw-restaurants'}, \n",
    "    {'name': \"Applebee's\", 'slug': 'applebees'},\n",
    "    ...\n",
    "]\n",
    "```"
   ]
  },
  {
   "cell_type": "code",
   "execution_count": 114,
   "metadata": {},
   "outputs": [],
   "source": [
    "restaurant__text = [a.text for a in soup.find_all('a', {\"class\": \"btn btn-lg btn-primary\"})]"
   ]
  },
  {
   "cell_type": "code",
   "execution_count": 115,
   "metadata": {},
   "outputs": [
    {
     "data": {
      "text/plain": [
       "'aw-restaurants'"
      ]
     },
     "execution_count": 115,
     "metadata": {},
     "output_type": "execute_result"
    }
   ],
   "source": [
    "test[0]['href'][13:]"
   ]
  },
  {
   "cell_type": "code",
   "execution_count": 116,
   "metadata": {},
   "outputs": [],
   "source": [
    "restaurant__urls = [a['href'][13:] for a in soup.find_all('a', {\"class\": \"btn btn-lg btn-primary\"}, href=True)]"
   ]
  },
  {
   "cell_type": "code",
   "execution_count": 117,
   "metadata": {},
   "outputs": [],
   "source": [
    "test = soup.find_all('a', {\"class\": \"btn btn-lg btn-primary\"})"
   ]
  },
  {
   "cell_type": "code",
   "execution_count": 118,
   "metadata": {},
   "outputs": [],
   "source": [
    "restaurants = []\n",
    "\n",
    "for element in soup.find_all('a', {\"class\": \"btn btn-lg btn-primary\"}):\n",
    "    temp = {}\n",
    "    temp['name'] = element.text\n",
    "    temp['slug'] = element['href'][13:]\n",
    "    restaurants.append(temp)\n",
    "        "
   ]
  },
  {
   "cell_type": "code",
   "execution_count": 119,
   "metadata": {},
   "outputs": [
    {
     "data": {
      "text/plain": [
       "[{'name': 'A&W Restaurants', 'slug': 'aw-restaurants'},\n",
       " {'name': \"Applebee's\", 'slug': 'applebees'},\n",
       " {'name': \"Arby's\", 'slug': 'arbys'},\n",
       " {'name': 'Atlanta Bread Company', 'slug': 'atlanta-bread-company'},\n",
       " {'name': \"Bojangle's Famous Chicken 'n Biscuits\",\n",
       "  'slug': 'bojangles-famous-chicken-n-biscuits'},\n",
       " {'name': 'Buffalo Wild Wings', 'slug': 'buffalo-wild-wings'},\n",
       " {'name': 'Burger King', 'slug': 'burger-king'},\n",
       " {'name': \"Captain D's\", 'slug': 'captain-ds'},\n",
       " {'name': \"Carl's Jr.\", 'slug': 'carls-jr'},\n",
       " {'name': \"Charley's Grilled Subs\", 'slug': 'charleys-grilled-subs'},\n",
       " {'name': 'Chick-fil-A', 'slug': 'chick-fil-a'},\n",
       " {'name': \"Chili's\", 'slug': 'chilis'},\n",
       " {'name': 'Chipotle Mexican Grill', 'slug': 'chipotle-mexican-grill'},\n",
       " {'name': \"Church's\", 'slug': 'churchs'},\n",
       " {'name': 'Corner Bakery Cafe', 'slug': 'corner-bakery-cafe'},\n",
       " {'name': 'Dairy Queen', 'slug': 'dairy-queen'},\n",
       " {'name': \"Denny's\", 'slug': 'dennys'},\n",
       " {'name': 'El Pollo Loco', 'slug': 'el-pollo-loco'},\n",
       " {'name': 'FATZ', 'slug': 'fatz'},\n",
       " {'name': \"Fazoli's\", 'slug': 'fazolis'},\n",
       " {'name': 'Five Guys Burgers and Fries',\n",
       "  'slug': 'five-guys-burgers-and-fries'},\n",
       " {'name': 'Golden Chick', 'slug': 'golden-chick'},\n",
       " {'name': \"Hardee's\", 'slug': 'hardees'},\n",
       " {'name': 'IHOP', 'slug': 'ihop'},\n",
       " {'name': 'In-N-Out Burger', 'slug': 'in-n-out-burger'},\n",
       " {'name': 'Jack in the Box', 'slug': 'jack-in-the-box'},\n",
       " {'name': 'Jimmy Johns', 'slug': 'jimmy-johns'},\n",
       " {'name': \"Joe's Crab Shack\", 'slug': 'joes-crab-shack'},\n",
       " {'name': 'KFC', 'slug': 'kfc'},\n",
       " {'name': \"McDonald's\", 'slug': 'mcdonalds'},\n",
       " {'name': \"O'Charley's\", 'slug': 'ocharleys'},\n",
       " {'name': 'Olive Garden', 'slug': 'olive-garden'},\n",
       " {'name': 'Outback Steakhouse', 'slug': 'outback-steakhouse'},\n",
       " {'name': 'Panda Express', 'slug': 'panda-express'},\n",
       " {'name': 'Panera Bread', 'slug': 'panera-bread'},\n",
       " {'name': \"Popeye's\", 'slug': 'popeyes'},\n",
       " {'name': 'Quiznos', 'slug': 'quiznos'},\n",
       " {'name': 'Red Robin Gourmet Burgers', 'slug': 'red-robin-gourmet-burgers'},\n",
       " {'name': \"Romano's Macaroni Grill\", 'slug': 'romanos-macaroni-grill'},\n",
       " {'name': 'Ruby Tuesday', 'slug': 'ruby-tuesday'},\n",
       " {'name': 'Subway', 'slug': 'subway'},\n",
       " {'name': 'Taco Bell', 'slug': 'taco-bell'},\n",
       " {'name': 'Taco Bueno', 'slug': 'taco-bueno'},\n",
       " {'name': \"Wendy's\", 'slug': 'wendys'}]"
      ]
     },
     "execution_count": 119,
     "metadata": {},
     "output_type": "execute_result"
    }
   ],
   "source": [
    "restaurants"
   ]
  },
  {
   "cell_type": "markdown",
   "metadata": {},
   "source": [
    "### Step 3: Using the slug, scrape each restaurant's page and create a single list of food dictionaries.\n",
    "\n",
    "Your list of foods should look something like this:\n",
    "```python\n",
    "foods = [\n",
    "    {\n",
    "        'calories': '0',\n",
    "        'carbs': '0',\n",
    "        'category': 'Drinks',\n",
    "        'fat': '0',\n",
    "        'name': 'A&W® Diet Root Beer',\n",
    "        'restaurant': 'A&W Restaurants'\n",
    "    },\n",
    "    {\n",
    "        'calories': '0',\n",
    "        'carbs': '0',\n",
    "        'category': 'Drinks',\n",
    "        'fat': '0',\n",
    "        'name': 'A&W® Diet Root Beer',\n",
    "        'restaurant': 'A&W Restaurants'\n",
    "    },\n",
    "    ...\n",
    "]\n",
    "```\n",
    "\n",
    "**Note**: Remove extra white space from each category"
   ]
  },
  {
   "cell_type": "code",
   "execution_count": 120,
   "metadata": {},
   "outputs": [],
   "source": [
    "url_page = 'http://chubbygrub.com/restaurants/aw-restaurants/'\n",
    "res_page = requests.get(url_page)\n",
    "soup_page = BeautifulSoup(res_page.content, 'lxml')"
   ]
  },
  {
   "cell_type": "code",
   "execution_count": 132,
   "metadata": {},
   "outputs": [
    {
     "name": "stdout",
     "output_type": "stream",
     "text": [
      "aw-restaurants <class 'str'>\n",
      "applebees <class 'str'>\n",
      "arbys <class 'str'>\n",
      "atlanta-bread-company <class 'str'>\n",
      "bojangles-famous-chicken-n-biscuits <class 'str'>\n",
      "buffalo-wild-wings <class 'str'>\n",
      "burger-king <class 'str'>\n",
      "captain-ds <class 'str'>\n",
      "carls-jr <class 'str'>\n",
      "charleys-grilled-subs <class 'str'>\n",
      "chick-fil-a <class 'str'>\n",
      "chilis <class 'str'>\n",
      "chipotle-mexican-grill <class 'str'>\n",
      "churchs <class 'str'>\n",
      "corner-bakery-cafe <class 'str'>\n",
      "dairy-queen <class 'str'>\n",
      "dennys <class 'str'>\n",
      "el-pollo-loco <class 'str'>\n",
      "fatz <class 'str'>\n",
      "fazolis <class 'str'>\n",
      "five-guys-burgers-and-fries <class 'str'>\n",
      "golden-chick <class 'str'>\n",
      "hardees <class 'str'>\n",
      "ihop <class 'str'>\n",
      "in-n-out-burger <class 'str'>\n",
      "jack-in-the-box <class 'str'>\n",
      "jimmy-johns <class 'str'>\n",
      "joes-crab-shack <class 'str'>\n",
      "kfc <class 'str'>\n",
      "mcdonalds <class 'str'>\n",
      "ocharleys <class 'str'>\n",
      "olive-garden <class 'str'>\n",
      "outback-steakhouse <class 'str'>\n",
      "panda-express <class 'str'>\n",
      "panera-bread <class 'str'>\n",
      "popeyes <class 'str'>\n",
      "quiznos <class 'str'>\n",
      "red-robin-gourmet-burgers <class 'str'>\n",
      "romanos-macaroni-grill <class 'str'>\n",
      "ruby-tuesday <class 'str'>\n",
      "subway <class 'str'>\n",
      "taco-bell <class 'str'>\n",
      "taco-bueno <class 'str'>\n",
      "wendys <class 'str'>\n"
     ]
    }
   ],
   "source": [
    "for v in restaurants:\n",
    "    print(v['slug'], type(v['slug']))"
   ]
  },
  {
   "cell_type": "code",
   "execution_count": 135,
   "metadata": {},
   "outputs": [],
   "source": [
    "all_data = []\n",
    "\n",
    "for restaurant in restaurants:\n",
    "    url_page = 'http://chubbygrub.com/restaurants/' + restaurant['slug']\n",
    "    res_page = requests.get(url_page)\n",
    "    soup_page = BeautifulSoup(res_page.content, 'lxml')\n",
    "    \n",
    "    for page in soup_page.find_all('tr')[1:]:\n",
    "        ind_data = {}\n",
    "        ind_data['restaurant'] = restaurant['name']\n",
    "        ind_data['name'] = page.find('td', {'itemprop':'name'}).text\n",
    "        ind_data['calories'] = page.find('td', {'itemprop':'calories'}).text\n",
    "        ind_data['fat'] = page.find('td', {'itemprop':'fatContent'}).text\n",
    "        ind_data['carbs'] = page.find('td', {'itemprop':'carbohydrateContent'}).text\n",
    "        all_data.append(ind_data)\n",
    "    \n",
    "df = pd.DataFrame(all_data)"
   ]
  },
  {
   "cell_type": "code",
   "execution_count": 136,
   "metadata": {},
   "outputs": [
    {
     "data": {
      "text/plain": [
       "(4977, 5)"
      ]
     },
     "execution_count": 136,
     "metadata": {},
     "output_type": "execute_result"
    }
   ],
   "source": [
    "df.shape"
   ]
  },
  {
   "cell_type": "markdown",
   "metadata": {},
   "source": [
    "### Step 5: Export to csv\n",
    "\n",
    "**Note:** Don't export the index column from your DataFrame"
   ]
  },
  {
   "cell_type": "code",
   "execution_count": 137,
   "metadata": {},
   "outputs": [],
   "source": [
    "df.to_csv('food.csv', index=False)"
   ]
  },
  {
   "cell_type": "code",
   "execution_count": null,
   "metadata": {},
   "outputs": [],
   "source": []
  }
 ],
 "metadata": {
  "kernelspec": {
   "display_name": "Python 3",
   "language": "python",
   "name": "python3"
  },
  "language_info": {
   "codemirror_mode": {
    "name": "ipython",
    "version": 3
   },
   "file_extension": ".py",
   "mimetype": "text/x-python",
   "name": "python",
   "nbconvert_exporter": "python",
   "pygments_lexer": "ipython3",
   "version": "3.7.3"
  }
 },
 "nbformat": 4,
 "nbformat_minor": 2
}
