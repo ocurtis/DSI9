{
 "cells": [
  {
   "cell_type": "markdown",
   "metadata": {},
   "source": [
    "# 4. Model Selection\n",
    "***"
   ]
  },
  {
   "cell_type": "markdown",
   "metadata": {},
   "source": [
    "To recap, so far we have read in our data, cleaned our data, and engineered some new features. We have broken out our future training data in three ways: \n",
    "\n",
    " - *Joke Text*\n",
    " - *Comment Text*\n",
    " - *Joke and Comment Text*\n",
    "\n",
    "In this notebook, we will focus on some **additional pre-processing steps** that will aid us in model selection. We will also **iteratively build and score models** to select the best performer. We'll then test our NLP model against a more traditional Logistic Regression model using a significantly simpler set of features. Finally, we will take some time to explore our results to understand what differentiates r/DadJokes from r/Jokes in the eyes of a model.\n",
    "**Executive Summary**\n",
    " - [Word Lemmatization](#Build-Lemmatized-Feature-Set)\n",
    " - [Model Setup](#Model-Setup)\n",
    " - [Vectorization and Model Building](#Vectorization-and-Model-Building)\n",
    " - [Model Evaluation](#Model-Evaluation)\n",
    " - [Alternative Non-NLP Model](#Alternative-Non-NLP-Model)\n",
    " - [Differentiating Features](#Differentiating-Features)"
   ]
  },
  {
   "cell_type": "markdown",
   "metadata": {},
   "source": [
    "### Libraries"
   ]
  },
  {
   "cell_type": "code",
   "execution_count": 599,
   "metadata": {},
   "outputs": [],
   "source": [
    "import pandas as pd\n",
    "from bs4 import BeautifulSoup\n",
    "import numpy as np\n",
    "import time\n",
    "import requests\n",
    "import seaborn as sns\n",
    "import warnings\n",
    "import matplotlib.pyplot as plt\n",
    "\n",
    "import nltk\n",
    "from nltk.stem import PorterStemmer\n",
    "\n",
    "from sklearn.pipeline import Pipeline\n",
    "from sklearn.model_selection import train_test_split, GridSearchCV\n",
    "from sklearn.linear_model import LogisticRegression, LogisticRegressionCV\n",
    "from sklearn.neighbors import KNeighborsClassifier\n",
    "from sklearn.svm import SVC\n",
    "from sklearn.metrics import recall_score\n",
    "from sklearn.ensemble import RandomForestClassifier, BaggingClassifier, GradientBoostingClassifier, AdaBoostClassifier, VotingClassifier\n",
    "from sklearn.feature_extraction.text import CountVectorizer, TfidfVectorizer\n",
    "from sklearn.neighbors import KNeighborsClassifier\n",
    "from sklearn.naive_bayes import MultinomialNB, GaussianNB, BernoulliNB\n"
   ]
  },
  {
   "cell_type": "code",
   "execution_count": 560,
   "metadata": {},
   "outputs": [],
   "source": [
    "#Read in our latest dataset\n",
    "jokes_df = pd.read_csv('./datasets/jokesclean.csv')"
   ]
  },
  {
   "cell_type": "code",
   "execution_count": 561,
   "metadata": {},
   "outputs": [],
   "source": [
    "#Some of the empty text values are rendered as NaN values when read in. Let's correct this before moving forward\n",
    "jokes_df = jokes_df.fillna('')"
   ]
  },
  {
   "cell_type": "markdown",
   "metadata": {},
   "source": [
    "### Build Lemmatized Feature Set"
   ]
  },
  {
   "cell_type": "markdown",
   "metadata": {},
   "source": [
    "One thing we'll be testing in our models is the effectiveness of **lemmatizing** our text. This involves reducing our words to their base forms-- that is, eliminating inflections of words (snowed vs snow, for example). In the below section, we will follow this general process across jokes, comments, and jokes and commentx combined:\n",
    " - Tokenizer our strings to pull out and build a list of words\n",
    " - Apply lemmatization to our list of words, reducing them to root form, and reassemble our text\n",
    " - Store the \"lemmatized\" version of our text into a new column\n",
    "\n",
    "The code in this section was made possible through the incorporation of concepts taken from **StackOverflow**. Specifically, the tokenization/lemmitization steps were adapted from a number of responses to NLP related questions on their platform."
   ]
  },
  {
   "cell_type": "code",
   "execution_count": 562,
   "metadata": {},
   "outputs": [],
   "source": [
    "#First step here is to tokenize our strings. Instatiate a WhiteSpace Tokenizer and Word Lemmatizer to later application\n",
    "w_tokenizer = nltk.tokenize.WhitespaceTokenizer()\n",
    "lemmatizer = nltk.stem.WordNetLemmatizer()"
   ]
  },
  {
   "cell_type": "code",
   "execution_count": 563,
   "metadata": {},
   "outputs": [],
   "source": [
    "#Build a function that takes in a column, and lemmatizes it\n",
    "def lemmatize(column):\n",
    "    lemmatizer = nltk.stem.WordNetLemmatizer()\n",
    "    lemmatized = column.apply(\n",
    "            lambda row: list(list(map(lemmatizer.lemmatize,y)) for y in row))\n",
    "    return lemmatized"
   ]
  },
  {
   "cell_type": "code",
   "execution_count": 565,
   "metadata": {},
   "outputs": [],
   "source": [
    "#Build new columns that are tokenized versions of the original text\n",
    "jokes_df['tokenized_joke'] = jokes_df.apply(lambda row: nltk.word_tokenize(row['joke']), axis=1)\n",
    "jokes_df['tokenized_comment'] = jokes_df.apply(lambda row: nltk.word_tokenize(row['comment_text']), axis=1)\n",
    "jokes_df['tokenized_full_text'] = jokes_df.apply(lambda row: nltk.word_tokenize(row['full_text']), axis=1)"
   ]
  },
  {
   "cell_type": "code",
   "execution_count": 566,
   "metadata": {},
   "outputs": [],
   "source": [
    "#Using these new tokenized columns, now apply the lemmatizer, re-join our words \n",
    "#and assign our new lemmatized strings to new columns\n",
    "\n",
    "jokes_df['joke_lemmatized'] = jokes_df['tokenized_joke'].apply(\n",
    "            lambda row: \" \".join(list(list(map(lemmatizer.lemmatize,row)))))\n",
    "jokes_df['comment_lemmatized'] = jokes_df['tokenized_comment'].apply(\n",
    "            lambda row: \" \".join(list(list(map(lemmatizer.lemmatize,row)))))\n",
    "jokes_df['full_text_lemmatized'] = jokes_df['tokenized_full_text'].apply(\n",
    "            lambda row: \" \".join(list(list(map(lemmatizer.lemmatize,row)))))"
   ]
  },
  {
   "cell_type": "markdown",
   "metadata": {},
   "source": [
    "****\n",
    "# Model Setup"
   ]
  },
  {
   "cell_type": "markdown",
   "metadata": {},
   "source": [
    "At this point, we're ready to start training and assessing models. We will be iteratively building models with the following inputs. Each combination of data and model will be scored against the training and test sets to asess bias-variance.\n",
    "\n",
    "**Training Data**\n",
    " - Joke Text; Comment Text; Joke AND Comment Text\n",
    " - Lemmatized vs Non-Lemmatized Text\n",
    " - CountVectorization vs TfidfVecorization\n",
    " \n",
    "**Models**\n",
    " - Logistic, Bayesian, RandomForestClassifier, GradientBoostingClassifier, Adaboost, SVM, Kneighbors\n",
    " - Model specific Parameter grids\n",
    " - CountVector / TfidfVector parameter grids\n",
    "\n",
    "Before moving forward, we need to make a couple of quick tweaks. The classification here is binary, so we'll translate our *'subreddit'* column to reflect this. We also take a peek at the value counts of our target to understand the **baseline** which is currently at 58%. This will be essential to understanding model performance."
   ]
  },
  {
   "cell_type": "markdown",
   "metadata": {},
   "source": [
    "### Train Test Splits\n"
   ]
  },
  {
   "cell_type": "markdown",
   "metadata": {},
   "source": [
    "As mentioned before, we have a number of different training data sets to test. Here we'll leverage train_test_split to build our training data sets-- of which there at **6 in total**."
   ]
  },
  {
   "cell_type": "code",
   "execution_count": 567,
   "metadata": {},
   "outputs": [],
   "source": [
    "#Separate out our target\n",
    "y = jokes_df['subreddit']"
   ]
  },
  {
   "cell_type": "code",
   "execution_count": 568,
   "metadata": {},
   "outputs": [
    {
     "data": {
      "text/plain": [
       "1    0.58\n",
       "0    0.42\n",
       "Name: subreddit, dtype: float64"
      ]
     },
     "execution_count": 568,
     "metadata": {},
     "output_type": "execute_result"
    }
   ],
   "source": [
    "#Take a look at our baseline to better understand model performance\n",
    "y.value_counts(normalize=True).round(2)"
   ]
  },
  {
   "cell_type": "markdown",
   "metadata": {},
   "source": [
    "#### Training Data Variations (No Lemmatization)"
   ]
  },
  {
   "cell_type": "code",
   "execution_count": 569,
   "metadata": {},
   "outputs": [],
   "source": [
    "#Build training data set for joke text, non-lemmatized\n",
    "X_joke = jokes_df['joke']\n",
    "X_train_joke, X_test_joke, y_train, y_test = train_test_split(X_joke,y,test_size=0.33,stratify=y,random_state=42)\n",
    "\n",
    "#Build training data set for comment text, non-lemmatized\n",
    "X_comment = jokes_df['comment_text']\n",
    "X_train_comment, X_test_comment, __, __ = train_test_split(X_comment,y,test_size=0.33,stratify=y,random_state=42)\n",
    "\n",
    "#Build training data set for ALL text, non-lemmatized\n",
    "X_fulltext = jokes_df['full_text']\n",
    "X_train_fulltext, X_test_fulltext, __, __ = train_test_split(X_fulltext,y,test_size=0.33,stratify=y,random_state=42)"
   ]
  },
  {
   "cell_type": "markdown",
   "metadata": {},
   "source": [
    "#### Training Data Variations (Lemmatization)"
   ]
  },
  {
   "cell_type": "code",
   "execution_count": 570,
   "metadata": {},
   "outputs": [],
   "source": [
    "#Build training data set for joke text, lemmatized\n",
    "X_jokes_lem = jokes_df['joke_lemmatized']\n",
    "X_train_joke_lem, X_test_joke_lem, __, __ = train_test_split(X_jokes_lem,y,test_size=0.33,stratify=y,random_state=42)\n",
    "\n",
    "#Build training data set for comment text, lemmatized\n",
    "X_comment_lem = jokes_df['comment_lemmatized']\n",
    "X_train_comment_lem, X_test_comment_lem, __, __ = train_test_split(X_comment_lem,y,test_size=0.33,stratify=y,random_state=42)\n",
    "\n",
    "#Build training data set for ALL text, lemmatized\n",
    "X_fulltext_lem = jokes_df['full_text_lemmatized']\n",
    "X_train_fulltext_lem, X_test_fulltext_lem, __, __ = train_test_split(X_fulltext_lem,y,test_size=0.33,stratify=y,random_state=42)"
   ]
  },
  {
   "cell_type": "markdown",
   "metadata": {},
   "source": [
    "****\n",
    "# <span style=\"color:black\">**Vectorization and Model Building**</span>"
   ]
  },
  {
   "cell_type": "markdown",
   "metadata": {},
   "source": [
    "Now, with cleaned data, engineered features, and train/test splits prepared, we're ready to move into the modeling phases. Because we're dealing with a number of different model types, we are going to start by constructing **param grids** for our vectorizers (CountVectorizer, TfIdfVectorizer). **Vecorization** of our text data is an essential step in NLP-- it enables us to numerically represent text data. In the case of *CountVectorizer*, each word in our corpus is translated into a feature, and counts the word frequencies. It's a simple representation of our text. In the case of *TfidfVectorizer*, words that occur more frequently are weighted higher in our model; words that do not appear frequently recieve lower weighting. This approach helps to drown out some of the noise in our text data. \n",
    "\n",
    "Below, we will build paramater grids for both of these objects to understand what the optimal combination of parameters are. In our case, we'll look at **max features**, **ngram range**, **min_df**, and **stop words**. Max features establishes a cutoff for the number of words presented in our model; n-gram range refers to our ability to couple words together to prevent context from being lost when tokenizing our words; min_df refers to the document-level frequency threshold that needs to be met by a word to be part of our model; stopwords refer to whether or not our model will strip out common english language terms, or keep them in. In the case of the stop words, this is particularly interesting to test for jokes, which can be quite short in length."
   ]
  },
  {
   "cell_type": "code",
   "execution_count": 571,
   "metadata": {},
   "outputs": [],
   "source": [
    "#Establish a param grid for our CountVectorizer and Tfidf Vectorizer\n",
    "vect_params = {\n",
    "           'cvec': \n",
    "                   {\n",
    "                'vectorizer__max_features': [1200,1500],\n",
    "                'vectorizer__ngram_range': [(1,1),(1,2)],\n",
    "                'vectorizer__min_df' : [2,5],\n",
    "                'vectorizer__stop_words': [None,'english']\n",
    "                    },\n",
    "           'tvec': \n",
    "                    {\n",
    "                'vectorizer__max_features': [1200,1500],\n",
    "                'vectorizer__ngram_range': [(1,1),(1,2)],\n",
    "                'vectorizer__min_df' : [2,5],\n",
    "                'vectorizer__stop_words': [None,'english']\n",
    "                    } \n",
    "         }"
   ]
  },
  {
   "cell_type": "markdown",
   "metadata": {},
   "source": [
    "Next, we will build an additional set of parameter grids for our models. These will vary model to model as the parameters are often different between modeling methods. Things like penaltization (in the case of Logistic Regression, L1 vs L2, for example) will be grid-searched to understand the optimal parameter set. In combination with our vectorizer param grids, this will enable us to fine-tune our models."
   ]
  },
  {
   "cell_type": "code",
   "execution_count": 572,
   "metadata": {},
   "outputs": [],
   "source": [
    "model_params = {\n",
    "            'logistic': \n",
    "                   {     \n",
    "                'model__penalty':['l2','l1'],\n",
    "                'model__C':[.01,0.1, 1]\n",
    "                   },\n",
    "            'mnb': \n",
    "                   {     \n",
    "                   },            \n",
    "            'random': \n",
    "                   { \n",
    "                'model__n_estimators': [100, 150, 200],\n",
    "                'model__max_depth': [None, 2, 4, 6]\n",
    "                   },\n",
    "            'adaboost': \n",
    "                    {\n",
    "                 'model__n_estimators': [50, 100, 150, 200],\n",
    "                 'model__learning_rate': [.1, .5, .9, 1.]\n",
    "                    },\n",
    "            'gradient':\n",
    "                    {\n",
    "                'model__n_estimators': [100, 150, 200],\n",
    "                'model__max_depth': [None, 2,3,4],\n",
    "                'model__learning_rate': [.08, .1, .12]\n",
    "                    },\n",
    "            'svc': \n",
    "                    {\n",
    "#                 'model__C': np.logspace(-2, 2, 5),\n",
    "#                 'model__gamma': np.logspace(-4, 0, 5)\n",
    "                    },\n",
    "            'kneighbors': \n",
    "                    {\n",
    "                'model__n_neighbors': [5, 7, 15],\n",
    "                'model__weights': ['uniform', 'distance']\n",
    "                    }\n",
    "               }"
   ]
  },
  {
   "cell_type": "markdown",
   "metadata": {},
   "source": [
    "The below function will allow us to iteratively build, fit, and score our model variations."
   ]
  },
  {
   "cell_type": "code",
   "execution_count": 573,
   "metadata": {},
   "outputs": [],
   "source": [
    "#Build a function to handle X_train data selection, param_grid selection, pipe construction, and scoring\n",
    "def pipe_fit_score(model, X_type, vect_string='', processing_step=''):\n",
    "    \n",
    "    #set pipe params to zero as we will build this over the course of the function\n",
    "    pipe_params={}\n",
    "\n",
    "    #################################################\n",
    "    #Here, we check for the processing_step and X_type arguments to determine which training set we will use\n",
    "    if ((X_type == 'joke') & (processing_step == 'none')):\n",
    "        X_train_pipe = X_train_joke\n",
    "        X_test_pipe = X_test_joke\n",
    "        \n",
    "    elif ((X_type == 'comment') & (processing_step == 'none')):\n",
    "        X_train_pipe = X_train_comment\n",
    "        X_test_pipe = X_test_comment\n",
    "        \n",
    "    elif ((X_type == 'full_text') & (processing_step == 'none')):\n",
    "        X_train_pipe = X_train_fulltext\n",
    "        X_test_pipe = X_test_fulltext\n",
    "        \n",
    "    elif ((X_type == 'joke') & (processing_step == 'lemmatize')):\n",
    "        X_train_pipe = X_train_joke_lem\n",
    "        X_test_pipe = X_test_joke_lem\n",
    "        \n",
    "    elif ((X_type == 'comment') & (processing_step == 'lemmatize')):\n",
    "        X_train_pipe = X_train_comment_lem\n",
    "        X_test_pipe = X_test_comment_lem\n",
    "        \n",
    "    elif ((X_type == 'full_text') & (processing_step == 'lemmatize')):\n",
    "        X_train_pipe = X_train_fulltext_lem\n",
    "        X_test_pipe = X_test_fulltext_lem\n",
    "    else:\n",
    "        pass\n",
    "        \n",
    "    ###############################################  \n",
    "    #Here, we check vect_string to set up our param grids for vectorization methods\n",
    "    if vect_string == 'tvec':\n",
    "        pipe_params = vect_params['tvec'].copy()\n",
    "        vectorizer = TfidfVectorizer()\n",
    "    elif vect_string == 'cvec':\n",
    "        pipe_params = vect_params['cvec'].copy()\n",
    "        vectorizer = CountVectorizer()\n",
    "    else:\n",
    "        pass  \n",
    "    \n",
    "   ################################################ \n",
    "   #Check the type of the model passed through. Update param grids to reflect model specific params\n",
    "    if (type(model) == type(LogisticRegression())):\n",
    "        pipe_params.update(model_params['logistic'])\n",
    "    elif (type(model) == type(RandomForestClassifier())):\n",
    "        pipe_params.update(model_params['random'])\n",
    "    elif (type(model) == type(MultinomialNB())):\n",
    "        pipe_params.update(model_params['mnb'])    \n",
    "    elif (type(model) == type(AdaBoostClassifier())):\n",
    "        pipe_params.update(model_params['adaboost'])    \n",
    "    elif (type(model) == type(KNeighborsClassifier())):\n",
    "        pipe_params.update(model_params['kneighbors'])  \n",
    "    elif (type(model) == type(SVC())):\n",
    "        pipe_params.update(model_params['svc'])  \n",
    "    elif (type(model) == type(GradientBoostingClassifier())):\n",
    "        pipe_params.update(model_params['gradient'])  \n",
    "    else:\n",
    "        pass\n",
    "\n",
    " \n",
    "   ################################################   \n",
    "   #Build pipeline here that we'll pass to GridSearchCV\n",
    "    pipe = Pipeline([\n",
    "        ('vectorizer', vectorizer),\n",
    "        ('model' , model)\n",
    "    ])\n",
    "    \n",
    "    #Build gridsearch object using the parameter grid we constructed\n",
    "    gs = GridSearchCV(pipe, \n",
    "                      pipe_params, \n",
    "                      cv=3)\n",
    "    \n",
    "    #Fit model and grab the best combination of parameters\n",
    "    gs.fit(X_train_pipe,y_train)\n",
    "    gs_model = gs.best_estimator_\n",
    "    \n",
    "    #REturn the scores against test and train\n",
    "    return(gs.best_score_, gs.score(X_test_pipe, y_test), gs_model.get_params)\n",
    "    "
   ]
  },
  {
   "cell_type": "markdown",
   "metadata": {},
   "source": [
    "Here, we pass into our function pipe_fit_score all possible combinations for our model builds. We will then take the scores and parameters produced by the function and store it in a dataframe. This will allow us to see all the scores for every combination we produced."
   ]
  },
  {
   "cell_type": "code",
   "execution_count": 574,
   "metadata": {
    "scrolled": true
   },
   "outputs": [],
   "source": [
    "#Build a df that will be home to our model scores and outputs\n",
    "model_df2 = pd.DataFrame(columns=['model', 'data',\n",
    "                           'processing', 'vectorizer', 'train_accuracy', 'test_accuracy'])\n",
    "\n",
    "#Prevent warnings from flooding the screen\n",
    "with warnings.catch_warnings():\n",
    "   \n",
    "    # ignore all caught warnings\n",
    "    warnings.filterwarnings(\"ignore\")\n",
    "\n",
    "    #Lists of the varities of inputs/models\n",
    "    train_types = ['joke','comment','full_text']\n",
    "    vector_types = ['cvec','tvec']\n",
    "    processing_steps = ['none','lemmatize']\n",
    "    model_types = [GradientBoostingClassifier(random_state=42),AdaBoostClassifier(), MultinomialNB(), \n",
    "                   RandomForestClassifier(random_state=42), LogisticRegression(), KNeighborsClassifier(), SVC()]\n",
    "\n",
    "    #Nested for loops will go along each of our lists, producing a model to a temporary dict.\n",
    "    #That dict is then passed over to our model dataframe\n",
    "    for model in model_types:\n",
    "        for processing_step in processing_steps:    \n",
    "            for train_type in train_types:\n",
    "                for vector_type in vector_types:\n",
    "                    \n",
    "                    model_output = {}\n",
    "                    model_output['model'] = type(model)\n",
    "                    model_output['data'] = train_type  \n",
    "                    model_output['processing'] = processing_step\n",
    "                    model_output['vectorizer'] = vector_type\n",
    "                    model_output['train_accuracy'], model_output['test_accuracy'],  model_output['params']= pipe_fit_score(model,train_type,vector_type,processing_step)\n",
    "                    \n",
    "                    model_df2 = model_df2.append(model_output, ignore_index=True)\n"
   ]
  },
  {
   "cell_type": "code",
   "execution_count": 580,
   "metadata": {},
   "outputs": [],
   "source": [
    "model_df2.to_csv('./datasets/modeloutput.csv', index=False)"
   ]
  },
  {
   "cell_type": "markdown",
   "metadata": {},
   "source": [
    "***\n",
    "## Model Evaluation"
   ]
  },
  {
   "cell_type": "markdown",
   "metadata": {},
   "source": [
    "With our function, we're now able to look across model combinations to find the optimal option for us. Many different model options were tested with varying inputs, so we will read into a DataFrame to assess. WE'll quickly clean up this dataframe slightly -- replacing model names and making sure data types are correct for aggregation.\n",
    "\n",
    "After that is complete, let's go through each of the below questions and answer them:\n",
    "\n",
    "- **Did we see any improvements with lemmatized data?** *We hypothesize that, given the nature of jokes (short, simple), lemmatization will not have a significant impact*\n",
    "- **How does accuracy vary by text source (joke, comment, full text)?** *We hypothesize that more text (i.e. combining jokes and comments) will enhance our model*\n",
    "- **Which vectorizer approach was best?** *We hypothesize that TfidfVectorizer will outperform the simpler approach of CountVectorizer*\n",
    "- **Which model produced the strongest accuracy?** We hypothesize that a simpler classification approach will produce better results."
   ]
  },
  {
   "cell_type": "code",
   "execution_count": 581,
   "metadata": {},
   "outputs": [
    {
     "data": {
      "text/html": [
       "<div>\n",
       "<style scoped>\n",
       "    .dataframe tbody tr th:only-of-type {\n",
       "        vertical-align: middle;\n",
       "    }\n",
       "\n",
       "    .dataframe tbody tr th {\n",
       "        vertical-align: top;\n",
       "    }\n",
       "\n",
       "    .dataframe thead th {\n",
       "        text-align: right;\n",
       "    }\n",
       "</style>\n",
       "<table border=\"1\" class=\"dataframe\">\n",
       "  <thead>\n",
       "    <tr style=\"text-align: right;\">\n",
       "      <th></th>\n",
       "      <th>model</th>\n",
       "      <th>data</th>\n",
       "      <th>processing</th>\n",
       "      <th>vectorizer</th>\n",
       "      <th>train_accuracy</th>\n",
       "      <th>test_accuracy</th>\n",
       "      <th>params</th>\n",
       "    </tr>\n",
       "  </thead>\n",
       "  <tbody>\n",
       "    <tr>\n",
       "      <td>10</td>\n",
       "      <td>&lt;class 'sklearn.ensemble.gradient_boosting.Gra...</td>\n",
       "      <td>full_text</td>\n",
       "      <td>lemmatize</td>\n",
       "      <td>cvec</td>\n",
       "      <td>0.678821</td>\n",
       "      <td>0.697638</td>\n",
       "      <td>&lt;bound method Pipeline.get_params of Pipeline(...</td>\n",
       "    </tr>\n",
       "    <tr>\n",
       "      <td>46</td>\n",
       "      <td>&lt;class 'sklearn.ensemble.forest.RandomForestCl...</td>\n",
       "      <td>full_text</td>\n",
       "      <td>lemmatize</td>\n",
       "      <td>cvec</td>\n",
       "      <td>0.684251</td>\n",
       "      <td>0.696063</td>\n",
       "      <td>&lt;bound method Pipeline.get_params of Pipeline(...</td>\n",
       "    </tr>\n",
       "    <tr>\n",
       "      <td>47</td>\n",
       "      <td>&lt;class 'sklearn.ensemble.forest.RandomForestCl...</td>\n",
       "      <td>full_text</td>\n",
       "      <td>lemmatize</td>\n",
       "      <td>tvec</td>\n",
       "      <td>0.698991</td>\n",
       "      <td>0.696063</td>\n",
       "      <td>&lt;bound method Pipeline.get_params of Pipeline(...</td>\n",
       "    </tr>\n",
       "    <tr>\n",
       "      <td>11</td>\n",
       "      <td>&lt;class 'sklearn.ensemble.gradient_boosting.Gra...</td>\n",
       "      <td>full_text</td>\n",
       "      <td>lemmatize</td>\n",
       "      <td>tvec</td>\n",
       "      <td>0.677269</td>\n",
       "      <td>0.694488</td>\n",
       "      <td>&lt;bound method Pipeline.get_params of Pipeline(...</td>\n",
       "    </tr>\n",
       "    <tr>\n",
       "      <td>22</td>\n",
       "      <td>&lt;class 'sklearn.ensemble.weight_boosting.AdaBo...</td>\n",
       "      <td>full_text</td>\n",
       "      <td>lemmatize</td>\n",
       "      <td>cvec</td>\n",
       "      <td>0.673390</td>\n",
       "      <td>0.694488</td>\n",
       "      <td>&lt;bound method Pipeline.get_params of Pipeline(...</td>\n",
       "    </tr>\n",
       "  </tbody>\n",
       "</table>\n",
       "</div>"
      ],
      "text/plain": [
       "                                                model       data processing  \\\n",
       "10  <class 'sklearn.ensemble.gradient_boosting.Gra...  full_text  lemmatize   \n",
       "46  <class 'sklearn.ensemble.forest.RandomForestCl...  full_text  lemmatize   \n",
       "47  <class 'sklearn.ensemble.forest.RandomForestCl...  full_text  lemmatize   \n",
       "11  <class 'sklearn.ensemble.gradient_boosting.Gra...  full_text  lemmatize   \n",
       "22  <class 'sklearn.ensemble.weight_boosting.AdaBo...  full_text  lemmatize   \n",
       "\n",
       "   vectorizer  train_accuracy  test_accuracy  \\\n",
       "10       cvec        0.678821       0.697638   \n",
       "46       cvec        0.684251       0.696063   \n",
       "47       tvec        0.698991       0.696063   \n",
       "11       tvec        0.677269       0.694488   \n",
       "22       cvec        0.673390       0.694488   \n",
       "\n",
       "                                               params  \n",
       "10  <bound method Pipeline.get_params of Pipeline(...  \n",
       "46  <bound method Pipeline.get_params of Pipeline(...  \n",
       "47  <bound method Pipeline.get_params of Pipeline(...  \n",
       "11  <bound method Pipeline.get_params of Pipeline(...  \n",
       "22  <bound method Pipeline.get_params of Pipeline(...  "
      ]
     },
     "execution_count": 581,
     "metadata": {},
     "output_type": "execute_result"
    }
   ],
   "source": [
    "#Let's use the csv in case we need to undo any changes to our df\n",
    "model_df = pd.read_csv('./datasets/modeloutput.csv')\n",
    "\n",
    "#Our accuracy scores are reported to be floats but casting them seems to fix an 'ABCMeta' error in our groupby code\n",
    "model_df['test_accuracy'] = model_df['test_accuracy'].astype('float')\n",
    "model_df['train_accuracy'] = model_df['train_accuracy'].astype('float')\n",
    "\n",
    "#Sort our models by test accuracy and assess\n",
    "model_df.sort_values(by='test_accuracy', ascending=False).head(5)"
   ]
  },
  {
   "cell_type": "code",
   "execution_count": 582,
   "metadata": {},
   "outputs": [],
   "source": [
    "#Make model type easier to read in our dataframe\n",
    "model_df.loc[(model_df['model'] == '<class \\'sklearn.ensemble.forest.RandomForestClassifier\\'>'), 'model'] = 'RandomForest'\n",
    "model_df.loc[model_df['model'] == '<class \\'sklearn.ensemble.gradient_boosting.GradientBoostingClassifier\\'>', 'model'] = 'GradientBoost'\n",
    "model_df.loc[model_df['model'] == '<class \\'sklearn.ensemble.weight_boosting.AdaBoostClassifier\\'>', 'model'] = 'AdaBoost'\n",
    "model_df.loc[model_df['model'] == '<class \\'sklearn.linear_model.logistic.LogisticRegression\\'>', 'model'] = 'LogisticReg'\n",
    "model_df.loc[model_df['model'] == '<class \\'sklearn.naive_bayes.MultinomialNB\\'>', 'model'] = 'MultinomialNB'\n",
    "model_df.loc[model_df['model'] == '<class \\'sklearn.neighbors.classification.KNeighborsClassifier\\'>', 'model'] = 'KNeighbors'\n",
    "model_df.loc[model_df['model'] == '<class \\'sklearn.svm.classes.SVC\\'>', 'model'] = 'SVC'\n",
    "model_df['abs_diff'] = abs(model_df['test_accuracy'] - model_df['train_accuracy'])"
   ]
  },
  {
   "cell_type": "markdown",
   "metadata": {},
   "source": [
    "#### *Question: Did we see any improvements with lemmatized data?*\n"
   ]
  },
  {
   "cell_type": "markdown",
   "metadata": {},
   "source": [
    "Looking across our models, there is very little difference in lemmatized vs non-lemmatized data with respect to our training or test data. One theory here as to why this is the case is because we are dealing with joke text data, and corresponding comments which are often joke-related. In these cases, we may be dealing with a very basic vocabulary for the overall corpus, which would mean that lemmatization would have a neglible impact on the accurayc of our model."
   ]
  },
  {
   "cell_type": "code",
   "execution_count": 644,
   "metadata": {
    "scrolled": true
   },
   "outputs": [
    {
     "data": {
      "image/png": "[encoded data removed]",
      "text/plain": [
       "<Figure size 432x288 with 1 Axes>"
      ]
     },
     "metadata": {
      "needs_background": "light"
     },
     "output_type": "display_data"
    }
   ],
   "source": [
    "#Check our average train and test accuracy scores based on Lemmatization vs Non-Lemmatization\n",
    "model_df.groupby('processing')[['train_accuracy','test_accuracy']].mean().plot(kind='bar', ylim=(0,1.2), title='Lemmatized vs Non-Lemmatized');\n",
    "plt.ylabel('Accuracy');\n"
   ]
  },
  {
   "cell_type": "code",
   "execution_count": 584,
   "metadata": {},
   "outputs": [
    {
     "data": {
      "text/html": [
       "<div>\n",
       "<style scoped>\n",
       "    .dataframe tbody tr th:only-of-type {\n",
       "        vertical-align: middle;\n",
       "    }\n",
       "\n",
       "    .dataframe tbody tr th {\n",
       "        vertical-align: top;\n",
       "    }\n",
       "\n",
       "    .dataframe thead th {\n",
       "        text-align: right;\n",
       "    }\n",
       "</style>\n",
       "<table border=\"1\" class=\"dataframe\">\n",
       "  <thead>\n",
       "    <tr style=\"text-align: right;\">\n",
       "      <th></th>\n",
       "      <th>train_accuracy</th>\n",
       "      <th>test_accuracy</th>\n",
       "      <th>abs_diff</th>\n",
       "    </tr>\n",
       "    <tr>\n",
       "      <th>processing</th>\n",
       "      <th></th>\n",
       "      <th></th>\n",
       "      <th></th>\n",
       "    </tr>\n",
       "  </thead>\n",
       "  <tbody>\n",
       "    <tr>\n",
       "      <td>lemmatize</td>\n",
       "      <td>0.641</td>\n",
       "      <td>0.640</td>\n",
       "      <td>0.011</td>\n",
       "    </tr>\n",
       "    <tr>\n",
       "      <td>none</td>\n",
       "      <td>0.641</td>\n",
       "      <td>0.637</td>\n",
       "      <td>0.008</td>\n",
       "    </tr>\n",
       "  </tbody>\n",
       "</table>\n",
       "</div>"
      ],
      "text/plain": [
       "            train_accuracy  test_accuracy  abs_diff\n",
       "processing                                         \n",
       "lemmatize            0.641          0.640     0.011\n",
       "none                 0.641          0.637     0.008"
      ]
     },
     "execution_count": 584,
     "metadata": {},
     "output_type": "execute_result"
    }
   ],
   "source": [
    "#print the values\n",
    "model_df.groupby('processing')[['train_accuracy','test_accuracy', 'abs_diff']].mean().round(3)"
   ]
  },
  {
   "cell_type": "markdown",
   "metadata": {},
   "source": [
    "#### *Question: How did accuracy vary by text source?*\n"
   ]
  },
  {
   "cell_type": "markdown",
   "metadata": {},
   "source": [
    "Here we see some real differentiation across test cells. Our accuracy scores are substantially worse (and only marginally better than our benchmark) when looking at comments only. **Full text** training data appears to be the top performer here, with Joke text data in a close second. Also interesting here to note - Joke text data saw more variance across models. The combination of the two boosted accuracy while also reducing variance, suggesting that our model was potentially starved for data when isolating."
   ]
  },
  {
   "cell_type": "code",
   "execution_count": 643,
   "metadata": {
    "scrolled": true
   },
   "outputs": [
    {
     "data": {
      "image/png": "[encoded data removed]",
      "text/plain": [
       "<Figure size 432x288 with 1 Axes>"
      ]
     },
     "metadata": {
      "needs_background": "light"
     },
     "output_type": "display_data"
    }
   ],
   "source": [
    "#Plot average train and test accuracy scores based on Joke, Comment, Full Text\n",
    "model_df.groupby('data')[['train_accuracy','test_accuracy']].mean().sort_values(by='test_accuracy', ascending=False).plot(kind='bar', ylim=(0,1.2),title='Joke v Comment v Full Text');\n",
    "plt.ylabel('Accuracy');"
   ]
  },
  {
   "cell_type": "code",
   "execution_count": 586,
   "metadata": {
    "scrolled": false
   },
   "outputs": [
    {
     "data": {
      "text/html": [
       "<div>\n",
       "<style scoped>\n",
       "    .dataframe tbody tr th:only-of-type {\n",
       "        vertical-align: middle;\n",
       "    }\n",
       "\n",
       "    .dataframe tbody tr th {\n",
       "        vertical-align: top;\n",
       "    }\n",
       "\n",
       "    .dataframe thead th {\n",
       "        text-align: right;\n",
       "    }\n",
       "</style>\n",
       "<table border=\"1\" class=\"dataframe\">\n",
       "  <thead>\n",
       "    <tr style=\"text-align: right;\">\n",
       "      <th></th>\n",
       "      <th>train_accuracy</th>\n",
       "      <th>test_accuracy</th>\n",
       "      <th>abs_diff</th>\n",
       "    </tr>\n",
       "    <tr>\n",
       "      <th>data</th>\n",
       "      <th></th>\n",
       "      <th></th>\n",
       "      <th></th>\n",
       "    </tr>\n",
       "  </thead>\n",
       "  <tbody>\n",
       "    <tr>\n",
       "      <td>comment</td>\n",
       "      <td>0.606</td>\n",
       "      <td>0.602</td>\n",
       "      <td>0.009</td>\n",
       "    </tr>\n",
       "    <tr>\n",
       "      <td>full_text</td>\n",
       "      <td>0.661</td>\n",
       "      <td>0.666</td>\n",
       "      <td>0.009</td>\n",
       "    </tr>\n",
       "    <tr>\n",
       "      <td>joke</td>\n",
       "      <td>0.657</td>\n",
       "      <td>0.648</td>\n",
       "      <td>0.011</td>\n",
       "    </tr>\n",
       "  </tbody>\n",
       "</table>\n",
       "</div>"
      ],
      "text/plain": [
       "           train_accuracy  test_accuracy  abs_diff\n",
       "data                                              \n",
       "comment             0.606          0.602     0.009\n",
       "full_text           0.661          0.666     0.009\n",
       "joke                0.657          0.648     0.011"
      ]
     },
     "execution_count": 586,
     "metadata": {},
     "output_type": "execute_result"
    }
   ],
   "source": [
    "#Check our average train and test accuracy scores based on Joke, Comment, Full Text\n",
    "model_df.groupby('data')[['train_accuracy','test_accuracy', 'abs_diff']].mean().round(3)"
   ]
  },
  {
   "cell_type": "markdown",
   "metadata": {},
   "source": [
    "#### *Question: Which Vectorizer did best?*\n"
   ]
  },
  {
   "cell_type": "markdown",
   "metadata": {},
   "source": [
    "While accuracy scores are close across vectorizers, our **CountVectorizer** treatment models have the slight edge in terms of accuracy score. One theory we have here is that common words are actually helpful in distinguishing between classes. This is something we'll dig into at a deeper level when assessing word alignment between r/Jokes and r/DadJokes."
   ]
  },
  {
   "cell_type": "code",
   "execution_count": 642,
   "metadata": {},
   "outputs": [
    {
     "data": {
      "image/png": "[encoded data removed]",
      "text/plain": [
       "<Figure size 432x288 with 1 Axes>"
      ]
     },
     "metadata": {
      "needs_background": "light"
     },
     "output_type": "display_data"
    }
   ],
   "source": [
    "#Plot average train and test accuracy scores based on Cvec v Tvec\n",
    "model_df.groupby('vectorizer')[['train_accuracy','test_accuracy']].mean().sort_values(by='test_accuracy', ascending=False).plot(kind='bar', ylim=(0,1.2),title='Vectorizer Type');\n",
    "plt.ylabel('Accuracy');"
   ]
  },
  {
   "cell_type": "code",
   "execution_count": 588,
   "metadata": {
    "scrolled": true
   },
   "outputs": [
    {
     "data": {
      "text/html": [
       "<div>\n",
       "<style scoped>\n",
       "    .dataframe tbody tr th:only-of-type {\n",
       "        vertical-align: middle;\n",
       "    }\n",
       "\n",
       "    .dataframe tbody tr th {\n",
       "        vertical-align: top;\n",
       "    }\n",
       "\n",
       "    .dataframe thead th {\n",
       "        text-align: right;\n",
       "    }\n",
       "</style>\n",
       "<table border=\"1\" class=\"dataframe\">\n",
       "  <thead>\n",
       "    <tr style=\"text-align: right;\">\n",
       "      <th></th>\n",
       "      <th>train_accuracy</th>\n",
       "      <th>test_accuracy</th>\n",
       "      <th>abs_diff</th>\n",
       "    </tr>\n",
       "    <tr>\n",
       "      <th>vectorizer</th>\n",
       "      <th></th>\n",
       "      <th></th>\n",
       "      <th></th>\n",
       "    </tr>\n",
       "  </thead>\n",
       "  <tbody>\n",
       "    <tr>\n",
       "      <td>cvec</td>\n",
       "      <td>0.647</td>\n",
       "      <td>0.644</td>\n",
       "      <td>0.01</td>\n",
       "    </tr>\n",
       "    <tr>\n",
       "      <td>tvec</td>\n",
       "      <td>0.636</td>\n",
       "      <td>0.633</td>\n",
       "      <td>0.01</td>\n",
       "    </tr>\n",
       "  </tbody>\n",
       "</table>\n",
       "</div>"
      ],
      "text/plain": [
       "            train_accuracy  test_accuracy  abs_diff\n",
       "vectorizer                                         \n",
       "cvec                 0.647          0.644      0.01\n",
       "tvec                 0.636          0.633      0.01"
      ]
     },
     "execution_count": 588,
     "metadata": {},
     "output_type": "execute_result"
    }
   ],
   "source": [
    "#Check our average train and test accuracy scores based on CountVec v TfidfVec\n",
    "model_df.groupby('vectorizer')[['train_accuracy','test_accuracy', 'abs_diff']].mean().round(3)"
   ]
  },
  {
   "cell_type": "markdown",
   "metadata": {},
   "source": [
    "#### *Question: Which model produced the strongest accuracy score?*\n"
   ]
  },
  {
   "cell_type": "markdown",
   "metadata": {},
   "source": [
    "Here we start to see some real variation in performance. Two caveats that needs to be addressed before proceeding in this section:\n",
    " - We are looking at cross-validated averages for our train accuracy. In some cases, like Random Forest, breaking about this cross validation score reveals significant variation. While not visualized here, it's important to note\n",
    " - With more time, we would test additional parameter tuning. This performance is a reflection of the ranges we provided to GridSearch\n",
    " \n",
    "In terms of performance across all of our test cells, **Gradient Boost, Logistic Regression, and RandomForest** appear to be top performers in both test accuracy but also variance. Scores are relatively close across the board but there is noticeable dropoff in accuracy when assessing KNeighbors and SVC. With more time, we'd dig into why this is the case. But for now, with the goal of building a stable model, we'll move forward with these top three approaches and build an **Ensemble** model. \n",
    "\n",
    "You can also see the individual model performance in the below table."
   ]
  },
  {
   "cell_type": "code",
   "execution_count": 799,
   "metadata": {
    "scrolled": true
   },
   "outputs": [
    {
     "data": {
      "image/png": "[encoded data removed]",
      "text/plain": [
       "<Figure size 432x288 with 1 Axes>"
      ]
     },
     "metadata": {
      "needs_background": "light"
     },
     "output_type": "display_data"
    }
   ],
   "source": [
    "#Check our average train and test accuracy scores based on Model\n",
    "model_df.groupby('model')[['train_accuracy', 'test_accuracy']].mean().sort_values(by='train_accuracy', ascending=True).plot(kind='barh', xlim=(0,1.2),title='Aggregate Model Performance');\n",
    "plt.xlabel('Accuracy');\n",
    "plt.ylabel('');"
   ]
  },
  {
   "cell_type": "code",
   "execution_count": 771,
   "metadata": {
    "scrolled": true
   },
   "outputs": [
    {
     "data": {
      "text/html": [
       "<div>\n",
       "<style scoped>\n",
       "    .dataframe tbody tr th:only-of-type {\n",
       "        vertical-align: middle;\n",
       "    }\n",
       "\n",
       "    .dataframe tbody tr th {\n",
       "        vertical-align: top;\n",
       "    }\n",
       "\n",
       "    .dataframe thead th {\n",
       "        text-align: right;\n",
       "    }\n",
       "</style>\n",
       "<table border=\"1\" class=\"dataframe\">\n",
       "  <thead>\n",
       "    <tr style=\"text-align: right;\">\n",
       "      <th></th>\n",
       "      <th>train_accuracy</th>\n",
       "      <th>test_accuracy</th>\n",
       "      <th>abs_diff</th>\n",
       "    </tr>\n",
       "    <tr>\n",
       "      <th>model</th>\n",
       "      <th></th>\n",
       "      <th></th>\n",
       "      <th></th>\n",
       "    </tr>\n",
       "  </thead>\n",
       "  <tbody>\n",
       "    <tr>\n",
       "      <td>GradientBoost</td>\n",
       "      <td>0.658</td>\n",
       "      <td>0.656</td>\n",
       "      <td>0.011</td>\n",
       "    </tr>\n",
       "    <tr>\n",
       "      <td>RandomForest</td>\n",
       "      <td>0.657</td>\n",
       "      <td>0.650</td>\n",
       "      <td>0.009</td>\n",
       "    </tr>\n",
       "    <tr>\n",
       "      <td>LogisticReg</td>\n",
       "      <td>0.653</td>\n",
       "      <td>0.650</td>\n",
       "      <td>0.009</td>\n",
       "    </tr>\n",
       "    <tr>\n",
       "      <td>AdaBoost</td>\n",
       "      <td>0.653</td>\n",
       "      <td>0.645</td>\n",
       "      <td>0.014</td>\n",
       "    </tr>\n",
       "    <tr>\n",
       "      <td>MultinomialNB</td>\n",
       "      <td>0.637</td>\n",
       "      <td>0.642</td>\n",
       "      <td>0.009</td>\n",
       "    </tr>\n",
       "    <tr>\n",
       "      <td>KNeighbors</td>\n",
       "      <td>0.625</td>\n",
       "      <td>0.622</td>\n",
       "      <td>0.013</td>\n",
       "    </tr>\n",
       "    <tr>\n",
       "      <td>SVC</td>\n",
       "      <td>0.607</td>\n",
       "      <td>0.604</td>\n",
       "      <td>0.003</td>\n",
       "    </tr>\n",
       "  </tbody>\n",
       "</table>\n",
       "</div>"
      ],
      "text/plain": [
       "               train_accuracy  test_accuracy  abs_diff\n",
       "model                                                 \n",
       "GradientBoost           0.658          0.656     0.011\n",
       "RandomForest            0.657          0.650     0.009\n",
       "LogisticReg             0.653          0.650     0.009\n",
       "AdaBoost                0.653          0.645     0.014\n",
       "MultinomialNB           0.637          0.642     0.009\n",
       "KNeighbors              0.625          0.622     0.013\n",
       "SVC                     0.607          0.604     0.003"
      ]
     },
     "execution_count": 771,
     "metadata": {},
     "output_type": "execute_result"
    }
   ],
   "source": [
    "model_df.groupby('model')[['train_accuracy','test_accuracy', 'abs_diff']].mean().sort_values(by='train_accuracy', ascending=False).round(3)"
   ]
  },
  {
   "cell_type": "code",
   "execution_count": 654,
   "metadata": {},
   "outputs": [
    {
     "data": {
      "text/html": [
       "<div>\n",
       "<style scoped>\n",
       "    .dataframe tbody tr th:only-of-type {\n",
       "        vertical-align: middle;\n",
       "    }\n",
       "\n",
       "    .dataframe tbody tr th {\n",
       "        vertical-align: top;\n",
       "    }\n",
       "\n",
       "    .dataframe thead th {\n",
       "        text-align: right;\n",
       "    }\n",
       "</style>\n",
       "<table border=\"1\" class=\"dataframe\">\n",
       "  <thead>\n",
       "    <tr style=\"text-align: right;\">\n",
       "      <th></th>\n",
       "      <th>data</th>\n",
       "      <th>processing</th>\n",
       "      <th>vectorizer</th>\n",
       "      <th>model</th>\n",
       "      <th>train_accuracy</th>\n",
       "      <th>test_accuracy</th>\n",
       "      <th>abs_diff</th>\n",
       "    </tr>\n",
       "  </thead>\n",
       "  <tbody>\n",
       "    <tr>\n",
       "      <td>10</td>\n",
       "      <td>full_text</td>\n",
       "      <td>lemmatize</td>\n",
       "      <td>cvec</td>\n",
       "      <td>GradientBoost</td>\n",
       "      <td>0.679</td>\n",
       "      <td>0.698</td>\n",
       "      <td>0.019</td>\n",
       "    </tr>\n",
       "    <tr>\n",
       "      <td>46</td>\n",
       "      <td>full_text</td>\n",
       "      <td>lemmatize</td>\n",
       "      <td>cvec</td>\n",
       "      <td>RandomForest</td>\n",
       "      <td>0.684</td>\n",
       "      <td>0.696</td>\n",
       "      <td>0.012</td>\n",
       "    </tr>\n",
       "    <tr>\n",
       "      <td>47</td>\n",
       "      <td>full_text</td>\n",
       "      <td>lemmatize</td>\n",
       "      <td>tvec</td>\n",
       "      <td>RandomForest</td>\n",
       "      <td>0.699</td>\n",
       "      <td>0.696</td>\n",
       "      <td>0.003</td>\n",
       "    </tr>\n",
       "    <tr>\n",
       "      <td>11</td>\n",
       "      <td>full_text</td>\n",
       "      <td>lemmatize</td>\n",
       "      <td>tvec</td>\n",
       "      <td>GradientBoost</td>\n",
       "      <td>0.677</td>\n",
       "      <td>0.694</td>\n",
       "      <td>0.017</td>\n",
       "    </tr>\n",
       "    <tr>\n",
       "      <td>22</td>\n",
       "      <td>full_text</td>\n",
       "      <td>lemmatize</td>\n",
       "      <td>cvec</td>\n",
       "      <td>AdaBoost</td>\n",
       "      <td>0.673</td>\n",
       "      <td>0.694</td>\n",
       "      <td>0.021</td>\n",
       "    </tr>\n",
       "    <tr>\n",
       "      <td>16</td>\n",
       "      <td>full_text</td>\n",
       "      <td>none</td>\n",
       "      <td>cvec</td>\n",
       "      <td>AdaBoost</td>\n",
       "      <td>0.678</td>\n",
       "      <td>0.691</td>\n",
       "      <td>0.013</td>\n",
       "    </tr>\n",
       "    <tr>\n",
       "      <td>23</td>\n",
       "      <td>full_text</td>\n",
       "      <td>lemmatize</td>\n",
       "      <td>tvec</td>\n",
       "      <td>AdaBoost</td>\n",
       "      <td>0.687</td>\n",
       "      <td>0.685</td>\n",
       "      <td>0.002</td>\n",
       "    </tr>\n",
       "    <tr>\n",
       "      <td>35</td>\n",
       "      <td>full_text</td>\n",
       "      <td>lemmatize</td>\n",
       "      <td>tvec</td>\n",
       "      <td>MultinomialNB</td>\n",
       "      <td>0.656</td>\n",
       "      <td>0.685</td>\n",
       "      <td>0.029</td>\n",
       "    </tr>\n",
       "    <tr>\n",
       "      <td>59</td>\n",
       "      <td>full_text</td>\n",
       "      <td>lemmatize</td>\n",
       "      <td>tvec</td>\n",
       "      <td>LogisticReg</td>\n",
       "      <td>0.672</td>\n",
       "      <td>0.683</td>\n",
       "      <td>0.012</td>\n",
       "    </tr>\n",
       "    <tr>\n",
       "      <td>52</td>\n",
       "      <td>full_text</td>\n",
       "      <td>none</td>\n",
       "      <td>cvec</td>\n",
       "      <td>LogisticReg</td>\n",
       "      <td>0.694</td>\n",
       "      <td>0.683</td>\n",
       "      <td>0.010</td>\n",
       "    </tr>\n",
       "    <tr>\n",
       "      <td>40</td>\n",
       "      <td>full_text</td>\n",
       "      <td>none</td>\n",
       "      <td>cvec</td>\n",
       "      <td>RandomForest</td>\n",
       "      <td>0.679</td>\n",
       "      <td>0.682</td>\n",
       "      <td>0.003</td>\n",
       "    </tr>\n",
       "    <tr>\n",
       "      <td>17</td>\n",
       "      <td>full_text</td>\n",
       "      <td>none</td>\n",
       "      <td>tvec</td>\n",
       "      <td>AdaBoost</td>\n",
       "      <td>0.679</td>\n",
       "      <td>0.682</td>\n",
       "      <td>0.003</td>\n",
       "    </tr>\n",
       "    <tr>\n",
       "      <td>4</td>\n",
       "      <td>full_text</td>\n",
       "      <td>none</td>\n",
       "      <td>cvec</td>\n",
       "      <td>GradientBoost</td>\n",
       "      <td>0.683</td>\n",
       "      <td>0.682</td>\n",
       "      <td>0.001</td>\n",
       "    </tr>\n",
       "    <tr>\n",
       "      <td>5</td>\n",
       "      <td>full_text</td>\n",
       "      <td>none</td>\n",
       "      <td>tvec</td>\n",
       "      <td>GradientBoost</td>\n",
       "      <td>0.670</td>\n",
       "      <td>0.677</td>\n",
       "      <td>0.007</td>\n",
       "    </tr>\n",
       "    <tr>\n",
       "      <td>41</td>\n",
       "      <td>full_text</td>\n",
       "      <td>none</td>\n",
       "      <td>tvec</td>\n",
       "      <td>RandomForest</td>\n",
       "      <td>0.691</td>\n",
       "      <td>0.676</td>\n",
       "      <td>0.016</td>\n",
       "    </tr>\n",
       "    <tr>\n",
       "      <td>6</td>\n",
       "      <td>joke</td>\n",
       "      <td>lemmatize</td>\n",
       "      <td>cvec</td>\n",
       "      <td>GradientBoost</td>\n",
       "      <td>0.682</td>\n",
       "      <td>0.676</td>\n",
       "      <td>0.006</td>\n",
       "    </tr>\n",
       "    <tr>\n",
       "      <td>58</td>\n",
       "      <td>full_text</td>\n",
       "      <td>lemmatize</td>\n",
       "      <td>cvec</td>\n",
       "      <td>LogisticReg</td>\n",
       "      <td>0.687</td>\n",
       "      <td>0.676</td>\n",
       "      <td>0.012</td>\n",
       "    </tr>\n",
       "    <tr>\n",
       "      <td>0</td>\n",
       "      <td>joke</td>\n",
       "      <td>none</td>\n",
       "      <td>cvec</td>\n",
       "      <td>GradientBoost</td>\n",
       "      <td>0.694</td>\n",
       "      <td>0.672</td>\n",
       "      <td>0.021</td>\n",
       "    </tr>\n",
       "    <tr>\n",
       "      <td>42</td>\n",
       "      <td>joke</td>\n",
       "      <td>lemmatize</td>\n",
       "      <td>cvec</td>\n",
       "      <td>RandomForest</td>\n",
       "      <td>0.677</td>\n",
       "      <td>0.672</td>\n",
       "      <td>0.005</td>\n",
       "    </tr>\n",
       "    <tr>\n",
       "      <td>1</td>\n",
       "      <td>joke</td>\n",
       "      <td>none</td>\n",
       "      <td>tvec</td>\n",
       "      <td>GradientBoost</td>\n",
       "      <td>0.671</td>\n",
       "      <td>0.671</td>\n",
       "      <td>0.000</td>\n",
       "    </tr>\n",
       "    <tr>\n",
       "      <td>53</td>\n",
       "      <td>full_text</td>\n",
       "      <td>none</td>\n",
       "      <td>tvec</td>\n",
       "      <td>LogisticReg</td>\n",
       "      <td>0.671</td>\n",
       "      <td>0.668</td>\n",
       "      <td>0.003</td>\n",
       "    </tr>\n",
       "    <tr>\n",
       "      <td>54</td>\n",
       "      <td>joke</td>\n",
       "      <td>lemmatize</td>\n",
       "      <td>cvec</td>\n",
       "      <td>LogisticReg</td>\n",
       "      <td>0.671</td>\n",
       "      <td>0.666</td>\n",
       "      <td>0.005</td>\n",
       "    </tr>\n",
       "    <tr>\n",
       "      <td>34</td>\n",
       "      <td>full_text</td>\n",
       "      <td>lemmatize</td>\n",
       "      <td>cvec</td>\n",
       "      <td>MultinomialNB</td>\n",
       "      <td>0.649</td>\n",
       "      <td>0.665</td>\n",
       "      <td>0.015</td>\n",
       "    </tr>\n",
       "    <tr>\n",
       "      <td>12</td>\n",
       "      <td>joke</td>\n",
       "      <td>none</td>\n",
       "      <td>cvec</td>\n",
       "      <td>AdaBoost</td>\n",
       "      <td>0.670</td>\n",
       "      <td>0.661</td>\n",
       "      <td>0.009</td>\n",
       "    </tr>\n",
       "    <tr>\n",
       "      <td>7</td>\n",
       "      <td>joke</td>\n",
       "      <td>lemmatize</td>\n",
       "      <td>tvec</td>\n",
       "      <td>GradientBoost</td>\n",
       "      <td>0.673</td>\n",
       "      <td>0.661</td>\n",
       "      <td>0.012</td>\n",
       "    </tr>\n",
       "  </tbody>\n",
       "</table>\n",
       "</div>"
      ],
      "text/plain": [
       "         data processing vectorizer          model  train_accuracy  \\\n",
       "10  full_text  lemmatize       cvec  GradientBoost           0.679   \n",
       "46  full_text  lemmatize       cvec   RandomForest           0.684   \n",
       "47  full_text  lemmatize       tvec   RandomForest           0.699   \n",
       "11  full_text  lemmatize       tvec  GradientBoost           0.677   \n",
       "22  full_text  lemmatize       cvec       AdaBoost           0.673   \n",
       "16  full_text       none       cvec       AdaBoost           0.678   \n",
       "23  full_text  lemmatize       tvec       AdaBoost           0.687   \n",
       "35  full_text  lemmatize       tvec  MultinomialNB           0.656   \n",
       "59  full_text  lemmatize       tvec    LogisticReg           0.672   \n",
       "52  full_text       none       cvec    LogisticReg           0.694   \n",
       "40  full_text       none       cvec   RandomForest           0.679   \n",
       "17  full_text       none       tvec       AdaBoost           0.679   \n",
       "4   full_text       none       cvec  GradientBoost           0.683   \n",
       "5   full_text       none       tvec  GradientBoost           0.670   \n",
       "41  full_text       none       tvec   RandomForest           0.691   \n",
       "6        joke  lemmatize       cvec  GradientBoost           0.682   \n",
       "58  full_text  lemmatize       cvec    LogisticReg           0.687   \n",
       "0        joke       none       cvec  GradientBoost           0.694   \n",
       "42       joke  lemmatize       cvec   RandomForest           0.677   \n",
       "1        joke       none       tvec  GradientBoost           0.671   \n",
       "53  full_text       none       tvec    LogisticReg           0.671   \n",
       "54       joke  lemmatize       cvec    LogisticReg           0.671   \n",
       "34  full_text  lemmatize       cvec  MultinomialNB           0.649   \n",
       "12       joke       none       cvec       AdaBoost           0.670   \n",
       "7        joke  lemmatize       tvec  GradientBoost           0.673   \n",
       "\n",
       "    test_accuracy  abs_diff  \n",
       "10          0.698     0.019  \n",
       "46          0.696     0.012  \n",
       "47          0.696     0.003  \n",
       "11          0.694     0.017  \n",
       "22          0.694     0.021  \n",
       "16          0.691     0.013  \n",
       "23          0.685     0.002  \n",
       "35          0.685     0.029  \n",
       "59          0.683     0.012  \n",
       "52          0.683     0.010  \n",
       "40          0.682     0.003  \n",
       "17          0.682     0.003  \n",
       "4           0.682     0.001  \n",
       "5           0.677     0.007  \n",
       "41          0.676     0.016  \n",
       "6           0.676     0.006  \n",
       "58          0.676     0.012  \n",
       "0           0.672     0.021  \n",
       "42          0.672     0.005  \n",
       "1           0.671     0.000  \n",
       "53          0.668     0.003  \n",
       "54          0.666     0.005  \n",
       "34          0.665     0.015  \n",
       "12          0.661     0.009  \n",
       "7           0.661     0.012  "
      ]
     },
     "execution_count": 654,
     "metadata": {},
     "output_type": "execute_result"
    }
   ],
   "source": [
    "model_df[['data','processing','vectorizer','model','train_accuracy','test_accuracy', 'abs_diff']].sort_values(by='test_accuracy', ascending=False).round(3).head(25)"
   ]
  },
  {
   "cell_type": "markdown",
   "metadata": {},
   "source": [
    "### Yo Dawg, Heard You Like Models..."
   ]
  },
  {
   "cell_type": "markdown",
   "metadata": {},
   "source": [
    "We're knocking on the door of 70% with our models, but we have not broken it quite yet. We'll now take our top models and inputs and build a **Voting Classifier,** which is a method of ensemble modeling. We'll employ a \"hard vote\" here-- each model will have a vote on what classification a joke is-- in theory this will help each model correct one another. The alternative is a \"soft vote\" but this requires calibration at the model level. With more time and exploration this is something we could consider. Let's see if we can push out accuracy further using this approach."
   ]
  },
  {
   "cell_type": "code",
   "execution_count": 673,
   "metadata": {},
   "outputs": [],
   "source": [
    "#Vectorizer Winner: CountVectorizer()\n",
    "#Pre-Processing Winner: Lemmatization\n",
    "cvec_fulltext_lem_ensemble = CountVectorizer()\n",
    "\n",
    "cvec_fulltext_lem_ensemble.fit(X_train_fulltext_lem)\n",
    "\n",
    "X_train_fulltext_lem_ensemble_cvec = cvec_fulltext_lem_ensemble.transform(X_train_fulltext_lem)\n",
    "X_test_fulltext_lem_ensemble_cvec = cvec_fulltext_lem_ensemble.transform(X_test_fulltext_lem)"
   ]
  },
  {
   "cell_type": "code",
   "execution_count": 789,
   "metadata": {},
   "outputs": [],
   "source": [
    "\n",
    "#Prevent warnings from flooding the screen\n",
    "with warnings.catch_warnings():\n",
    "   \n",
    "    # ignore all caught warnings\n",
    "    warnings.filterwarnings(\"ignore\")\n",
    "    \n",
    "    #Build our VotingClassifer (Oprah Themed) and bring in our top modles based on test accuracy, and low variance. We'll\n",
    "    #use a mix of RandomForest, GradientBoost, Multinomial, and LogisticRegression\n",
    "    xzibit = VotingClassifier([\n",
    "        ('log', LogisticRegression(random_state=42)),\n",
    "        ('tree',  RandomForestClassifier(random_state=42)),\n",
    "        ('mnb',  MultinomialNB()),\n",
    "        ('gb', GradientBoostingClassifier(random_state=42))\n",
    "    ], )\n",
    "    xzibit_params = {\n",
    "#           'gb__n_estimators': [100,150,175],\n",
    "#           'gb__max_depth': [1,2,3,4],\n",
    "          'log__penalty':['l2','l1'],\n",
    "          'log__C':[.01,0.1, 1],  \n",
    "    }\n",
    "    gs_xzibit = GridSearchCV(xzibit, param_grid=xzibit_params, cv=3)\n",
    "    gs_xzibit.fit(X_train_fulltext_lem_ensemble_cvec, y_train)"
   ]
  },
  {
   "cell_type": "code",
   "execution_count": 790,
   "metadata": {},
   "outputs": [
    {
     "name": "stdout",
     "output_type": "stream",
     "text": [
      "0.6873545384018619\n"
     ]
    },
    {
     "data": {
      "text/plain": [
       "0.6976377952755906"
      ]
     },
     "execution_count": 790,
     "metadata": {},
     "output_type": "execute_result"
    }
   ],
   "source": [
    "print(gs_xzibit.best_score_)\n",
    "gs_xzibit.score(X_test_fulltext_lem_ensemble_cvec, y_test)"
   ]
  },
  {
   "cell_type": "markdown",
   "metadata": {},
   "source": [
    "Let's break out these models and see what their probability distributions look like. Ideally, their distributions will not overlap."
   ]
  },
  {
   "cell_type": "code",
   "execution_count": 733,
   "metadata": {},
   "outputs": [
    {
     "name": "stderr",
     "output_type": "stream",
     "text": [
      "C:\\Users\\Owen\\Anaconda3\\lib\\site-packages\\sklearn\\linear_model\\logistic.py:432: FutureWarning: Default solver will be changed to 'lbfgs' in 0.22. Specify a solver to silence this warning.\n",
      "  FutureWarning)\n"
     ]
    }
   ],
   "source": [
    "#Recreate LogRegression model and save probabilities to df\n",
    "lr = LogisticRegression(random_state=42,penalty='l1',C=0.01)\n",
    "lr.fit(X_train_fulltext_lem_ensemble_cvec, y_train)\n",
    "lr_df = pd.DataFrame(lr.predict_proba(X_test_fulltext_lem_ensemble_cvec))"
   ]
  },
  {
   "cell_type": "code",
   "execution_count": 732,
   "metadata": {},
   "outputs": [],
   "source": [
    "#Recreate GradientBoost model and save probabilities to df\n",
    "gb = GradientBoostingClassifier(random_state=42)\n",
    "gb.fit(X_train_fulltext_lem_ensemble_cvec, y_train)\n",
    "gb_df = pd.DataFrame(gb.predict_proba(X_test_fulltext_lem_ensemble_cvec))"
   ]
  },
  {
   "cell_type": "code",
   "execution_count": 751,
   "metadata": {
    "scrolled": true
   },
   "outputs": [
    {
     "name": "stderr",
     "output_type": "stream",
     "text": [
      "C:\\Users\\Owen\\Anaconda3\\lib\\site-packages\\sklearn\\ensemble\\forest.py:245: FutureWarning: The default value of n_estimators will change from 10 in version 0.20 to 100 in 0.22.\n",
      "  \"10 in version 0.20 to 100 in 0.22.\", FutureWarning)\n"
     ]
    }
   ],
   "source": [
    "#Recreate RandomForest model and save probabilities to df\n",
    "rf = RandomForestClassifier(random_state=42)\n",
    "rf.fit(X_train_fulltext_lem_ensemble_cvec, y_train)\n",
    "rf_df = pd.DataFrame(rf.predict_proba(X_test_fulltext_lem_ensemble_cvec))"
   ]
  },
  {
   "cell_type": "code",
   "execution_count": 756,
   "metadata": {},
   "outputs": [],
   "source": [
    "#Recreate Multinomial model and save probabilities to df\n",
    "mnb = MultinomialNB()\n",
    "mnb.fit(X_train_fulltext_lem_ensemble_cvec, y_train)\n",
    "mnb_df = pd.DataFrame(mnb.predict_proba(X_test_fulltext_lem_ensemble_cvec))"
   ]
  },
  {
   "cell_type": "code",
   "execution_count": 802,
   "metadata": {
    "scrolled": false
   },
   "outputs": [
    {
     "data": {
      "image/png": "[encoded data removed]",
      "text/plain": [
       "<Figure size 432x288 with 1 Axes>"
      ]
     },
     "metadata": {
      "needs_background": "light"
     },
     "output_type": "display_data"
    }
   ],
   "source": [
    "#Bring all probs together into one dataframe and plot distributions\n",
    "test_df =pd.concat([lr_df,gb_df,rf_df,mnb_df], ignore_index=True, axis=1)\n",
    "sns.distplot(test_df[0], color='green', kde=False);\n",
    "sns.distplot(test_df[2], color='orange', kde=False);\n",
    "sns.distplot(test_df[4], color='gray', kde=False);\n",
    "sns.distplot(test_df[6], color='red', kde=False, bins=25);\n",
    "plt.xlabel('Negative (r/Joke) Prediction Probabilities');\n"
   ]
  },
  {
   "cell_type": "code",
   "execution_count": 801,
   "metadata": {
    "scrolled": false
   },
   "outputs": [
    {
     "data": {
      "image/png": "[encoded data removed]",
      "text/plain": [
       "<Figure size 432x288 with 1 Axes>"
      ]
     },
     "metadata": {
      "needs_background": "light"
     },
     "output_type": "display_data"
    }
   ],
   "source": [
    "#Bring all probs together into one dataframe and plot distributions\n",
    "test_df =pd.concat([lr_df,gb_df,rf_df,mnb_df], ignore_index=True, axis=1)\n",
    "sns.distplot(test_df[1], color='green', kde=False);\n",
    "sns.distplot(test_df[3], color='orange', kde=False);\n",
    "sns.distplot(test_df[5], color='gray', kde=False);\n",
    "sns.distplot(test_df[7], color='red', kde=False, bins=25);\n",
    "plt.xlabel('Positive (r/DadJoke) Prediction Probabilities');\n"
   ]
  },
  {
   "cell_type": "markdown",
   "metadata": {},
   "source": [
    "***\n",
    "## <span style=\"color:blue\">**Alternative Non-NLP Model**</span>"
   ]
  },
  {
   "cell_type": "markdown",
   "metadata": {},
   "source": [
    "### Setup"
   ]
  },
  {
   "cell_type": "markdown",
   "metadata": {},
   "source": [
    "So far, we have leveraged advanced modeling methods to classify whether or not our text is coming from r/Jokes, or r/DadJokes. Now, we will take a step back and take a simpler approach to see if a significantly culled down list of features, and our knowledge of dad joke constructs, can be an effective classification algorithm. To explore this, we'll return to our original data, and pull in the following features:\n",
    " - Profanity Flag\n",
    " - Pun Flag\n",
    " - Joke_Length\n",
    " - Num_Comments\n",
    " - Setup Dummies (\"What do...\", \"Why do...\")\n",
    "\n",
    "Our hypothesis here is that Dad jokes are clean, often involve puns (recall that we have a list of homophones/homonyms), are shorter in general than normal jokes, and generate less comments than a regular joke. Let's see what we find!"
   ]
  },
  {
   "cell_type": "code",
   "execution_count": 618,
   "metadata": {},
   "outputs": [],
   "source": [
    "#Isolate for the features we're interested in\n",
    "X_additional = jokes_df[['profanity','pun','joke_length', 'num_comments','setup_did you',\n",
    "       'setup_how do', 'setup_what do', 'setup_why do']]"
   ]
  },
  {
   "cell_type": "code",
   "execution_count": 619,
   "metadata": {},
   "outputs": [
    {
     "data": {
      "text/plain": [
       "1    0.58\n",
       "0    0.42\n",
       "Name: subreddit, dtype: float64"
      ]
     },
     "execution_count": 619,
     "metadata": {},
     "output_type": "execute_result"
    }
   ],
   "source": [
    "#Bring back our baseline for reference\n",
    "y.value_counts(normalize=True).round(2)"
   ]
  },
  {
   "cell_type": "code",
   "execution_count": 620,
   "metadata": {},
   "outputs": [],
   "source": [
    "#Create a new train test split for our new feature set\n",
    "X_train_add, X_test_add, y_train, y_test = train_test_split(X_additional,\n",
    "                                                    y,\n",
    "                                                    test_size=0.33,\n",
    "                                                    stratify=y,\n",
    "                                                    random_state=42)"
   ]
  },
  {
   "cell_type": "markdown",
   "metadata": {},
   "source": [
    "### Model"
   ]
  },
  {
   "cell_type": "code",
   "execution_count": 630,
   "metadata": {
    "scrolled": true
   },
   "outputs": [
    {
     "name": "stderr",
     "output_type": "stream",
     "text": [
      "C:\\Users\\Owen\\Anaconda3\\lib\\site-packages\\sklearn\\linear_model\\logistic.py:432: FutureWarning: Default solver will be changed to 'lbfgs' in 0.22. Specify a solver to silence this warning.\n",
      "  FutureWarning)\n",
      "C:\\Users\\Owen\\Anaconda3\\lib\\site-packages\\sklearn\\ensemble\\forest.py:245: FutureWarning: The default value of n_estimators will change from 10 in version 0.20 to 100 in 0.22.\n",
      "  \"10 in version 0.20 to 100 in 0.22.\", FutureWarning)\n",
      "C:\\Users\\Owen\\Anaconda3\\lib\\site-packages\\sklearn\\linear_model\\logistic.py:432: FutureWarning: Default solver will be changed to 'lbfgs' in 0.22. Specify a solver to silence this warning.\n",
      "  FutureWarning)\n",
      "C:\\Users\\Owen\\Anaconda3\\lib\\site-packages\\sklearn\\ensemble\\forest.py:245: FutureWarning: The default value of n_estimators will change from 10 in version 0.20 to 100 in 0.22.\n",
      "  \"10 in version 0.20 to 100 in 0.22.\", FutureWarning)\n",
      "C:\\Users\\Owen\\Anaconda3\\lib\\site-packages\\sklearn\\linear_model\\logistic.py:432: FutureWarning: Default solver will be changed to 'lbfgs' in 0.22. Specify a solver to silence this warning.\n",
      "  FutureWarning)\n",
      "C:\\Users\\Owen\\Anaconda3\\lib\\site-packages\\sklearn\\ensemble\\forest.py:245: FutureWarning: The default value of n_estimators will change from 10 in version 0.20 to 100 in 0.22.\n",
      "  \"10 in version 0.20 to 100 in 0.22.\", FutureWarning)\n",
      "C:\\Users\\Owen\\Anaconda3\\lib\\site-packages\\sklearn\\linear_model\\logistic.py:432: FutureWarning: Default solver will be changed to 'lbfgs' in 0.22. Specify a solver to silence this warning.\n",
      "  FutureWarning)\n",
      "C:\\Users\\Owen\\Anaconda3\\lib\\site-packages\\sklearn\\ensemble\\forest.py:245: FutureWarning: The default value of n_estimators will change from 10 in version 0.20 to 100 in 0.22.\n",
      "  \"10 in version 0.20 to 100 in 0.22.\", FutureWarning)\n",
      "C:\\Users\\Owen\\Anaconda3\\lib\\site-packages\\sklearn\\linear_model\\logistic.py:432: FutureWarning: Default solver will be changed to 'lbfgs' in 0.22. Specify a solver to silence this warning.\n",
      "  FutureWarning)\n",
      "C:\\Users\\Owen\\Anaconda3\\lib\\site-packages\\sklearn\\ensemble\\forest.py:245: FutureWarning: The default value of n_estimators will change from 10 in version 0.20 to 100 in 0.22.\n",
      "  \"10 in version 0.20 to 100 in 0.22.\", FutureWarning)\n",
      "C:\\Users\\Owen\\Anaconda3\\lib\\site-packages\\sklearn\\linear_model\\logistic.py:432: FutureWarning: Default solver will be changed to 'lbfgs' in 0.22. Specify a solver to silence this warning.\n",
      "  FutureWarning)\n",
      "C:\\Users\\Owen\\Anaconda3\\lib\\site-packages\\sklearn\\ensemble\\forest.py:245: FutureWarning: The default value of n_estimators will change from 10 in version 0.20 to 100 in 0.22.\n",
      "  \"10 in version 0.20 to 100 in 0.22.\", FutureWarning)\n",
      "C:\\Users\\Owen\\Anaconda3\\lib\\site-packages\\sklearn\\linear_model\\logistic.py:432: FutureWarning: Default solver will be changed to 'lbfgs' in 0.22. Specify a solver to silence this warning.\n",
      "  FutureWarning)\n",
      "C:\\Users\\Owen\\Anaconda3\\lib\\site-packages\\sklearn\\ensemble\\forest.py:245: FutureWarning: The default value of n_estimators will change from 10 in version 0.20 to 100 in 0.22.\n",
      "  \"10 in version 0.20 to 100 in 0.22.\", FutureWarning)\n",
      "C:\\Users\\Owen\\Anaconda3\\lib\\site-packages\\sklearn\\linear_model\\logistic.py:432: FutureWarning: Default solver will be changed to 'lbfgs' in 0.22. Specify a solver to silence this warning.\n",
      "  FutureWarning)\n",
      "C:\\Users\\Owen\\Anaconda3\\lib\\site-packages\\sklearn\\ensemble\\forest.py:245: FutureWarning: The default value of n_estimators will change from 10 in version 0.20 to 100 in 0.22.\n",
      "  \"10 in version 0.20 to 100 in 0.22.\", FutureWarning)\n",
      "C:\\Users\\Owen\\Anaconda3\\lib\\site-packages\\sklearn\\linear_model\\logistic.py:432: FutureWarning: Default solver will be changed to 'lbfgs' in 0.22. Specify a solver to silence this warning.\n",
      "  FutureWarning)\n",
      "C:\\Users\\Owen\\Anaconda3\\lib\\site-packages\\sklearn\\ensemble\\forest.py:245: FutureWarning: The default value of n_estimators will change from 10 in version 0.20 to 100 in 0.22.\n",
      "  \"10 in version 0.20 to 100 in 0.22.\", FutureWarning)\n",
      "C:\\Users\\Owen\\Anaconda3\\lib\\site-packages\\sklearn\\linear_model\\logistic.py:432: FutureWarning: Default solver will be changed to 'lbfgs' in 0.22. Specify a solver to silence this warning.\n",
      "  FutureWarning)\n",
      "C:\\Users\\Owen\\Anaconda3\\lib\\site-packages\\sklearn\\ensemble\\forest.py:245: FutureWarning: The default value of n_estimators will change from 10 in version 0.20 to 100 in 0.22.\n",
      "  \"10 in version 0.20 to 100 in 0.22.\", FutureWarning)\n",
      "C:\\Users\\Owen\\Anaconda3\\lib\\site-packages\\sklearn\\linear_model\\logistic.py:432: FutureWarning: Default solver will be changed to 'lbfgs' in 0.22. Specify a solver to silence this warning.\n",
      "  FutureWarning)\n",
      "C:\\Users\\Owen\\Anaconda3\\lib\\site-packages\\sklearn\\ensemble\\forest.py:245: FutureWarning: The default value of n_estimators will change from 10 in version 0.20 to 100 in 0.22.\n",
      "  \"10 in version 0.20 to 100 in 0.22.\", FutureWarning)\n",
      "C:\\Users\\Owen\\Anaconda3\\lib\\site-packages\\sklearn\\linear_model\\logistic.py:432: FutureWarning: Default solver will be changed to 'lbfgs' in 0.22. Specify a solver to silence this warning.\n",
      "  FutureWarning)\n",
      "C:\\Users\\Owen\\Anaconda3\\lib\\site-packages\\sklearn\\ensemble\\forest.py:245: FutureWarning: The default value of n_estimators will change from 10 in version 0.20 to 100 in 0.22.\n",
      "  \"10 in version 0.20 to 100 in 0.22.\", FutureWarning)\n",
      "C:\\Users\\Owen\\Anaconda3\\lib\\site-packages\\sklearn\\linear_model\\logistic.py:432: FutureWarning: Default solver will be changed to 'lbfgs' in 0.22. Specify a solver to silence this warning.\n",
      "  FutureWarning)\n",
      "C:\\Users\\Owen\\Anaconda3\\lib\\site-packages\\sklearn\\ensemble\\forest.py:245: FutureWarning: The default value of n_estimators will change from 10 in version 0.20 to 100 in 0.22.\n",
      "  \"10 in version 0.20 to 100 in 0.22.\", FutureWarning)\n",
      "C:\\Users\\Owen\\Anaconda3\\lib\\site-packages\\sklearn\\linear_model\\logistic.py:432: FutureWarning: Default solver will be changed to 'lbfgs' in 0.22. Specify a solver to silence this warning.\n",
      "  FutureWarning)\n",
      "C:\\Users\\Owen\\Anaconda3\\lib\\site-packages\\sklearn\\ensemble\\forest.py:245: FutureWarning: The default value of n_estimators will change from 10 in version 0.20 to 100 in 0.22.\n",
      "  \"10 in version 0.20 to 100 in 0.22.\", FutureWarning)\n",
      "C:\\Users\\Owen\\Anaconda3\\lib\\site-packages\\sklearn\\linear_model\\logistic.py:432: FutureWarning: Default solver will be changed to 'lbfgs' in 0.22. Specify a solver to silence this warning.\n",
      "  FutureWarning)\n",
      "C:\\Users\\Owen\\Anaconda3\\lib\\site-packages\\sklearn\\ensemble\\forest.py:245: FutureWarning: The default value of n_estimators will change from 10 in version 0.20 to 100 in 0.22.\n",
      "  \"10 in version 0.20 to 100 in 0.22.\", FutureWarning)\n",
      "C:\\Users\\Owen\\Anaconda3\\lib\\site-packages\\sklearn\\linear_model\\logistic.py:432: FutureWarning: Default solver will be changed to 'lbfgs' in 0.22. Specify a solver to silence this warning.\n",
      "  FutureWarning)\n",
      "C:\\Users\\Owen\\Anaconda3\\lib\\site-packages\\sklearn\\ensemble\\forest.py:245: FutureWarning: The default value of n_estimators will change from 10 in version 0.20 to 100 in 0.22.\n",
      "  \"10 in version 0.20 to 100 in 0.22.\", FutureWarning)\n",
      "C:\\Users\\Owen\\Anaconda3\\lib\\site-packages\\sklearn\\linear_model\\logistic.py:432: FutureWarning: Default solver will be changed to 'lbfgs' in 0.22. Specify a solver to silence this warning.\n",
      "  FutureWarning)\n",
      "C:\\Users\\Owen\\Anaconda3\\lib\\site-packages\\sklearn\\ensemble\\forest.py:245: FutureWarning: The default value of n_estimators will change from 10 in version 0.20 to 100 in 0.22.\n",
      "  \"10 in version 0.20 to 100 in 0.22.\", FutureWarning)\n",
      "C:\\Users\\Owen\\Anaconda3\\lib\\site-packages\\sklearn\\linear_model\\logistic.py:432: FutureWarning: Default solver will be changed to 'lbfgs' in 0.22. Specify a solver to silence this warning.\n",
      "  FutureWarning)\n",
      "C:\\Users\\Owen\\Anaconda3\\lib\\site-packages\\sklearn\\ensemble\\forest.py:245: FutureWarning: The default value of n_estimators will change from 10 in version 0.20 to 100 in 0.22.\n",
      "  \"10 in version 0.20 to 100 in 0.22.\", FutureWarning)\n",
      "C:\\Users\\Owen\\Anaconda3\\lib\\site-packages\\sklearn\\linear_model\\logistic.py:432: FutureWarning: Default solver will be changed to 'lbfgs' in 0.22. Specify a solver to silence this warning.\n",
      "  FutureWarning)\n",
      "C:\\Users\\Owen\\Anaconda3\\lib\\site-packages\\sklearn\\ensemble\\forest.py:245: FutureWarning: The default value of n_estimators will change from 10 in version 0.20 to 100 in 0.22.\n",
      "  \"10 in version 0.20 to 100 in 0.22.\", FutureWarning)\n"
     ]
    },
    {
     "data": {
      "text/plain": [
       "GridSearchCV(cv=3, error_score='raise-deprecating',\n",
       "             estimator=VotingClassifier(estimators=[('log',\n",
       "                                                     LogisticRegression(C=1.0,\n",
       "                                                                        class_weight=None,\n",
       "                                                                        dual=False,\n",
       "                                                                        fit_intercept=True,\n",
       "                                                                        intercept_scaling=1,\n",
       "                                                                        l1_ratio=None,\n",
       "                                                                        max_iter=100,\n",
       "                                                                        multi_class='warn',\n",
       "                                                                        n_jobs=None,\n",
       "                                                                        penalty='l2',\n",
       "                                                                        random_state=42,\n",
       "                                                                        solver='warn',\n",
       "                                                                        tol=0.0001,\n",
       "                                                                        verbose=0,\n",
       "                                                                        warm_start=False)),\n",
       "                                                    ('tree',\n",
       "                                                     RandomForest...\n",
       "                                                                                n_iter_no_change=None,\n",
       "                                                                                presort='auto',\n",
       "                                                                                random_state=42,\n",
       "                                                                                subsample=1.0,\n",
       "                                                                                tol=0.0001,\n",
       "                                                                                validation_fraction=0.1,\n",
       "                                                                                verbose=0,\n",
       "                                                                                warm_start=False))],\n",
       "                                        flatten_transform=True, n_jobs=None,\n",
       "                                        voting='hard', weights=None),\n",
       "             iid='warn', n_jobs=None,\n",
       "             param_grid={'log__C': [0.01, 0.1, 1],\n",
       "                         'log__penalty': ['l2', 'l1']},\n",
       "             pre_dispatch='2*n_jobs', refit=True, return_train_score=False,\n",
       "             scoring=None, verbose=0)"
      ]
     },
     "execution_count": 630,
     "metadata": {},
     "output_type": "execute_result"
    }
   ],
   "source": [
    "#Leverage Logistic Regression ot model features that are not text based\n",
    "gs_xzibit.fit(X_train_add,y_train)"
   ]
  },
  {
   "cell_type": "code",
   "execution_count": 631,
   "metadata": {
    "scrolled": true
   },
   "outputs": [
    {
     "name": "stdout",
     "output_type": "stream",
     "text": [
      "0.6408068269976727\n"
     ]
    },
    {
     "data": {
      "text/plain": [
       "0.7070866141732284"
      ]
     },
     "execution_count": 631,
     "metadata": {},
     "output_type": "execute_result"
    }
   ],
   "source": [
    "print(gs_xzibit.best_score_)\n",
    "gs_xzibit.score(X_test_add, y_test)"
   ]
  }
 ],
 "metadata": {
  "kernelspec": {
   "display_name": "Python 3",
   "language": "python",
   "name": "python3"
  },
  "language_info": {
   "codemirror_mode": {
    "name": "ipython",
    "version": 3
   },
   "file_extension": ".py",
   "mimetype": "text/x-python",
   "name": "python",
   "nbconvert_exporter": "python",
   "pygments_lexer": "ipython3",
   "version": "3.7.3"
  }
 },
 "nbformat": 4,
 "nbformat_minor": 2
}
