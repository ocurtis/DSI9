{
 "cells": [
  {
   "cell_type": "markdown",
   "metadata": {},
   "source": [
    "## 3. Data Cleaning, Feature Engineering\n",
    "***"
   ]
  },
  {
   "cell_type": "markdown",
   "metadata": {},
   "source": [
    "In this file, we will be taking our post/comment data through the cleaning process, in addition to some light feature engineering. We'll start by dealing with NaNs, drop posts that we don't think are valuable to keep, and clean the text for our posts and comments.\n",
    "\n",
    "From there, we'll also incorporate some new features into our dataset including a **profanity flag and a pun flag**. Finally, through iterative model testing, we will also **drop words that are not adding value to our final model build**."
   ]
  },
  {
   "cell_type": "markdown",
   "metadata": {},
   "source": [
    "**Executive Summary**:\n",
    " - [Before We Clean...](#Before-we-clean...)\n",
    " - [Cleaning](#Cleaning)\n",
    " - [Looking Into Joke Length](#Joke-Length-Deep-Dive)\n",
    " - [Additional Features](#Additional-Features)"
   ]
  },
  {
   "cell_type": "markdown",
   "metadata": {},
   "source": [
    "### Load Data/Libraries"
   ]
  },
  {
   "cell_type": "code",
   "execution_count": 552,
   "metadata": {},
   "outputs": [],
   "source": [
    "import pandas as pd\n",
    "from bs4 import BeautifulSoup\n",
    "import numpy as np\n",
    "import time\n",
    "import requests\n",
    "import seaborn as sns\n",
    "import matplotlib.pyplot as plt\n",
    "from sklearn.pipeline import Pipeline\n",
    "from sklearn.model_selection import train_test_split, GridSearchCV\n",
    "from sklearn.linear_model import LogisticRegression\n",
    "from sklearn.feature_extraction.text import CountVectorizer, TfidfVectorizer#### NaN Check\n",
    "from scipy import stats"
   ]
  },
  {
   "cell_type": "code",
   "execution_count": 553,
   "metadata": {},
   "outputs": [],
   "source": [
    "#Read in our post and comment data\n",
    "jokes_df = pd.read_csv('./datasets/jokedata.csv')"
   ]
  },
  {
   "cell_type": "code",
   "execution_count": 554,
   "metadata": {},
   "outputs": [],
   "source": [
    "#Change self-text column name to be 'body'\n",
    "jokes_df = jokes_df.rename(columns={'selftext':'body'})"
   ]
  },
  {
   "cell_type": "code",
   "execution_count": 555,
   "metadata": {},
   "outputs": [],
   "source": [
    "#lowercase our test\n",
    "jokes_df['body'] = jokes_df['body'].str.lower()\n",
    "jokes_df['title'] = jokes_df['title'].str.lower()"
   ]
  },
  {
   "cell_type": "markdown",
   "metadata": {},
   "source": [
    "### Before we clean..."
   ]
  },
  {
   "cell_type": "markdown",
   "metadata": {},
   "source": [
    "Before going further with model cleaning, we'll do a quick check to see if question marks in our post titles are more characteristic of a r/DadJoke post than an r/Joke post. Often times dad jokes rely on punch lines, so lets take a look"
   ]
  },
  {
   "cell_type": "markdown",
   "metadata": {},
   "source": [
    "*Question Marks*"
   ]
  },
  {
   "cell_type": "code",
   "execution_count": 556,
   "metadata": {},
   "outputs": [],
   "source": [
    "#jokes_df.loc[jokes_df['title'].str.contains('?'), 'subreddit'].value_counts()[0];\n",
    "#jokes_df.loc[jokes_df['title'].str.contains('?'), 'subreddit'].value_counts()[1];"
   ]
  },
  {
   "cell_type": "markdown",
   "metadata": {},
   "source": [
    "It appears that this is not a common feature for us to evaluate when classifying our jokes either. No titles contain a question mark. Given that titles are typically the setup, we can infer that question marks are not going to be valuable information for us and we can proceed with cleaning."
   ]
  },
  {
   "cell_type": "markdown",
   "metadata": {},
   "source": [
    "\"*What do, Why do...\" Joke Setup*"
   ]
  },
  {
   "cell_type": "code",
   "execution_count": 557,
   "metadata": {},
   "outputs": [],
   "source": [
    "joke_construct_list = ['why do', 'how do', 'what do', 'did you']"
   ]
  },
  {
   "cell_type": "code",
   "execution_count": 558,
   "metadata": {
    "scrolled": true
   },
   "outputs": [
    {
     "name": "stdout",
     "output_type": "stream",
     "text": [
      "489\n"
     ]
    },
    {
     "data": {
      "text/plain": [
       "16.29"
      ]
     },
     "execution_count": 558,
     "metadata": {},
     "output_type": "execute_result"
    }
   ],
   "source": [
    "#Proportion of Dad jokes that start with 'what do'\n",
    "print(jokes_df.loc[jokes_df['title'].str.contains('|'.join(joke_construct_list)), 'subreddit'].value_counts()[0])\n",
    "((jokes_df.loc[jokes_df['title'].str.contains('|'.join(joke_construct_list)), 'subreddit'].value_counts()[0]) / len(jokes_df[jokes_df['subreddit'] == 'dadjokes']) * 100).round(2)"
   ]
  },
  {
   "cell_type": "code",
   "execution_count": 559,
   "metadata": {},
   "outputs": [
    {
     "name": "stdout",
     "output_type": "stream",
     "text": [
      "363\n"
     ]
    },
    {
     "data": {
      "text/plain": [
       "12.1"
      ]
     },
     "execution_count": 559,
     "metadata": {},
     "output_type": "execute_result"
    }
   ],
   "source": [
    "#Proportion of regular jokes that start with 'what do'\n",
    "print(jokes_df.loc[jokes_df['title'].str.contains('|'.join(joke_construct_list)), 'subreddit'].value_counts()[1])\n",
    "((jokes_df.loc[jokes_df['title'].str.contains('|'.join(joke_construct_list)), 'subreddit'].value_counts()[1]) / len(jokes_df[jokes_df['subreddit'] == 'Jokes']) * 100).round(2)"
   ]
  },
  {
   "cell_type": "markdown",
   "metadata": {},
   "source": [
    "Upon further investigation, this does appear to be a stronger characteristic of the r/DadJoke post. This is something that we'll revisit when it comes time to introduce new features."
   ]
  },
  {
   "cell_type": "markdown",
   "metadata": {},
   "source": [
    "***\n",
    "## Cleaning"
   ]
  },
  {
   "cell_type": "code",
   "execution_count": 560,
   "metadata": {},
   "outputs": [],
   "source": [
    "#Convert our target into binary numerical representation\n",
    "jokes_df['subreddit']= jokes_df['subreddit'].map({'dadjokes':1, 'Jokes':0})"
   ]
  },
  {
   "cell_type": "markdown",
   "metadata": {},
   "source": [
    "We detect a number of NaN values in the **comment** and **body** columns which suggest there's no text here. We'll fill with empty string so we can continue to deal with these rows."
   ]
  },
  {
   "cell_type": "markdown",
   "metadata": {},
   "source": [
    "#### NaN Check"
   ]
  },
  {
   "cell_type": "code",
   "execution_count": 561,
   "metadata": {},
   "outputs": [
    {
     "data": {
      "image/png": "[encoded data removed]",
      "text/plain": [
       "<Figure size 432x288 with 1 Axes>"
      ]
     },
     "metadata": {
      "needs_background": "light"
     },
     "output_type": "display_data"
    }
   ],
   "source": [
    "#Check our dataset for nulls\n",
    "jokes_df.isnull().sum().plot(kind='bar');\n",
    "plt.title('NaN Values by Feature');"
   ]
  },
  {
   "cell_type": "code",
   "execution_count": 562,
   "metadata": {},
   "outputs": [],
   "source": [
    "#Fill Nans with empty string\n",
    "jokes_df = jokes_df.fillna('')"
   ]
  },
  {
   "cell_type": "markdown",
   "metadata": {},
   "source": [
    "#### Post Elimination"
   ]
  },
  {
   "cell_type": "markdown",
   "metadata": {},
   "source": [
    "Knowing the nature of Reddit, we likely want to prune our posts and keep only the most relevant ones. Through iterative model testing and post exploration, we determine that posts should be eliminated if they meet any of the following criteria:\n",
    "\n",
    "  - The title is empty\n",
    "  - The title contains '/r' as this is likely an acknowledgement of the subreddit or a moderator post\n",
    "  - The score is less than 8\n",
    "  - The body of the submission contains 'edit, 'gif', or 'imgur.' Typically, 'edit' flag as post that has text that is not relevant to a joke. Often this will be acknowledgements of the post score, for example."
   ]
  },
  {
   "cell_type": "code",
   "execution_count": 563,
   "metadata": {},
   "outputs": [],
   "source": [
    "def joke_elimination(df):\n",
    "    \n",
    "    #Make copy of df for manipulation in function\n",
    "    dfclean = df.copy()\n",
    "    \n",
    "    #dfclean = dfclean.rename(columns={'selftext':'body'})\n",
    "    \n",
    "    #Build list of posts with r/ in title, and drop them\n",
    "    r_drop = list(dfclean.loc[df['title'].str.contains('r/'),:].index)\n",
    "    dfclean = dfclean.drop(r_drop)\n",
    "\n",
    "    #Check for title length, score, and features of body that we don't want to keep\n",
    "    dfclean = dfclean[dfclean['title'].str.split().apply(len) != 0]\n",
    "    #dfclean = dfclean[dfclean['title'].str.split().apply(len) >= 2]\n",
    "    dfclean = dfclean[dfclean['score'] >=8]\n",
    "    #dfclean = dfclean[dfclean['over_18'] == False]\n",
    "    dfclean = dfclean[~dfclean['body'].str.contains(\"edit\")]\n",
    "    dfclean = dfclean[~dfclean['body'].str.contains(\".gif\")]\n",
    "    dfclean = dfclean[~dfclean['body'].str.contains(\"imgur\")]\n",
    "    \n",
    "    #Return a cleaned dataset\n",
    "    return(dfclean)"
   ]
  },
  {
   "cell_type": "code",
   "execution_count": 564,
   "metadata": {
    "scrolled": true
   },
   "outputs": [],
   "source": [
    "#Execute joke elimination\n",
    "jokes_df = joke_elimination(jokes_df)"
   ]
  },
  {
   "cell_type": "markdown",
   "metadata": {},
   "source": [
    "We'll now move into the text cleaning phase for both our posts and our comments. We'll leverage a number of **regex** queries here to accomplish this. We're looking to eliminate any special characters, punctuation, and odd spacing prior to running our data through CountVectorizer/Tfidf later in the *Model Selection* notebook. Close inspection of both our posts and comments reveal slightly different processing steps, so we'll be cleaning these separately."
   ]
  },
  {
   "cell_type": "markdown",
   "metadata": {},
   "source": [
    "#### Post Cleaning"
   ]
  },
  {
   "cell_type": "code",
   "execution_count": 565,
   "metadata": {},
   "outputs": [],
   "source": [
    "#In this order, execute a number of regex replace calls on 'title' abd 'body' to correct our post text data.\n",
    "#Start by removing \\r and \\n's, then remove question marks. From there, check for odd characters and white space.\n",
    "jokes_df[['title','body']] = jokes_df[['title','body']].replace(to_replace ='([\\r\\n]+)', value = ' ', regex = True) \n",
    "jokes_df[['title','body']] = jokes_df[['title','body']].replace(to_replace ='?', value = ' ', regex = False) \n",
    "jokes_df[['title','body']] = jokes_df[['title','body']].replace(to_replace ='[^\\w\\s]', value = '', regex = True) #### Post Cleaning\n",
    "jokes_df[['title','body']] = jokes_df[['title','body']].replace(to_replace ='([ ]{2,})', value = ' ', regex = True) "
   ]
  },
  {
   "cell_type": "markdown",
   "metadata": {},
   "source": [
    "#### Comment Cleaning"
   ]
  },
  {
   "cell_type": "code",
   "execution_count": 566,
   "metadata": {},
   "outputs": [],
   "source": [
    "#In this order, execute a number of regex replace calls on 'title' abd 'body' to correct our post text data.\n",
    "#Start by removing our pipeline delimiter, then correct our spacing. Remove any non-letter characters and re-correct spacing\n",
    "jokes_df['comment_text'] = jokes_df['comment_text'].replace(to_replace ='\\|', value = ' ', regex = True) \n",
    "jokes_df['comment_text'] = jokes_df['comment_text'].replace(to_replace ='', value = ' ', regex = True) \n",
    "jokes_df['comment_text'] = jokes_df['comment_text'].replace(to_replace ='([\\r\\n]+)', value = ' ', regex = True) \n",
    "jokes_df['comment_text'] = jokes_df['comment_text'].replace(to_replace ='[^\\w\\s]', value = '', regex = True) \n",
    "jokes_df['comment_text'] = jokes_df['comment_text'].replace(to_replace ='([ ]{2,})', value = ' ', regex = True) "
   ]
  },
  {
   "cell_type": "markdown",
   "metadata": {},
   "source": [
    "Before moving into feature creation, there are a few minor things we need to do to clean up our dataframe. Ater inspecting the posts, the title and body of the post are often not duplicative, so I am comfortable **combining them** into a single, new column. I will also generate a **joke_length** column based on a count of words in this new column. Finally, I want to drop any posts that have an extremely long, or extremely short length. Posts less than 4 words long indicate poor quality posts; Posts longer than 3000 are indicative of lists in the body of the post."
   ]
  },
  {
   "cell_type": "markdown",
   "metadata": {},
   "source": [
    "#### Combine Title and Joke"
   ]
  },
  {
   "cell_type": "code",
   "execution_count": 567,
   "metadata": {},
   "outputs": [],
   "source": [
    "#Bring together title and body into a singular column\n",
    "jokes_df['joke'] = jokes_df['title'].str.cat(jokes_df['body'],sep=\" \")"
   ]
  },
  {
   "cell_type": "markdown",
   "metadata": {},
   "source": [
    "#### Duplicates"
   ]
  },
  {
   "cell_type": "markdown",
   "metadata": {},
   "source": [
    "Pause here after dropping posts to check for duplicates and reassess sample. We've removed quite a few posts at this point, we're now down to ~2K total."
   ]
  },
  {
   "cell_type": "code",
   "execution_count": 568,
   "metadata": {},
   "outputs": [
    {
     "data": {
      "text/plain": [
       "1    1121\n",
       "0     815\n",
       "Name: subreddit, dtype: int64"
      ]
     },
     "execution_count": 568,
     "metadata": {},
     "output_type": "execute_result"
    }
   ],
   "source": [
    "#Drop duplicate jokes from our dataframe by checking 'id' column. Check total sample by subreddit\n",
    "jokes_df = jokes_df.drop_duplicates('id')\n",
    "jokes_df = jokes_df.drop_duplicates('joke')\n",
    "\n",
    "jokes_df['subreddit'].value_counts()"
   ]
  },
  {
   "cell_type": "markdown",
   "metadata": {},
   "source": [
    "## Joke Length Deep Dive"
   ]
  },
  {
   "cell_type": "markdown",
   "metadata": {},
   "source": [
    "#### Word Count"
   ]
  },
  {
   "cell_type": "code",
   "execution_count": 569,
   "metadata": {},
   "outputs": [],
   "source": [
    "# Split out words and generate a new feature counting # of words\n",
    "jokes_df['joke_length'] = jokes_df['joke'].str.split().apply(len)"
   ]
  },
  {
   "cell_type": "code",
   "execution_count": 570,
   "metadata": {},
   "outputs": [
    {
     "data": {
      "text/html": [
       "<div>\n",
       "<style scoped>\n",
       "    .dataframe tbody tr th:only-of-type {\n",
       "        vertical-align: middle;\n",
       "    }\n",
       "\n",
       "    .dataframe tbody tr th {\n",
       "        vertical-align: top;\n",
       "    }\n",
       "\n",
       "    .dataframe thead th {\n",
       "        text-align: right;\n",
       "    }\n",
       "</style>\n",
       "<table border=\"1\" class=\"dataframe\">\n",
       "  <thead>\n",
       "    <tr style=\"text-align: right;\">\n",
       "      <th></th>\n",
       "      <th>count</th>\n",
       "      <th>mean</th>\n",
       "      <th>std</th>\n",
       "      <th>min</th>\n",
       "      <th>25%</th>\n",
       "      <th>50%</th>\n",
       "      <th>75%</th>\n",
       "      <th>max</th>\n",
       "    </tr>\n",
       "    <tr>\n",
       "      <th>subreddit</th>\n",
       "      <th></th>\n",
       "      <th></th>\n",
       "      <th></th>\n",
       "      <th></th>\n",
       "      <th></th>\n",
       "      <th></th>\n",
       "      <th></th>\n",
       "      <th></th>\n",
       "    </tr>\n",
       "  </thead>\n",
       "  <tbody>\n",
       "    <tr>\n",
       "      <td>0</td>\n",
       "      <td>815.0</td>\n",
       "      <td>51.182822</td>\n",
       "      <td>79.204970</td>\n",
       "      <td>4.0</td>\n",
       "      <td>14.0</td>\n",
       "      <td>19.0</td>\n",
       "      <td>38.0</td>\n",
       "      <td>875.0</td>\n",
       "    </tr>\n",
       "    <tr>\n",
       "      <td>1</td>\n",
       "      <td>1121.0</td>\n",
       "      <td>19.193577</td>\n",
       "      <td>23.963309</td>\n",
       "      <td>2.0</td>\n",
       "      <td>11.0</td>\n",
       "      <td>15.0</td>\n",
       "      <td>20.0</td>\n",
       "      <td>429.0</td>\n",
       "    </tr>\n",
       "  </tbody>\n",
       "</table>\n",
       "</div>"
      ],
      "text/plain": [
       "            count       mean        std  min   25%   50%   75%    max\n",
       "subreddit                                                            \n",
       "0           815.0  51.182822  79.204970  4.0  14.0  19.0  38.0  875.0\n",
       "1          1121.0  19.193577  23.963309  2.0  11.0  15.0  20.0  429.0"
      ]
     },
     "execution_count": 570,
     "metadata": {},
     "output_type": "execute_result"
    }
   ],
   "source": [
    "#Check how this varies across subreddits\n",
    "jokes_df.groupby('subreddit')['joke_length'].describe()"
   ]
  },
  {
   "cell_type": "code",
   "execution_count": 571,
   "metadata": {
    "scrolled": true
   },
   "outputs": [
    {
     "data": {
      "image/png": "[encoded data removed]",
      "text/plain": [
       "<Figure size 432x288 with 1 Axes>"
      ]
     },
     "metadata": {
      "needs_background": "light"
     },
     "output_type": "display_data"
    }
   ],
   "source": [
    "#Generate a plot of word count for our jokes by subreddit and plot distribution\n",
    "fig = sns.distplot(jokes_df.loc[jokes_df['subreddit'] == 0,'joke_length']);\n",
    "fig = sns.distplot(jokes_df.loc[jokes_df['subreddit'] == 1,'joke_length']);\n",
    "plt.title(\"Distribution of Jokes by Word Count (Jokes v DadJokes)\");\n",
    "fig.legend(labels=['Jokes Wordcount','DadJokes WordCount']);"
   ]
  },
  {
   "cell_type": "code",
   "execution_count": 572,
   "metadata": {
    "scrolled": true
   },
   "outputs": [
    {
     "data": {
      "image/png": "[encoded data removed]",
      "text/plain": [
       "<Figure size 432x288 with 1 Axes>"
      ]
     },
     "metadata": {
      "needs_background": "light"
     },
     "output_type": "display_data"
    }
   ],
   "source": [
    "#Generate a plot of word count for our jokes by subreddit  with word count ess than 50. Plot distribution\n",
    "fig = sns.distplot(jokes_df.loc[(jokes_df['subreddit'] == 0) & (jokes_df['joke_length'] < 100),'joke_length'], kde=False, bins=20);\n",
    "fig = sns.distplot(jokes_df.loc[(jokes_df['subreddit'] == 1)& (jokes_df['joke_length'] < 100),'joke_length'], kde=False, bins=20);\n",
    "plt.title(\"Distribution of Jokes by Word Count (Jokes v DadJokes)\");\n",
    "fig.legend(labels=['Jokes Wordcount','DadJokes WordCount']);"
   ]
  },
  {
   "cell_type": "markdown",
   "metadata": {},
   "source": [
    "Clearly there is a sizeable difference in joke length between subreddits. When we isolate down to observations with less than 100 words, you can see a higher frequency of dad jokes under 20 words long. This is intuitive -- more complicated jokes take longer to tell. Let's see if we can see any relationship between joke length and score by subreddit."
   ]
  },
  {
   "cell_type": "code",
   "execution_count": 573,
   "metadata": {
    "scrolled": false
   },
   "outputs": [
    {
     "data": {
      "image/png": "[encoded data removed]",
      "text/plain": [
       "<Figure size 432x288 with 1 Axes>"
      ]
     },
     "metadata": {
      "needs_background": "light"
     },
     "output_type": "display_data"
    }
   ],
   "source": [
    "#Scatterplot comparing score to joke length by subreddit\n",
    "sns.scatterplot(data=jokes_df, x='joke_length', y='score', hue='subreddit');\n",
    "plt.title('Comparison of Score v Joke Length by Subreddit');"
   ]
  },
  {
   "cell_type": "code",
   "execution_count": 574,
   "metadata": {
    "scrolled": true
   },
   "outputs": [
    {
     "data": {
      "image/png": "[encoded data removed]",
      "text/plain": [
       "<Figure size 432x288 with 1 Axes>"
      ]
     },
     "metadata": {
      "needs_background": "light"
     },
     "output_type": "display_data"
    }
   ],
   "source": [
    "#Scatterplot comparing score to joke length by subredditb\n",
    "sns.scatterplot(data=jokes_df[jokes_df['joke_length'] < 100], x='joke_length', y='score', hue='subreddit');\n",
    "plt.title('Comparison of Score v Joke Length by Subreddit');"
   ]
  },
  {
   "cell_type": "code",
   "execution_count": 575,
   "metadata": {
    "scrolled": true
   },
   "outputs": [
    {
     "data": {
      "image/png": "[encoded data removed]",
      "text/plain": [
       "<Figure size 432x288 with 2 Axes>"
      ]
     },
     "metadata": {
      "needs_background": "light"
     },
     "output_type": "display_data"
    }
   ],
   "source": [
    "sns.heatmap(jokes_df.corr(), cmap=\"coolwarm\");"
   ]
  },
  {
   "cell_type": "markdown",
   "metadata": {},
   "source": [
    "From the above scatterplots, we notice that there is a greater concentration of r/DadJokes that score higher with fewer words. Looking at our dataset more generally, we notice a weak negative correlation between joke length and our subreddit target. Based on what we see here, we'll move forward with including this feature when we build our alternative model."
   ]
  },
  {
   "cell_type": "markdown",
   "metadata": {},
   "source": [
    "***\n",
    "## Additional Features"
   ]
  },
  {
   "cell_type": "markdown",
   "metadata": {},
   "source": [
    "#### Elminate Outliers"
   ]
  },
  {
   "cell_type": "code",
   "execution_count": 576,
   "metadata": {},
   "outputs": [],
   "source": [
    "#Drop jokes with less than 4 words, or more than 800 words\n",
    "jokes_df = jokes_df.loc[(jokes_df['joke_length'] < 800) & (jokes_df['joke_length'] > 5)]"
   ]
  },
  {
   "cell_type": "markdown",
   "metadata": {},
   "source": [
    "#### Combine Title, Joke, Comment into New Feature"
   ]
  },
  {
   "cell_type": "code",
   "execution_count": 577,
   "metadata": {},
   "outputs": [],
   "source": [
    "#Bring together title and body into a singular column\n",
    "jokes_df['full_text'] = jokes_df['joke'] + ' ' + jokes_df['comment_text']"
   ]
  },
  {
   "cell_type": "markdown",
   "metadata": {},
   "source": [
    "For our next step, we'll be **feature engineering.** These features won't be part of our NLP-based-model, but we want to see if a separate model based on a simpler, more traditional data set can outperform the former. Dad jokes often rely on puns. As described in our separate notebook, we want to read in a list of homonyms and homophones to nuild a **pun flag** that we believe can help differentiate a dad joke. \n",
    "\n",
    "Second, dad jokes are clean in nature. Reddit's JSON data include an *over_18* flag that is helpful for understanding this, but we can also simply flag **profanity** as well. The profanity here was included after assessing the coefficients of our model-- these were among some of the words that were most indicative of a non-dad joke. \n",
    "\n",
    "Finally, as part of final check here, we'll revisit our original idea around **setup flagging**. We'll encode jokes by their setup and create dummies to feed into our non-NLP based model.\n",
    "\n",
    "We'll then be ready to read to a csv and move into model preparation/selection."
   ]
  },
  {
   "cell_type": "markdown",
   "metadata": {},
   "source": [
    "### Add in Pun Flag/Count"
   ]
  },
  {
   "cell_type": "code",
   "execution_count": 578,
   "metadata": {},
   "outputs": [],
   "source": [
    "#Read in pun data set\n",
    "puns_df = pd.read_csv('./datasets/puns.csv')\n",
    "\n",
    "#Save puns to a list\n",
    "pun_list = list(puns_df['0'])\n",
    "\n",
    "#Read through our text and find any row that contains a \"pun word\".\n",
    "pun_candidate_ids = list(jokes_df.loc[jokes_df['joke'].str.contains('|'.join(pun_list)),'id'])\n",
    "\n",
    "#Initialize a 'pun' feature column and set to zero for now\n",
    "jokes_df['pun'] = 0\n",
    "\n",
    "#Where we find a'pun word', change the value to 1 / set pun flag to 1\n",
    "jokes_df.loc[jokes_df['joke'].str.contains('|'.join(pun_list)),'pun'] = 1"
   ]
  },
  {
   "cell_type": "code",
   "execution_count": 579,
   "metadata": {
    "scrolled": true
   },
   "outputs": [
    {
     "data": {
      "image/png": "[encoded data removed]",
      "text/plain": [
       "<Figure size 720x288 with 2 Axes>"
      ]
     },
     "metadata": {
      "needs_background": "light"
     },
     "output_type": "display_data"
    }
   ],
   "source": [
    "#Check how this varies across subreddits\n",
    "plt.figure(figsize=(10,4))\n",
    "plt.subplot(1,2,1)\n",
    "jokes_df.groupby('subreddit')['pun'].sum().plot(kind='bar');\n",
    "plt.title('Count of Pun Words by Subdreddit');\n",
    "plt.subplot(1,2,2)\n",
    "jokes_df.groupby('subreddit')['pun'].count().plot(kind='bar', color='orange');\n",
    "plt.title('Total Posts by subreddit');"
   ]
  },
  {
   "cell_type": "code",
   "execution_count": 580,
   "metadata": {},
   "outputs": [
    {
     "data": {
      "text/plain": [
       "subreddit\n",
       "0    0.756158\n",
       "1    0.700540\n",
       "Name: pun, dtype: float64"
      ]
     },
     "execution_count": 580,
     "metadata": {},
     "output_type": "execute_result"
    }
   ],
   "source": [
    "#Porportion of jokes getting pun flag by subreddit\n",
    "jokes_df.groupby('subreddit')['pun'].sum() /  jokes_df.groupby('subreddit')['pun'].count()"
   ]
  },
  {
   "cell_type": "markdown",
   "metadata": {},
   "source": [
    "While we are picking up more dadjokes, the proportion of dadjokes being flagged for these words are lower. This is unlikely to be an effective feature for us that may drop out of our model during regularization."
   ]
  },
  {
   "cell_type": "markdown",
   "metadata": {},
   "source": [
    "### Profanity Flag"
   ]
  },
  {
   "cell_type": "code",
   "execution_count": 581,
   "metadata": {},
   "outputs": [],
   "source": [
    "#Bring in profane words that were strong subreddit differentiators from our model output\n",
    "#WILL DONT LOOK AT THIS \n",
    "profanity = ['fuck', 'shit', 'bitch', 'asshole', 'ass', '911', 'black', 'fucking', 'jesus', 'gay']\n",
    "\n",
    "#Build list of ids with profanity in the text so we can reference\n",
    "profanity_candidate_ids = list(jokes_df.loc[jokes_df['joke'].str.contains('|'.join(profanity)),'id'])\n",
    "\n",
    "#Initialize a profanity flag with value set to zero\n",
    "jokes_df['profanity'] = 0\n",
    "\n",
    "#Set out new feature to 1 if profanity is there\n",
    "jokes_df.loc[jokes_df['joke'].str.contains('|'.join(profanity)),'profanity'] = 1\n",
    "\n",
    "#Just for good measure, in case users/mods aren't setting 'over_18' to True on jokes with profanity, let's include these\n",
    "jokes_df.loc[jokes_df['over_18'] == True, 'profanity'] = 1"
   ]
  },
  {
   "cell_type": "markdown",
   "metadata": {},
   "source": [
    "### Setup Flag"
   ]
  },
  {
   "cell_type": "code",
   "execution_count": 582,
   "metadata": {},
   "outputs": [
    {
     "data": {
      "text/plain": [
       "['why do', 'how do', 'what do', 'did you']"
      ]
     },
     "execution_count": 582,
     "metadata": {},
     "output_type": "execute_result"
    }
   ],
   "source": [
    "#build our list of potential setups\n",
    "joke_construct_list"
   ]
  },
  {
   "cell_type": "code",
   "execution_count": 583,
   "metadata": {},
   "outputs": [],
   "source": [
    "#Start with an empty new feature\n",
    "jokes_df['setup']= ''"
   ]
  },
  {
   "cell_type": "code",
   "execution_count": 584,
   "metadata": {},
   "outputs": [],
   "source": [
    "#Find occurences of each setup, and flag the setup within our new feature\n",
    "for i in range(len(joke_construct_list)):\n",
    "    jokes_df.loc[jokes_df['title'].str.contains(joke_construct_list[i]),'setup'] = joke_construct_list[i]"
   ]
  },
  {
   "cell_type": "code",
   "execution_count": 585,
   "metadata": {},
   "outputs": [],
   "source": [
    "#Convert to dummy features\n",
    "jokes_df = pd.get_dummies(jokes_df, columns=['setup'], drop_first=True)"
   ]
  },
  {
   "cell_type": "markdown",
   "metadata": {},
   "source": [
    "### Read to CSV"
   ]
  },
  {
   "cell_type": "code",
   "execution_count": 586,
   "metadata": {},
   "outputs": [],
   "source": [
    "# Read our file out to CSV\n",
    "jokes_df.to_csv('./datasets/jokesclean.csv', index=False)"
   ]
  }
 ],
 "metadata": {
  "kernelspec": {
   "display_name": "Python 3",
   "language": "python",
   "name": "python3"
  },
  "language_info": {
   "codemirror_mode": {
    "name": "ipython",
    "version": 3
   },
   "file_extension": ".py",
   "mimetype": "text/x-python",
   "name": "python",
   "nbconvert_exporter": "python",
   "pygments_lexer": "ipython3",
   "version": "3.7.3"
  }
 },
 "nbformat": 4,
 "nbformat_minor": 2
}
