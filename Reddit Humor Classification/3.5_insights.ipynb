{
 "cells": [
  {
   "cell_type": "markdown",
   "metadata": {},
   "source": [
    "# 5. Insights\n",
    "***"
   ]
  },
  {
   "cell_type": "markdown",
   "metadata": {},
   "source": [
    "To recap, so far we have read in our data, cleaned our data, engineered new features, and iteratively assessed our model scores. We also took our strongest models, ensembled them, and checked performance against a simpler, non NLP based model."
   ]
  },
  {
   "cell_type": "markdown",
   "metadata": {},
   "source": [
    "***\n",
    "# <span style=\"color:blue\">**Differentiating Features**</span>"
   ]
  },
  {
   "cell_type": "markdown",
   "metadata": {},
   "source": [
    "Now that we have a model selected, it's time to understand what is really driving differentiation between a dad joke, and a normal joke. In order to do this, we'll take our winning model and assess some of it's properties. In this section, we're interested in digging into the following questions:\n",
    "\n",
    " - *What words are most closely associated with a normal joke? A Dad joke?*\n",
    " - *What do the jokes look like when our model is confident and wrong?*\n",
    " - *What does our confusion matrix, and ROC curve tell us about our model?*\n",
    " \n",
    "For this section, for ease of interpretability, we'll move forward with our top performing, individual Logistic Regression model."
   ]
  },
  {
   "cell_type": "code",
   "execution_count": 1491,
   "metadata": {},
   "outputs": [],
   "source": [
    "#Walk through Pipe, Param Grid, GridSearch process\n",
    "pipe_lr_cvec_fulltext = Pipeline([\n",
    "    ('cvec', CountVectorizer(stop_words='english')),\n",
    "    ('lr' , LogisticRegression())\n",
    "])\n",
    "\n",
    "pipe_params_lr_cvec_fulltext = {\n",
    "    'cvec__max_features': [1200,1500],\n",
    "    'cvec__max_df': [.3,.4,.5,.65,.75,.85],\n",
    "    'cvec__ngram_range': [(1,1)],\n",
    "    'lr__penalty':['l2','l1'],\n",
    "    'lr__C':[.01,0.1, 1]\n",
    "}\n",
    "\n",
    "gs_lr_cvec_fulltext = GridSearchCV(pipe_lr_cvec_fulltext, \n",
    "                  pipe_params_lr_cvec_fulltext, \n",
    "                  cv=3)\n"
   ]
  },
  {
   "cell_type": "code",
   "execution_count": 1493,
   "metadata": {},
   "outputs": [
    {
     "name": "stderr",
     "output_type": "stream",
     "text": [
      "C:\\Users\\Owen\\Anaconda3\\lib\\site-packages\\numpy\\matrixlib\\defmatrix.py:71: PendingDeprecationWarning: the matrix subclass is not the recommended way to represent matrices or deal with linear algebra (see https://docs.scipy.org/doc/numpy/user/numpy-for-matlab-users.html). Please adjust your code to use regular ndarray.\n",
      "  return matrix(data, dtype=dtype, copy=False)\n",
      "C:\\Users\\Owen\\Anaconda3\\lib\\site-packages\\sklearn\\linear_model\\logistic.py:432: FutureWarning: Default solver will be changed to 'lbfgs' in 0.22. Specify a solver to silence this warning.\n",
      "  FutureWarning)\n"
     ]
    }
   ],
   "source": [
    "#Fit model and store best model\n",
    "gs_lr_cvec_fulltext.fit(X_train_fulltext,y_train)\n",
    "lr_best_model = gs_lr_cvec_fulltext.best_estimator_"
   ]
  },
  {
   "cell_type": "markdown",
   "metadata": {},
   "source": [
    "**Question: What words are most closely associated with DadJokes?**"
   ]
  },
  {
   "cell_type": "markdown",
   "metadata": {},
   "source": [
    "We can use the coefficients from our model to answer this question. Our coefficients will relate back to our binary target in the following way: **particularly negative coefficients will be more predictive of our negative outcome (r/Jokes); particularly positive coefficients will be more predictive of our positive outcome (r/DadJokes)**. As we dig in, we realize that more negative coeffcients are generally associated with offensive topics (religion, race); more positive coefficients are more closely associated with familial/simple contextual terms (daughter/father; walking/eating). We can plot these to better chart these relationships."
   ]
  },
  {
   "cell_type": "code",
   "execution_count": 512,
   "metadata": {},
   "outputs": [],
   "source": [
    "#Grab resulting coefficients and toss into a data frame\n",
    "coef_df = pd.DataFrame(lr_best_model.steps[1][1].coef_).T"
   ]
  },
  {
   "cell_type": "code",
   "execution_count": 513,
   "metadata": {},
   "outputs": [],
   "source": [
    "coef_df.columns = ['coefficient']\n",
    "coef_df['word'] = lr_best_model.steps[0][1].get_feature_names()\n",
    "coef_df = coef_df.sort_values('coefficient')"
   ]
  },
  {
   "cell_type": "code",
   "execution_count": 514,
   "metadata": {},
   "outputs": [
    {
     "data": {
      "text/html": [
       "<div>\n",
       "<style scoped>\n",
       "    .dataframe tbody tr th:only-of-type {\n",
       "        vertical-align: middle;\n",
       "    }\n",
       "\n",
       "    .dataframe tbody tr th {\n",
       "        vertical-align: top;\n",
       "    }\n",
       "\n",
       "    .dataframe thead th {\n",
       "        text-align: right;\n",
       "    }\n",
       "</style>\n",
       "<table border=\"1\" class=\"dataframe\">\n",
       "  <thead>\n",
       "    <tr style=\"text-align: right;\">\n",
       "      <th></th>\n",
       "      <th>coefficient</th>\n",
       "      <th>word</th>\n",
       "    </tr>\n",
       "  </thead>\n",
       "  <tbody>\n",
       "    <tr>\n",
       "      <td>532</td>\n",
       "      <td>-0.439292</td>\n",
       "      <td>girl</td>\n",
       "    </tr>\n",
       "    <tr>\n",
       "      <td>684</td>\n",
       "      <td>-0.423602</td>\n",
       "      <td>jesus</td>\n",
       "    </tr>\n",
       "    <tr>\n",
       "      <td>1448</td>\n",
       "      <td>-0.412235</td>\n",
       "      <td>whats</td>\n",
       "    </tr>\n",
       "    <tr>\n",
       "      <td>648</td>\n",
       "      <td>-0.405302</td>\n",
       "      <td>husband</td>\n",
       "    </tr>\n",
       "    <tr>\n",
       "      <td>568</td>\n",
       "      <td>-0.384384</td>\n",
       "      <td>guy</td>\n",
       "    </tr>\n",
       "    <tr>\n",
       "      <td>1465</td>\n",
       "      <td>-0.382760</td>\n",
       "      <td>woman</td>\n",
       "    </tr>\n",
       "    <tr>\n",
       "      <td>800</td>\n",
       "      <td>-0.376269</td>\n",
       "      <td>man</td>\n",
       "    </tr>\n",
       "    <tr>\n",
       "      <td>359</td>\n",
       "      <td>-0.374950</td>\n",
       "      <td>difference</td>\n",
       "    </tr>\n",
       "  </tbody>\n",
       "</table>\n",
       "</div>"
      ],
      "text/plain": [
       "      coefficient        word\n",
       "532     -0.439292        girl\n",
       "684     -0.423602       jesus\n",
       "1448    -0.412235       whats\n",
       "648     -0.405302     husband\n",
       "568     -0.384384         guy\n",
       "1465    -0.382760       woman\n",
       "800     -0.376269         man\n",
       "359     -0.374950  difference"
      ]
     },
     "execution_count": 514,
     "metadata": {},
     "output_type": "execute_result"
    }
   ],
   "source": [
    "coef_df.head(8)"
   ]
  },
  {
   "cell_type": "code",
   "execution_count": 515,
   "metadata": {},
   "outputs": [
    {
     "data": {
      "text/html": [
       "<div>\n",
       "<style scoped>\n",
       "    .dataframe tbody tr th:only-of-type {\n",
       "        vertical-align: middle;\n",
       "    }\n",
       "\n",
       "    .dataframe tbody tr th {\n",
       "        vertical-align: top;\n",
       "    }\n",
       "\n",
       "    .dataframe thead th {\n",
       "        text-align: right;\n",
       "    }\n",
       "</style>\n",
       "<table border=\"1\" class=\"dataframe\">\n",
       "  <thead>\n",
       "    <tr style=\"text-align: right;\">\n",
       "      <th></th>\n",
       "      <th>coefficient</th>\n",
       "      <th>word</th>\n",
       "    </tr>\n",
       "  </thead>\n",
       "  <tbody>\n",
       "    <tr>\n",
       "      <td>1415</td>\n",
       "      <td>0.263037</td>\n",
       "      <td>walking</td>\n",
       "    </tr>\n",
       "    <tr>\n",
       "      <td>1445</td>\n",
       "      <td>0.263095</td>\n",
       "      <td>went</td>\n",
       "    </tr>\n",
       "    <tr>\n",
       "      <td>747</td>\n",
       "      <td>0.268991</td>\n",
       "      <td>legs</td>\n",
       "    </tr>\n",
       "    <tr>\n",
       "      <td>357</td>\n",
       "      <td>0.273967</td>\n",
       "      <td>died</td>\n",
       "    </tr>\n",
       "    <tr>\n",
       "      <td>1097</td>\n",
       "      <td>0.274189</td>\n",
       "      <td>runclejokes</td>\n",
       "    </tr>\n",
       "    <tr>\n",
       "      <td>314</td>\n",
       "      <td>0.299580</td>\n",
       "      <td>dad</td>\n",
       "    </tr>\n",
       "    <tr>\n",
       "      <td>781</td>\n",
       "      <td>0.350365</td>\n",
       "      <td>looking</td>\n",
       "    </tr>\n",
       "    <tr>\n",
       "      <td>277</td>\n",
       "      <td>0.357550</td>\n",
       "      <td>cool</td>\n",
       "    </tr>\n",
       "  </tbody>\n",
       "</table>\n",
       "</div>"
      ],
      "text/plain": [
       "      coefficient         word\n",
       "1415     0.263037      walking\n",
       "1445     0.263095         went\n",
       "747      0.268991         legs\n",
       "357      0.273967         died\n",
       "1097     0.274189  runclejokes\n",
       "314      0.299580          dad\n",
       "781      0.350365      looking\n",
       "277      0.357550         cool"
      ]
     },
     "execution_count": 515,
     "metadata": {},
     "output_type": "execute_result"
    }
   ],
   "source": [
    "coef_df.tail(8)"
   ]
  },
  {
   "cell_type": "code",
   "execution_count": 498,
   "metadata": {
    "scrolled": true
   },
   "outputs": [
    {
     "data": {
      "image/png": "[encoded data removed]",
      "text/plain": [
       "<Figure size 576x720 with 1 Axes>"
      ]
     },
     "metadata": {
      "needs_background": "light"
     },
     "output_type": "display_data"
    }
   ],
   "source": [
    "plt.figure(figsize=(8,10))\n",
    "sns.barplot(data=joke_words, x='coefficient', y='word',orient='h',\n",
    "palette=(\"Blues_d\"));\n"
   ]
  },
  {
   "cell_type": "markdown",
   "metadata": {},
   "source": [
    "**Question: What do the jokes look like when our model is confident and wrong?**"
   ]
  },
  {
   "cell_type": "markdown",
   "metadata": {},
   "source": [
    "What does our model get REALLY wrong? Let's try to isolate for **False Positives** and **False Negatives** when our model is confident in it's classifications. This will allow us to identify any trends that we can potentially feed back into our model. We'll accomplish this by leveraging **.predict_proba()** to access observation level probabilities. We'll then connect those probabilities back to the original text through **joke_id.**\n",
    "\n",
    "When we do this, we notice a couple of interesting things:\n",
    " - First, it looks like some r/Jokes posts closely resemble r/DadJokes post. This isn't surprising-- it's very likely that users that frequent one of these subreddits also frequent the other.\n",
    " - Comments can be vulgar, offtopic, and random on both of these subreddits. This may be one reason why a model train solely on comment data is not as effective"
   ]
  },
  {
   "cell_type": "code",
   "execution_count": 516,
   "metadata": {},
   "outputs": [],
   "source": [
    "#Build a dataframe of our predict probas, and the actual classifications\n",
    "X_train_fulltext_df = pd.DataFrame(X_train_fulltext)\n",
    "X_train_fulltext_df['y_train'] = y_train\n",
    "X_train_fulltext_probas = pd.DataFrame(lr_best_model.predict_proba(X_train_fulltext))"
   ]
  },
  {
   "cell_type": "code",
   "execution_count": 518,
   "metadata": {},
   "outputs": [],
   "source": [
    "#jokeID will connect our model probabilities to our words\n",
    "X_train_fulltext_probas['joke_id'] = pd.Series(X_train_fulltext.index)\n",
    "X_train_fulltext_df['joke_id'] = pd.Series(X_train_fulltext.index)"
   ]
  },
  {
   "cell_type": "code",
   "execution_count": 519,
   "metadata": {},
   "outputs": [],
   "source": [
    "#Merge our dataframes\n",
    "X_train_fulltext_df = pd.merge(X_train_fulltext_df, X_train_fulltext_probas, left_on='joke_id',right_on='joke_id')"
   ]
  },
  {
   "cell_type": "code",
   "execution_count": 522,
   "metadata": {},
   "outputs": [
    {
     "data": {
      "text/plain": [
       "['my wife got onto me the other day claiming i spent too much time moistening food while cooking thinking the accusations as ridiculous i asked baste on what So You got kids yet Youre ready I bet you glazed over while she grilled you Nice to meat you have an upvote',\n",
       " 'a husband was bit embarrassed and told the doctor he had trouble getting an erection a husband was a bit embarrassed and told the doctor he had trouble getting an erection with his wife and she was getting frustrated the doc checked the mans blood pressure and other vitals then after a thorough examination said he wanted to check with the wife he took her to another cubicle and asked her to disrobe then he told her to turn all the way around slowly she did as instructed he then told her to raise her arms above her head then bend over touch her toes and cough finally he said ok good you can get dressed now and i will go talk to your husband the doctor went back to the other cubicle and said to the husband well bill you can relax there is nothing wrong with you i couldnt get an erection either Damn Good thing the wife didnt hear that loved this joke had a real genuine outloud laugh over it the ending is a real surprise and the way its expressed is very clever thanks for it',\n",
       " '3 men preachers go to heaven 3 preachers get in a wreck with their wives and go to heaven and st peter meets them at the gates and says to the first one you cant get into heaven you have lusted for money your whole life you wouldnt even get married until you found a woman named penny and then he says to the second man you cant get into heaven because you lusted for liquor your whole life you wouldnt even get married until you found a woman named brandy when st peter looks to the third man he turns and looks at his wife and says lets go fannie we aint got no business here 6510 I dont get it Gay',\n",
       " 'whats yellow and cant swim a school bus full of children Marys adopted sister',\n",
       " 'why is it not good to hear high pitched sounds it hertz It megahertz Ha']"
      ]
     },
     "execution_count": 522,
     "metadata": {},
     "output_type": "execute_result"
    }
   ],
   "source": [
    "#Jokes that our algorithm confidently thought were dad jokes\n",
    "list(X_train_fulltext_df.loc[(X_train_fulltext_df['y_train'] == 0) &(X_train_fulltext_df[1] > .88),'full_text'])"
   ]
  },
  {
   "cell_type": "code",
   "execution_count": 525,
   "metadata": {},
   "outputs": [
    {
     "data": {
      "text/plain": [
       "['who says oh oh oh santa walking backwards  ',\n",
       " 'i asked my son hey what do you call a rubber loop that you put rocks and bread into he shrugged and said he had no idea so i answered a rock and roll band  ',\n",
       " 'my mattress is starting to hurt my back but i dont know if i can afford a new one i think ill just sleep on it  ',\n",
       " 'son dad can you tell me what a solar eclipse is dad no sun How punny Wasnt this like the top last week Can we try and space out the reposts Its Mitsubishis attempt to compete with Tesla Well played dad Gibbous more of these space puns did he tell him SUN OF A BITCH Damn Thats dark Fine then keep your secrets My dad is an eclipse chaser and Im 100 sure hed do this if he had a son who asked him what a solar eclipse is',\n",
       " 'the invention of the wheel is very wellrounded well spoken but now I am too tired Must be a bicycle The invention of the shovel was ground breaking revolutionary']"
      ]
     },
     "execution_count": 525,
     "metadata": {},
     "output_type": "execute_result"
    }
   ],
   "source": [
    "#Dad Jokes that our algorithm confidently thought were jokes\n",
    "list(X_train_fulltext_df.loc[(X_train_fulltext_df['y_train'] == 1) &(X_train_fulltext_df[0] > .99),'full_text'])"
   ]
  },
  {
   "cell_type": "markdown",
   "metadata": {},
   "source": [
    "***What does our confusion matrix, and ROC curve tell us about our model?***"
   ]
  },
  {
   "cell_type": "code",
   "execution_count": 537,
   "metadata": {},
   "outputs": [
    {
     "name": "stdout",
     "output_type": "stream",
     "text": [
      "Accuracy: 0.6834645669291338\n",
      "Specificity: 0.3843\n",
      "Sensitivity: 0.9019\n"
     ]
    }
   ],
   "source": [
    "from sklearn.metrics import confusion_matrix, classification_report, accuracy_score\n",
    "\n",
    "#Generate our predictions with this model.\n",
    "preds = lr_best_model.predict(X_test_fulltext)\n",
    "\n",
    "#Print our accuracy score, and classification report\n",
    "print(f'Accuracy: {accuracy_score(y_test, preds)}')\n",
    "\n",
    "#Store confusion_matrix returns for reference\n",
    "tn, fp, fn, tp = confusion_matrix(y_test, preds).ravel()\n",
    "\n",
    "\n",
    "spec = tn / (tn + fp)\n",
    "print(f'Specificity: {round(spec,4)}')\n",
    "\n",
    "sens = tp / (tp + fn)\n",
    "print(f'Sensitivity: {round(sens,4)}')"
   ]
  },
  {
   "cell_type": "markdown",
   "metadata": {},
   "source": [
    "**Sensitivity is very good** for our model. This means that when the model predicts that a post is from r/DadJokes, it's often the case that this is true. On the other hand, **specificity is very, very bad here**. This means that it is not very good at all at effectively telling us when a joke actually belongs to **r/Jokes**. Given what we see above, it does appear that there are a good amount of r/Jokes observations that could, from a human vantage point, be interpreted as r/DadJokes."
   ]
  },
  {
   "cell_type": "code",
   "execution_count": 541,
   "metadata": {},
   "outputs": [
    {
     "data": {
      "image/png": "[encoded data removed]",
      "text/plain": [
       "<Figure size 720x504 with 1 Axes>"
      ]
     },
     "metadata": {
      "needs_background": "light"
     },
     "output_type": "display_data"
    }
   ],
   "source": [
    "from sklearn.metrics import roc_auc_score\n",
    "pred_proba = [i[1] for i in lr_best_model.predict_proba(X_test_fulltext)]\n",
    "\n",
    "pred_df = pd.DataFrame({'true_values': y_test,\n",
    "                        'pred_probs':pred_proba})\n",
    "\n",
    "# Create figure.\n",
    "plt.figure(figsize = (10,7))\n",
    "\n",
    "# Create threshold values. (Dashed red line in image.)\n",
    "thresholds = np.linspace(0, 1, 200)\n",
    "\n",
    "# Define function to calculate sensitivity. (True positive rate.)\n",
    "def TPR(df, true_col, pred_prob_col, threshold):\n",
    "    true_positive = df[(df[true_col] == 1) & (df[pred_prob_col] >= threshold)].shape[0]\n",
    "    false_negative = df[(df[true_col] == 1) & (df[pred_prob_col] < threshold)].shape[0]\n",
    "    return true_positive / (true_positive + false_negative)\n",
    "    \n",
    "\n",
    "# Define function to calculate 1 - specificity. (False positive rate.)\n",
    "def FPR(df, true_col, pred_prob_col, threshold):\n",
    "    true_negative = df[(df[true_col] == 0) & (df[pred_prob_col] <= threshold)].shape[0]\n",
    "    false_positive = df[(df[true_col] == 0) & (df[pred_prob_col] > threshold)].shape[0]\n",
    "    return 1 - (true_negative / (true_negative + false_positive))\n",
    "    \n",
    "# Calculate sensitivity & 1-specificity for each threshold between 0 and 1.\n",
    "tpr_values = [TPR(pred_df, 'true_values', 'pred_probs', prob) for prob in thresholds]\n",
    "fpr_values = [FPR(pred_df, 'true_values', 'pred_probs', prob) for prob in thresholds]\n",
    "\n",
    "# Plot ROC curve.\n",
    "plt.plot(fpr_values, # False Positive Rate on X-axis\n",
    "         tpr_values, # True Positive Rate on Y-axis\n",
    "         label='ROC Curve', c='purple')\n",
    "\n",
    "# Plot baseline. (Perfect overlap between the two populations.)\n",
    "plt.plot(np.linspace(0, 1, 200),\n",
    "         np.linspace(0, 1, 200),\n",
    "         label='baseline',\n",
    "         linestyle='--', c='black')\n",
    "\n",
    "# Label axes.\n",
    "plt.title(f'ROC Curve with AUC = {round(roc_auc_score(pred_df[\"true_values\"], pred_df[\"pred_probs\"]),3)}', fontsize=22)\n",
    "plt.ylabel('Sensitivity', fontsize=18)\n",
    "plt.xlabel('1 - Specificity', fontsize=18)\n",
    "\n",
    "# Create legend.\n",
    "plt.legend(fontsize=16);"
   ]
  },
  {
   "cell_type": "markdown",
   "metadata": {},
   "source": [
    "## <span style=\"color:Black\">**Additional Analysis: Frequency**</span>"
   ]
  },
  {
   "cell_type": "code",
   "execution_count": 67,
   "metadata": {},
   "outputs": [],
   "source": [
    "vec = CountVectorizer(stop_words='english').fit(X_train_joke)\n",
    "bag_of_words = vec.transform(X_train_joke)\n",
    "sum_words = bag_of_words.sum(axis=0)"
   ]
  },
  {
   "cell_type": "code",
   "execution_count": 68,
   "metadata": {},
   "outputs": [],
   "source": [
    "words_freq = [(word, sum_words[0, idx]) for word, idx in vec.vocabulary_.items()]\n",
    "words_freq =sorted(words_freq, key = lambda x: x[1], reverse=True)"
   ]
  },
  {
   "cell_type": "code",
   "execution_count": 542,
   "metadata": {},
   "outputs": [
    {
     "data": {
      "text/plain": [
       "[('said', 197),\n",
       " ('man', 197),\n",
       " ('says', 152),\n",
       " ('im', 152),\n",
       " ('did', 131),\n",
       " ('just', 128),\n",
       " ('like', 117),\n",
       " ('dont', 108),\n",
       " ('wife', 97),\n",
       " ('know', 97),\n",
       " ('asked', 94),\n",
       " ('got', 92),\n",
       " ('say', 88),\n",
       " ('dad', 81),\n",
       " ('people', 75)]"
      ]
     },
     "execution_count": 542,
     "metadata": {},
     "output_type": "execute_result"
    }
   ],
   "source": [
    "words_freq[:15]"
   ]
  },
  {
   "cell_type": "code",
   "execution_count": null,
   "metadata": {},
   "outputs": [],
   "source": []
  }
 ],
 "metadata": {
  "kernelspec": {
   "display_name": "Python 3",
   "language": "python",
   "name": "python3"
  },
  "language_info": {
   "codemirror_mode": {
    "name": "ipython",
    "version": 3
   },
   "file_extension": ".py",
   "mimetype": "text/x-python",
   "name": "python",
   "nbconvert_exporter": "python",
   "pygments_lexer": "ipython3",
   "version": "3.7.3"
  }
 },
 "nbformat": 4,
 "nbformat_minor": 2
}
